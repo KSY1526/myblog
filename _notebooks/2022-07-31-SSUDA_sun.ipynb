{
  "nbformat": 4,
  "nbformat_minor": 0,
  "metadata": {
    "colab": {
      "name": "SSUDA_sun.ipynb",
      "provenance": [],
      "collapsed_sections": [],
      "authorship_tag": "ABX9TyPmamUUQPsHWdA7Wqa3p5bM"
    },
    "kernelspec": {
      "name": "python3",
      "display_name": "Python 3"
    },
    "language_info": {
      "name": "python"
    },
    "gpuClass": "standard",
    "accelerator": "GPU",
    "widgets": {
      "application/vnd.jupyter.widget-state+json": {
        "52499a8491a04815bc456fc18c2ce31e": {
          "model_module": "@jupyter-widgets/controls",
          "model_name": "HBoxModel",
          "model_module_version": "1.5.0",
          "state": {
            "_dom_classes": [],
            "_model_module": "@jupyter-widgets/controls",
            "_model_module_version": "1.5.0",
            "_model_name": "HBoxModel",
            "_view_count": null,
            "_view_module": "@jupyter-widgets/controls",
            "_view_module_version": "1.5.0",
            "_view_name": "HBoxView",
            "box_style": "",
            "children": [
              "IPY_MODEL_d4d4a1d489c44f1fa5602999e5bbc557",
              "IPY_MODEL_a4b41269ab8545078dccef2a830d00eb",
              "IPY_MODEL_46336797901845949b2cda9333c73a64"
            ],
            "layout": "IPY_MODEL_8f4c9875b69e40e5ac0362cf9d02bc22"
          }
        },
        "d4d4a1d489c44f1fa5602999e5bbc557": {
          "model_module": "@jupyter-widgets/controls",
          "model_name": "HTMLModel",
          "model_module_version": "1.5.0",
          "state": {
            "_dom_classes": [],
            "_model_module": "@jupyter-widgets/controls",
            "_model_module_version": "1.5.0",
            "_model_name": "HTMLModel",
            "_view_count": null,
            "_view_module": "@jupyter-widgets/controls",
            "_view_module_version": "1.5.0",
            "_view_name": "HTMLView",
            "description": "",
            "description_tooltip": null,
            "layout": "IPY_MODEL_9acfd25c185447238c16e48e2000744c",
            "placeholder": "​",
            "style": "IPY_MODEL_d69c2bf69e184268af7e59980dd04185",
            "value": " 99%"
          }
        },
        "a4b41269ab8545078dccef2a830d00eb": {
          "model_module": "@jupyter-widgets/controls",
          "model_name": "FloatProgressModel",
          "model_module_version": "1.5.0",
          "state": {
            "_dom_classes": [],
            "_model_module": "@jupyter-widgets/controls",
            "_model_module_version": "1.5.0",
            "_model_name": "FloatProgressModel",
            "_view_count": null,
            "_view_module": "@jupyter-widgets/controls",
            "_view_module_version": "1.5.0",
            "_view_name": "ProgressView",
            "bar_style": "danger",
            "description": "",
            "description_tooltip": null,
            "layout": "IPY_MODEL_f332c54dd6f34c2a823b5118e78a6a6b",
            "max": 160,
            "min": 0,
            "orientation": "horizontal",
            "style": "IPY_MODEL_d22c7fbc8ae24e92b58fb22bcca68b98",
            "value": 159
          }
        },
        "46336797901845949b2cda9333c73a64": {
          "model_module": "@jupyter-widgets/controls",
          "model_name": "HTMLModel",
          "model_module_version": "1.5.0",
          "state": {
            "_dom_classes": [],
            "_model_module": "@jupyter-widgets/controls",
            "_model_module_version": "1.5.0",
            "_model_name": "HTMLModel",
            "_view_count": null,
            "_view_module": "@jupyter-widgets/controls",
            "_view_module_version": "1.5.0",
            "_view_name": "HTMLView",
            "description": "",
            "description_tooltip": null,
            "layout": "IPY_MODEL_4220b99339334f4199b34d19814391fc",
            "placeholder": "​",
            "style": "IPY_MODEL_84c9037f32f54cfdbebb8569d5a6b57a",
            "value": " 159/160 [00:01&lt;00:00, 102.51it/s]"
          }
        },
        "8f4c9875b69e40e5ac0362cf9d02bc22": {
          "model_module": "@jupyter-widgets/base",
          "model_name": "LayoutModel",
          "model_module_version": "1.2.0",
          "state": {
            "_model_module": "@jupyter-widgets/base",
            "_model_module_version": "1.2.0",
            "_model_name": "LayoutModel",
            "_view_count": null,
            "_view_module": "@jupyter-widgets/base",
            "_view_module_version": "1.2.0",
            "_view_name": "LayoutView",
            "align_content": null,
            "align_items": null,
            "align_self": null,
            "border": null,
            "bottom": null,
            "display": null,
            "flex": null,
            "flex_flow": null,
            "grid_area": null,
            "grid_auto_columns": null,
            "grid_auto_flow": null,
            "grid_auto_rows": null,
            "grid_column": null,
            "grid_gap": null,
            "grid_row": null,
            "grid_template_areas": null,
            "grid_template_columns": null,
            "grid_template_rows": null,
            "height": null,
            "justify_content": null,
            "justify_items": null,
            "left": null,
            "margin": null,
            "max_height": null,
            "max_width": null,
            "min_height": null,
            "min_width": null,
            "object_fit": null,
            "object_position": null,
            "order": null,
            "overflow": null,
            "overflow_x": null,
            "overflow_y": null,
            "padding": null,
            "right": null,
            "top": null,
            "visibility": null,
            "width": null
          }
        },
        "9acfd25c185447238c16e48e2000744c": {
          "model_module": "@jupyter-widgets/base",
          "model_name": "LayoutModel",
          "model_module_version": "1.2.0",
          "state": {
            "_model_module": "@jupyter-widgets/base",
            "_model_module_version": "1.2.0",
            "_model_name": "LayoutModel",
            "_view_count": null,
            "_view_module": "@jupyter-widgets/base",
            "_view_module_version": "1.2.0",
            "_view_name": "LayoutView",
            "align_content": null,
            "align_items": null,
            "align_self": null,
            "border": null,
            "bottom": null,
            "display": null,
            "flex": null,
            "flex_flow": null,
            "grid_area": null,
            "grid_auto_columns": null,
            "grid_auto_flow": null,
            "grid_auto_rows": null,
            "grid_column": null,
            "grid_gap": null,
            "grid_row": null,
            "grid_template_areas": null,
            "grid_template_columns": null,
            "grid_template_rows": null,
            "height": null,
            "justify_content": null,
            "justify_items": null,
            "left": null,
            "margin": null,
            "max_height": null,
            "max_width": null,
            "min_height": null,
            "min_width": null,
            "object_fit": null,
            "object_position": null,
            "order": null,
            "overflow": null,
            "overflow_x": null,
            "overflow_y": null,
            "padding": null,
            "right": null,
            "top": null,
            "visibility": null,
            "width": null
          }
        },
        "d69c2bf69e184268af7e59980dd04185": {
          "model_module": "@jupyter-widgets/controls",
          "model_name": "DescriptionStyleModel",
          "model_module_version": "1.5.0",
          "state": {
            "_model_module": "@jupyter-widgets/controls",
            "_model_module_version": "1.5.0",
            "_model_name": "DescriptionStyleModel",
            "_view_count": null,
            "_view_module": "@jupyter-widgets/base",
            "_view_module_version": "1.2.0",
            "_view_name": "StyleView",
            "description_width": ""
          }
        },
        "f332c54dd6f34c2a823b5118e78a6a6b": {
          "model_module": "@jupyter-widgets/base",
          "model_name": "LayoutModel",
          "model_module_version": "1.2.0",
          "state": {
            "_model_module": "@jupyter-widgets/base",
            "_model_module_version": "1.2.0",
            "_model_name": "LayoutModel",
            "_view_count": null,
            "_view_module": "@jupyter-widgets/base",
            "_view_module_version": "1.2.0",
            "_view_name": "LayoutView",
            "align_content": null,
            "align_items": null,
            "align_self": null,
            "border": null,
            "bottom": null,
            "display": null,
            "flex": null,
            "flex_flow": null,
            "grid_area": null,
            "grid_auto_columns": null,
            "grid_auto_flow": null,
            "grid_auto_rows": null,
            "grid_column": null,
            "grid_gap": null,
            "grid_row": null,
            "grid_template_areas": null,
            "grid_template_columns": null,
            "grid_template_rows": null,
            "height": null,
            "justify_content": null,
            "justify_items": null,
            "left": null,
            "margin": null,
            "max_height": null,
            "max_width": null,
            "min_height": null,
            "min_width": null,
            "object_fit": null,
            "object_position": null,
            "order": null,
            "overflow": null,
            "overflow_x": null,
            "overflow_y": null,
            "padding": null,
            "right": null,
            "top": null,
            "visibility": null,
            "width": null
          }
        },
        "d22c7fbc8ae24e92b58fb22bcca68b98": {
          "model_module": "@jupyter-widgets/controls",
          "model_name": "ProgressStyleModel",
          "model_module_version": "1.5.0",
          "state": {
            "_model_module": "@jupyter-widgets/controls",
            "_model_module_version": "1.5.0",
            "_model_name": "ProgressStyleModel",
            "_view_count": null,
            "_view_module": "@jupyter-widgets/base",
            "_view_module_version": "1.2.0",
            "_view_name": "StyleView",
            "bar_color": null,
            "description_width": ""
          }
        },
        "4220b99339334f4199b34d19814391fc": {
          "model_module": "@jupyter-widgets/base",
          "model_name": "LayoutModel",
          "model_module_version": "1.2.0",
          "state": {
            "_model_module": "@jupyter-widgets/base",
            "_model_module_version": "1.2.0",
            "_model_name": "LayoutModel",
            "_view_count": null,
            "_view_module": "@jupyter-widgets/base",
            "_view_module_version": "1.2.0",
            "_view_name": "LayoutView",
            "align_content": null,
            "align_items": null,
            "align_self": null,
            "border": null,
            "bottom": null,
            "display": null,
            "flex": null,
            "flex_flow": null,
            "grid_area": null,
            "grid_auto_columns": null,
            "grid_auto_flow": null,
            "grid_auto_rows": null,
            "grid_column": null,
            "grid_gap": null,
            "grid_row": null,
            "grid_template_areas": null,
            "grid_template_columns": null,
            "grid_template_rows": null,
            "height": null,
            "justify_content": null,
            "justify_items": null,
            "left": null,
            "margin": null,
            "max_height": null,
            "max_width": null,
            "min_height": null,
            "min_width": null,
            "object_fit": null,
            "object_position": null,
            "order": null,
            "overflow": null,
            "overflow_x": null,
            "overflow_y": null,
            "padding": null,
            "right": null,
            "top": null,
            "visibility": null,
            "width": null
          }
        },
        "84c9037f32f54cfdbebb8569d5a6b57a": {
          "model_module": "@jupyter-widgets/controls",
          "model_name": "DescriptionStyleModel",
          "model_module_version": "1.5.0",
          "state": {
            "_model_module": "@jupyter-widgets/controls",
            "_model_module_version": "1.5.0",
            "_model_name": "DescriptionStyleModel",
            "_view_count": null,
            "_view_module": "@jupyter-widgets/base",
            "_view_module_version": "1.2.0",
            "_view_name": "StyleView",
            "description_width": ""
          }
        },
        "7b16edd602714ef4bf6b31fae9f76432": {
          "model_module": "@jupyter-widgets/controls",
          "model_name": "HBoxModel",
          "model_module_version": "1.5.0",
          "state": {
            "_dom_classes": [],
            "_model_module": "@jupyter-widgets/controls",
            "_model_module_version": "1.5.0",
            "_model_name": "HBoxModel",
            "_view_count": null,
            "_view_module": "@jupyter-widgets/controls",
            "_view_module_version": "1.5.0",
            "_view_name": "HBoxView",
            "box_style": "",
            "children": [
              "IPY_MODEL_4904f23b9f64476188f93d9b5149b74b",
              "IPY_MODEL_c132934c5b8a4c8998d1e9834f39aa99",
              "IPY_MODEL_3f94717b746948348661b18bd126e4ac"
            ],
            "layout": "IPY_MODEL_5b1ba271181548708ef1a7bcd677ee5e"
          }
        },
        "4904f23b9f64476188f93d9b5149b74b": {
          "model_module": "@jupyter-widgets/controls",
          "model_name": "HTMLModel",
          "model_module_version": "1.5.0",
          "state": {
            "_dom_classes": [],
            "_model_module": "@jupyter-widgets/controls",
            "_model_module_version": "1.5.0",
            "_model_name": "HTMLModel",
            "_view_count": null,
            "_view_module": "@jupyter-widgets/controls",
            "_view_module_version": "1.5.0",
            "_view_name": "HTMLView",
            "description": "",
            "description_tooltip": null,
            "layout": "IPY_MODEL_8e8ff2f2591b4afba7dd4ad09c20bd1a",
            "placeholder": "​",
            "style": "IPY_MODEL_c944732197ef4057b5394c50d7255b7f",
            "value": " 99%"
          }
        },
        "c132934c5b8a4c8998d1e9834f39aa99": {
          "model_module": "@jupyter-widgets/controls",
          "model_name": "FloatProgressModel",
          "model_module_version": "1.5.0",
          "state": {
            "_dom_classes": [],
            "_model_module": "@jupyter-widgets/controls",
            "_model_module_version": "1.5.0",
            "_model_name": "FloatProgressModel",
            "_view_count": null,
            "_view_module": "@jupyter-widgets/controls",
            "_view_module_version": "1.5.0",
            "_view_name": "ProgressView",
            "bar_style": "danger",
            "description": "",
            "description_tooltip": null,
            "layout": "IPY_MODEL_ded5855b4fed4ab2b60deb84cd0435bc",
            "max": 160,
            "min": 0,
            "orientation": "horizontal",
            "style": "IPY_MODEL_740f738c1013440f89d2931cc92bd957",
            "value": 158
          }
        },
        "3f94717b746948348661b18bd126e4ac": {
          "model_module": "@jupyter-widgets/controls",
          "model_name": "HTMLModel",
          "model_module_version": "1.5.0",
          "state": {
            "_dom_classes": [],
            "_model_module": "@jupyter-widgets/controls",
            "_model_module_version": "1.5.0",
            "_model_name": "HTMLModel",
            "_view_count": null,
            "_view_module": "@jupyter-widgets/controls",
            "_view_module_version": "1.5.0",
            "_view_name": "HTMLView",
            "description": "",
            "description_tooltip": null,
            "layout": "IPY_MODEL_edb1ae7263004af08c55b958b4cd265c",
            "placeholder": "​",
            "style": "IPY_MODEL_303eb08c1bfb45fa9347f7fa14ba40b7",
            "value": " 158/160 [00:01&lt;00:00, 122.12it/s]"
          }
        },
        "5b1ba271181548708ef1a7bcd677ee5e": {
          "model_module": "@jupyter-widgets/base",
          "model_name": "LayoutModel",
          "model_module_version": "1.2.0",
          "state": {
            "_model_module": "@jupyter-widgets/base",
            "_model_module_version": "1.2.0",
            "_model_name": "LayoutModel",
            "_view_count": null,
            "_view_module": "@jupyter-widgets/base",
            "_view_module_version": "1.2.0",
            "_view_name": "LayoutView",
            "align_content": null,
            "align_items": null,
            "align_self": null,
            "border": null,
            "bottom": null,
            "display": null,
            "flex": null,
            "flex_flow": null,
            "grid_area": null,
            "grid_auto_columns": null,
            "grid_auto_flow": null,
            "grid_auto_rows": null,
            "grid_column": null,
            "grid_gap": null,
            "grid_row": null,
            "grid_template_areas": null,
            "grid_template_columns": null,
            "grid_template_rows": null,
            "height": null,
            "justify_content": null,
            "justify_items": null,
            "left": null,
            "margin": null,
            "max_height": null,
            "max_width": null,
            "min_height": null,
            "min_width": null,
            "object_fit": null,
            "object_position": null,
            "order": null,
            "overflow": null,
            "overflow_x": null,
            "overflow_y": null,
            "padding": null,
            "right": null,
            "top": null,
            "visibility": null,
            "width": null
          }
        },
        "8e8ff2f2591b4afba7dd4ad09c20bd1a": {
          "model_module": "@jupyter-widgets/base",
          "model_name": "LayoutModel",
          "model_module_version": "1.2.0",
          "state": {
            "_model_module": "@jupyter-widgets/base",
            "_model_module_version": "1.2.0",
            "_model_name": "LayoutModel",
            "_view_count": null,
            "_view_module": "@jupyter-widgets/base",
            "_view_module_version": "1.2.0",
            "_view_name": "LayoutView",
            "align_content": null,
            "align_items": null,
            "align_self": null,
            "border": null,
            "bottom": null,
            "display": null,
            "flex": null,
            "flex_flow": null,
            "grid_area": null,
            "grid_auto_columns": null,
            "grid_auto_flow": null,
            "grid_auto_rows": null,
            "grid_column": null,
            "grid_gap": null,
            "grid_row": null,
            "grid_template_areas": null,
            "grid_template_columns": null,
            "grid_template_rows": null,
            "height": null,
            "justify_content": null,
            "justify_items": null,
            "left": null,
            "margin": null,
            "max_height": null,
            "max_width": null,
            "min_height": null,
            "min_width": null,
            "object_fit": null,
            "object_position": null,
            "order": null,
            "overflow": null,
            "overflow_x": null,
            "overflow_y": null,
            "padding": null,
            "right": null,
            "top": null,
            "visibility": null,
            "width": null
          }
        },
        "c944732197ef4057b5394c50d7255b7f": {
          "model_module": "@jupyter-widgets/controls",
          "model_name": "DescriptionStyleModel",
          "model_module_version": "1.5.0",
          "state": {
            "_model_module": "@jupyter-widgets/controls",
            "_model_module_version": "1.5.0",
            "_model_name": "DescriptionStyleModel",
            "_view_count": null,
            "_view_module": "@jupyter-widgets/base",
            "_view_module_version": "1.2.0",
            "_view_name": "StyleView",
            "description_width": ""
          }
        },
        "ded5855b4fed4ab2b60deb84cd0435bc": {
          "model_module": "@jupyter-widgets/base",
          "model_name": "LayoutModel",
          "model_module_version": "1.2.0",
          "state": {
            "_model_module": "@jupyter-widgets/base",
            "_model_module_version": "1.2.0",
            "_model_name": "LayoutModel",
            "_view_count": null,
            "_view_module": "@jupyter-widgets/base",
            "_view_module_version": "1.2.0",
            "_view_name": "LayoutView",
            "align_content": null,
            "align_items": null,
            "align_self": null,
            "border": null,
            "bottom": null,
            "display": null,
            "flex": null,
            "flex_flow": null,
            "grid_area": null,
            "grid_auto_columns": null,
            "grid_auto_flow": null,
            "grid_auto_rows": null,
            "grid_column": null,
            "grid_gap": null,
            "grid_row": null,
            "grid_template_areas": null,
            "grid_template_columns": null,
            "grid_template_rows": null,
            "height": null,
            "justify_content": null,
            "justify_items": null,
            "left": null,
            "margin": null,
            "max_height": null,
            "max_width": null,
            "min_height": null,
            "min_width": null,
            "object_fit": null,
            "object_position": null,
            "order": null,
            "overflow": null,
            "overflow_x": null,
            "overflow_y": null,
            "padding": null,
            "right": null,
            "top": null,
            "visibility": null,
            "width": null
          }
        },
        "740f738c1013440f89d2931cc92bd957": {
          "model_module": "@jupyter-widgets/controls",
          "model_name": "ProgressStyleModel",
          "model_module_version": "1.5.0",
          "state": {
            "_model_module": "@jupyter-widgets/controls",
            "_model_module_version": "1.5.0",
            "_model_name": "ProgressStyleModel",
            "_view_count": null,
            "_view_module": "@jupyter-widgets/base",
            "_view_module_version": "1.2.0",
            "_view_name": "StyleView",
            "bar_color": null,
            "description_width": ""
          }
        },
        "edb1ae7263004af08c55b958b4cd265c": {
          "model_module": "@jupyter-widgets/base",
          "model_name": "LayoutModel",
          "model_module_version": "1.2.0",
          "state": {
            "_model_module": "@jupyter-widgets/base",
            "_model_module_version": "1.2.0",
            "_model_name": "LayoutModel",
            "_view_count": null,
            "_view_module": "@jupyter-widgets/base",
            "_view_module_version": "1.2.0",
            "_view_name": "LayoutView",
            "align_content": null,
            "align_items": null,
            "align_self": null,
            "border": null,
            "bottom": null,
            "display": null,
            "flex": null,
            "flex_flow": null,
            "grid_area": null,
            "grid_auto_columns": null,
            "grid_auto_flow": null,
            "grid_auto_rows": null,
            "grid_column": null,
            "grid_gap": null,
            "grid_row": null,
            "grid_template_areas": null,
            "grid_template_columns": null,
            "grid_template_rows": null,
            "height": null,
            "justify_content": null,
            "justify_items": null,
            "left": null,
            "margin": null,
            "max_height": null,
            "max_width": null,
            "min_height": null,
            "min_width": null,
            "object_fit": null,
            "object_position": null,
            "order": null,
            "overflow": null,
            "overflow_x": null,
            "overflow_y": null,
            "padding": null,
            "right": null,
            "top": null,
            "visibility": null,
            "width": null
          }
        },
        "303eb08c1bfb45fa9347f7fa14ba40b7": {
          "model_module": "@jupyter-widgets/controls",
          "model_name": "DescriptionStyleModel",
          "model_module_version": "1.5.0",
          "state": {
            "_model_module": "@jupyter-widgets/controls",
            "_model_module_version": "1.5.0",
            "_model_name": "DescriptionStyleModel",
            "_view_count": null,
            "_view_module": "@jupyter-widgets/base",
            "_view_module_version": "1.2.0",
            "_view_name": "StyleView",
            "description_width": ""
          }
        }
      }
    }
  },
  "cells": [
    {
      "cell_type": "markdown",
      "source": [
        "# \"[SSUDA] Pytorch로 LSTM, Prophet 사용하기 with 태양광 발전량 예측 경진대회\"\n",
        "- author: Seong Yeon Kim \n",
        "- categories: [DACON, jupyter, SSUDA, Pytorch, Deep Learning, LSTM]"
      ],
      "metadata": {
        "id": "V-7pjLYttiqA"
      }
    },
    {
      "cell_type": "markdown",
      "source": [
        "# LSTM"
      ],
      "metadata": {
        "id": "DyMFBXILYCuy"
      }
    },
    {
      "cell_type": "markdown",
      "source": [
        "# 데이터 불러오기"
      ],
      "metadata": {
        "id": "MKtGrQkov5Gk"
      }
    },
    {
      "cell_type": "code",
      "execution_count": 1,
      "metadata": {
        "colab": {
          "base_uri": "https://localhost:8080/"
        },
        "id": "9JtY8jnCs07v",
        "outputId": "750f5229-af27-4066-f776-5e71e0c28dd3"
      },
      "outputs": [
        {
          "output_type": "stream",
          "name": "stdout",
          "text": [
            "Mounted at /content/drive\n"
          ]
        }
      ],
      "source": [
        "from google.colab import drive\n",
        "drive.mount('/content/drive')"
      ]
    },
    {
      "cell_type": "code",
      "source": [
        "import seaborn as sns\n",
        "import numpy as np\n",
        "import pandas as pd\n",
        "import matplotlib.pyplot as plt\n",
        "\n",
        "\n",
        "import torch\n",
        "import torch.nn as nn\n",
        "import torch.optim as optim\n",
        "\n",
        "from sklearn.preprocessing import MinMaxScaler\n",
        "\n",
        "import warnings\n",
        "warnings.filterwarnings(\"ignore\")\n",
        "\n",
        "path = '/content/drive/MyDrive/sun/'\n",
        "\n",
        "energy = pd.read_csv(path + 'energy.csv')\n",
        "sample_submission = pd.read_csv(path + 'sample_submission.csv')\n",
        "energy.info()"
      ],
      "metadata": {
        "colab": {
          "base_uri": "https://localhost:8080/"
        },
        "id": "lwd0vE_w0n8k",
        "outputId": "413dcea2-0f29-4a0d-f02f-6d57f947df91"
      },
      "execution_count": 2,
      "outputs": [
        {
          "output_type": "stream",
          "name": "stdout",
          "text": [
            "<class 'pandas.core.frame.DataFrame'>\n",
            "RangeIndex: 25632 entries, 0 to 25631\n",
            "Data columns (total 5 columns):\n",
            " #   Column             Non-Null Count  Dtype  \n",
            "---  ------             --------------  -----  \n",
            " 0   time               25632 non-null  object \n",
            " 1   dangjin_floating   25608 non-null  float64\n",
            " 2   dangjin_warehouse  25584 non-null  float64\n",
            " 3   dangjin            25632 non-null  int64  \n",
            " 4   ulsan              25632 non-null  int64  \n",
            "dtypes: float64(2), int64(2), object(1)\n",
            "memory usage: 1001.4+ KB\n"
          ]
        }
      ]
    },
    {
      "cell_type": "code",
      "source": [
        "energy.fillna(energy.mean(),inplace = True)\n",
        "energy = energy.set_index('time')\n",
        "energy.head()"
      ],
      "metadata": {
        "id": "NbUcwgn202hV",
        "colab": {
          "base_uri": "https://localhost:8080/",
          "height": 237
        },
        "outputId": "ff3f590d-1eda-467a-e9b2-e81d0d11c8b6"
      },
      "execution_count": 3,
      "outputs": [
        {
          "output_type": "execute_result",
          "data": {
            "text/plain": [
              "                    dangjin_floating  dangjin_warehouse  dangjin  ulsan\n",
              "time                                                                   \n",
              "2018-03-01 1:00:00               0.0                0.0        0      0\n",
              "2018-03-01 2:00:00               0.0                0.0        0      0\n",
              "2018-03-01 3:00:00               0.0                0.0        0      0\n",
              "2018-03-01 4:00:00               0.0                0.0        0      0\n",
              "2018-03-01 5:00:00               0.0                0.0        0      0"
            ],
            "text/html": [
              "\n",
              "  <div id=\"df-9fa6d4a8-a85b-4506-9106-b2956dc18a88\">\n",
              "    <div class=\"colab-df-container\">\n",
              "      <div>\n",
              "<style scoped>\n",
              "    .dataframe tbody tr th:only-of-type {\n",
              "        vertical-align: middle;\n",
              "    }\n",
              "\n",
              "    .dataframe tbody tr th {\n",
              "        vertical-align: top;\n",
              "    }\n",
              "\n",
              "    .dataframe thead th {\n",
              "        text-align: right;\n",
              "    }\n",
              "</style>\n",
              "<table border=\"1\" class=\"dataframe\">\n",
              "  <thead>\n",
              "    <tr style=\"text-align: right;\">\n",
              "      <th></th>\n",
              "      <th>dangjin_floating</th>\n",
              "      <th>dangjin_warehouse</th>\n",
              "      <th>dangjin</th>\n",
              "      <th>ulsan</th>\n",
              "    </tr>\n",
              "    <tr>\n",
              "      <th>time</th>\n",
              "      <th></th>\n",
              "      <th></th>\n",
              "      <th></th>\n",
              "      <th></th>\n",
              "    </tr>\n",
              "  </thead>\n",
              "  <tbody>\n",
              "    <tr>\n",
              "      <th>2018-03-01 1:00:00</th>\n",
              "      <td>0.0</td>\n",
              "      <td>0.0</td>\n",
              "      <td>0</td>\n",
              "      <td>0</td>\n",
              "    </tr>\n",
              "    <tr>\n",
              "      <th>2018-03-01 2:00:00</th>\n",
              "      <td>0.0</td>\n",
              "      <td>0.0</td>\n",
              "      <td>0</td>\n",
              "      <td>0</td>\n",
              "    </tr>\n",
              "    <tr>\n",
              "      <th>2018-03-01 3:00:00</th>\n",
              "      <td>0.0</td>\n",
              "      <td>0.0</td>\n",
              "      <td>0</td>\n",
              "      <td>0</td>\n",
              "    </tr>\n",
              "    <tr>\n",
              "      <th>2018-03-01 4:00:00</th>\n",
              "      <td>0.0</td>\n",
              "      <td>0.0</td>\n",
              "      <td>0</td>\n",
              "      <td>0</td>\n",
              "    </tr>\n",
              "    <tr>\n",
              "      <th>2018-03-01 5:00:00</th>\n",
              "      <td>0.0</td>\n",
              "      <td>0.0</td>\n",
              "      <td>0</td>\n",
              "      <td>0</td>\n",
              "    </tr>\n",
              "  </tbody>\n",
              "</table>\n",
              "</div>\n",
              "      <button class=\"colab-df-convert\" onclick=\"convertToInteractive('df-9fa6d4a8-a85b-4506-9106-b2956dc18a88')\"\n",
              "              title=\"Convert this dataframe to an interactive table.\"\n",
              "              style=\"display:none;\">\n",
              "        \n",
              "  <svg xmlns=\"http://www.w3.org/2000/svg\" height=\"24px\"viewBox=\"0 0 24 24\"\n",
              "       width=\"24px\">\n",
              "    <path d=\"M0 0h24v24H0V0z\" fill=\"none\"/>\n",
              "    <path d=\"M18.56 5.44l.94 2.06.94-2.06 2.06-.94-2.06-.94-.94-2.06-.94 2.06-2.06.94zm-11 1L8.5 8.5l.94-2.06 2.06-.94-2.06-.94L8.5 2.5l-.94 2.06-2.06.94zm10 10l.94 2.06.94-2.06 2.06-.94-2.06-.94-.94-2.06-.94 2.06-2.06.94z\"/><path d=\"M17.41 7.96l-1.37-1.37c-.4-.4-.92-.59-1.43-.59-.52 0-1.04.2-1.43.59L10.3 9.45l-7.72 7.72c-.78.78-.78 2.05 0 2.83L4 21.41c.39.39.9.59 1.41.59.51 0 1.02-.2 1.41-.59l7.78-7.78 2.81-2.81c.8-.78.8-2.07 0-2.86zM5.41 20L4 18.59l7.72-7.72 1.47 1.35L5.41 20z\"/>\n",
              "  </svg>\n",
              "      </button>\n",
              "      \n",
              "  <style>\n",
              "    .colab-df-container {\n",
              "      display:flex;\n",
              "      flex-wrap:wrap;\n",
              "      gap: 12px;\n",
              "    }\n",
              "\n",
              "    .colab-df-convert {\n",
              "      background-color: #E8F0FE;\n",
              "      border: none;\n",
              "      border-radius: 50%;\n",
              "      cursor: pointer;\n",
              "      display: none;\n",
              "      fill: #1967D2;\n",
              "      height: 32px;\n",
              "      padding: 0 0 0 0;\n",
              "      width: 32px;\n",
              "    }\n",
              "\n",
              "    .colab-df-convert:hover {\n",
              "      background-color: #E2EBFA;\n",
              "      box-shadow: 0px 1px 2px rgba(60, 64, 67, 0.3), 0px 1px 3px 1px rgba(60, 64, 67, 0.15);\n",
              "      fill: #174EA6;\n",
              "    }\n",
              "\n",
              "    [theme=dark] .colab-df-convert {\n",
              "      background-color: #3B4455;\n",
              "      fill: #D2E3FC;\n",
              "    }\n",
              "\n",
              "    [theme=dark] .colab-df-convert:hover {\n",
              "      background-color: #434B5C;\n",
              "      box-shadow: 0px 1px 3px 1px rgba(0, 0, 0, 0.15);\n",
              "      filter: drop-shadow(0px 1px 2px rgba(0, 0, 0, 0.3));\n",
              "      fill: #FFFFFF;\n",
              "    }\n",
              "  </style>\n",
              "\n",
              "      <script>\n",
              "        const buttonEl =\n",
              "          document.querySelector('#df-9fa6d4a8-a85b-4506-9106-b2956dc18a88 button.colab-df-convert');\n",
              "        buttonEl.style.display =\n",
              "          google.colab.kernel.accessAllowed ? 'block' : 'none';\n",
              "\n",
              "        async function convertToInteractive(key) {\n",
              "          const element = document.querySelector('#df-9fa6d4a8-a85b-4506-9106-b2956dc18a88');\n",
              "          const dataTable =\n",
              "            await google.colab.kernel.invokeFunction('convertToInteractive',\n",
              "                                                     [key], {});\n",
              "          if (!dataTable) return;\n",
              "\n",
              "          const docLinkHtml = 'Like what you see? Visit the ' +\n",
              "            '<a target=\"_blank\" href=https://colab.research.google.com/notebooks/data_table.ipynb>data table notebook</a>'\n",
              "            + ' to learn more about interactive tables.';\n",
              "          element.innerHTML = '';\n",
              "          dataTable['output_type'] = 'display_data';\n",
              "          await google.colab.output.renderOutput(dataTable, element);\n",
              "          const docLink = document.createElement('div');\n",
              "          docLink.innerHTML = docLinkHtml;\n",
              "          element.appendChild(docLink);\n",
              "        }\n",
              "      </script>\n",
              "    </div>\n",
              "  </div>\n",
              "  "
            ]
          },
          "metadata": {},
          "execution_count": 3
        }
      ]
    },
    {
      "cell_type": "markdown",
      "source": [
        "결측치를 채우고 시간을 인덱스로 바꿨습니다."
      ],
      "metadata": {
        "id": "BGrXCidrJ6qn"
      }
    },
    {
      "cell_type": "code",
      "source": [
        "ulsan = energy['ulsan'].values.astype(float)\n",
        "dangjin_floating = energy['dangjin_floating'].values.astype(float)\n",
        "dangjin_warehouse = energy['dangjin_warehouse'].values.astype(float)\n",
        "dangjin\t = energy['dangjin'].values.astype(float)"
      ],
      "metadata": {
        "id": "FzWb9Iy7J0GC"
      },
      "execution_count": 11,
      "outputs": []
    },
    {
      "cell_type": "markdown",
      "source": [
        "데이터를 각각 뽑아냅니다."
      ],
      "metadata": {
        "id": "UdHyy1QhUyby"
      }
    },
    {
      "cell_type": "markdown",
      "source": [
        "# dangjin_floating"
      ],
      "metadata": {
        "id": "aL5eQrU2J1BC"
      }
    },
    {
      "cell_type": "code",
      "source": [
        "# hyper parameters\n",
        "\n",
        "learning_rate = 0.0001 \n",
        "sequence_length = 12 # 24 일때가 가장 좋았음. but 코렙 램이 터지는 관계로 12 사용\n",
        "epochs = 2000"
      ],
      "metadata": {
        "id": "4plUmBFcKIzM"
      },
      "execution_count": 12,
      "outputs": []
    },
    {
      "cell_type": "code",
      "source": [
        "# 데이터를 리스트 형태로 변경\n",
        "\n",
        "def make_batch(input_data, sl):\n",
        "    train_x = []\n",
        "    train_y = []\n",
        "    \n",
        "    L = len(input_data)\n",
        "\n",
        "    for i in range(L-sl):\n",
        "        # sl기간 만큼 있는 데이터에서 다음 시점 맞추기.\n",
        "        train_seq = input_data[i:i+sl]\n",
        "        train_label = input_data[i+sl:(i+sl+1)]\n",
        "        # 리스트 값을 train_x에 어팬드함.\n",
        "        train_x.append(train_seq)\n",
        "        train_y.append(train_label)\n",
        "    \n",
        "    return train_x, train_y"
      ],
      "metadata": {
        "id": "pmb3jxwhKQyh"
      },
      "execution_count": 13,
      "outputs": []
    },
    {
      "cell_type": "code",
      "source": [
        "class simple_lstm(nn.Module):\n",
        "\n",
        "    def __init__(self):\n",
        "        super().__init__()\n",
        "        self.input_vector = 1 # 입력 벡터 길이\n",
        "        self.sequence_length = 12 # 데이터 묶음 길이(24개 데이터 사용)\n",
        "        self.output_vector = 100 # 은닉층 사이즈\n",
        "        self.num_layers = 4 # 층 개수\n",
        "\n",
        "        self.lstm = nn.LSTM(input_size = self.input_vector, hidden_size = self.output_vector,\n",
        "                            num_layers = self.num_layers, batch_first = True)\n",
        "        self.linear = nn.Sequential(\n",
        "            nn.Linear(self.output_vector, 50),\n",
        "            nn.Linear(50, 30),\n",
        "            nn.Linear(30, 10),\n",
        "            nn.Linear(10, 1)\n",
        "        )\n",
        "\n",
        "    def forward(self, x):\n",
        "        output, _ = self.lstm(x)\n",
        "        return self.linear(output[:, -1, :])\n",
        "\n",
        "device = torch.device('cuda:0' if torch.cuda.is_available() else 'cpu')"
      ],
      "metadata": {
        "id": "x7v2V-khKZsB"
      },
      "execution_count": 14,
      "outputs": []
    },
    {
      "cell_type": "code",
      "source": [
        "train_x, train_y = make_batch(dangjin_floating.reshape(-1,1), sequence_length)\n",
        "\n",
        "# 텐서에 데이터 실기\n",
        "tensor_x = torch.Tensor(train_x)\n",
        "tensor_y = torch.Tensor(train_y)\n",
        "\n",
        "dangjin_floatings = simple_lstm()\n",
        "# 모델을 디바이스에 실음 (디바이스에는 모델과 데이터를 실어야함)\n",
        "dangjin_floatings = dangjin_floatings.to(device)\n",
        "\n",
        "# 아담 옵티마이저 사용 (학습하려는 모델 파라미터, 학습률)\n",
        "optimizer = torch.optim.Adam(dangjin_floatings.parameters(), lr = learning_rate)\n",
        "criterion = nn.MSELoss()\n",
        "\n",
        "\n",
        "for i in range(epochs):\n",
        "    # 모델 학습 모드\n",
        "    dangjin_floatings.train()\n",
        "    tensor_x = tensor_x.to(device)\n",
        "    tensor_y = tensor_y.to(device)\n",
        "    output = dangjin_floatings(tensor_x)\n",
        "    loss = criterion(output, tensor_y.view(-1,1))\n",
        "\n",
        "    # 옵티마이저 초기화 (배치마다 해줘야함)\n",
        "    optimizer.zero_grad()\n",
        "    # 로스함수를 사용해 역전파\n",
        "    loss.backward()\n",
        "    # 옵티마이저를 이용해 가중치 업데이트\n",
        "    optimizer.step()\n",
        "\n",
        "    # 100번째 배치마다 로스 값 출력\n",
        "    if i % 100 == 0:\n",
        "        print('Epoch {}, Loss {:.5f}'.format(i, loss.item()))\n",
        "\n"
      ],
      "metadata": {
        "colab": {
          "base_uri": "https://localhost:8080/"
        },
        "id": "r_NQ_S7fOwoN",
        "outputId": "97ff88fd-06c1-4819-d5eb-8101557c8a10"
      },
      "execution_count": 15,
      "outputs": [
        {
          "output_type": "stream",
          "name": "stdout",
          "text": [
            "Epoch 0, Loss 51745.66797\n",
            "Epoch 100, Loss 51092.85156\n",
            "Epoch 200, Loss 47514.81641\n",
            "Epoch 300, Loss 41005.27734\n",
            "Epoch 400, Loss 37112.99609\n",
            "Epoch 500, Loss 36839.90625\n",
            "Epoch 600, Loss 36838.98828\n",
            "Epoch 700, Loss 36828.25000\n",
            "Epoch 800, Loss 15298.88477\n",
            "Epoch 900, Loss 4058.15771\n",
            "Epoch 1000, Loss 2399.74683\n",
            "Epoch 1100, Loss 2103.90039\n",
            "Epoch 1200, Loss 2016.97937\n",
            "Epoch 1300, Loss 1976.83508\n",
            "Epoch 1400, Loss 1952.15393\n",
            "Epoch 1500, Loss 1933.21155\n",
            "Epoch 1600, Loss 1917.11658\n",
            "Epoch 1700, Loss 1901.57031\n",
            "Epoch 1800, Loss 1888.42883\n",
            "Epoch 1900, Loss 1876.48096\n"
          ]
        }
      ]
    },
    {
      "cell_type": "code",
      "source": [
        "x_input = np.array(energy.dangjin_floating[-12:])\n",
        "x_input = x_input.reshape((1,12,1))\n",
        "dangjin_floating_pred = []\n",
        "\n",
        "for i in range(672):\n",
        "    \n",
        "    x_input = torch.Tensor(x_input)\n",
        "    x_input = x_input.to(device)\n",
        "\n",
        "    # 모델에 넣고 output값 확인 위해서는 cpu로 돌린 뒤 넘파이로 변환.\n",
        "    predict = dangjin_floatings(x_input).cpu().detach().numpy()\n",
        "    # 예측값 배출\n",
        "    new_input = predict.reshape((1,1,1))\n",
        "\n",
        "    # 예측값을 실제값인 것 처럼 재사용하여 다시 모델에 넣음(나이브한 방식)\n",
        "    x_input = np.concatenate((x_input[:,-11:].cpu(), new_input), axis = 1)\n",
        "\n",
        "    # 예측값은 dangjin_floating_pred 리스트에 계속 저장해둠\n",
        "    dangjin_floating_pred.append(predict[0][0])"
      ],
      "metadata": {
        "id": "3FDgQLn3SAwB"
      },
      "execution_count": 16,
      "outputs": []
    },
    {
      "cell_type": "markdown",
      "source": [
        "# dangjin_warehouse"
      ],
      "metadata": {
        "id": "d-f0NnBkUgSW"
      }
    },
    {
      "cell_type": "code",
      "source": [
        "# 함수 사용해 데이터 정해진 길이만큼 짜르고 y값 만들고 하기\n",
        "# train_x = [길이 12 어레이, 길이 12 어레이, ...]\n",
        "# train_y = [길이 1 어레이, 길이 1 어레이, ..]\n",
        "train_x, train_y = make_batch(dangjin_warehouse.reshape(-1,1), sequence_length)\n",
        "\n",
        "# 데이터 텐서로 실기(리스트도 실기 가능)\n",
        "tensor_x = torch.Tensor(train_x)\n",
        "tensor_y = torch.Tensor(train_y)\n",
        "\n",
        "# 모델 불러와서 디바이스에 실기 (GPU 사용 위해선 모델과 데이터를 실어야함)\n",
        "dangjin_warehouses = simple_lstm()\n",
        "dangjin_warehouses = dangjin_warehouses.to(device)\n",
        "\n",
        "# 옵티마이저 아담(많이 사용됨) 사용\n",
        "optimizer = torch.optim.Adam(dangjin_warehouses.parameters(), lr = learning_rate)\n",
        "\n",
        "# 손실함수 MSE 사용\n",
        "criterion = nn.MSELoss()\n",
        "\n",
        "for i in range(epochs):\n",
        "    # 학습 모드(가중치 업데이트 됨)로 변환\n",
        "    dangjin_warehouses.train()\n",
        "\n",
        "    # 데이터(텐서 형식) 디바이스에 실기\n",
        "    tensor_x = tensor_x.to(device)\n",
        "    tensor_y = tensor_y.to(device)\n",
        "\n",
        "    # 모델에 x 데이터 넣기\n",
        "    output = dangjin_warehouses(tensor_x)\n",
        "\n",
        "    # 로스 값 구하기\n",
        "    loss = criterion(output, tensor_y.view(-1,1))\n",
        "\n",
        "    # 옵티마이저 초기화(매 배치마다 초기화 해야함)\n",
        "    optimizer.zero_grad()\n",
        "    # 손실함수 이용해 역전파\n",
        "    loss.backward()\n",
        "    # 옵티마이저 사용해 가중치 업데이트\n",
        "    optimizer.step()\n",
        "\n",
        "    # 100번째 배치마다 로스 계산\n",
        "    if i % 100 == 0:\n",
        "        # loss.item 함수 사용하면 로스 값 제출해줌\n",
        "        print('Epoch {}, Loss {:.5f}'.format(i, loss.item()))\n",
        "\n",
        "# 테스트 데이터 계산 위해 맨 뒤 12개 데이터 사용\n",
        "x_input = np.array(energy.dangjin_warehouse[-12:])\n",
        "x_input = x_input.reshape((1,12,1))\n",
        "dangjin_warehouse_pred = []"
      ],
      "metadata": {
        "colab": {
          "base_uri": "https://localhost:8080/"
        },
        "id": "OLE0_l1YR1nK",
        "outputId": "b9eb5f94-75f1-48b5-9258-081365667555"
      },
      "execution_count": 22,
      "outputs": [
        {
          "output_type": "stream",
          "name": "stdout",
          "text": [
            "Epoch 0, Loss 29900.15234\n",
            "Epoch 100, Loss 29317.77930\n",
            "Epoch 200, Loss 26276.70508\n",
            "Epoch 300, Loss 22257.02539\n",
            "Epoch 400, Loss 21406.61328\n",
            "Epoch 500, Loss 21391.32422\n",
            "Epoch 600, Loss 8447.42188\n",
            "Epoch 700, Loss 2214.76782\n",
            "Epoch 800, Loss 1341.09875\n",
            "Epoch 900, Loss 1182.24084\n",
            "Epoch 1000, Loss 1131.52197\n",
            "Epoch 1100, Loss 1107.95605\n",
            "Epoch 1200, Loss 1092.98474\n",
            "Epoch 1300, Loss 1083.00134\n",
            "Epoch 1400, Loss 1074.64624\n",
            "Epoch 1500, Loss 1068.63171\n",
            "Epoch 1600, Loss 1064.08704\n",
            "Epoch 1700, Loss 1058.59131\n",
            "Epoch 1800, Loss 1054.51086\n",
            "Epoch 1900, Loss 1050.88635\n"
          ]
        }
      ]
    },
    {
      "cell_type": "code",
      "source": [
        "for i in range(672):\n",
        "    \n",
        "    x_input = torch.Tensor(x_input)\n",
        "    x_input = x_input.to(device)\n",
        "    predict = dangjin_warehouses(x_input).cpu().detach().numpy()\n",
        "\n",
        "    new_input = predict.reshape((1,1,1))\n",
        "    x_input = np.concatenate((x_input[:,-23:].cpu(), new_input), axis = 1)\n",
        "    dangjin_warehouse_pred.append(predict[0][0])"
      ],
      "metadata": {
        "id": "Du1Kvj8SdBIB"
      },
      "execution_count": 18,
      "outputs": []
    },
    {
      "cell_type": "markdown",
      "source": [
        "# dangjin"
      ],
      "metadata": {
        "id": "amQ0fdH0Xqkz"
      }
    },
    {
      "cell_type": "markdown",
      "source": [
        "# ulsan"
      ],
      "metadata": {
        "id": "nk2MozgYXwtE"
      }
    },
    {
      "cell_type": "markdown",
      "source": [
        "나머지 2개 변수 예측은 추후에 lstm 코드 복습 시 사용. (앞 두 변수 방식과 동일)"
      ],
      "metadata": {
        "id": "Ea7y_a9kX0bM"
      }
    },
    {
      "cell_type": "markdown",
      "source": [
        "# 결과 제출"
      ],
      "metadata": {
        "id": "LWRD8vA-X7jd"
      }
    },
    {
      "cell_type": "code",
      "source": [
        "sample_submission.iloc[:24*28, 1] = dangjin_floating_pred\n",
        "sample_submission.iloc[:24*28, 2] = dangjin_warehouse_pred\n",
        "# sample_submission.iloc[:24*28, 3] = dangjin_pred\n",
        "# sample_submission.iloc[:24*28, 4] = ulsan_pred\n",
        "# sample_submission"
      ],
      "metadata": {
        "id": "NScVpJUcXqAQ"
      },
      "execution_count": null,
      "outputs": []
    },
    {
      "cell_type": "markdown",
      "source": [
        "# Prophet"
      ],
      "metadata": {
        "id": "aCcCiVD1YYgm"
      }
    },
    {
      "cell_type": "markdown",
      "source": [
        "# 필요한 패키지 설치하기"
      ],
      "metadata": {
        "id": "prAbMcjIZyZX"
      }
    },
    {
      "cell_type": "code",
      "source": [
        "#!pip install neuralprophet\n",
        "from datetime import datetime\n",
        "from neuralprophet import NeuralProphet\n",
        "\n",
        "energy = pd.read_csv(path + 'energy.csv')\n",
        "sample_submission = pd.read_csv(path + 'sample_submission.csv')"
      ],
      "metadata": {
        "colab": {
          "base_uri": "https://localhost:8080/",
          "height": 1000
        },
        "id": "m_d-4XidZC6t",
        "outputId": "6e529e3e-2aea-48d8-b8c2-848c4dc2e08a"
      },
      "execution_count": 19,
      "outputs": [
        {
          "output_type": "stream",
          "name": "stdout",
          "text": [
            "Looking in indexes: https://pypi.org/simple, https://us-python.pkg.dev/colab-wheels/public/simple/\n",
            "Collecting neuralprophet\n",
            "  Downloading neuralprophet-0.3.2-py3-none-any.whl (74 kB)\n",
            "\u001b[K     |████████████████████████████████| 74 kB 3.7 MB/s \n",
            "\u001b[?25hRequirement already satisfied: LunarCalendar>=0.0.9 in /usr/local/lib/python3.7/dist-packages (from neuralprophet) (0.0.9)\n",
            "Requirement already satisfied: pandas>=1.0.4 in /usr/local/lib/python3.7/dist-packages (from neuralprophet) (1.3.5)\n",
            "Requirement already satisfied: tqdm>=4.50.2 in /usr/local/lib/python3.7/dist-packages (from neuralprophet) (4.64.0)\n",
            "Requirement already satisfied: torch>=1.4.0 in /usr/local/lib/python3.7/dist-packages (from neuralprophet) (1.12.0+cu113)\n",
            "Collecting torch-lr-finder>=0.2.1\n",
            "  Downloading torch_lr_finder-0.2.1-py3-none-any.whl (11 kB)\n",
            "Requirement already satisfied: matplotlib>=2.0.0 in /usr/local/lib/python3.7/dist-packages (from neuralprophet) (3.2.2)\n",
            "Requirement already satisfied: python-dateutil>=2.8.0 in /usr/local/lib/python3.7/dist-packages (from neuralprophet) (2.8.2)\n",
            "Requirement already satisfied: numpy>=1.15.4 in /usr/local/lib/python3.7/dist-packages (from neuralprophet) (1.21.6)\n",
            "Requirement already satisfied: convertdate>=2.1.2 in /usr/local/lib/python3.7/dist-packages (from neuralprophet) (2.4.0)\n",
            "Requirement already satisfied: holidays>=0.11.3.1 in /usr/local/lib/python3.7/dist-packages (from neuralprophet) (0.14.2)\n",
            "Requirement already satisfied: ipywidgets>=7.5.1 in /usr/local/lib/python3.7/dist-packages (from neuralprophet) (7.7.1)\n",
            "Collecting dataclasses>=0.6\n",
            "  Downloading dataclasses-0.6-py3-none-any.whl (14 kB)\n",
            "Requirement already satisfied: pymeeus<=1,>=0.3.13 in /usr/local/lib/python3.7/dist-packages (from convertdate>=2.1.2->neuralprophet) (0.5.11)\n",
            "Requirement already satisfied: korean-lunar-calendar in /usr/local/lib/python3.7/dist-packages (from holidays>=0.11.3.1->neuralprophet) (0.2.1)\n",
            "Requirement already satisfied: hijri-converter in /usr/local/lib/python3.7/dist-packages (from holidays>=0.11.3.1->neuralprophet) (2.2.4)\n",
            "Requirement already satisfied: ipython-genutils~=0.2.0 in /usr/local/lib/python3.7/dist-packages (from ipywidgets>=7.5.1->neuralprophet) (0.2.0)\n",
            "Requirement already satisfied: ipython>=4.0.0 in /usr/local/lib/python3.7/dist-packages (from ipywidgets>=7.5.1->neuralprophet) (5.5.0)\n",
            "Requirement already satisfied: traitlets>=4.3.1 in /usr/local/lib/python3.7/dist-packages (from ipywidgets>=7.5.1->neuralprophet) (5.1.1)\n",
            "Requirement already satisfied: ipykernel>=4.5.1 in /usr/local/lib/python3.7/dist-packages (from ipywidgets>=7.5.1->neuralprophet) (4.10.1)\n",
            "Requirement already satisfied: jupyterlab-widgets>=1.0.0 in /usr/local/lib/python3.7/dist-packages (from ipywidgets>=7.5.1->neuralprophet) (1.1.1)\n",
            "Requirement already satisfied: widgetsnbextension~=3.6.0 in /usr/local/lib/python3.7/dist-packages (from ipywidgets>=7.5.1->neuralprophet) (3.6.1)\n",
            "Requirement already satisfied: jupyter-client in /usr/local/lib/python3.7/dist-packages (from ipykernel>=4.5.1->ipywidgets>=7.5.1->neuralprophet) (5.3.5)\n",
            "Requirement already satisfied: tornado>=4.0 in /usr/local/lib/python3.7/dist-packages (from ipykernel>=4.5.1->ipywidgets>=7.5.1->neuralprophet) (5.1.1)\n",
            "Requirement already satisfied: setuptools>=18.5 in /usr/local/lib/python3.7/dist-packages (from ipython>=4.0.0->ipywidgets>=7.5.1->neuralprophet) (57.4.0)\n",
            "Requirement already satisfied: prompt-toolkit<2.0.0,>=1.0.4 in /usr/local/lib/python3.7/dist-packages (from ipython>=4.0.0->ipywidgets>=7.5.1->neuralprophet) (1.0.18)\n",
            "Requirement already satisfied: pickleshare in /usr/local/lib/python3.7/dist-packages (from ipython>=4.0.0->ipywidgets>=7.5.1->neuralprophet) (0.7.5)\n",
            "Requirement already satisfied: decorator in /usr/local/lib/python3.7/dist-packages (from ipython>=4.0.0->ipywidgets>=7.5.1->neuralprophet) (4.4.2)\n",
            "Requirement already satisfied: pexpect in /usr/local/lib/python3.7/dist-packages (from ipython>=4.0.0->ipywidgets>=7.5.1->neuralprophet) (4.8.0)\n",
            "Requirement already satisfied: pygments in /usr/local/lib/python3.7/dist-packages (from ipython>=4.0.0->ipywidgets>=7.5.1->neuralprophet) (2.6.1)\n",
            "Requirement already satisfied: simplegeneric>0.8 in /usr/local/lib/python3.7/dist-packages (from ipython>=4.0.0->ipywidgets>=7.5.1->neuralprophet) (0.8.1)\n",
            "Requirement already satisfied: pytz in /usr/local/lib/python3.7/dist-packages (from LunarCalendar>=0.0.9->neuralprophet) (2022.1)\n",
            "Requirement already satisfied: ephem>=3.7.5.3 in /usr/local/lib/python3.7/dist-packages (from LunarCalendar>=0.0.9->neuralprophet) (4.1.3)\n",
            "Requirement already satisfied: cycler>=0.10 in /usr/local/lib/python3.7/dist-packages (from matplotlib>=2.0.0->neuralprophet) (0.11.0)\n",
            "Requirement already satisfied: kiwisolver>=1.0.1 in /usr/local/lib/python3.7/dist-packages (from matplotlib>=2.0.0->neuralprophet) (1.4.4)\n",
            "Requirement already satisfied: pyparsing!=2.0.4,!=2.1.2,!=2.1.6,>=2.0.1 in /usr/local/lib/python3.7/dist-packages (from matplotlib>=2.0.0->neuralprophet) (3.0.9)\n",
            "Requirement already satisfied: typing-extensions in /usr/local/lib/python3.7/dist-packages (from kiwisolver>=1.0.1->matplotlib>=2.0.0->neuralprophet) (4.1.1)\n",
            "Requirement already satisfied: six>=1.9.0 in /usr/local/lib/python3.7/dist-packages (from prompt-toolkit<2.0.0,>=1.0.4->ipython>=4.0.0->ipywidgets>=7.5.1->neuralprophet) (1.15.0)\n",
            "Requirement already satisfied: wcwidth in /usr/local/lib/python3.7/dist-packages (from prompt-toolkit<2.0.0,>=1.0.4->ipython>=4.0.0->ipywidgets>=7.5.1->neuralprophet) (0.2.5)\n",
            "Requirement already satisfied: packaging in /usr/local/lib/python3.7/dist-packages (from torch-lr-finder>=0.2.1->neuralprophet) (21.3)\n",
            "Requirement already satisfied: notebook>=4.4.1 in /usr/local/lib/python3.7/dist-packages (from widgetsnbextension~=3.6.0->ipywidgets>=7.5.1->neuralprophet) (5.3.1)\n",
            "Requirement already satisfied: Send2Trash in /usr/local/lib/python3.7/dist-packages (from notebook>=4.4.1->widgetsnbextension~=3.6.0->ipywidgets>=7.5.1->neuralprophet) (1.8.0)\n",
            "Requirement already satisfied: jinja2 in /usr/local/lib/python3.7/dist-packages (from notebook>=4.4.1->widgetsnbextension~=3.6.0->ipywidgets>=7.5.1->neuralprophet) (2.11.3)\n",
            "Requirement already satisfied: nbconvert in /usr/local/lib/python3.7/dist-packages (from notebook>=4.4.1->widgetsnbextension~=3.6.0->ipywidgets>=7.5.1->neuralprophet) (5.6.1)\n",
            "Requirement already satisfied: jupyter-core>=4.4.0 in /usr/local/lib/python3.7/dist-packages (from notebook>=4.4.1->widgetsnbextension~=3.6.0->ipywidgets>=7.5.1->neuralprophet) (4.11.1)\n",
            "Requirement already satisfied: nbformat in /usr/local/lib/python3.7/dist-packages (from notebook>=4.4.1->widgetsnbextension~=3.6.0->ipywidgets>=7.5.1->neuralprophet) (5.4.0)\n",
            "Requirement already satisfied: terminado>=0.8.1 in /usr/local/lib/python3.7/dist-packages (from notebook>=4.4.1->widgetsnbextension~=3.6.0->ipywidgets>=7.5.1->neuralprophet) (0.13.3)\n",
            "Requirement already satisfied: pyzmq>=13 in /usr/local/lib/python3.7/dist-packages (from jupyter-client->ipykernel>=4.5.1->ipywidgets>=7.5.1->neuralprophet) (23.2.0)\n",
            "Requirement already satisfied: ptyprocess in /usr/local/lib/python3.7/dist-packages (from terminado>=0.8.1->notebook>=4.4.1->widgetsnbextension~=3.6.0->ipywidgets>=7.5.1->neuralprophet) (0.7.0)\n",
            "Requirement already satisfied: MarkupSafe>=0.23 in /usr/local/lib/python3.7/dist-packages (from jinja2->notebook>=4.4.1->widgetsnbextension~=3.6.0->ipywidgets>=7.5.1->neuralprophet) (2.0.1)\n",
            "Requirement already satisfied: bleach in /usr/local/lib/python3.7/dist-packages (from nbconvert->notebook>=4.4.1->widgetsnbextension~=3.6.0->ipywidgets>=7.5.1->neuralprophet) (5.0.1)\n",
            "Requirement already satisfied: entrypoints>=0.2.2 in /usr/local/lib/python3.7/dist-packages (from nbconvert->notebook>=4.4.1->widgetsnbextension~=3.6.0->ipywidgets>=7.5.1->neuralprophet) (0.4)\n",
            "Requirement already satisfied: pandocfilters>=1.4.1 in /usr/local/lib/python3.7/dist-packages (from nbconvert->notebook>=4.4.1->widgetsnbextension~=3.6.0->ipywidgets>=7.5.1->neuralprophet) (1.5.0)\n",
            "Requirement already satisfied: mistune<2,>=0.8.1 in /usr/local/lib/python3.7/dist-packages (from nbconvert->notebook>=4.4.1->widgetsnbextension~=3.6.0->ipywidgets>=7.5.1->neuralprophet) (0.8.4)\n",
            "Requirement already satisfied: testpath in /usr/local/lib/python3.7/dist-packages (from nbconvert->notebook>=4.4.1->widgetsnbextension~=3.6.0->ipywidgets>=7.5.1->neuralprophet) (0.6.0)\n",
            "Requirement already satisfied: defusedxml in /usr/local/lib/python3.7/dist-packages (from nbconvert->notebook>=4.4.1->widgetsnbextension~=3.6.0->ipywidgets>=7.5.1->neuralprophet) (0.7.1)\n",
            "Requirement already satisfied: fastjsonschema in /usr/local/lib/python3.7/dist-packages (from nbformat->notebook>=4.4.1->widgetsnbextension~=3.6.0->ipywidgets>=7.5.1->neuralprophet) (2.16.1)\n",
            "Requirement already satisfied: jsonschema>=2.6 in /usr/local/lib/python3.7/dist-packages (from nbformat->notebook>=4.4.1->widgetsnbextension~=3.6.0->ipywidgets>=7.5.1->neuralprophet) (4.3.3)\n",
            "Requirement already satisfied: pyrsistent!=0.17.0,!=0.17.1,!=0.17.2,>=0.14.0 in /usr/local/lib/python3.7/dist-packages (from jsonschema>=2.6->nbformat->notebook>=4.4.1->widgetsnbextension~=3.6.0->ipywidgets>=7.5.1->neuralprophet) (0.18.1)\n",
            "Requirement already satisfied: importlib-resources>=1.4.0 in /usr/local/lib/python3.7/dist-packages (from jsonschema>=2.6->nbformat->notebook>=4.4.1->widgetsnbextension~=3.6.0->ipywidgets>=7.5.1->neuralprophet) (5.9.0)\n",
            "Requirement already satisfied: attrs>=17.4.0 in /usr/local/lib/python3.7/dist-packages (from jsonschema>=2.6->nbformat->notebook>=4.4.1->widgetsnbextension~=3.6.0->ipywidgets>=7.5.1->neuralprophet) (21.4.0)\n",
            "Requirement already satisfied: importlib-metadata in /usr/local/lib/python3.7/dist-packages (from jsonschema>=2.6->nbformat->notebook>=4.4.1->widgetsnbextension~=3.6.0->ipywidgets>=7.5.1->neuralprophet) (4.12.0)\n",
            "Requirement already satisfied: zipp>=3.1.0 in /usr/local/lib/python3.7/dist-packages (from importlib-resources>=1.4.0->jsonschema>=2.6->nbformat->notebook>=4.4.1->widgetsnbextension~=3.6.0->ipywidgets>=7.5.1->neuralprophet) (3.8.1)\n",
            "Requirement already satisfied: webencodings in /usr/local/lib/python3.7/dist-packages (from bleach->nbconvert->notebook>=4.4.1->widgetsnbextension~=3.6.0->ipywidgets>=7.5.1->neuralprophet) (0.5.1)\n",
            "Installing collected packages: torch-lr-finder, dataclasses, neuralprophet\n",
            "Successfully installed dataclasses-0.6 neuralprophet-0.3.2 torch-lr-finder-0.2.1\n"
          ]
        },
        {
          "output_type": "display_data",
          "data": {
            "application/vnd.colab-display-data+json": {
              "pip_warning": {
                "packages": [
                  "dataclasses"
                ]
              }
            }
          },
          "metadata": {}
        }
      ]
    },
    {
      "cell_type": "code",
      "source": [
        "# 시간 1 ~ 24 => 0 ~ 23 으로 변환\n",
        "def convert_time(x):\n",
        "    # 2018-03-01 1:00:00 값 변환하기\n",
        "    Ymd, HMS = x.split(' ')\n",
        "    H, M, S = HMS.split(':')\n",
        "    H = str(int(H) - 1)\n",
        "\n",
        "    # 다시 시간 합치기\n",
        "    HMS = ':'.join([H, M, S])\n",
        "    return ' '.join([Ymd, HMS])\n",
        "\n",
        "energy['time'] = energy['time'].apply(lambda x:convert_time(x))"
      ],
      "metadata": {
        "id": "XRwE3J6uZkVV"
      },
      "execution_count": 20,
      "outputs": []
    },
    {
      "cell_type": "markdown",
      "source": [
        "# 모델 적용하기"
      ],
      "metadata": {
        "id": "ayOALuQbb9zn"
      }
    },
    {
      "cell_type": "code",
      "source": [
        "column = 'dangjin_floating'\n",
        "\n",
        "df = pd.DataFrame()\n",
        "df['ds'] = energy['time']\n",
        "df['y'] = energy[column]"
      ],
      "metadata": {
        "id": "J0ZXSYNhb4Xn"
      },
      "execution_count": 23,
      "outputs": []
    },
    {
      "cell_type": "code",
      "source": [
        "# 모델 설정\n",
        "model = NeuralProphet()\n",
        "\n",
        "# 훈련\n",
        "loss = model.fit(df, freq = 'H')\n",
        "\n",
        "# 미래 예측용 데이터 프레임 만들기\n",
        "df_pred = model.make_future_dataframe(df, periods = 18000)\n",
        "\n",
        "# 미레 예측 하기\n",
        "predict = model.predict(df_pred)"
      ],
      "metadata": {
        "colab": {
          "base_uri": "https://localhost:8080/",
          "height": 644,
          "referenced_widgets": [
            "52499a8491a04815bc456fc18c2ce31e",
            "d4d4a1d489c44f1fa5602999e5bbc557",
            "a4b41269ab8545078dccef2a830d00eb",
            "46336797901845949b2cda9333c73a64",
            "8f4c9875b69e40e5ac0362cf9d02bc22",
            "9acfd25c185447238c16e48e2000744c",
            "d69c2bf69e184268af7e59980dd04185",
            "f332c54dd6f34c2a823b5118e78a6a6b",
            "d22c7fbc8ae24e92b58fb22bcca68b98",
            "4220b99339334f4199b34d19814391fc",
            "84c9037f32f54cfdbebb8569d5a6b57a",
            "7b16edd602714ef4bf6b31fae9f76432",
            "4904f23b9f64476188f93d9b5149b74b",
            "c132934c5b8a4c8998d1e9834f39aa99",
            "3f94717b746948348661b18bd126e4ac",
            "5b1ba271181548708ef1a7bcd677ee5e",
            "8e8ff2f2591b4afba7dd4ad09c20bd1a",
            "c944732197ef4057b5394c50d7255b7f",
            "ded5855b4fed4ab2b60deb84cd0435bc",
            "740f738c1013440f89d2931cc92bd957",
            "edb1ae7263004af08c55b958b4cd265c",
            "303eb08c1bfb45fa9347f7fa14ba40b7"
          ]
        },
        "id": "7YJ4v883dSoK",
        "outputId": "1612c014-8dcc-4e4e-9e03-dc86c5ac32e4"
      },
      "execution_count": 24,
      "outputs": [
        {
          "output_type": "stream",
          "name": "stderr",
          "text": [
            "INFO - (NP.df_utils._infer_frequency) - Major frequency H corresponds to 99.996% of the data.\n",
            "INFO:NP.df_utils:Major frequency H corresponds to 99.996% of the data.\n",
            "INFO - (NP.df_utils._infer_frequency) - Defined frequency is equal to major frequency - H\n",
            "INFO:NP.df_utils:Defined frequency is equal to major frequency - H\n",
            "INFO - (NP.forecaster.__handle_missing_data) - dropped 24 NAN row in 'y'\n",
            "INFO:NP.forecaster:dropped 24 NAN row in 'y'\n",
            "INFO - (NP.config.init_data_params) - Setting normalization to global as only one dataframe provided for training.\n",
            "INFO:NP.config:Setting normalization to global as only one dataframe provided for training.\n",
            "INFO - (NP.config.set_auto_batch_epoch) - Auto-set batch_size to 64\n",
            "INFO:NP.config:Auto-set batch_size to 64\n",
            "INFO - (NP.config.set_auto_batch_epoch) - Auto-set epochs to 81\n",
            "INFO:NP.config:Auto-set epochs to 81\n"
          ]
        },
        {
          "output_type": "display_data",
          "data": {
            "text/plain": [
              "  0%|          | 0/160 [00:00<?, ?it/s]"
            ],
            "application/vnd.jupyter.widget-view+json": {
              "version_major": 2,
              "version_minor": 0,
              "model_id": "52499a8491a04815bc456fc18c2ce31e"
            }
          },
          "metadata": {}
        },
        {
          "output_type": "stream",
          "name": "stderr",
          "text": [
            "INFO - (NP.utils_torch.lr_range_test) - lr-range-test results: steep: 6.76E-02, min: 1.19E+00\n",
            "INFO:NP.utils_torch:lr-range-test results: steep: 6.76E-02, min: 1.19E+00\n"
          ]
        },
        {
          "output_type": "display_data",
          "data": {
            "text/plain": [
              "  0%|          | 0/160 [00:00<?, ?it/s]"
            ],
            "application/vnd.jupyter.widget-view+json": {
              "version_major": 2,
              "version_minor": 0,
              "model_id": "7b16edd602714ef4bf6b31fae9f76432"
            }
          },
          "metadata": {}
        },
        {
          "output_type": "stream",
          "name": "stderr",
          "text": [
            "INFO - (NP.utils_torch.lr_range_test) - lr-range-test results: steep: 6.76E-02, min: 1.19E+00\n",
            "INFO:NP.utils_torch:lr-range-test results: steep: 6.76E-02, min: 1.19E+00\n",
            "INFO - (NP.forecaster._init_train_loader) - lr-range-test selected learning rate: 7.71E-02\n",
            "INFO:NP.forecaster:lr-range-test selected learning rate: 7.71E-02\n",
            "Epoch[81/81]: 100%|██████████| 81/81 [01:16<00:00,  1.06it/s, SmoothL1Loss=0.0161, MAE=67.5, RMSE=101, RegLoss=0]\n",
            "INFO - (NP.df_utils._infer_frequency) - Major frequency H corresponds to 99.996% of the data.\n",
            "INFO:NP.df_utils:Major frequency H corresponds to 99.996% of the data.\n",
            "INFO - (NP.df_utils._infer_frequency) - Defined frequency is equal to major frequency - H\n",
            "INFO:NP.df_utils:Defined frequency is equal to major frequency - H\n",
            "INFO - (NP.df_utils._infer_frequency) - Major frequency H corresponds to 99.994% of the data.\n",
            "INFO:NP.df_utils:Major frequency H corresponds to 99.994% of the data.\n",
            "INFO - (NP.df_utils._infer_frequency) - Defined frequency is equal to major frequency - H\n",
            "INFO:NP.df_utils:Defined frequency is equal to major frequency - H\n",
            "INFO - (NP.df_utils._infer_frequency) - Major frequency H corresponds to 99.994% of the data.\n",
            "INFO:NP.df_utils:Major frequency H corresponds to 99.994% of the data.\n",
            "INFO - (NP.df_utils._infer_frequency) - Defined frequency is equal to major frequency - H\n",
            "INFO:NP.df_utils:Defined frequency is equal to major frequency - H\n"
          ]
        }
      ]
    },
    {
      "cell_type": "code",
      "source": [
        "predict_1 = predict.copy()\n",
        "predict_1 = predict_1.query('ds >= \"2021-02-01 00:00:00\"')\n",
        "predict_1 = predict_1.query('ds < \"2021-03-01 00:00:00\"')\n",
        "\n",
        "# 2021-06-09 ~ 2021-07-09\n",
        "predict_2 = predict.copy()\n",
        "predict_2 = predict_2.query('ds >= \"2021-06-09 00:00:00\"')\n",
        "predict_2 = predict_2.query('ds < \"2021-07-09 00:00:00\"')\n",
        "\n",
        "# 제출 파일 업데이트\n",
        "sample_submission[column] = list(predict_1['yhat1']) + list(predict_2['yhat1'])\n",
        "sample_submission.head()"
      ],
      "metadata": {
        "colab": {
          "base_uri": "https://localhost:8080/",
          "height": 206
        },
        "id": "dLXR70IvpAIS",
        "outputId": "b24fe029-72fe-49c8-f514-b40df59e7c9e"
      },
      "execution_count": 25,
      "outputs": [
        {
          "output_type": "execute_result",
          "data": {
            "text/plain": [
              "                  time  dangjin_floating  dangjin_warehouse  dangjin  ulsan\n",
              "0  2021-02-01 01:00:00        -29.331793                  0        0      0\n",
              "1  2021-02-01 02:00:00        -28.439514                  0        0      0\n",
              "2  2021-02-01 03:00:00        -29.095627                  0        0      0\n",
              "3  2021-02-01 04:00:00        -29.376926                  0        0      0\n",
              "4  2021-02-01 05:00:00        -27.988543                  0        0      0"
            ],
            "text/html": [
              "\n",
              "  <div id=\"df-fee021c7-c390-4bc3-a8a9-2a5b02487b0b\">\n",
              "    <div class=\"colab-df-container\">\n",
              "      <div>\n",
              "<style scoped>\n",
              "    .dataframe tbody tr th:only-of-type {\n",
              "        vertical-align: middle;\n",
              "    }\n",
              "\n",
              "    .dataframe tbody tr th {\n",
              "        vertical-align: top;\n",
              "    }\n",
              "\n",
              "    .dataframe thead th {\n",
              "        text-align: right;\n",
              "    }\n",
              "</style>\n",
              "<table border=\"1\" class=\"dataframe\">\n",
              "  <thead>\n",
              "    <tr style=\"text-align: right;\">\n",
              "      <th></th>\n",
              "      <th>time</th>\n",
              "      <th>dangjin_floating</th>\n",
              "      <th>dangjin_warehouse</th>\n",
              "      <th>dangjin</th>\n",
              "      <th>ulsan</th>\n",
              "    </tr>\n",
              "  </thead>\n",
              "  <tbody>\n",
              "    <tr>\n",
              "      <th>0</th>\n",
              "      <td>2021-02-01 01:00:00</td>\n",
              "      <td>-29.331793</td>\n",
              "      <td>0</td>\n",
              "      <td>0</td>\n",
              "      <td>0</td>\n",
              "    </tr>\n",
              "    <tr>\n",
              "      <th>1</th>\n",
              "      <td>2021-02-01 02:00:00</td>\n",
              "      <td>-28.439514</td>\n",
              "      <td>0</td>\n",
              "      <td>0</td>\n",
              "      <td>0</td>\n",
              "    </tr>\n",
              "    <tr>\n",
              "      <th>2</th>\n",
              "      <td>2021-02-01 03:00:00</td>\n",
              "      <td>-29.095627</td>\n",
              "      <td>0</td>\n",
              "      <td>0</td>\n",
              "      <td>0</td>\n",
              "    </tr>\n",
              "    <tr>\n",
              "      <th>3</th>\n",
              "      <td>2021-02-01 04:00:00</td>\n",
              "      <td>-29.376926</td>\n",
              "      <td>0</td>\n",
              "      <td>0</td>\n",
              "      <td>0</td>\n",
              "    </tr>\n",
              "    <tr>\n",
              "      <th>4</th>\n",
              "      <td>2021-02-01 05:00:00</td>\n",
              "      <td>-27.988543</td>\n",
              "      <td>0</td>\n",
              "      <td>0</td>\n",
              "      <td>0</td>\n",
              "    </tr>\n",
              "  </tbody>\n",
              "</table>\n",
              "</div>\n",
              "      <button class=\"colab-df-convert\" onclick=\"convertToInteractive('df-fee021c7-c390-4bc3-a8a9-2a5b02487b0b')\"\n",
              "              title=\"Convert this dataframe to an interactive table.\"\n",
              "              style=\"display:none;\">\n",
              "        \n",
              "  <svg xmlns=\"http://www.w3.org/2000/svg\" height=\"24px\"viewBox=\"0 0 24 24\"\n",
              "       width=\"24px\">\n",
              "    <path d=\"M0 0h24v24H0V0z\" fill=\"none\"/>\n",
              "    <path d=\"M18.56 5.44l.94 2.06.94-2.06 2.06-.94-2.06-.94-.94-2.06-.94 2.06-2.06.94zm-11 1L8.5 8.5l.94-2.06 2.06-.94-2.06-.94L8.5 2.5l-.94 2.06-2.06.94zm10 10l.94 2.06.94-2.06 2.06-.94-2.06-.94-.94-2.06-.94 2.06-2.06.94z\"/><path d=\"M17.41 7.96l-1.37-1.37c-.4-.4-.92-.59-1.43-.59-.52 0-1.04.2-1.43.59L10.3 9.45l-7.72 7.72c-.78.78-.78 2.05 0 2.83L4 21.41c.39.39.9.59 1.41.59.51 0 1.02-.2 1.41-.59l7.78-7.78 2.81-2.81c.8-.78.8-2.07 0-2.86zM5.41 20L4 18.59l7.72-7.72 1.47 1.35L5.41 20z\"/>\n",
              "  </svg>\n",
              "      </button>\n",
              "      \n",
              "  <style>\n",
              "    .colab-df-container {\n",
              "      display:flex;\n",
              "      flex-wrap:wrap;\n",
              "      gap: 12px;\n",
              "    }\n",
              "\n",
              "    .colab-df-convert {\n",
              "      background-color: #E8F0FE;\n",
              "      border: none;\n",
              "      border-radius: 50%;\n",
              "      cursor: pointer;\n",
              "      display: none;\n",
              "      fill: #1967D2;\n",
              "      height: 32px;\n",
              "      padding: 0 0 0 0;\n",
              "      width: 32px;\n",
              "    }\n",
              "\n",
              "    .colab-df-convert:hover {\n",
              "      background-color: #E2EBFA;\n",
              "      box-shadow: 0px 1px 2px rgba(60, 64, 67, 0.3), 0px 1px 3px 1px rgba(60, 64, 67, 0.15);\n",
              "      fill: #174EA6;\n",
              "    }\n",
              "\n",
              "    [theme=dark] .colab-df-convert {\n",
              "      background-color: #3B4455;\n",
              "      fill: #D2E3FC;\n",
              "    }\n",
              "\n",
              "    [theme=dark] .colab-df-convert:hover {\n",
              "      background-color: #434B5C;\n",
              "      box-shadow: 0px 1px 3px 1px rgba(0, 0, 0, 0.15);\n",
              "      filter: drop-shadow(0px 1px 2px rgba(0, 0, 0, 0.3));\n",
              "      fill: #FFFFFF;\n",
              "    }\n",
              "  </style>\n",
              "\n",
              "      <script>\n",
              "        const buttonEl =\n",
              "          document.querySelector('#df-fee021c7-c390-4bc3-a8a9-2a5b02487b0b button.colab-df-convert');\n",
              "        buttonEl.style.display =\n",
              "          google.colab.kernel.accessAllowed ? 'block' : 'none';\n",
              "\n",
              "        async function convertToInteractive(key) {\n",
              "          const element = document.querySelector('#df-fee021c7-c390-4bc3-a8a9-2a5b02487b0b');\n",
              "          const dataTable =\n",
              "            await google.colab.kernel.invokeFunction('convertToInteractive',\n",
              "                                                     [key], {});\n",
              "          if (!dataTable) return;\n",
              "\n",
              "          const docLinkHtml = 'Like what you see? Visit the ' +\n",
              "            '<a target=\"_blank\" href=https://colab.research.google.com/notebooks/data_table.ipynb>data table notebook</a>'\n",
              "            + ' to learn more about interactive tables.';\n",
              "          element.innerHTML = '';\n",
              "          dataTable['output_type'] = 'display_data';\n",
              "          await google.colab.output.renderOutput(dataTable, element);\n",
              "          const docLink = document.createElement('div');\n",
              "          docLink.innerHTML = docLinkHtml;\n",
              "          element.appendChild(docLink);\n",
              "        }\n",
              "      </script>\n",
              "    </div>\n",
              "  </div>\n",
              "  "
            ]
          },
          "metadata": {},
          "execution_count": 25
        }
      ]
    },
    {
      "cell_type": "markdown",
      "source": [
        "# 참고 자료"
      ],
      "metadata": {
        "id": "xFo5MHKNpgqS"
      }
    },
    {
      "cell_type": "markdown",
      "source": [
        "데이콘 대회\n",
        "\n",
        "https://dacon.io/competitions/official/235720/overview/description\n",
        "\n",
        "LSTM\n",
        "\n",
        "https://dacon.io/competitions/official/235720/codeshare/2609\n",
        "\n",
        "Prophet\n",
        "\n",
        "https://dacon.io/competitions/official/235720/codeshare/2492"
      ],
      "metadata": {
        "id": "PTRZ5d9opiUJ"
      }
    }
  ]
}