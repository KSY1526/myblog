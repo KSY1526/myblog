{
  "nbformat": 4,
  "nbformat_minor": 0,
  "metadata": {
    "colab": {
      "name": "PythonMachine5_1.ipynb",
      "private_outputs": true,
      "provenance": [],
      "collapsed_sections": [],
      "authorship_tag": "ABX9TyPv1yyILxPp48sjEosq2OVU",
      "include_colab_link": true
    },
    "kernelspec": {
      "name": "python3",
      "display_name": "Python 3"
    },
    "language_info": {
      "name": "python"
    }
  },
  "cells": [
    {
      "cell_type": "markdown",
      "metadata": {
        "id": "view-in-github",
        "colab_type": "text"
      },
      "source": [
        "<a href=\"https://colab.research.google.com/github/KSY1526/myblog/blob/master/_notebooks/PythonMachine5_1.ipynb\" target=\"_parent\"><img src=\"https://colab.research.google.com/assets/colab-badge.svg\" alt=\"Open In Colab\"/></a>"
      ]
    },
    {
      "cell_type": "markdown",
      "metadata": {
        "id": "v0hhytIq459O"
      },
      "source": [
        "# 파이썬 머신러닝 완벽가이드 5장-1"
      ]
    },
    {
      "cell_type": "markdown",
      "metadata": {
        "id": "iHCtj8mo5iwA"
      },
      "source": [
        "# 경사하강법"
      ]
    },
    {
      "cell_type": "code",
      "metadata": {
        "id": "hL0gPKuu0MB9"
      },
      "source": [
        "import numpy as np\n",
        "import matplotlib.pyplot as plt\n",
        "%matplotlib inline\n",
        "\n",
        "np.random.seed(8)\n",
        "x = 2 * np.random.randn(100,1)\n",
        "y = 6 + 4 * x + np.random.randn(100,1)\n",
        "plt.scatter(x,y)"
      ],
      "execution_count": null,
      "outputs": []
    },
    {
      "cell_type": "markdown",
      "metadata": {
        "id": "t1CqUOHW6jSg"
      },
      "source": [
        "y = 4x + 6 근사\n",
        "\n",
        "np.random.randn => 표준정규분포에서 값 생성. 100,1 은 값 행렬 형식 선언 입니다."
      ]
    },
    {
      "cell_type": "code",
      "metadata": {
        "id": "WFlmmTxT6Zlu"
      },
      "source": [
        "def get_cost(y, y_pred):\n",
        "    N = len(y)\n",
        "    cost = np.sum(np.square(y-y_pred)) / N\n",
        "    return cost"
      ],
      "execution_count": null,
      "outputs": []
    },
    {
      "cell_type": "markdown",
      "metadata": {
        "id": "ebP3oi7v7jlo"
      },
      "source": [
        "편차 제곱 평균을 계산해주는 함수.\n",
        "\n",
        "np.square => 제곱 해주는 함수"
      ]
    },
    {
      "cell_type": "code",
      "metadata": {
        "id": "d9AmLIgI7h3B"
      },
      "source": [
        "def get_weight_updates(w1, w0, x, y, learning_rate = 0.01):\n",
        "    N = len(y)\n",
        "    # w1, w0 동일한 행렬 크기를 갖는 0 값으로 초기화 \n",
        "    w1_update = np.zeros_like(w1)\n",
        "    w0_update = np.zeros_like(w0)\n",
        "\n",
        "    #np.dot 행렬의 곱\n",
        "    y_pred = np.dot(x, w1.T) + w0\n",
        "    diff = y - y_pred\n",
        "\n",
        "    w0_factors = np.ones((N, 1))\n",
        "    \n",
        "    w1_update = -(2/N) * learning_rate * (np.dot(x.T, diff))\n",
        "    w0_update = -(2/N) * learning_rate * (np.dot(w0_factors.T, diff))\n",
        "\n",
        "    return w1_update, w0_update"
      ],
      "execution_count": null,
      "outputs": []
    },
    {
      "cell_type": "markdown",
      "metadata": {
        "id": "JI-6Q1gk9-63"
      },
      "source": [
        "편미분한 w1, w0값을 이용해서 w0, w1값을 지속적으로 업데이트 해줍니다\n",
        "\n",
        "np.zeros_like(w1) => w1값과 같은 형태에 값은 0인 행렬 생성\n",
        "\n",
        "np.dot(,) => 행렬 연산"
      ]
    },
    {
      "cell_type": "code",
      "metadata": {
        "id": "fueTFMFKAQfx"
      },
      "source": [
        "def gradient_descent_steps(x,y, iters = 10000):\n",
        "    w0 = np.zeros((1,1))\n",
        "    w1 = np.zeros((1,1))\n",
        "\n",
        "    for ind in range(iters):\n",
        "        w1_update, w0_update = get_weight_updates(w1, w0, x, y, learning_rate=0.01)\n",
        "        w1 = w1 - w1_update\n",
        "        w0 = w0 - w0_update\n",
        "    \n",
        "    return w1, w0"
      ],
      "execution_count": null,
      "outputs": []
    },
    {
      "cell_type": "markdown",
      "metadata": {
        "id": "8yU0EocACHXp"
      },
      "source": [
        "위 두 함수를 통해 w1, w0 값을 지속적으로 업데이트 하여 최적에 값에 도달하게 합니다."
      ]
    },
    {
      "cell_type": "code",
      "metadata": {
        "id": "dpHR7EkzCQgV"
      },
      "source": [
        "w1, w0 = gradient_descent_steps(x,y, 1000)\n",
        "print('w1 :', np.round(w1[0,0],4), 'w0 :', np.round(w0[0,0],4))\n",
        "y_pred = w1[0,0] * x + w0\n",
        "print('편차제곱평균:', np.round(get_cost(y, y_pred),4))"
      ],
      "execution_count": null,
      "outputs": []
    },
    {
      "cell_type": "code",
      "metadata": {
        "id": "eNi36vJrDOrE"
      },
      "source": [
        "plt.scatter(x,y)\n",
        "plt.plot(x,y_pred)"
      ],
      "execution_count": null,
      "outputs": []
    },
    {
      "cell_type": "markdown",
      "metadata": {
        "id": "Dd_BVuH5DoPk"
      },
      "source": [
        "경사하강법을 이용해 회귀선이 잘 만들어졌습니다.\n",
        "\n",
        "다만 데이터에 개수가 100개보다 훨씬 많아지면 전체데이터로 계수를 업데이트 하지 못합니다.\n",
        "\n",
        "그 때문에 실전에서는 대부분 (미니배치)확률적 경사 하강법을 이용합니다.\n",
        "\n",
        "이 방식은 전체 데이터가 아닌 일부 데이터로 계수를 업데이트 하기 때문에 속도가 상대적으로 빠릅니다.\n",
        "\n",
        "이를 구현해보겠습니다."
      ]
    },
    {
      "cell_type": "code",
      "metadata": {
        "id": "wYDHz-9MDjre"
      },
      "source": [
        "def stochastic_gradient_descent_steps(x,y,batch_size = 10, iters = 1000):\n",
        "    w0 = np.zeros((1,1))\n",
        "    w1 = np.zeros((1,1))\n",
        "    prev_cost = 100000\n",
        "    iter_index = 0\n",
        "\n",
        "    for ind in range(iters):\n",
        "        np.random.seed(ind)\n",
        "        stochastic_random_index = np.random.permutation(x.shape[0])\n",
        "        sample_x = x[stochastic_random_index[0:batch_size]]\n",
        "        sample_y = y[stochastic_random_index[0:batch_size]]\n",
        "\n",
        "        w1_update, w0_update = get_weight_updates(w1, w0, sample_x, sample_y)\n",
        "        w1 = w1 - w1_update\n",
        "        w0 = w0 - w0_update\n",
        "\n",
        "    return w1, w0"
      ],
      "execution_count": null,
      "outputs": []
    },
    {
      "cell_type": "markdown",
      "metadata": {
        "id": "LigUxMmsFRZF"
      },
      "source": [
        "np.random.permutation(x.shape[0]) => 주어진 데이터를 셔플해서 출력함\n",
        "\n",
        "앞 함수와 바뀐 부분은 x, y를 샘플링해서 넣는다는 점 입니다."
      ]
    },
    {
      "cell_type": "code",
      "metadata": {
        "id": "uwJBqeIdFu1B"
      },
      "source": [
        "w1, w0 = stochastic_gradient_descent_steps(x,y,iters=1000)\n",
        "print('w1:', np.round(w1[0,0],3), 'w0:', np.round(w0[0,0],4))\n",
        "\n",
        "y_pred = w1[0,0] * x + w0\n",
        "\n",
        "print('편차제곱 평균:', np.round(get_cost(y,y_pred),4))"
      ],
      "execution_count": null,
      "outputs": []
    },
    {
      "cell_type": "markdown",
      "metadata": {
        "id": "dSJdWcWxG8iw"
      },
      "source": [
        "편차제곱 평균 값이 전체 x,y를 투입했을때와 큰 차이가 없습니다.\n",
        "\n",
        "그러므로 계산 속도가 훨씬 빠른 미니배치 경사하강법을 많이 사용합니다."
      ]
    },
    {
      "cell_type": "markdown",
      "metadata": {
        "id": "m7MzPvKTI5dm"
      },
      "source": [
        "# 단순 선형 회귀(보스턴 주택 가격)"
      ]
    },
    {
      "cell_type": "code",
      "metadata": {
        "id": "wIMeCl-OG0gR"
      },
      "source": [
        "import numpy as np\n",
        "import matplotlib.pyplot as plt\n",
        "import pandas as pd\n",
        "import seaborn as sns\n",
        "from scipy import stats\n",
        "from sklearn.datasets import load_boston\n",
        "%matplotlib inline\n",
        "\n",
        "boston = load_boston()\n",
        "\n",
        "bostonDF = pd.DataFrame(boston.data, columns = boston.feature_names)\n",
        "\n",
        "bostonDF['PRICE'] = boston.target\n",
        "print('보스턴 데이터 세트 크기:', bostonDF.shape)\n",
        "bostonDF.head()"
      ],
      "execution_count": null,
      "outputs": []
    },
    {
      "cell_type": "markdown",
      "metadata": {
        "id": "RmuxE9uUJneT"
      },
      "source": [
        "사이킷런에 내장되어있는 보스턴 주택 데이터를 불러왔습니다."
      ]
    },
    {
      "cell_type": "code",
      "metadata": {
        "id": "lP4WnyoWJgnr"
      },
      "source": [
        "bostonDF.info()"
      ],
      "execution_count": null,
      "outputs": []
    },
    {
      "cell_type": "markdown",
      "metadata": {
        "id": "U3Sel0-qJ0yl"
      },
      "source": [
        "결측값은 없으며 모든 피처가 float 형 입니다."
      ]
    },
    {
      "cell_type": "code",
      "metadata": {
        "id": "QWEp3a9oJz2U"
      },
      "source": [
        "fig, axs = plt.subplots(figsize=(16,8), ncols = 4, nrows = 2)\n",
        "lm_features = ['RM','ZN', 'INDUS','NOX','AGE','PTRATIO','LSTAT','RAD']\n",
        "for i, feature in enumerate(lm_features):\n",
        "    row = int(i/4)\n",
        "    col = i%4\n",
        "    sns.regplot(x=feature, y='PRICE', data=bostonDF, ax=axs[row][col])"
      ],
      "execution_count": null,
      "outputs": []
    },
    {
      "cell_type": "markdown",
      "metadata": {
        "id": "_-ydnfvgLC80"
      },
      "source": [
        "sns.regplot(x,y) => x,y 산점도와 함께 회귀직선을 그려줌.\n",
        "\n",
        "plt.subplots(ncols = , nrows= ) 여러개의 그림을 그릴 수 있게 해줌.\n",
        "\n",
        "RM과 LSTAT 변수가 가장 PRICE 변수와 연관성이 있어보입니다."
      ]
    },
    {
      "cell_type": "code",
      "metadata": {
        "id": "h6lfk5-3Kuzw"
      },
      "source": [
        "from sklearn.model_selection import train_test_split\n",
        "from sklearn.linear_model import LinearRegression\n",
        "from sklearn.metrics import mean_squared_error, r2_score\n",
        "\n",
        "y_target = bostonDF['PRICE']\n",
        "x_data = bostonDF.drop(['PRICE'], axis = 1, inplace=False)\n",
        "\n",
        "x_train, x_test, y_train, y_test = train_test_split(x_data, y_target, test_size = 0.3, \n",
        "                                                    random_state = 156)\n",
        "\n",
        "lr = LinearRegression()\n",
        "lr.fit(x_train, y_train)\n",
        "y_preds = lr.predict(x_test)\n",
        "mse = mean_squared_error(y_test, y_preds)\n",
        "rmse = np.sqrt(mse)\n",
        "\n",
        "print('mse :', np.round(mse,4), ', rmse :', np.round(rmse, 4))\n",
        "print('결정계수:', np.round(r2_score(y_test, y_preds), 4))"
      ],
      "execution_count": null,
      "outputs": []
    },
    {
      "cell_type": "markdown",
      "metadata": {
        "id": "bT-F1HwfNZpu"
      },
      "source": [
        "모델을 어느정도 설명해 준 모습입니다."
      ]
    },
    {
      "cell_type": "code",
      "metadata": {
        "id": "y2QmWvpgNF6g"
      },
      "source": [
        "print('절편 값:',lr.intercept_)\n",
        "print('회귀 계수값:', np.round(lr.coef_,1))"
      ],
      "execution_count": null,
      "outputs": []
    },
    {
      "cell_type": "code",
      "metadata": {
        "id": "pLkod_4lNW7w"
      },
      "source": [
        "coeff = pd.Series(data=np.round(lr.coef_, 1), index = x_data.columns)\n",
        "coeff.sort_values(ascending=False)"
      ],
      "execution_count": null,
      "outputs": []
    },
    {
      "cell_type": "markdown",
      "metadata": {
        "id": "QaqzhOr5N1-Y"
      },
      "source": [
        "변수 이름과 추정 회귀 계수를 맵핑 시킨 모습입니다.\n",
        "\n",
        "NOX 변수의 계수 값이 크게 작아보입니다."
      ]
    },
    {
      "cell_type": "code",
      "metadata": {
        "id": "-BTTyuyTNuHu"
      },
      "source": [
        "from sklearn.model_selection import cross_val_score\n",
        "\n",
        "neg_mse_scores = cross_val_score(lr, x_data, y_target, scoring='neg_mean_squared_error', cv = 5)\n",
        "rmse_scores = np.sqrt(-1 * neg_mse_scores)\n",
        "avg_rmse = np.mean(rmse_scores)\n",
        "\n",
        "print('mse scores', np.round(neg_mse_scores,2))\n",
        "print('rmse scores', np.round(rmse_scores, 2))\n",
        "print('평균 rmse score:', np.round(avg_rmse,2))"
      ],
      "execution_count": null,
      "outputs": []
    },
    {
      "cell_type": "markdown",
      "metadata": {
        "id": "qTejXOZkQkLE"
      },
      "source": [
        "5개의 폴드 세트를 이용한 교차검증 입니다.\n",
        "\n",
        "scoring = 'neg_mean_squared_error' 같은 경우 보통 모델 평가를 위한 값이 커야 좋은 값인데, mse 값은 작아야 좋습니다.\n",
        "\n",
        "그러므로 음수를 붙여서 보정해준다고 생각하면 좋습니다.\n",
        "\n",
        "다음에는 다항회귀, 릿지/라쏘 회귀 부분을 공부하겠습니다."
      ]
    }
  ]
}
