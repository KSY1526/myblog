{
  "nbformat": 4,
  "nbformat_minor": 0,
  "metadata": {
    "colab": {
      "name": "FirstDeep2.ipynb",
      "provenance": [],
      "collapsed_sections": [],
      "authorship_tag": "ABX9TyNznSeTKfTbvD4fS/WP0lKK",
      "include_colab_link": true
    },
    "kernelspec": {
      "name": "python3",
      "display_name": "Python 3"
    },
    "language_info": {
      "name": "python"
    }
  },
  "cells": [
    {
      "cell_type": "markdown",
      "metadata": {
        "id": "view-in-github",
        "colab_type": "text"
      },
      "source": [
        "<a href=\"https://colab.research.google.com/github/KSY1526/myblog/blob/master/_notebooks/2021-12-29-FirstDeep2.ipynb\" target=\"_parent\"><img src=\"https://colab.research.google.com/assets/colab-badge.svg\" alt=\"Open In Colab\"/></a>"
      ]
    },
    {
      "cell_type": "markdown",
      "source": [
        "# \"[처음 시작하는 딥러닝] 2. 밑바닥부터 만들어보는 딥러닝\"\n",
        "- author: Seong Yeon Kim \n",
        "- categories: [book, jupyter, Deep Learning, matrix, math, class]"
      ],
      "metadata": {
        "id": "UC2Z9ilNSh8k"
      }
    },
    {
      "cell_type": "markdown",
      "source": [
        "# 신경망의 구성요소: 연산"
      ],
      "metadata": {
        "id": "7TdLKj1YSh-v"
      }
    },
    {
      "cell_type": "code",
      "source": [
        "def assert_same_shape(array, array_grad):\n",
        "    assert array.shape == array_grad.shape\n",
        "    return None"
      ],
      "metadata": {
        "id": "FTf-yA5yAdGx"
      },
      "execution_count": 50,
      "outputs": []
    },
    {
      "cell_type": "code",
      "execution_count": 51,
      "metadata": {
        "id": "ubvb9ljXSdHX"
      },
      "outputs": [],
      "source": [
        "class Operation(object):\n",
        "    \n",
        "    def __init__(self):\n",
        "        pass\n",
        "\n",
        "    def forward(self, input_): # input_은 ndarray\n",
        "        self.input_ = input_\n",
        "        self.output = self._output()\n",
        "        return self.output\n",
        "\n",
        "    def backward(self, output_grad): # output_grad은 ndarray\n",
        "        assert_same_shape(self.output, output_grad)\n",
        "\n",
        "        self.input_grad = self._input_grad(output_grad)\n",
        "\n",
        "        assert_same_shape(self.input_, self.input_grad)\n",
        "        return self.input_grad\n",
        "\n",
        "    # 서브 클래스에서 오버라이딩 하기 위해 있는 부분\n",
        "    # 이 클래스에서는 추상 메소드만 선언함\n",
        "    def _output(self):\n",
        "        raise NotImplementedError()\n",
        "\n",
        "    def _input_grad(self, output_grad):\n",
        "        raise NotImplementedError()"
      ]
    },
    {
      "cell_type": "markdown",
      "source": [
        "상속을 해주기 위한 간단한 연산 클래스를 만들었습니다.\n",
        "\n",
        "forward 부분은 input_을 받고 아웃풋을 내는 함수를 호출합니다.\n",
        "\n",
        "backward 부분은 output_grad를 받고 _input_grad 함수를 호출합니다.\n",
        "\n",
        "여기서 assert_same_shape은 입력값이 정상인지 확인하는 역할을 합니다."
      ],
      "metadata": {
        "id": "n1EHWQQRVP_W"
      }
    },
    {
      "cell_type": "code",
      "source": [
        "class ParamOperation(Operation):\n",
        "    def __init__(self, param):\n",
        "        super().__init__() # 상속 받은 클레스의 생성자를 실행해줘야함\n",
        "        self.param = param # 파라미터도 입력받음.\n",
        "\n",
        "    def backward(self, output_grad):\n",
        "        \n",
        "        assert_same_shape(self.output, output_grad)\n",
        "        self.input_grad = self._input_grad(output_grad)\n",
        "        self.param_grad = self._param_grad(output_grad)\n",
        "        \n",
        "        assert_same_shape(self.input_, self.input_grad)\n",
        "        assert_same_shape(self.param, self.param_grad)\n",
        "\n",
        "        return self.input_grad\n",
        "\n",
        "    def _param_grad(self, output_grad):\n",
        "        raise NotImplementedError()"
      ],
      "metadata": {
        "id": "gEoK5WHrUvgG"
      },
      "execution_count": 52,
      "outputs": []
    },
    {
      "cell_type": "markdown",
      "source": [
        "파라미터가 있는 연산를 정의하기 위해 제일 기본적인 연산 클래스를 상속받아 만들었습니다.\n",
        "\n",
        "backward 함수는 _input_grad, _param_grad(출력물에 대한 입력값/파라미터 기울기) 함수를 호출해 값을 구합니다.\n",
        "\n",
        "이전 backward와 달라진점은 _param_grad 부분이 추가했다는 것입니다.\n",
        "\n",
        "이 클래스를 상속하는 클래스는 _output, _input_grad, _pram_grad 함수를 정의해야합니다."
      ],
      "metadata": {
        "id": "DdtWwpN5XehY"
      }
    },
    {
      "cell_type": "code",
      "source": [
        "import numpy as np\n",
        "\n",
        "# 신경망의 가중치 행렬 곱 연산, 순방향/역방향 모두 제공.\n",
        "class WeightMultiply(ParamOperation):\n",
        "    def __init__(self, W):\n",
        "        super().__init__(W)\n",
        "\n",
        "    # Operation 클래스 내 forward 함수에서 내부 호출 당하는 함수, 순방향 출력\n",
        "    def _output(self):        \n",
        "        return np.dot(self.input_, self.param) # forward 함수 내 self.input_은 정해줌.\n",
        "\n",
        "    # Operation 클래스 내 backward 함수에서 내부 호출 당하는 함수, 역방향 출력\n",
        "    # 입력의 대한 기울기, 파라미터에 대한 기울기를 두 함수로 만듬.\n",
        "    def _input_grad(self, output_grad): # 입력에 대한 기울기 출력.\n",
        "        return np.dot(output_grad, np.transpose(self.param, (1,0)))\n",
        "\n",
        "    def _param_grad(self, output_grad):\n",
        "        return np.dot(np.transpose(self.input_, (1,0)), output_grad)"
      ],
      "metadata": {
        "id": "wpzDzr5NXesl"
      },
      "execution_count": 53,
      "outputs": []
    },
    {
      "cell_type": "markdown",
      "source": [
        "ParamOperation를 상속해 신경망의 가중치 행렬 곱 연산을 하는 WeightMultiply를 만들었습니다.\n",
        "\n"
      ],
      "metadata": {
        "id": "pcGsnSZIPR6f"
      }
    },
    {
      "cell_type": "code",
      "source": [
        "# 편향을 더하는 덧셈 연산\n",
        "class BiasAdd(ParamOperation):\n",
        "    def __init__(self, B):\n",
        "        assert B.shape[0] == 1\n",
        "        # 상속받은 클래스(ParamOperation)의 생성자(param) 값에 B를 넣어줌.\n",
        "        super().__init__(B)\n",
        "\n",
        "    # forward 호출하는 내부함수.\n",
        "    def _output(self):\n",
        "        return self.input_ + self.param\n",
        "\n",
        "    # backward에서 호출하는 내부함수(output_grad 이미 입력받음), 입력에 대한 기울기\n",
        "    def _input_grad(self, output_grad):\n",
        "        return np.ones_like(self.input_) * output_grad\n",
        "\n",
        "    # 파라미터에 대한 기울기\n",
        "    def _param_grad(self, output_grad):\n",
        "        param_grad = np.ones_like(self.param) * output_grad\n",
        "        return np.sum(param_grad, axis = 0).reshape(1, param_grad.shape[1])\n",
        "            "
      ],
      "metadata": {
        "id": "9Di4W0m0OidZ"
      },
      "execution_count": 71,
      "outputs": []
    },
    {
      "cell_type": "markdown",
      "source": [
        "편향을 더하는 연산도 마찬가지로 ParamOperation를 상속하여 만들었습니다."
      ],
      "metadata": {
        "id": "vOfez7Z0sG5-"
      }
    },
    {
      "cell_type": "code",
      "source": [
        "class Sigmoid(Operation):\n",
        "    def __init__(self):\n",
        "        super().__init__()\n",
        "\n",
        "    def _output(self):\n",
        "        return 1.0/(1.0 + np.exp(-1.0 * self.input_))\n",
        "\n",
        "    # 입력에 대한 기울기 계산\n",
        "    def _input_grad(self, output_grad):\n",
        "        sigmoid_backward = self.output * (1.0 - self.output)\n",
        "        input_grad = sigmoid_backward * output_grad\n",
        "        return input_grad"
      ],
      "metadata": {
        "id": "ftoQLRa5QK-Z"
      },
      "execution_count": 55,
      "outputs": []
    },
    {
      "cell_type": "markdown",
      "source": [
        "시그모이드 연산은 파라미터가 없기 때문에 Operation 클래스를 상속했습니다."
      ],
      "metadata": {
        "id": "khds6wDfsNoC"
      }
    },
    {
      "cell_type": "code",
      "source": [
        "class Linear(Operation):\n",
        "    def __init__(self):     \n",
        "        super().__init__()\n",
        "\n",
        "    def _output(self):\n",
        "        return self.input_\n",
        "\n",
        "    def _input_grad(self, output_grad):\n",
        "        return output_grad"
      ],
      "metadata": {
        "id": "3JeCDboT1Qeo"
      },
      "execution_count": 56,
      "outputs": []
    },
    {
      "cell_type": "markdown",
      "source": [
        "입력을 받은 대로 출력해주는 Linear 클래스 입니다."
      ],
      "metadata": {
        "id": "fVUYiC6G1Xbe"
      }
    },
    {
      "cell_type": "markdown",
      "source": [
        "# 신경망의 구성요소: 층"
      ],
      "metadata": {
        "id": "ncoeXFPEtBPu"
      }
    },
    {
      "cell_type": "code",
      "source": [
        "# 신경망 모델의 층 역할을 하는 클래스\n",
        "class Layer(object):\n",
        "    # 뉴런의 개수는 층의 너비에 해당\n",
        "    def __init__(self, neurons): # neurons : 층의 너비\n",
        "        self.neurons = neurons\n",
        "        self.first = True\n",
        "        self.params = []\n",
        "        self.param_grads = []\n",
        "        self.operations = []\n",
        "\n",
        "    # 층을 구현하는 메서드\n",
        "    def _setup_layer(self, num_in):\n",
        "        raise NotImplementedError()\n",
        "\n",
        "    # 입력값을 연산에 순서대로 통과시켜 순방향 계산을 함.\n",
        "    def forward(self, input_):\n",
        "        if self.first: # 처음 층을 만드는 것이면, _setup_layer 함수 실행.\n",
        "            self._setup_layer(input_) \n",
        "            self.first = False\n",
        "\n",
        "        self.input_ = input_\n",
        "        \n",
        "        for operation in self.operations: # 여러개의 operations 들의 합\n",
        "            input_ = operation.forward(input_)\n",
        "\n",
        "        self.output = input_\n",
        "\n",
        "        return self.output\n",
        "\n",
        "    # output_grad를 각 연산에 역순으로 통과시켜 역방향 계산을 함\n",
        "    def backward(self, output_grad):\n",
        "        assert_same_shape(self.output, output_grad)\n",
        "\n",
        "        for operation in reversed(self.operations):\n",
        "            output_grad = operation.backward(output_grad)\n",
        "\n",
        "        input_grad = output_grad\n",
        "        self._param_grads()\n",
        "\n",
        "        return input_grad\n",
        "\n",
        "    # 각 operation 객체에서 _param_grad 값을 꺼냄\n",
        "    def _param_grads(self):\n",
        "        self.param_grads = []\n",
        "        for operation in self.operations:\n",
        "            if issubclass(operation.__class__, ParamOperation): # 서브클래스에 속하는가?\n",
        "                self.param_grads.append(operation.param_grad)\n",
        "\n",
        "    # 각 operationn 객체에서 _params 값을 꺼냄\n",
        "    def _params(self):\n",
        "        self.params = []\n",
        "        \n",
        "        for operation in self.operations:\n",
        "            if issubclass(operation.__class__, ParamOperation):\n",
        "                self.params.append(operation.param)\n"
      ],
      "metadata": {
        "id": "mk1GJrxDRFoy"
      },
      "execution_count": 57,
      "outputs": []
    },
    {
      "cell_type": "markdown",
      "source": [
        "층을 정의합니다. 이때 Operation 객체의 리스트를 operations 속성에 담고 있습니다."
      ],
      "metadata": {
        "id": "sMfAgBifthOb"
      }
    },
    {
      "cell_type": "code",
      "source": [
        "class Dence(Layer):\n",
        "    def __init__(self, neurons, activation):\n",
        "        super().__init__(neurons)\n",
        "        self.activation = activation\n",
        "\n",
        "    # 밀집층의 연산 정의\n",
        "    def _setup_layer(self, input_):\n",
        "        if self.seed:\n",
        "            np.random.seed(self.seed)\n",
        "\n",
        "        self.params = []\n",
        "        # 가중치\n",
        "        self.params.append(np.random.randn(input_.shape[1], self.neurons))\n",
        "\n",
        "        #편향\n",
        "        self.params.append(np.random.randn(1, self.neurons))\n",
        "\n",
        "        self.operations = [WeightMultiply(self.params[0]), # 신경망의 가중치 행렬곱 연산\n",
        "                           BiasAdd(self.params[1]), self.activation]\n",
        "\n",
        "        return None"
      ],
      "metadata": {
        "id": "UzHIIMLfddFo"
      },
      "execution_count": 58,
      "outputs": []
    },
    {
      "cell_type": "markdown",
      "source": [
        "layer 클래스에 _setup_layer 함수를 추가로 구현하기 위해 Dence(밀집층) 클래스를 생성했습니다.\n",
        "\n",
        "랜덤 시드를 받아서 파라미터 초기값에 랜덤값을 넣어줍니다.\n",
        "\n",
        "여기서 operatings을 정의하는데 층을 하나 만들기 위해서 여러 연산 클래스를 사용합니다."
      ],
      "metadata": {
        "id": "XFnO2xmXuZWO"
      }
    },
    {
      "cell_type": "markdown",
      "source": [
        "# 신경망의 구성요소: 손실함수"
      ],
      "metadata": {
        "id": "qPKyM5zyux6R"
      }
    },
    {
      "cell_type": "code",
      "source": [
        "class Loss(object):\n",
        "    def __init__(self):\n",
        "        pass\n",
        "\n",
        "    # 실제 손실값을 계산하는 함수\n",
        "    def forward(self, prediction, target):\n",
        "        assert_same_shape(prediction, target)\n",
        "\n",
        "        self.prediction = prediction\n",
        "        self.target = target\n",
        "\n",
        "        loss_value = self._output()\n",
        "        return loss_value\n",
        "    \n",
        "    # 손실함수의 입력값에 대해 손실의 기울기를 계산.\n",
        "    def backward(self):\n",
        "        self.input_grad = self._input_grad()\n",
        "\n",
        "        assert_same_shape(self.prediction, self.input_grad)\n",
        "\n",
        "        return self.input_grad\n",
        "\n",
        "    def _output(slef):\n",
        "        raise NotImplementedError()\n",
        "\n",
        "    def _input_grad(slef):\n",
        "        raise NotImplementedError()"
      ],
      "metadata": {
        "id": "BuhyFU4FAI2D"
      },
      "execution_count": 59,
      "outputs": []
    },
    {
      "cell_type": "markdown",
      "source": [
        "손실함수를 구성하는 Loss 클래스 입니다. 타겟값과 예측값을 가지고 _output 함수를 돌려 loss를 구합니다.\n",
        "\n",
        "backward 함수는 입력 값에 따른 손실의 기울기를 계산해줍니다."
      ],
      "metadata": {
        "id": "6e4GCFd0wpuc"
      }
    },
    {
      "cell_type": "code",
      "source": [
        "class MeanSquaredError(Loss):\n",
        "    def __init__(self):\n",
        "        super().__init__()\n",
        "    \n",
        "    # 평균 제곱오차 손실함수\n",
        "    def _output(self):\n",
        "        loss = np.sum(np.power(self.prediction - self.target, 2)) / self.prediction.shape[0]\n",
        "        return loss\n",
        "\n",
        "    # 예측값에 대한 평균제곱오차 손실의 기울기를 계산\n",
        "    def _input_grad(self):\n",
        "        return 2.0 * (self.prediction - self.target) / self.prediction.shape[0]"
      ],
      "metadata": {
        "id": "JDOpR1RyCNfp"
      },
      "execution_count": 60,
      "outputs": []
    },
    {
      "cell_type": "markdown",
      "source": [
        "Loss 클래스를 상속받아 MeanSquaredError 클래스를 만들었는데요. _output, _input_grad 두 함수의 수식을 구체적으로 구현했습니다."
      ],
      "metadata": {
        "id": "YHtjvnEGxDRU"
      }
    },
    {
      "cell_type": "markdown",
      "source": [
        "# 딥러닝의 구성요소: 뉴런"
      ],
      "metadata": {
        "id": "LAd2tm-XxPk9"
      }
    },
    {
      "cell_type": "code",
      "source": [
        "# 신경망을 나타내는 클래스, 지금까지 정의한 클래스를 동작시키는 역할\n",
        "class NeuralNetwork(object):\n",
        "    def __init__(self, layers, loss, seed = 1):\n",
        "        self.layers = layers # 신경망의 층 정의, layers 클래스를 받음.(리스트로 받을수도)\n",
        "        self.loss = loss # loss 클래스를 받음.\n",
        "        self.seed = seed\n",
        "        if seed:\n",
        "            for layer in self.layers:\n",
        "                setattr(layer, 'seed', self.seed) # layer.seed = self.seed와 동일\n",
        "    \n",
        "    # 데이터를 각 층에 순서대로 통과시킴\n",
        "    def forward(self, x_batch): # x_batch는 ndarray.\n",
        "        x_out = x_batch\n",
        "        for layer in self.layers:\n",
        "            x_out = layer.forward(x_out)\n",
        "\n",
        "        return x_out\n",
        "\n",
        "    # 데이터를 각 층에 역순으로 통과시킴\n",
        "    def backward(self, loss_grad):\n",
        "        grad = loss_grad\n",
        "        for layer in reversed(self.layers):\n",
        "            grad = layer.backward(grad)\n",
        "        return None\n",
        "\n",
        "    def train_batch(self, x_batch, y_batch):\n",
        "        # 순방향 계산 수행.\n",
        "        predictions = self.forward(x_batch)\n",
        "        # 손실값 계산\n",
        "        loss = self.loss.forward(predictions, y_batch)\n",
        "        # 역방향 계산 수행\n",
        "        self.backward(self.loss.backward())\n",
        "        return loss\n",
        "\n",
        "    # 신경망의 파라미터 값을 받음\n",
        "    def params(self):\n",
        "        for layer in self.layers:\n",
        "            yield from layer.params # 리스트에 있는 요소를 한개씩 밖으로 전달.\n",
        "\n",
        "    # 신경망의 각 파라미터에 대한 손실값의 기울기를 받음.\n",
        "    def param_grads(self):\n",
        "        for layer in self.layers:\n",
        "            yield from layer.param_grads"
      ],
      "metadata": {
        "id": "e4lBULmHG7pV"
      },
      "execution_count": 61,
      "outputs": []
    },
    {
      "cell_type": "code",
      "source": [
        "neural_network = NeuralNetwork(\n",
        "    layers = [Dence(neurons = 13, activation = Sigmoid()),\n",
        "              Dence(neurons = 1, activation = Linear())],\n",
        "    loss = MeanSquaredError(),\n",
        "    #learning_rata = 0.01\n",
        ")"
      ],
      "metadata": {
        "id": "ZLqIp5dNy4Le"
      },
      "execution_count": 62,
      "outputs": []
    },
    {
      "cell_type": "markdown",
      "source": [
        "딥러닝 구현을 위해 NeuralNetwork 클래스를 구현했습니다. 앞서 구현한 층, 손실함수를 이용했습니다.\n",
        "\n",
        "우선 layers로 층 클래스를 리스트로 받습니다. 층 클래스는 또 뉴런 개수와 활성화함수인 연산 클래스를 입력해야합니다.\n",
        "\n",
        "또 loss에는 손실함수 클래스를 넣어주면 됩니다.\n",
        "\n",
        "forward 부분에서는 입력된 x값을 여러 층에 차레대로 넣습니다. 층에서는 또 차레대로 연산을 해서 prediction을 출력합니다.\n",
        "\n",
        "그 후 loss 클래스를 이용해서 손실값을 계산합니다. 다음으로 손실의 기울기를 backward 함수에 넣습니다.\n",
        "\n",
        "backward 함수에서는 손실의 기울기를 여러 층에 앞선 차레와 반대 순서로 넣습니다.\n",
        "\n",
        "이렇게 나온 backward 함수의 최종 값은 input의 기울기 입니다. 이 값을 통해 loss를 줄여가는게 학습에 방향이겠죠."
      ],
      "metadata": {
        "id": "pB3OTybr1nmd"
      }
    },
    {
      "cell_type": "markdown",
      "source": [
        "# 딥러닝의 구성요소: 옵티마이저"
      ],
      "metadata": {
        "id": "ygubyLMu5PCj"
      }
    },
    {
      "cell_type": "code",
      "source": [
        "class Optimizer(object):\n",
        "    def __init__(self, lr = 0.01):\n",
        "        self.lr = lr\n",
        "\n",
        "    def step(self):\n",
        "        pass"
      ],
      "metadata": {
        "id": "Kra-IGIe1hVW"
      },
      "execution_count": 63,
      "outputs": []
    },
    {
      "cell_type": "markdown",
      "source": [
        "옵티마이저의 간단한 추상클래스입니다. lr은 학습률을 의미합니다."
      ],
      "metadata": {
        "id": "nWgXv4lh5hKv"
      }
    },
    {
      "cell_type": "code",
      "source": [
        "class SGD(Optimizer):\n",
        "    def __init__(self, lr = 0.01):\n",
        "        super().__init__(lr)\n",
        "\n",
        "    def step(self):\n",
        "        for (param, param_grad) in zip(self.net.params(), self.net.param_grads()):\n",
        "            # 뉴런에 있는 파라미터들을 꺼내오는 함수를 씀.\n",
        "            param -= self.lr * param_grad\n",
        "            # 이게 과연 층이나 연산 클래스 내 param까지 영향을 끼칠까??"
      ],
      "metadata": {
        "id": "2GZxBGdO5glp"
      },
      "execution_count": 64,
      "outputs": []
    },
    {
      "cell_type": "markdown",
      "source": [
        "옵티마이저에서 step 부분을 SGD(확률적 경사 하강법)을 이용해서 구성한 모습입니다.\n",
        "\n",
        "구체적으로 학습률 * (loss값에 영향을 주는 param_grad값)으로 param 값을 업데이트 해나가는 방식입니다."
      ],
      "metadata": {
        "id": "KkiLOPjNBJ1a"
      }
    },
    {
      "cell_type": "markdown",
      "source": [
        "# 딥러닝의 구성요소: Trainer"
      ],
      "metadata": {
        "id": "TUQZKZICBsoV"
      }
    },
    {
      "cell_type": "code",
      "source": [
        "def permute_data(X, y):\n",
        "    perm = np.random.permutation(X.shape[0]) # 크기만큼 데이터를 셔플해줌\n",
        "    return X[perm], y[perm]\n",
        "\n",
        "class Trainer(object):\n",
        "    def __init__(self, net, optim): # net은 NeuralNetwork, optim은 Optimizer\n",
        "        self.net = net\n",
        "        self.optim = optim\n",
        "        setattr(self.optim, 'net', self.net)\n",
        "\n",
        "    def generate_batches(self, X, y, size = 32): # 배치 사이즈로 데이터를 쪼개는 함수.\n",
        "        assert X.shape[0] == y.shape[0]\n",
        "        N = X.shape[0]\n",
        "        for ii in range(0, N, size):\n",
        "            X_batch, y_batch = X[ii:ii+size], y[ii:ii+size] # 배치만큼 잘라서\n",
        "            yield X_batch, y_batch # 지속적으로 내보냄\n",
        "\n",
        "    def fit(self, X_train, y_train, X_test, y_test, epochs = 100,\n",
        "            eval_every = 10, batch_size = 32, seed = 1, restart = True):\n",
        "        # eval_every 주기로 테스트 데이터를 사용해 예측성능 추정\n",
        "\n",
        "        np.random.seed(seed)\n",
        "\n",
        "        if restart:\n",
        "            for layer in self.net.layers: # 뉴런 내 모든 층은\n",
        "                layer.first = True # 층을 초기화하라.\n",
        "        \n",
        "        for e in range(epochs):\n",
        "            X_train, y_train = permute_data(X_train, y_train) # 데이터 셔플\n",
        "\n",
        "            # 데이터가 배치 크기만큼 쪼개짐.\n",
        "            batch_generator = self.generate_batches(X_train, y_train, batch_size)\n",
        "\n",
        "            for ii, (X_batch, y_batch) in enumerate(batch_generator):\n",
        "                # enumerate는 인덱스를 함께 출력해줌.\n",
        "                self.net.train_batch(X_batch, y_batch) # 학습.\n",
        "                self.optim.step() # 학습 후 나온 파라미터를 업데이트 해줌.\n",
        "\n",
        "            if (e+1) % eval_every ==0:\n",
        "                test_preds = self.net.forward(X_test)\n",
        "                loss = self.net.loss.forward(test_preds, y_test)\n",
        "                \n",
        "                print(f'{e+1}에폭에서 검증 데이터에 대한 손실값: {loss:.3f}')"
      ],
      "metadata": {
        "id": "PZIM5JsI6LPH"
      },
      "execution_count": 65,
      "outputs": []
    },
    {
      "cell_type": "markdown",
      "source": [
        "뉴런과 옵티마이저 클래스를 사용하는 트레이너 클래스입니다.\n",
        "\n",
        "fit 함수로 데이터를 입력받아 데이터를 배치 단위로 쪼갠뒤 배치 데이터를 적용시켜 loss와 파라미터 기울기를 구합니다.\n",
        "\n",
        "그 후 옵티마이저 내 step 함수를 사용해 파라미터를 파라미터 기울기를 사용해서 업데이트 해줍니다."
      ],
      "metadata": {
        "id": "4Vl0IMhLD_tu"
      }
    },
    {
      "cell_type": "markdown",
      "source": [
        "# 예제 자료 업로드"
      ],
      "metadata": {
        "id": "hHpd_vK-9bTA"
      }
    },
    {
      "cell_type": "code",
      "source": [
        "from sklearn.datasets import load_boston\n",
        "\n",
        "boston = load_boston()\n",
        "data = boston.data\n",
        "target = boston.target\n",
        "features = boston.feature_names"
      ],
      "metadata": {
        "colab": {
          "base_uri": "https://localhost:8080/"
        },
        "id": "qG9JzdBs9bme",
        "outputId": "bea5577a-bc24-4883-fe0f-cffa496ece2d"
      },
      "execution_count": 66,
      "outputs": [
        {
          "output_type": "stream",
          "name": "stderr",
          "text": [
            "/usr/local/lib/python3.7/dist-packages/sklearn/utils/deprecation.py:87: FutureWarning: Function load_boston is deprecated; `load_boston` is deprecated in 1.0 and will be removed in 1.2.\n",
            "\n",
            "    The Boston housing prices dataset has an ethical problem. You can refer to\n",
            "    the documentation of this function for further details.\n",
            "\n",
            "    The scikit-learn maintainers therefore strongly discourage the use of this\n",
            "    dataset unless the purpose of the code is to study and educate about\n",
            "    ethical issues in data science and machine learning.\n",
            "\n",
            "    In this special case, you can fetch the dataset from the original\n",
            "    source::\n",
            "\n",
            "        import pandas as pd\n",
            "        import numpy as np\n",
            "\n",
            "\n",
            "        data_url = \"http://lib.stat.cmu.edu/datasets/boston\"\n",
            "        raw_df = pd.read_csv(data_url, sep=\"\\s+\", skiprows=22, header=None)\n",
            "        data = np.hstack([raw_df.values[::2, :], raw_df.values[1::2, :2]])\n",
            "        target = raw_df.values[1::2, 2]\n",
            "\n",
            "    Alternative datasets include the California housing dataset (i.e.\n",
            "    :func:`~sklearn.datasets.fetch_california_housing`) and the Ames housing\n",
            "    dataset. You can load the datasets as follows::\n",
            "\n",
            "        from sklearn.datasets import fetch_california_housing\n",
            "        housing = fetch_california_housing()\n",
            "\n",
            "    for the California housing dataset and::\n",
            "\n",
            "        from sklearn.datasets import fetch_openml\n",
            "        housing = fetch_openml(name=\"house_prices\", as_frame=True)\n",
            "\n",
            "    for the Ames housing dataset.\n",
            "    \n",
            "  warnings.warn(msg, category=FutureWarning)\n"
          ]
        }
      ]
    },
    {
      "cell_type": "code",
      "source": [
        "from sklearn.preprocessing import StandardScaler\n",
        "s = StandardScaler()\n",
        "data = s.fit_transform(data)"
      ],
      "metadata": {
        "id": "wHnz4R0V9etn"
      },
      "execution_count": 67,
      "outputs": []
    },
    {
      "cell_type": "code",
      "source": [
        "def to_2d_np(a,type = 'col'):\n",
        "    '''\n",
        "    1차원 텐서를 2차원으로 변환\n",
        "    '''\n",
        "\n",
        "    assert a.ndim == 1, \\\n",
        "    \"입력된 텐서는 1차원이어야 함\"\n",
        "    \n",
        "    if type == \"col\":        \n",
        "        return a.reshape(-1, 1)\n",
        "    elif type == \"row\":\n",
        "        return a.reshape(1, -1)"
      ],
      "metadata": {
        "id": "qIQ0cPW69gn9"
      },
      "execution_count": 68,
      "outputs": []
    },
    {
      "cell_type": "code",
      "source": [
        "from sklearn.model_selection import train_test_split\n",
        "X_train, X_test, y_train, y_test = train_test_split(data, target, test_size=0.3, random_state=80718)\n",
        "\n",
        "# 목푯값을 2차원 배열로 변환\n",
        "y_train, y_test = to_2d_np(y_train), to_2d_np(y_test)"
      ],
      "metadata": {
        "id": "XLmz19_u9iby"
      },
      "execution_count": 69,
      "outputs": []
    },
    {
      "cell_type": "markdown",
      "source": [
        "# 예시"
      ],
      "metadata": {
        "id": "etUmfvks9cY3"
      }
    },
    {
      "cell_type": "code",
      "source": [
        "optimizer = SGD(lr = 0.01)\n",
        "trainer = Trainer(neural_network, optimizer)\n",
        "\n",
        "trainer.fit(X_train, y_train, X_test, y_test, epochs = 50)"
      ],
      "metadata": {
        "colab": {
          "base_uri": "https://localhost:8080/"
        },
        "id": "d7-51XmI87_Y",
        "outputId": "c11f1479-cc76-4e2c-9ac9-34e54c523299"
      },
      "execution_count": 72,
      "outputs": [
        {
          "output_type": "stream",
          "name": "stdout",
          "text": [
            "10에폭에서 검증 데이터에 대한 손실값: 32.121\n",
            "20에폭에서 검증 데이터에 대한 손실값: 26.972\n",
            "30에폭에서 검증 데이터에 대한 손실값: 20.426\n",
            "40에폭에서 검증 데이터에 대한 손실값: 18.131\n",
            "50에폭에서 검증 데이터에 대한 손실값: 16.930\n"
          ]
        }
      ]
    },
    {
      "cell_type": "markdown",
      "source": [
        "# 느낀점"
      ],
      "metadata": {
        "id": "MgErH2LOFu2n"
      }
    },
    {
      "cell_type": "markdown",
      "source": [
        "딥러닝 관련해서 저번에 신경망을 간단하게 구현을 했었습니다.\n",
        "\n",
        "오늘은 은닉층이 더 복잡해지기 때문에 일반화에 용이한 클래스로 딥러닝을 구현했습니다.\n",
        "\n",
        "자바로 객체지향프로그래밍을 조금 안 상태에서 학습을 해도 파이썬 문법하고 다른 측면이 있어서 학습이 다소 힘들긴 했습니다.\n",
        "\n",
        "처음 연산/층 클래스를 구현할 때는 이게 무슨 코드인지 이해가 안되고 재미도 없었는데 뉴런 부분을 구현할 때 전반적으로 책에서 정리를 해줘서 그 때 전반적인 감을 잡았던 것 같아요.\n",
        "\n",
        "코드도 일부 누락되어 있어 깃허브 찾아보면서 매꾸는 등 어려운 과정이 참 많았지만 하길 잘 한것 같습니다.\n",
        "\n",
        "딥러닝이란 무엇인가 정말 피부로 체감을 할 수 있었습니다. 그만큼 하나하나 천천히 이해하는데 시간이 오래걸리긴 했지만요.\n",
        "\n",
        "맨날 나오는 신경망, 뉴런, 옵티마이저, 트레이너 등등 단어의 의미를 이전보다 훨씬 직관적으로 이해를 잘 할 수 있었던 시간인것 같습니다.\n",
        "\n",
        "과정이 다소 복잡하기 때문에 주기적으로 복습을 하며 더 딥러닝과 가까워질 생각입니다."
      ],
      "metadata": {
        "id": "tLdlSrT5FwQS"
      }
    }
  ]
}