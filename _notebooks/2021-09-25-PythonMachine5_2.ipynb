{
  "nbformat": 4,
  "nbformat_minor": 0,
  "metadata": {
    "colab": {
      "name": "PythonMachine5_2.ipynb",
      "provenance": [],
      "collapsed_sections": [],
      "authorship_tag": "ABX9TyPvJBt2a5qhNOv2TQhVlCnL",
      "include_colab_link": true
    },
    "kernelspec": {
      "name": "python3",
      "display_name": "Python 3"
    },
    "language_info": {
      "name": "python"
    }
  },
  "cells": [
    {
      "cell_type": "markdown",
      "metadata": {
        "id": "view-in-github",
        "colab_type": "text"
      },
      "source": [
        "<a href=\"https://colab.research.google.com/github/KSY1526/myblog/blob/master/_notebooks/PythonMachine5_2.ipynb\" target=\"_parent\"><img src=\"https://colab.research.google.com/assets/colab-badge.svg\" alt=\"Open In Colab\"/></a>"
      ]
    },
    {
      "cell_type": "markdown",
      "metadata": {
        "id": "oGcuoEUEtEsq"
      },
      "source": [
        "# \"[머신러닝 가이드] 5-2 선형회귀응용\"", 
        "\n",
        "- author: Seong Yeon Kim \n",
        "- categories: [book, jupyter, Guide, poly, ridge, lasso, Regression]"
      ]
    },
    {
      "cell_type": "markdown",
      "metadata": {
        "id": "LT-cyh0ptLoU"
      },
      "source": [
        "# 다항 회귀"
      ]
    },
    {
      "cell_type": "code",
      "metadata": {
        "id": "mrT9UhnIs7wk",
        "colab": {
          "base_uri": "https://localhost:8080/"
        },
        "outputId": "55fc67c7-ab6b-4b1e-ca19-a2ebe4f68544"
      },
      "source": [
        "from sklearn.preprocessing import PolynomialFeatures\n",
        "import numpy as np\n",
        "\n",
        "x = np.arange(4).reshape(2,2) # 행 부터 숫자 채워짐\n",
        "print('일차 단항식 계수 피처: \\n', x)\n",
        "\n",
        "poly = PolynomialFeatures(degree = 2)\n",
        "poly.fit(x)\n",
        "poly_ftr = poly.transform(x)\n",
        "print('변환된 2차 다항식 계수 피처: \\n', poly_ftr)"
      ],
      "execution_count": 1,
      "outputs": [
        {
          "output_type": "stream",
          "name": "stdout",
          "text": [
            "일차 단항식 계수 피처: \n",
            " [[0 1]\n",
            " [2 3]]\n",
            "변환된 2차 다항식 계수 피처: \n",
            " [[1. 0. 1. 0. 0. 1.]\n",
            " [1. 2. 3. 4. 6. 9.]]\n"
          ]
        }
      ]
    },
    {
      "cell_type": "markdown",
      "metadata": {
        "id": "A8kj4QJ2gYbh"
      },
      "source": [
        "2차 다항계수는 [1, x1, x2, x1^2, x1x2, x2^2] 로 구성되어 있습니다."
      ]
    },
    {
      "cell_type": "code",
      "metadata": {
        "id": "EegKAv7ihXzy"
      },
      "source": [
        "def polynomial_func(x):\n",
        "    y = 1 + 2 * x[:,0] + 3 * x[:,0] **2 + 4 * x[:,1] **3\n",
        "    return y\n",
        "\n",
        "y = polynomial_func(x)"
      ],
      "execution_count": 4,
      "outputs": []
    },
    {
      "cell_type": "code",
      "metadata": {
        "id": "TCZrgzypuG4S",
        "colab": {
          "base_uri": "https://localhost:8080/"
        },
        "outputId": "690105bf-c396-42b2-d935-1f7669465494"
      },
      "source": [
        "from sklearn.linear_model import LinearRegression\n",
        "\n",
        "poly_ftr = PolynomialFeatures(degree = 3).fit_transform(x)\n",
        "print('3차 다항식 계수 feature: \\n', poly_ftr)\n",
        "\n",
        "model = LinearRegression()\n",
        "model.fit(poly_ftr, y)\n",
        "print('회귀 계수\\n', np.round(model.coef_,2))\n",
        "print('회귀 shape', model.coef_.shape)"
      ],
      "execution_count": 7,
      "outputs": [
        {
          "output_type": "stream",
          "name": "stdout",
          "text": [
            "3차 다항식 계수 feature: \n",
            " [[ 1.  0.  1.  0.  0.  1.  0.  0.  0.  1.]\n",
            " [ 1.  2.  3.  4.  6.  9.  8. 12. 18. 27.]]\n",
            "회귀 계수\n",
            " [0.   0.18 0.18 0.36 0.54 0.72 0.72 1.08 1.62 2.34]\n",
            "회귀 shape (10,)\n"
          ]
        }
      ]
    },
    {
      "cell_type": "markdown",
      "metadata": {
        "id": "heYKBHK8iVM3"
      },
      "source": [
        "poly함수로 다항식 계수를 생성한 뒤 단순 선형 회귀 함수에 대입해줍니다.\n",
        "\n",
        "원하는 값인 [1,2,0,3,0,0,0,0,0,4] 와 다소 차이가 있긴 합니다."
      ]
    },
    {
      "cell_type": "markdown",
      "metadata": {
        "id": "EgQCCSWSrFN9"
      },
      "source": [
        "# 릿지 회귀"
      ]
    },
    {
      "cell_type": "code",
      "metadata": {
        "colab": {
          "base_uri": "https://localhost:8080/"
        },
        "id": "9RHLhWEmh7es",
        "outputId": "157f27be-bc39-4c86-8d59-869b1f37f2ef"
      },
      "source": [
        "from sklearn.preprocessing import PolynomialFeatures\n",
        "from sklearn.linear_model import LinearRegression\n",
        "from sklearn.pipeline import Pipeline\n",
        "import numpy as np\n",
        "\n",
        "model = Pipeline([('poly', PolynomialFeatures(degree=3)),\n",
        "                  ('linear', LinearRegression())])\n",
        "\n",
        "model = model.fit(x,y)\n",
        "print('회귀 계수\\n', np.round(model.named_steps['linear'].coef_,2))"
      ],
      "execution_count": 9,
      "outputs": [
        {
          "output_type": "stream",
          "name": "stdout",
          "text": [
            "회귀 계수\n",
            " [0.   0.18 0.18 0.36 0.54 0.72 0.72 1.08 1.62 2.34]\n"
          ]
        }
      ]
    },
    {
      "cell_type": "markdown",
      "metadata": {
        "id": "XFpoj3oijV8q"
      },
      "source": [
        "파이프 라인 함수로 다항식으로에 변환과 선형 회귀를 한번에 한 모습입니다."
      ]
    },
    {
      "cell_type": "code",
      "metadata": {
        "colab": {
          "base_uri": "https://localhost:8080/"
        },
        "id": "cXwlG5-FjNgw",
        "outputId": "88ec64e4-391e-43c9-a505-f91e77c00859"
      },
      "source": [
        "from sklearn.linear_model import Ridge\n",
        "from sklearn.model_selection import cross_val_score\n",
        "from sklearn.datasets import load_boston\n",
        "import pandas as pd\n",
        "\n",
        "boston = load_boston()\n",
        "bostonDF = pd.DataFrame(boston.data, columns = boston.feature_names)\n",
        "bostonDF['PRICE'] = boston.target\n",
        "y_target = bostonDF['PRICE']\n",
        "x_data = bostonDF.drop(['PRICE'], axis = 1, inplace=False)\n",
        "\n",
        "ridge = Ridge(alpha = 10)\n",
        "neg_mse_scores = cross_val_score(ridge, x_data, y_target, scoring = 'neg_mean_squared_error', cv = 5)\n",
        "rmse_scores = np.sqrt(-1 * neg_mse_scores)\n",
        "avg_rmse = np.mean(rmse_scores)\n",
        "\n",
        "print('mse scores', np.round(neg_mse_scores,2))\n",
        "print('rmse scores', np.round(rmse_scores, 2))\n",
        "print('평균 rmse score:', np.round(avg_rmse,2))"
      ],
      "execution_count": 11,
      "outputs": [
        {
          "output_type": "stream",
          "name": "stdout",
          "text": [
            "mse scores [-11.42 -24.29 -28.14 -74.6  -28.52]\n",
            "rmse scores [3.38 4.93 5.31 8.64 5.34]\n",
            "평균 rmse score: 5.52\n"
          ]
        }
      ]
    },
    {
      "cell_type": "markdown",
      "metadata": {
        "id": "kb9St7UPnaDe"
      },
      "source": [
        "단순 선형회귀 모델 rmse 평균값이 5.84로 릿지 회귀가 더 좋은 퍼포먼스를 보입니다."
      ]
    },
    {
      "cell_type": "code",
      "metadata": {
        "colab": {
          "base_uri": "https://localhost:8080/"
        },
        "id": "RDNHy6jjnQf2",
        "outputId": "21c30fee-97ef-4846-9892-a17144b7a9e8"
      },
      "source": [
        "alphas = [0,0.1,1,10,100]\n",
        "\n",
        "for alpha in alphas:\n",
        "    ridge = Ridge(alpha=alpha)\n",
        "    \n",
        "    neg_mse_scores = cross_val_score(ridge, x_data, y_target, scoring = 'neg_mean_squared_error', cv = 5)\n",
        "    avg_rmse = np.mean(np.sqrt(-neg_mse_scores))\n",
        "    print('alpha 값 ', alpha, '일때 평균 rmse :', np.round(avg_rmse,4))"
      ],
      "execution_count": 12,
      "outputs": [
        {
          "output_type": "stream",
          "name": "stdout",
          "text": [
            "alpha 값  0 일때 평균 rmse : 5.8287\n",
            "alpha 값  0.1 일때 평균 rmse : 5.7885\n",
            "alpha 값  1 일때 평균 rmse : 5.6526\n",
            "alpha 값  10 일때 평균 rmse : 5.5182\n",
            "alpha 값  100 일때 평균 rmse : 5.3296\n"
          ]
        }
      ]
    },
    {
      "cell_type": "markdown",
      "metadata": {
        "id": "r8QEIrm_pb0r"
      },
      "source": [
        "alpha 값이 100일때가 가장 값이 좋습니다."
      ]
    },
    {
      "cell_type": "code",
      "metadata": {
        "colab": {
          "base_uri": "https://localhost:8080/",
          "height": 390
        },
        "id": "CZ-IASy3pX5C",
        "outputId": "771d3126-7442-4738-8c0f-7e0b8b27e590"
      },
      "source": [
        "import matplotlib.pyplot as plt\n",
        "import seaborn as sns\n",
        "fig, axs = plt.subplots(figsize= (18,6), nrows = 1, ncols = 5)\n",
        "coeff_df = pd.DataFrame()\n",
        "\n",
        "for pos, alpha in enumerate(alphas):\n",
        "    ridge = Ridge(alpha = alpha)\n",
        "    ridge.fit(x_data, y_target)\n",
        "\n",
        "    coeff = pd.Series(data=ridge.coef_, index = x_data.columns)\n",
        "    colname = 'alpha:'+str(alpha)\n",
        "    coeff_df[colname] = coeff\n",
        "\n",
        "    coeff = coeff.sort_values(ascending = False)\n",
        "    axs[pos].set_title(colname)\n",
        "    axs[pos].set_xlim(-3, 6)\n",
        "    sns.barplot(x=coeff.values, y = coeff.index, ax = axs[pos])\n",
        "\n",
        "plt.show()"
      ],
      "execution_count": 15,
      "outputs": [
        {
          "output_type": "display_data",
          "data": {
            "image/png": "[encoded data removed]",
            "text/plain": [
              "<Figure size 1296x432 with 5 Axes>"
            ]
          },
          "metadata": {
            "needs_background": "light"
          }
        }
      ]
    },
    {
      "cell_type": "markdown",
      "metadata": {
        "id": "Ezn2lYLYqvxV"
      },
      "source": [
        "알파 값이 커지면(=규제가 세지면) 회귀계수 값이 전반적으로 작아집니다.\n",
        "\n",
        "다만 릿지 회귀에 경우 회귀 계수를 0으로 만들지는 않습니다."
      ]
    },
    {
      "cell_type": "markdown",
      "metadata": {
        "id": "Ob5Ts8BPrMUe"
      },
      "source": [
        "# 라쏘 회귀"
      ]
    },
    {
      "cell_type": "code",
      "metadata": {
        "id": "xZcqz5DArO3Q"
      },
      "source": [
        "from sklearn.linear_model import Lasso, ElasticNet\n",
        "\n",
        "def get_linear_reg_eval(model_name, params = None, x_data_n = None, y_target_n = None, \n",
        "                        verbose= True, return_coeff = True):\n",
        "    coeff_df = pd.DataFrame()\n",
        "\n",
        "    if verbose : print(model_name)\n",
        "    for param in params:\n",
        "        if model_name =='Ridge' : model = Ridge(alpha = param)\n",
        "        elif model_name =='Lasso' : model = Lasso(alpha = param)\n",
        "        elif model_name =='ElasticNet' : model = ElasticNet(alpha = param, l1_ratio=0.7)\n",
        "        neg_mse_scores = cross_val_score(model, x_data_n, y_target_n, \n",
        "                                         scoring = 'neg_mean_squared_error', cv = 5)\n",
        "        avg_rmse = np.mean(np.sqrt(-1*neg_mse_scores))\n",
        "\n",
        "        print('alpha ', param, '일때 평균 rmse:', np.round(avg_rmse,2))\n",
        "\n",
        "        model.fit(x_data_n, y_target_n)\n",
        "        if return_coeff:\n",
        "            coeff = pd.Series(data=model.coef_, index = x_data_n.columns)\n",
        "            colname = 'alpha:'+str(param)\n",
        "            coeff_df[colname] = coeff\n",
        "\n",
        "    return coeff_df"
      ],
      "execution_count": 16,
      "outputs": []
    },
    {
      "cell_type": "code",
      "metadata": {
        "colab": {
          "base_uri": "https://localhost:8080/"
        },
        "id": "mLakFkpGtouP",
        "outputId": "f71cfa47-82ee-4885-e72d-0fd4fb04d53d"
      },
      "source": [
        "lasso_alphas = [0.07,0.1,0.5,1,3]\n",
        "coeff_lasso_df = get_linear_reg_eval('Lasso',params=lasso_alphas, x_data_n = x_data, y_target_n= y_target)"
      ],
      "execution_count": 20,
      "outputs": [
        {
          "output_type": "stream",
          "name": "stdout",
          "text": [
            "Lasso\n",
            "alpha  0.07 일때 평균 rmse: 5.61\n",
            "alpha  0.1 일때 평균 rmse: 5.62\n",
            "alpha  0.5 일때 평균 rmse: 5.67\n",
            "alpha  1 일때 평균 rmse: 5.78\n",
            "alpha  3 일때 평균 rmse: 6.19\n"
          ]
        }
      ]
    },
    {
      "cell_type": "markdown",
      "metadata": {
        "id": "rgU6vLF2t89k"
      },
      "source": [
        "알파 값이 0.07일때 최고 성능을 보여줍니다. \n",
        "\n",
        "앞서 한 릿지보다는 성능이 떨어지지만, 단순 선형 회귀 모델보다 값이 크므로 쓰임새가 있습니다."
      ]
    },
    {
      "cell_type": "code",
      "metadata": {
        "colab": {
          "base_uri": "https://localhost:8080/",
          "height": 450
        },
        "id": "MxNbzbQNu3f0",
        "outputId": "30e7ab3f-058c-40b2-9c50-73bda0fd7fb8"
      },
      "source": [
        "sort_column = 'alpha:'+str(lasso_alphas[0])\n",
        "coeff_lasso_df.sort_values(by = sort_column, ascending=False)"
      ],
      "execution_count": 21,
      "outputs": [
        {
          "output_type": "execute_result",
          "data": {
            "text/html": [
              "<div>\n",
              "<style scoped>\n",
              "    .dataframe tbody tr th:only-of-type {\n",
              "        vertical-align: middle;\n",
              "    }\n",
              "\n",
              "    .dataframe tbody tr th {\n",
              "        vertical-align: top;\n",
              "    }\n",
              "\n",
              "    .dataframe thead th {\n",
              "        text-align: right;\n",
              "    }\n",
              "</style>\n",
              "<table border=\"1\" class=\"dataframe\">\n",
              "  <thead>\n",
              "    <tr style=\"text-align: right;\">\n",
              "      <th></th>\n",
              "      <th>alpha:0.07</th>\n",
              "      <th>alpha:0.1</th>\n",
              "      <th>alpha:0.5</th>\n",
              "      <th>alpha:1</th>\n",
              "      <th>alpha:3</th>\n",
              "    </tr>\n",
              "  </thead>\n",
              "  <tbody>\n",
              "    <tr>\n",
              "      <th>RM</th>\n",
              "      <td>3.789725</td>\n",
              "      <td>3.703202</td>\n",
              "      <td>2.498212</td>\n",
              "      <td>0.949811</td>\n",
              "      <td>0.000000</td>\n",
              "    </tr>\n",
              "    <tr>\n",
              "      <th>CHAS</th>\n",
              "      <td>1.434343</td>\n",
              "      <td>0.955190</td>\n",
              "      <td>0.000000</td>\n",
              "      <td>0.000000</td>\n",
              "      <td>0.000000</td>\n",
              "    </tr>\n",
              "    <tr>\n",
              "      <th>RAD</th>\n",
              "      <td>0.270936</td>\n",
              "      <td>0.274707</td>\n",
              "      <td>0.277451</td>\n",
              "      <td>0.264206</td>\n",
              "      <td>0.061864</td>\n",
              "    </tr>\n",
              "    <tr>\n",
              "      <th>ZN</th>\n",
              "      <td>0.049059</td>\n",
              "      <td>0.049211</td>\n",
              "      <td>0.049544</td>\n",
              "      <td>0.049165</td>\n",
              "      <td>0.037231</td>\n",
              "    </tr>\n",
              "    <tr>\n",
              "      <th>B</th>\n",
              "      <td>0.010248</td>\n",
              "      <td>0.010249</td>\n",
              "      <td>0.009469</td>\n",
              "      <td>0.008247</td>\n",
              "      <td>0.006510</td>\n",
              "    </tr>\n",
              "    <tr>\n",
              "      <th>NOX</th>\n",
              "      <td>-0.000000</td>\n",
              "      <td>-0.000000</td>\n",
              "      <td>-0.000000</td>\n",
              "      <td>-0.000000</td>\n",
              "      <td>0.000000</td>\n",
              "    </tr>\n",
              "    <tr>\n",
              "      <th>AGE</th>\n",
              "      <td>-0.011706</td>\n",
              "      <td>-0.010037</td>\n",
              "      <td>0.003604</td>\n",
              "      <td>0.020910</td>\n",
              "      <td>0.042495</td>\n",
              "    </tr>\n",
              "    <tr>\n",
              "      <th>TAX</th>\n",
              "      <td>-0.014290</td>\n",
              "      <td>-0.014570</td>\n",
              "      <td>-0.015442</td>\n",
              "      <td>-0.015212</td>\n",
              "      <td>-0.008602</td>\n",
              "    </tr>\n",
              "    <tr>\n",
              "      <th>INDUS</th>\n",
              "      <td>-0.042120</td>\n",
              "      <td>-0.036619</td>\n",
              "      <td>-0.005253</td>\n",
              "      <td>-0.000000</td>\n",
              "      <td>-0.000000</td>\n",
              "    </tr>\n",
              "    <tr>\n",
              "      <th>CRIM</th>\n",
              "      <td>-0.098193</td>\n",
              "      <td>-0.097894</td>\n",
              "      <td>-0.083289</td>\n",
              "      <td>-0.063437</td>\n",
              "      <td>-0.000000</td>\n",
              "    </tr>\n",
              "    <tr>\n",
              "      <th>LSTAT</th>\n",
              "      <td>-0.560431</td>\n",
              "      <td>-0.568769</td>\n",
              "      <td>-0.656290</td>\n",
              "      <td>-0.761115</td>\n",
              "      <td>-0.807679</td>\n",
              "    </tr>\n",
              "    <tr>\n",
              "      <th>PTRATIO</th>\n",
              "      <td>-0.765107</td>\n",
              "      <td>-0.770654</td>\n",
              "      <td>-0.758752</td>\n",
              "      <td>-0.722966</td>\n",
              "      <td>-0.265072</td>\n",
              "    </tr>\n",
              "    <tr>\n",
              "      <th>DIS</th>\n",
              "      <td>-1.176583</td>\n",
              "      <td>-1.160538</td>\n",
              "      <td>-0.936605</td>\n",
              "      <td>-0.668790</td>\n",
              "      <td>-0.000000</td>\n",
              "    </tr>\n",
              "  </tbody>\n",
              "</table>\n",
              "</div>"
            ],
            "text/plain": [
              "         alpha:0.07  alpha:0.1  alpha:0.5   alpha:1   alpha:3\n",
              "RM         3.789725   3.703202   2.498212  0.949811  0.000000\n",
              "CHAS       1.434343   0.955190   0.000000  0.000000  0.000000\n",
              "RAD        0.270936   0.274707   0.277451  0.264206  0.061864\n",
              "ZN         0.049059   0.049211   0.049544  0.049165  0.037231\n",
              "B          0.010248   0.010249   0.009469  0.008247  0.006510\n",
              "NOX       -0.000000  -0.000000  -0.000000 -0.000000  0.000000\n",
              "AGE       -0.011706  -0.010037   0.003604  0.020910  0.042495\n",
              "TAX       -0.014290  -0.014570  -0.015442 -0.015212 -0.008602\n",
              "INDUS     -0.042120  -0.036619  -0.005253 -0.000000 -0.000000\n",
              "CRIM      -0.098193  -0.097894  -0.083289 -0.063437 -0.000000\n",
              "LSTAT     -0.560431  -0.568769  -0.656290 -0.761115 -0.807679\n",
              "PTRATIO   -0.765107  -0.770654  -0.758752 -0.722966 -0.265072\n",
              "DIS       -1.176583  -1.160538  -0.936605 -0.668790 -0.000000"
            ]
          },
          "metadata": {},
          "execution_count": 21
        }
      ]
    },
    {
      "cell_type": "markdown",
      "metadata": {
        "id": "Elh1mt8Au8pS"
      },
      "source": [
        "계수가 0인것이 보입니다. 알파값이 커질수록 회귀 계수가 0인 것이 늘어납니다."
      ]
    },
    {
      "cell_type": "markdown",
      "metadata": {
        "id": "sa9wMk42vplX"
      },
      "source": [
        "# 엘라스틱 회귀"
      ]
    },
    {
      "cell_type": "markdown",
      "metadata": {
        "id": "VdeN1s8rvm9K"
      },
      "source": [
        "다음은 엘라스틱 회귀 입니다. 쉽게 라쏘회귀 + 릿지 회귀로 볼 수 있습니다.\n",
        "\n",
        "라쏘 회귀에 경우 서로 상관관계가 높은 피처가 있으면 중요 피처를 제외하고 모두 회귀계수를 0으로 만듭니다.\n",
        "\n",
        "이를 다소 완화해주기 위한 목적으로 만들어졌습니다. 다만 수행시간이 다소 깁니다.\n",
        "\n",
        "여기서 알파는 알파1 + 알파 2 이며, l1_ratio는 말 그대로 l1규제(라쏘) 비율입니다."
      ]
    },
    {
      "cell_type": "code",
      "metadata": {
        "colab": {
          "base_uri": "https://localhost:8080/"
        },
        "id": "3nx1cdFAt4gX",
        "outputId": "ccd1073c-69f5-4036-9352-8e73990a5a62"
      },
      "source": [
        "elastic_alphas = [0.07,0.1,0.5,1,3]\n",
        "coeff_lasso_df = get_linear_reg_eval('ElasticNet', params=elastic_alphas, x_data_n= x_data, y_target_n= y_target)"
      ],
      "execution_count": 22,
      "outputs": [
        {
          "output_type": "stream",
          "name": "stdout",
          "text": [
            "ElasticNet\n",
            "alpha  0.07 일때 평균 rmse: 5.54\n",
            "alpha  0.1 일때 평균 rmse: 5.53\n",
            "alpha  0.5 일때 평균 rmse: 5.47\n",
            "alpha  1 일때 평균 rmse: 5.6\n",
            "alpha  3 일때 평균 rmse: 6.07\n"
          ]
        }
      ]
    },
    {
      "cell_type": "markdown",
      "metadata": {
        "id": "-WYpbnK8uhU6"
      },
      "source": [
        "알파값이 0.5일때 가장 좋은 예측 성능을 보여줍니다."
      ]
    },
    {
      "cell_type": "code",
      "metadata": {
        "colab": {
          "base_uri": "https://localhost:8080/",
          "height": 450
        },
        "id": "Q_hKKtcxuePo",
        "outputId": "23d06b51-1aa8-4f59-fe0e-fd1cc8c8a7df"
      },
      "source": [
        "sort_column = 'alpha:'+str(elastic_alphas[0])\n",
        "coeff_lasso_df.sort_values(by= sort_column, ascending=False)"
      ],
      "execution_count": 24,
      "outputs": [
        {
          "output_type": "execute_result",
          "data": {
            "text/html": [
              "<div>\n",
              "<style scoped>\n",
              "    .dataframe tbody tr th:only-of-type {\n",
              "        vertical-align: middle;\n",
              "    }\n",
              "\n",
              "    .dataframe tbody tr th {\n",
              "        vertical-align: top;\n",
              "    }\n",
              "\n",
              "    .dataframe thead th {\n",
              "        text-align: right;\n",
              "    }\n",
              "</style>\n",
              "<table border=\"1\" class=\"dataframe\">\n",
              "  <thead>\n",
              "    <tr style=\"text-align: right;\">\n",
              "      <th></th>\n",
              "      <th>alpha:0.07</th>\n",
              "      <th>alpha:0.1</th>\n",
              "      <th>alpha:0.5</th>\n",
              "      <th>alpha:1</th>\n",
              "      <th>alpha:3</th>\n",
              "    </tr>\n",
              "  </thead>\n",
              "  <tbody>\n",
              "    <tr>\n",
              "      <th>RM</th>\n",
              "      <td>3.574162</td>\n",
              "      <td>3.414154</td>\n",
              "      <td>1.918419</td>\n",
              "      <td>0.938789</td>\n",
              "      <td>0.000000</td>\n",
              "    </tr>\n",
              "    <tr>\n",
              "      <th>CHAS</th>\n",
              "      <td>1.330724</td>\n",
              "      <td>0.979706</td>\n",
              "      <td>0.000000</td>\n",
              "      <td>0.000000</td>\n",
              "      <td>0.000000</td>\n",
              "    </tr>\n",
              "    <tr>\n",
              "      <th>RAD</th>\n",
              "      <td>0.278880</td>\n",
              "      <td>0.283443</td>\n",
              "      <td>0.300761</td>\n",
              "      <td>0.289299</td>\n",
              "      <td>0.146846</td>\n",
              "    </tr>\n",
              "    <tr>\n",
              "      <th>ZN</th>\n",
              "      <td>0.050107</td>\n",
              "      <td>0.050617</td>\n",
              "      <td>0.052878</td>\n",
              "      <td>0.052136</td>\n",
              "      <td>0.038268</td>\n",
              "    </tr>\n",
              "    <tr>\n",
              "      <th>B</th>\n",
              "      <td>0.010122</td>\n",
              "      <td>0.010067</td>\n",
              "      <td>0.009114</td>\n",
              "      <td>0.008320</td>\n",
              "      <td>0.007020</td>\n",
              "    </tr>\n",
              "    <tr>\n",
              "      <th>AGE</th>\n",
              "      <td>-0.010116</td>\n",
              "      <td>-0.008276</td>\n",
              "      <td>0.007760</td>\n",
              "      <td>0.020348</td>\n",
              "      <td>0.043446</td>\n",
              "    </tr>\n",
              "    <tr>\n",
              "      <th>TAX</th>\n",
              "      <td>-0.014522</td>\n",
              "      <td>-0.014814</td>\n",
              "      <td>-0.016046</td>\n",
              "      <td>-0.016218</td>\n",
              "      <td>-0.011417</td>\n",
              "    </tr>\n",
              "    <tr>\n",
              "      <th>INDUS</th>\n",
              "      <td>-0.044855</td>\n",
              "      <td>-0.042719</td>\n",
              "      <td>-0.023252</td>\n",
              "      <td>-0.000000</td>\n",
              "      <td>-0.000000</td>\n",
              "    </tr>\n",
              "    <tr>\n",
              "      <th>CRIM</th>\n",
              "      <td>-0.099468</td>\n",
              "      <td>-0.099213</td>\n",
              "      <td>-0.089070</td>\n",
              "      <td>-0.073577</td>\n",
              "      <td>-0.019058</td>\n",
              "    </tr>\n",
              "    <tr>\n",
              "      <th>NOX</th>\n",
              "      <td>-0.175072</td>\n",
              "      <td>-0.000000</td>\n",
              "      <td>-0.000000</td>\n",
              "      <td>-0.000000</td>\n",
              "      <td>-0.000000</td>\n",
              "    </tr>\n",
              "    <tr>\n",
              "      <th>LSTAT</th>\n",
              "      <td>-0.574822</td>\n",
              "      <td>-0.587702</td>\n",
              "      <td>-0.693861</td>\n",
              "      <td>-0.760457</td>\n",
              "      <td>-0.800368</td>\n",
              "    </tr>\n",
              "    <tr>\n",
              "      <th>PTRATIO</th>\n",
              "      <td>-0.779498</td>\n",
              "      <td>-0.784725</td>\n",
              "      <td>-0.790969</td>\n",
              "      <td>-0.738672</td>\n",
              "      <td>-0.423065</td>\n",
              "    </tr>\n",
              "    <tr>\n",
              "      <th>DIS</th>\n",
              "      <td>-1.189438</td>\n",
              "      <td>-1.173647</td>\n",
              "      <td>-0.975902</td>\n",
              "      <td>-0.725174</td>\n",
              "      <td>-0.031208</td>\n",
              "    </tr>\n",
              "  </tbody>\n",
              "</table>\n",
              "</div>"
            ],
            "text/plain": [
              "         alpha:0.07  alpha:0.1  alpha:0.5   alpha:1   alpha:3\n",
              "RM         3.574162   3.414154   1.918419  0.938789  0.000000\n",
              "CHAS       1.330724   0.979706   0.000000  0.000000  0.000000\n",
              "RAD        0.278880   0.283443   0.300761  0.289299  0.146846\n",
              "ZN         0.050107   0.050617   0.052878  0.052136  0.038268\n",
              "B          0.010122   0.010067   0.009114  0.008320  0.007020\n",
              "AGE       -0.010116  -0.008276   0.007760  0.020348  0.043446\n",
              "TAX       -0.014522  -0.014814  -0.016046 -0.016218 -0.011417\n",
              "INDUS     -0.044855  -0.042719  -0.023252 -0.000000 -0.000000\n",
              "CRIM      -0.099468  -0.099213  -0.089070 -0.073577 -0.019058\n",
              "NOX       -0.175072  -0.000000  -0.000000 -0.000000 -0.000000\n",
              "LSTAT     -0.574822  -0.587702  -0.693861 -0.760457 -0.800368\n",
              "PTRATIO   -0.779498  -0.784725  -0.790969 -0.738672 -0.423065\n",
              "DIS       -1.189438  -1.173647  -0.975902 -0.725174 -0.031208"
            ]
          },
          "metadata": {},
          "execution_count": 24
        }
      ]
    },
    {
      "cell_type": "markdown",
      "metadata": {
        "id": "5iEY6XhDvI-2"
      },
      "source": [
        "라쏘모델에 비해 회귀계수를 0으로 만드는 개수가 다소 줄었습니다."
      ]
    },
    {
      "cell_type": "markdown",
      "metadata": {
        "id": "WZLknVeZvZFz"
      },
      "source": [
        "# 선형 회귀 모델을 위한 데이터 변환"
      ]
    },
    {
      "cell_type": "markdown",
      "metadata": {
        "id": "hFdvHkK3whqp"
      },
      "source": [
        "선형 회귀에서 중요한 것 중 하나가 데이터 분포도의 정규화 입니다.\n",
        "\n",
        "특히 타깃값의 분포가 정규분포가 아닌 왜곡(skew)된 분포는 예측 성능에 부정적입니다.\n",
        "\n",
        "따라서 선형 회귀 모델을 적용하기 전 먼저 데이터 스케일링/정규화 작업을 수행해주어야 합니다."
      ]
    },
    {
      "cell_type": "code",
      "metadata": {
        "id": "SJbKmIJZvHOl"
      },
      "source": [
        "from sklearn.preprocessing import StandardScaler, MinMaxScaler\n",
        "\n",
        "def get_scaled_data(method='None', p_degree = None, input_data = None):\n",
        "    if method == 'Standard':\n",
        "        scaled_data = StandardScaler().fit_transform(input_data)\n",
        "    elif method == 'MinMax':\n",
        "        scaled_data = MinMaxScaler().fit_transform(input_data)\n",
        "    if method == 'Log':\n",
        "        scaled_data = np.log1p(input_data)\n",
        "    else:\n",
        "        scaled_data = input_data\n",
        "\n",
        "    if p_degree != None:\n",
        "        scaled_data = PolynomialFeatures(degree=p_degree, \n",
        "                                         include_bias=False).fit_transform(scaled_data)\n",
        "    \n",
        "    return scaled_data"
      ],
      "execution_count": 32,
      "outputs": []
    },
    {
      "cell_type": "code",
      "metadata": {
        "colab": {
          "base_uri": "https://localhost:8080/"
        },
        "id": "9dqa32W_y1Ni",
        "outputId": "b072a354-137b-438d-caa7-22a73b7accb1"
      },
      "source": [
        "alphas = [0.1, 1, 10, 100]\n",
        "\n",
        "scale_methods=[(None, None), ('Standard', None), ('Standard',2),\n",
        "               ('MinMax',None), ('MinMax', 2), ('Log', None)]\n",
        "\n",
        "for scale_method in scale_methods:\n",
        "    x_data_scaled = get_scaled_data(method=scale_method[0], p_degree=scale_method[1], \n",
        "                                    input_data=x_data)\n",
        "    print('\\n 변환유형:', scale_method[0], ', Polynomial Degree:', scale_method[1])\n",
        "    get_linear_reg_eval('Ridge', params = alphas, x_data_n=x_data_scaled, y_target_n= y_target, \n",
        "                        verbose=False, return_coeff = False) "
      ],
      "execution_count": 34,
      "outputs": [
        {
          "output_type": "stream",
          "name": "stdout",
          "text": [
            "\n",
            " 변환유형: None , Polynomial Degree: None\n",
            "alpha  0.1 일때 평균 rmse: 5.79\n",
            "alpha  1 일때 평균 rmse: 5.65\n",
            "alpha  10 일때 평균 rmse: 5.52\n",
            "alpha  100 일때 평균 rmse: 5.33\n",
            "\n",
            " 변환유형: Standard , Polynomial Degree: None\n",
            "alpha  0.1 일때 평균 rmse: 5.79\n",
            "alpha  1 일때 평균 rmse: 5.65\n",
            "alpha  10 일때 평균 rmse: 5.52\n",
            "alpha  100 일때 평균 rmse: 5.33\n",
            "\n",
            " 변환유형: Standard , Polynomial Degree: 2\n",
            "alpha  0.1 일때 평균 rmse: 9.14\n",
            "alpha  1 일때 평균 rmse: 8.94\n",
            "alpha  10 일때 평균 rmse: 10.56\n",
            "alpha  100 일때 평균 rmse: 10.57\n",
            "\n",
            " 변환유형: MinMax , Polynomial Degree: None\n",
            "alpha  0.1 일때 평균 rmse: 5.79\n",
            "alpha  1 일때 평균 rmse: 5.65\n",
            "alpha  10 일때 평균 rmse: 5.52\n",
            "alpha  100 일때 평균 rmse: 5.33\n",
            "\n",
            " 변환유형: MinMax , Polynomial Degree: 2\n",
            "alpha  0.1 일때 평균 rmse: 9.14\n",
            "alpha  1 일때 평균 rmse: 8.94\n",
            "alpha  10 일때 평균 rmse: 10.56\n",
            "alpha  100 일때 평균 rmse: 10.57\n",
            "\n",
            " 변환유형: Log , Polynomial Degree: None\n",
            "alpha  0.1 일때 평균 rmse: 4.77\n",
            "alpha  1 일때 평균 rmse: 4.68\n",
            "alpha  10 일때 평균 rmse: 4.84\n",
            "alpha  100 일때 평균 rmse: 6.24\n"
          ]
        }
      ]
    },
    {
      "cell_type": "markdown",
      "metadata": {
        "id": "jGWGOsvw0ZEn"
      },
      "source": [
        "log 변환이 다른 변환에 비해 성능이 뛰어난 걸 볼 수 있습니다."
      ]
    }
  ]
}
