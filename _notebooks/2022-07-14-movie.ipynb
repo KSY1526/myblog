{
  "cells": [
    {
      "cell_type": "markdown",
      "source": [
        "# \"[SSUDA] 영화 데이터를 활용한 추천시스템 실습\n",
        "- author: Seong Yeon Kim \n",
        "- categories: [SSUDA, jupyter, Deep Learning, matrix, SVD, Recommended system, kaggle]"
      ],
      "metadata": {
        "id": "Um7oyzL1k3Er"
      }
    },
    {
      "cell_type": "markdown",
      "source": [
        "# 추천시스템"
      ],
      "metadata": {
        "id": "AhfPtDWElfnD"
      }
    },
    {
      "cell_type": "markdown",
      "source": [
        "단순하게 떠올릴 수 있는 영화추천시스템은 3가지가 있습니다.\n",
        "\n",
        "1) 보편적으로 많은 사람이 좋아하는 영화를 추천합니다. 가장 단순하고 강력한 방법입니다만 개인별 추천시스템과는 거리가 있습니다.\n",
        "\n",
        "2) 특정 항목 내 비슷한 내용이 있는 영화를 추천합니다. 영화의 장르, 감독, 설명, 배우 등을 고려합니다. 어떤 사람이 특정 영화를 좋아한다면 비슷한 성격의 영화도 좋아할 것이다라는 논리 입니다.\n",
        "\n",
        "3) 관심사가 비슷한 사용자를 매칭시키고 매칭된 사용자를 참고해 영화를 추천합니다."
      ],
      "metadata": {
        "id": "1Tn-_GN0lVOy"
      }
    },
    {
      "cell_type": "markdown",
      "source": [
        "# 데이터 불러오기"
      ],
      "metadata": {
        "id": "Ff67ixEsk4Ed"
      }
    },
    {
      "cell_type": "code",
      "execution_count": 1,
      "metadata": {
        "colab": {
          "base_uri": "https://localhost:8080/"
        },
        "id": "URcgkcdBhyfi",
        "outputId": "b657c17c-8eff-4628-d721-f7de89345d53"
      },
      "outputs": [
        {
          "output_type": "stream",
          "name": "stdout",
          "text": [
            "Mounted at /content/drive\n"
          ]
        }
      ],
      "source": [
        "from google.colab import drive\n",
        "drive.mount('/content/drive')"
      ]
    },
    {
      "cell_type": "code",
      "execution_count": 2,
      "metadata": {
        "colab": {
          "base_uri": "https://localhost:8080/",
          "height": 803
        },
        "id": "JnM9ww6UtdCi",
        "outputId": "41e9504a-abd2-4f29-8fc3-abb9c040e27a"
      },
      "outputs": [
        {
          "output_type": "execute_result",
          "data": {
            "text/plain": [
              "      budget                                             genres  \\\n",
              "0  237000000  [{\"id\": 28, \"name\": \"Action\"}, {\"id\": 12, \"nam...   \n",
              "1  300000000  [{\"id\": 12, \"name\": \"Adventure\"}, {\"id\": 14, \"...   \n",
              "2  245000000  [{\"id\": 28, \"name\": \"Action\"}, {\"id\": 12, \"nam...   \n",
              "3  250000000  [{\"id\": 28, \"name\": \"Action\"}, {\"id\": 80, \"nam...   \n",
              "4  260000000  [{\"id\": 28, \"name\": \"Action\"}, {\"id\": 12, \"nam...   \n",
              "\n",
              "                                       homepage      id  \\\n",
              "0                   http://www.avatarmovie.com/   19995   \n",
              "1  http://disney.go.com/disneypictures/pirates/     285   \n",
              "2   http://www.sonypictures.com/movies/spectre/  206647   \n",
              "3            http://www.thedarkknightrises.com/   49026   \n",
              "4          http://movies.disney.com/john-carter   49529   \n",
              "\n",
              "                                            keywords original_language  \\\n",
              "0  [{\"id\": 1463, \"name\": \"culture clash\"}, {\"id\":...                en   \n",
              "1  [{\"id\": 270, \"name\": \"ocean\"}, {\"id\": 726, \"na...                en   \n",
              "2  [{\"id\": 470, \"name\": \"spy\"}, {\"id\": 818, \"name...                en   \n",
              "3  [{\"id\": 849, \"name\": \"dc comics\"}, {\"id\": 853,...                en   \n",
              "4  [{\"id\": 818, \"name\": \"based on novel\"}, {\"id\":...                en   \n",
              "\n",
              "                             original_title  \\\n",
              "0                                    Avatar   \n",
              "1  Pirates of the Caribbean: At World's End   \n",
              "2                                   Spectre   \n",
              "3                     The Dark Knight Rises   \n",
              "4                               John Carter   \n",
              "\n",
              "                                            overview  popularity  \\\n",
              "0  In the 22nd century, a paraplegic Marine is di...  150.437577   \n",
              "1  Captain Barbossa, long believed to be dead, ha...  139.082615   \n",
              "2  A cryptic message from Bond’s past sends him o...  107.376788   \n",
              "3  Following the death of District Attorney Harve...  112.312950   \n",
              "4  John Carter is a war-weary, former military ca...   43.926995   \n",
              "\n",
              "                                production_companies  ... runtime  \\\n",
              "0  [{\"name\": \"Ingenious Film Partners\", \"id\": 289...  ...   162.0   \n",
              "1  [{\"name\": \"Walt Disney Pictures\", \"id\": 2}, {\"...  ...   169.0   \n",
              "2  [{\"name\": \"Columbia Pictures\", \"id\": 5}, {\"nam...  ...   148.0   \n",
              "3  [{\"name\": \"Legendary Pictures\", \"id\": 923}, {\"...  ...   165.0   \n",
              "4        [{\"name\": \"Walt Disney Pictures\", \"id\": 2}]  ...   132.0   \n",
              "\n",
              "                                    spoken_languages    status  \\\n",
              "0  [{\"iso_639_1\": \"en\", \"name\": \"English\"}, {\"iso...  Released   \n",
              "1           [{\"iso_639_1\": \"en\", \"name\": \"English\"}]  Released   \n",
              "2  [{\"iso_639_1\": \"fr\", \"name\": \"Fran\\u00e7ais\"},...  Released   \n",
              "3           [{\"iso_639_1\": \"en\", \"name\": \"English\"}]  Released   \n",
              "4           [{\"iso_639_1\": \"en\", \"name\": \"English\"}]  Released   \n",
              "\n",
              "                                          tagline  \\\n",
              "0                     Enter the World of Pandora.   \n",
              "1  At the end of the world, the adventure begins.   \n",
              "2                           A Plan No One Escapes   \n",
              "3                                 The Legend Ends   \n",
              "4            Lost in our world, found in another.   \n",
              "\n",
              "                                      title vote_average vote_count  \\\n",
              "0                                    Avatar          7.2      11800   \n",
              "1  Pirates of the Caribbean: At World's End          6.9       4500   \n",
              "2                                   Spectre          6.3       4466   \n",
              "3                     The Dark Knight Rises          7.6       9106   \n",
              "4                               John Carter          6.1       2124   \n",
              "\n",
              "                                     tittle  \\\n",
              "0                                    Avatar   \n",
              "1  Pirates of the Caribbean: At World's End   \n",
              "2                                   Spectre   \n",
              "3                     The Dark Knight Rises   \n",
              "4                               John Carter   \n",
              "\n",
              "                                                cast  \\\n",
              "0  [{\"cast_id\": 242, \"character\": \"Jake Sully\", \"...   \n",
              "1  [{\"cast_id\": 4, \"character\": \"Captain Jack Spa...   \n",
              "2  [{\"cast_id\": 1, \"character\": \"James Bond\", \"cr...   \n",
              "3  [{\"cast_id\": 2, \"character\": \"Bruce Wayne / Ba...   \n",
              "4  [{\"cast_id\": 5, \"character\": \"John Carter\", \"c...   \n",
              "\n",
              "                                                crew  \n",
              "0  [{\"credit_id\": \"52fe48009251416c750aca23\", \"de...  \n",
              "1  [{\"credit_id\": \"52fe4232c3a36847f800b579\", \"de...  \n",
              "2  [{\"credit_id\": \"54805967c3a36829b5002c41\", \"de...  \n",
              "3  [{\"credit_id\": \"52fe4781c3a36847f81398c3\", \"de...  \n",
              "4  [{\"credit_id\": \"52fe479ac3a36847f813eaa3\", \"de...  \n",
              "\n",
              "[5 rows x 23 columns]"
            ],
            "text/html": [
              "\n",
              "  <div id=\"df-158fae29-c97d-4c02-9012-1ae5a5d8476b\">\n",
              "    <div class=\"colab-df-container\">\n",
              "      <div>\n",
              "<style scoped>\n",
              "    .dataframe tbody tr th:only-of-type {\n",
              "        vertical-align: middle;\n",
              "    }\n",
              "\n",
              "    .dataframe tbody tr th {\n",
              "        vertical-align: top;\n",
              "    }\n",
              "\n",
              "    .dataframe thead th {\n",
              "        text-align: right;\n",
              "    }\n",
              "</style>\n",
              "<table border=\"1\" class=\"dataframe\">\n",
              "  <thead>\n",
              "    <tr style=\"text-align: right;\">\n",
              "      <th></th>\n",
              "      <th>budget</th>\n",
              "      <th>genres</th>\n",
              "      <th>homepage</th>\n",
              "      <th>id</th>\n",
              "      <th>keywords</th>\n",
              "      <th>original_language</th>\n",
              "      <th>original_title</th>\n",
              "      <th>overview</th>\n",
              "      <th>popularity</th>\n",
              "      <th>production_companies</th>\n",
              "      <th>...</th>\n",
              "      <th>runtime</th>\n",
              "      <th>spoken_languages</th>\n",
              "      <th>status</th>\n",
              "      <th>tagline</th>\n",
              "      <th>title</th>\n",
              "      <th>vote_average</th>\n",
              "      <th>vote_count</th>\n",
              "      <th>tittle</th>\n",
              "      <th>cast</th>\n",
              "      <th>crew</th>\n",
              "    </tr>\n",
              "  </thead>\n",
              "  <tbody>\n",
              "    <tr>\n",
              "      <th>0</th>\n",
              "      <td>237000000</td>\n",
              "      <td>[{\"id\": 28, \"name\": \"Action\"}, {\"id\": 12, \"nam...</td>\n",
              "      <td>http://www.avatarmovie.com/</td>\n",
              "      <td>19995</td>\n",
              "      <td>[{\"id\": 1463, \"name\": \"culture clash\"}, {\"id\":...</td>\n",
              "      <td>en</td>\n",
              "      <td>Avatar</td>\n",
              "      <td>In the 22nd century, a paraplegic Marine is di...</td>\n",
              "      <td>150.437577</td>\n",
              "      <td>[{\"name\": \"Ingenious Film Partners\", \"id\": 289...</td>\n",
              "      <td>...</td>\n",
              "      <td>162.0</td>\n",
              "      <td>[{\"iso_639_1\": \"en\", \"name\": \"English\"}, {\"iso...</td>\n",
              "      <td>Released</td>\n",
              "      <td>Enter the World of Pandora.</td>\n",
              "      <td>Avatar</td>\n",
              "      <td>7.2</td>\n",
              "      <td>11800</td>\n",
              "      <td>Avatar</td>\n",
              "      <td>[{\"cast_id\": 242, \"character\": \"Jake Sully\", \"...</td>\n",
              "      <td>[{\"credit_id\": \"52fe48009251416c750aca23\", \"de...</td>\n",
              "    </tr>\n",
              "    <tr>\n",
              "      <th>1</th>\n",
              "      <td>300000000</td>\n",
              "      <td>[{\"id\": 12, \"name\": \"Adventure\"}, {\"id\": 14, \"...</td>\n",
              "      <td>http://disney.go.com/disneypictures/pirates/</td>\n",
              "      <td>285</td>\n",
              "      <td>[{\"id\": 270, \"name\": \"ocean\"}, {\"id\": 726, \"na...</td>\n",
              "      <td>en</td>\n",
              "      <td>Pirates of the Caribbean: At World's End</td>\n",
              "      <td>Captain Barbossa, long believed to be dead, ha...</td>\n",
              "      <td>139.082615</td>\n",
              "      <td>[{\"name\": \"Walt Disney Pictures\", \"id\": 2}, {\"...</td>\n",
              "      <td>...</td>\n",
              "      <td>169.0</td>\n",
              "      <td>[{\"iso_639_1\": \"en\", \"name\": \"English\"}]</td>\n",
              "      <td>Released</td>\n",
              "      <td>At the end of the world, the adventure begins.</td>\n",
              "      <td>Pirates of the Caribbean: At World's End</td>\n",
              "      <td>6.9</td>\n",
              "      <td>4500</td>\n",
              "      <td>Pirates of the Caribbean: At World's End</td>\n",
              "      <td>[{\"cast_id\": 4, \"character\": \"Captain Jack Spa...</td>\n",
              "      <td>[{\"credit_id\": \"52fe4232c3a36847f800b579\", \"de...</td>\n",
              "    </tr>\n",
              "    <tr>\n",
              "      <th>2</th>\n",
              "      <td>245000000</td>\n",
              "      <td>[{\"id\": 28, \"name\": \"Action\"}, {\"id\": 12, \"nam...</td>\n",
              "      <td>http://www.sonypictures.com/movies/spectre/</td>\n",
              "      <td>206647</td>\n",
              "      <td>[{\"id\": 470, \"name\": \"spy\"}, {\"id\": 818, \"name...</td>\n",
              "      <td>en</td>\n",
              "      <td>Spectre</td>\n",
              "      <td>A cryptic message from Bond’s past sends him o...</td>\n",
              "      <td>107.376788</td>\n",
              "      <td>[{\"name\": \"Columbia Pictures\", \"id\": 5}, {\"nam...</td>\n",
              "      <td>...</td>\n",
              "      <td>148.0</td>\n",
              "      <td>[{\"iso_639_1\": \"fr\", \"name\": \"Fran\\u00e7ais\"},...</td>\n",
              "      <td>Released</td>\n",
              "      <td>A Plan No One Escapes</td>\n",
              "      <td>Spectre</td>\n",
              "      <td>6.3</td>\n",
              "      <td>4466</td>\n",
              "      <td>Spectre</td>\n",
              "      <td>[{\"cast_id\": 1, \"character\": \"James Bond\", \"cr...</td>\n",
              "      <td>[{\"credit_id\": \"54805967c3a36829b5002c41\", \"de...</td>\n",
              "    </tr>\n",
              "    <tr>\n",
              "      <th>3</th>\n",
              "      <td>250000000</td>\n",
              "      <td>[{\"id\": 28, \"name\": \"Action\"}, {\"id\": 80, \"nam...</td>\n",
              "      <td>http://www.thedarkknightrises.com/</td>\n",
              "      <td>49026</td>\n",
              "      <td>[{\"id\": 849, \"name\": \"dc comics\"}, {\"id\": 853,...</td>\n",
              "      <td>en</td>\n",
              "      <td>The Dark Knight Rises</td>\n",
              "      <td>Following the death of District Attorney Harve...</td>\n",
              "      <td>112.312950</td>\n",
              "      <td>[{\"name\": \"Legendary Pictures\", \"id\": 923}, {\"...</td>\n",
              "      <td>...</td>\n",
              "      <td>165.0</td>\n",
              "      <td>[{\"iso_639_1\": \"en\", \"name\": \"English\"}]</td>\n",
              "      <td>Released</td>\n",
              "      <td>The Legend Ends</td>\n",
              "      <td>The Dark Knight Rises</td>\n",
              "      <td>7.6</td>\n",
              "      <td>9106</td>\n",
              "      <td>The Dark Knight Rises</td>\n",
              "      <td>[{\"cast_id\": 2, \"character\": \"Bruce Wayne / Ba...</td>\n",
              "      <td>[{\"credit_id\": \"52fe4781c3a36847f81398c3\", \"de...</td>\n",
              "    </tr>\n",
              "    <tr>\n",
              "      <th>4</th>\n",
              "      <td>260000000</td>\n",
              "      <td>[{\"id\": 28, \"name\": \"Action\"}, {\"id\": 12, \"nam...</td>\n",
              "      <td>http://movies.disney.com/john-carter</td>\n",
              "      <td>49529</td>\n",
              "      <td>[{\"id\": 818, \"name\": \"based on novel\"}, {\"id\":...</td>\n",
              "      <td>en</td>\n",
              "      <td>John Carter</td>\n",
              "      <td>John Carter is a war-weary, former military ca...</td>\n",
              "      <td>43.926995</td>\n",
              "      <td>[{\"name\": \"Walt Disney Pictures\", \"id\": 2}]</td>\n",
              "      <td>...</td>\n",
              "      <td>132.0</td>\n",
              "      <td>[{\"iso_639_1\": \"en\", \"name\": \"English\"}]</td>\n",
              "      <td>Released</td>\n",
              "      <td>Lost in our world, found in another.</td>\n",
              "      <td>John Carter</td>\n",
              "      <td>6.1</td>\n",
              "      <td>2124</td>\n",
              "      <td>John Carter</td>\n",
              "      <td>[{\"cast_id\": 5, \"character\": \"John Carter\", \"c...</td>\n",
              "      <td>[{\"credit_id\": \"52fe479ac3a36847f813eaa3\", \"de...</td>\n",
              "    </tr>\n",
              "  </tbody>\n",
              "</table>\n",
              "<p>5 rows × 23 columns</p>\n",
              "</div>\n",
              "      <button class=\"colab-df-convert\" onclick=\"convertToInteractive('df-158fae29-c97d-4c02-9012-1ae5a5d8476b')\"\n",
              "              title=\"Convert this dataframe to an interactive table.\"\n",
              "              style=\"display:none;\">\n",
              "        \n",
              "  <svg xmlns=\"http://www.w3.org/2000/svg\" height=\"24px\"viewBox=\"0 0 24 24\"\n",
              "       width=\"24px\">\n",
              "    <path d=\"M0 0h24v24H0V0z\" fill=\"none\"/>\n",
              "    <path d=\"M18.56 5.44l.94 2.06.94-2.06 2.06-.94-2.06-.94-.94-2.06-.94 2.06-2.06.94zm-11 1L8.5 8.5l.94-2.06 2.06-.94-2.06-.94L8.5 2.5l-.94 2.06-2.06.94zm10 10l.94 2.06.94-2.06 2.06-.94-2.06-.94-.94-2.06-.94 2.06-2.06.94z\"/><path d=\"M17.41 7.96l-1.37-1.37c-.4-.4-.92-.59-1.43-.59-.52 0-1.04.2-1.43.59L10.3 9.45l-7.72 7.72c-.78.78-.78 2.05 0 2.83L4 21.41c.39.39.9.59 1.41.59.51 0 1.02-.2 1.41-.59l7.78-7.78 2.81-2.81c.8-.78.8-2.07 0-2.86zM5.41 20L4 18.59l7.72-7.72 1.47 1.35L5.41 20z\"/>\n",
              "  </svg>\n",
              "      </button>\n",
              "      \n",
              "  <style>\n",
              "    .colab-df-container {\n",
              "      display:flex;\n",
              "      flex-wrap:wrap;\n",
              "      gap: 12px;\n",
              "    }\n",
              "\n",
              "    .colab-df-convert {\n",
              "      background-color: #E8F0FE;\n",
              "      border: none;\n",
              "      border-radius: 50%;\n",
              "      cursor: pointer;\n",
              "      display: none;\n",
              "      fill: #1967D2;\n",
              "      height: 32px;\n",
              "      padding: 0 0 0 0;\n",
              "      width: 32px;\n",
              "    }\n",
              "\n",
              "    .colab-df-convert:hover {\n",
              "      background-color: #E2EBFA;\n",
              "      box-shadow: 0px 1px 2px rgba(60, 64, 67, 0.3), 0px 1px 3px 1px rgba(60, 64, 67, 0.15);\n",
              "      fill: #174EA6;\n",
              "    }\n",
              "\n",
              "    [theme=dark] .colab-df-convert {\n",
              "      background-color: #3B4455;\n",
              "      fill: #D2E3FC;\n",
              "    }\n",
              "\n",
              "    [theme=dark] .colab-df-convert:hover {\n",
              "      background-color: #434B5C;\n",
              "      box-shadow: 0px 1px 3px 1px rgba(0, 0, 0, 0.15);\n",
              "      filter: drop-shadow(0px 1px 2px rgba(0, 0, 0, 0.3));\n",
              "      fill: #FFFFFF;\n",
              "    }\n",
              "  </style>\n",
              "\n",
              "      <script>\n",
              "        const buttonEl =\n",
              "          document.querySelector('#df-158fae29-c97d-4c02-9012-1ae5a5d8476b button.colab-df-convert');\n",
              "        buttonEl.style.display =\n",
              "          google.colab.kernel.accessAllowed ? 'block' : 'none';\n",
              "\n",
              "        async function convertToInteractive(key) {\n",
              "          const element = document.querySelector('#df-158fae29-c97d-4c02-9012-1ae5a5d8476b');\n",
              "          const dataTable =\n",
              "            await google.colab.kernel.invokeFunction('convertToInteractive',\n",
              "                                                     [key], {});\n",
              "          if (!dataTable) return;\n",
              "\n",
              "          const docLinkHtml = 'Like what you see? Visit the ' +\n",
              "            '<a target=\"_blank\" href=https://colab.research.google.com/notebooks/data_table.ipynb>data table notebook</a>'\n",
              "            + ' to learn more about interactive tables.';\n",
              "          element.innerHTML = '';\n",
              "          dataTable['output_type'] = 'display_data';\n",
              "          await google.colab.output.renderOutput(dataTable, element);\n",
              "          const docLink = document.createElement('div');\n",
              "          docLink.innerHTML = docLinkHtml;\n",
              "          element.appendChild(docLink);\n",
              "        }\n",
              "      </script>\n",
              "    </div>\n",
              "  </div>\n",
              "  "
            ]
          },
          "metadata": {},
          "execution_count": 2
        }
      ],
      "source": [
        "import pandas as pd\n",
        "import numpy as np\n",
        "import matplotlib.pyplot as plt\n",
        "import seaborn as sns\n",
        "from scipy import stats\n",
        "\n",
        "import warnings\n",
        "warnings.filterwarnings(\"ignore\")\n",
        "\n",
        "path = '/content/drive/MyDrive/movie/'\n",
        "\n",
        "df1=pd.read_csv(path + 'tmdb_5000_credits.csv')\n",
        "df2=pd.read_csv(path + 'tmdb_5000_movies.csv')\n",
        "\n",
        "df1.columns = ['id','tittle','cast','crew']\n",
        "df2= df2.merge(df1,on='id')\n",
        "\n",
        "df2.head()"
      ]
    },
    {
      "cell_type": "markdown",
      "source": [
        "데이터를 불러옵니다."
      ],
      "metadata": {
        "id": "VQa2GfkKlZjo"
      }
    },
    {
      "cell_type": "markdown",
      "source": [
        "# 1) 보편적으로 최고의 영화 추천하기"
      ],
      "metadata": {
        "id": "Lr6sJvL1swtI"
      }
    },
    {
      "cell_type": "markdown",
      "source": [
        "기술이 고도화됨에 따라 개인별 맞춤 추천 시스템을 많이 주목하지만 보편적으로 최고인 영화를 과소평가해선 안됩니다. \n",
        "\n",
        "두 가지 모두 고려해야 더 좋은 효과를 보일 수 있습니다.\n",
        "\n",
        "최고의 영화를 판별하는 기준만 정한다면 쉽게 구할 수 있습니다. \n",
        "\n",
        "단순히 평점을 기준으로 한다면 소규모 평가가 이루워진 영화가 고평가 될 수 있습니다.\n",
        "\n",
        "그래서 다음과 같은 기준을 사용합니다."
      ],
      "metadata": {
        "id": "zxb_zlw6s9Bu"
      }
    },
    {
      "cell_type": "markdown",
      "source": [
        "![image.png](data:image/png;base64,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)"
      ],
      "metadata": {
        "id": "PlEOFIttuAoL"
      }
    },
    {
      "cell_type": "markdown",
      "source": [
        "v는 평가한 인원의 수, m은 차트에 기록되기 위한 최소 평가 인원수\n",
        "\n",
        "R은 영화의 평점, C는 모든 영화 평점의 평균 입니다.\n",
        "\n",
        "직관적으로 식을 해석해보면 평가한 인원이 많다면(V가 크다면) 영화의 평점 영향력을 크게하겠다 입니다."
      ],
      "metadata": {
        "id": "nKYI1KdDuBMa"
      }
    },
    {
      "cell_type": "code",
      "execution_count": 3,
      "metadata": {
        "id": "QESp-QQdkRVT",
        "colab": {
          "base_uri": "https://localhost:8080/"
        },
        "outputId": "d180757c-20ef-4004-ba26-2ae5bc0d7dad"
      },
      "outputs": [
        {
          "output_type": "execute_result",
          "data": {
            "text/plain": [
              "6.092171559442016"
            ]
          },
          "metadata": {},
          "execution_count": 3
        }
      ],
      "source": [
        "C= df2['vote_average'].mean()\n",
        "C"
      ]
    },
    {
      "cell_type": "markdown",
      "source": [
        "모든 영화의 평점의 평균은 10점만점에 6점정도 되네요."
      ],
      "metadata": {
        "id": "FNfa0zl-vlkL"
      }
    },
    {
      "cell_type": "code",
      "source": [
        "m= df2['vote_count'].quantile(0.9)\n",
        "m"
      ],
      "metadata": {
        "colab": {
          "base_uri": "https://localhost:8080/"
        },
        "id": "Rvze82A_vk0O",
        "outputId": "c4c0de67-a4fe-412f-b01a-e3ad7a945923"
      },
      "execution_count": 4,
      "outputs": [
        {
          "output_type": "execute_result",
          "data": {
            "text/plain": [
              "1838.4000000000015"
            ]
          },
          "metadata": {},
          "execution_count": 4
        }
      ]
    },
    {
      "cell_type": "code",
      "source": [
        "q_movies = df2.copy().loc[df2['vote_count'] >= m]\n",
        "q_movies.shape"
      ],
      "metadata": {
        "colab": {
          "base_uri": "https://localhost:8080/"
        },
        "id": "0F44jOqgvufu",
        "outputId": "f8ceace5-6ff9-45bf-e798-97c430cba0a3"
      },
      "execution_count": 5,
      "outputs": [
        {
          "output_type": "execute_result",
          "data": {
            "text/plain": [
              "(481, 23)"
            ]
          },
          "metadata": {},
          "execution_count": 5
        }
      ]
    },
    {
      "cell_type": "markdown",
      "source": [
        "보편적으로 최고의 영화다라고 판별하기 위해서는 최소한 영화 평가가 어느정도 있는 영화를 대상으로 판별해야합니다.\n",
        "\n",
        "평가 개수가 상위 10%인 영화만(481개) 선별합니다."
      ],
      "metadata": {
        "id": "d7CQw037v4IL"
      }
    },
    {
      "cell_type": "code",
      "source": [
        "def weighted_rating(x, m=m, C=C):\n",
        "    v = x['vote_count']\n",
        "    R = x['vote_average']\n",
        "\n",
        "    return (v/(v+m) * R) + (m/(m+v) * C)\n",
        "\n",
        "q_movies['score'] = q_movies.apply(weighted_rating, axis=1)"
      ],
      "metadata": {
        "id": "7b_NAPch1Grx"
      },
      "execution_count": 6,
      "outputs": []
    },
    {
      "cell_type": "markdown",
      "source": [
        "앞서 설명한 가중치를 이용해 영화를 평가하는 기준 값을 apply 함수를 사용해 구합니다."
      ],
      "metadata": {
        "id": "9HtXLiCo1R4b"
      }
    },
    {
      "cell_type": "code",
      "source": [
        "q_movies = q_movies.sort_values('score', ascending=False)\n",
        "q_movies[['title', 'vote_count', 'vote_average', 'score']].head(10)"
      ],
      "metadata": {
        "colab": {
          "base_uri": "https://localhost:8080/",
          "height": 363
        },
        "id": "4Wj6xOZH1qg_",
        "outputId": "96acc138-2876-4cf1-fc16-a9720a4196dc"
      },
      "execution_count": 7,
      "outputs": [
        {
          "output_type": "execute_result",
          "data": {
            "text/plain": [
              "                                              title  vote_count  vote_average  \\\n",
              "1881                       The Shawshank Redemption        8205           8.5   \n",
              "662                                      Fight Club        9413           8.3   \n",
              "65                                  The Dark Knight       12002           8.2   \n",
              "3232                                   Pulp Fiction        8428           8.3   \n",
              "96                                        Inception       13752           8.1   \n",
              "3337                                  The Godfather        5893           8.4   \n",
              "95                                     Interstellar       10867           8.1   \n",
              "809                                    Forrest Gump        7927           8.2   \n",
              "329   The Lord of the Rings: The Return of the King        8064           8.1   \n",
              "1990                        The Empire Strikes Back        5879           8.2   \n",
              "\n",
              "         score  \n",
              "1881  8.059258  \n",
              "662   7.939256  \n",
              "65    7.920020  \n",
              "3232  7.904645  \n",
              "96    7.863239  \n",
              "3337  7.851236  \n",
              "95    7.809479  \n",
              "809   7.803188  \n",
              "329   7.727243  \n",
              "1990  7.697884  "
            ],
            "text/html": [
              "\n",
              "  <div id=\"df-d4de2f66-cb6c-42ad-b7bc-d8cab5746248\">\n",
              "    <div class=\"colab-df-container\">\n",
              "      <div>\n",
              "<style scoped>\n",
              "    .dataframe tbody tr th:only-of-type {\n",
              "        vertical-align: middle;\n",
              "    }\n",
              "\n",
              "    .dataframe tbody tr th {\n",
              "        vertical-align: top;\n",
              "    }\n",
              "\n",
              "    .dataframe thead th {\n",
              "        text-align: right;\n",
              "    }\n",
              "</style>\n",
              "<table border=\"1\" class=\"dataframe\">\n",
              "  <thead>\n",
              "    <tr style=\"text-align: right;\">\n",
              "      <th></th>\n",
              "      <th>title</th>\n",
              "      <th>vote_count</th>\n",
              "      <th>vote_average</th>\n",
              "      <th>score</th>\n",
              "    </tr>\n",
              "  </thead>\n",
              "  <tbody>\n",
              "    <tr>\n",
              "      <th>1881</th>\n",
              "      <td>The Shawshank Redemption</td>\n",
              "      <td>8205</td>\n",
              "      <td>8.5</td>\n",
              "      <td>8.059258</td>\n",
              "    </tr>\n",
              "    <tr>\n",
              "      <th>662</th>\n",
              "      <td>Fight Club</td>\n",
              "      <td>9413</td>\n",
              "      <td>8.3</td>\n",
              "      <td>7.939256</td>\n",
              "    </tr>\n",
              "    <tr>\n",
              "      <th>65</th>\n",
              "      <td>The Dark Knight</td>\n",
              "      <td>12002</td>\n",
              "      <td>8.2</td>\n",
              "      <td>7.920020</td>\n",
              "    </tr>\n",
              "    <tr>\n",
              "      <th>3232</th>\n",
              "      <td>Pulp Fiction</td>\n",
              "      <td>8428</td>\n",
              "      <td>8.3</td>\n",
              "      <td>7.904645</td>\n",
              "    </tr>\n",
              "    <tr>\n",
              "      <th>96</th>\n",
              "      <td>Inception</td>\n",
              "      <td>13752</td>\n",
              "      <td>8.1</td>\n",
              "      <td>7.863239</td>\n",
              "    </tr>\n",
              "    <tr>\n",
              "      <th>3337</th>\n",
              "      <td>The Godfather</td>\n",
              "      <td>5893</td>\n",
              "      <td>8.4</td>\n",
              "      <td>7.851236</td>\n",
              "    </tr>\n",
              "    <tr>\n",
              "      <th>95</th>\n",
              "      <td>Interstellar</td>\n",
              "      <td>10867</td>\n",
              "      <td>8.1</td>\n",
              "      <td>7.809479</td>\n",
              "    </tr>\n",
              "    <tr>\n",
              "      <th>809</th>\n",
              "      <td>Forrest Gump</td>\n",
              "      <td>7927</td>\n",
              "      <td>8.2</td>\n",
              "      <td>7.803188</td>\n",
              "    </tr>\n",
              "    <tr>\n",
              "      <th>329</th>\n",
              "      <td>The Lord of the Rings: The Return of the King</td>\n",
              "      <td>8064</td>\n",
              "      <td>8.1</td>\n",
              "      <td>7.727243</td>\n",
              "    </tr>\n",
              "    <tr>\n",
              "      <th>1990</th>\n",
              "      <td>The Empire Strikes Back</td>\n",
              "      <td>5879</td>\n",
              "      <td>8.2</td>\n",
              "      <td>7.697884</td>\n",
              "    </tr>\n",
              "  </tbody>\n",
              "</table>\n",
              "</div>\n",
              "      <button class=\"colab-df-convert\" onclick=\"convertToInteractive('df-d4de2f66-cb6c-42ad-b7bc-d8cab5746248')\"\n",
              "              title=\"Convert this dataframe to an interactive table.\"\n",
              "              style=\"display:none;\">\n",
              "        \n",
              "  <svg xmlns=\"http://www.w3.org/2000/svg\" height=\"24px\"viewBox=\"0 0 24 24\"\n",
              "       width=\"24px\">\n",
              "    <path d=\"M0 0h24v24H0V0z\" fill=\"none\"/>\n",
              "    <path d=\"M18.56 5.44l.94 2.06.94-2.06 2.06-.94-2.06-.94-.94-2.06-.94 2.06-2.06.94zm-11 1L8.5 8.5l.94-2.06 2.06-.94-2.06-.94L8.5 2.5l-.94 2.06-2.06.94zm10 10l.94 2.06.94-2.06 2.06-.94-2.06-.94-.94-2.06-.94 2.06-2.06.94z\"/><path d=\"M17.41 7.96l-1.37-1.37c-.4-.4-.92-.59-1.43-.59-.52 0-1.04.2-1.43.59L10.3 9.45l-7.72 7.72c-.78.78-.78 2.05 0 2.83L4 21.41c.39.39.9.59 1.41.59.51 0 1.02-.2 1.41-.59l7.78-7.78 2.81-2.81c.8-.78.8-2.07 0-2.86zM5.41 20L4 18.59l7.72-7.72 1.47 1.35L5.41 20z\"/>\n",
              "  </svg>\n",
              "      </button>\n",
              "      \n",
              "  <style>\n",
              "    .colab-df-container {\n",
              "      display:flex;\n",
              "      flex-wrap:wrap;\n",
              "      gap: 12px;\n",
              "    }\n",
              "\n",
              "    .colab-df-convert {\n",
              "      background-color: #E8F0FE;\n",
              "      border: none;\n",
              "      border-radius: 50%;\n",
              "      cursor: pointer;\n",
              "      display: none;\n",
              "      fill: #1967D2;\n",
              "      height: 32px;\n",
              "      padding: 0 0 0 0;\n",
              "      width: 32px;\n",
              "    }\n",
              "\n",
              "    .colab-df-convert:hover {\n",
              "      background-color: #E2EBFA;\n",
              "      box-shadow: 0px 1px 2px rgba(60, 64, 67, 0.3), 0px 1px 3px 1px rgba(60, 64, 67, 0.15);\n",
              "      fill: #174EA6;\n",
              "    }\n",
              "\n",
              "    [theme=dark] .colab-df-convert {\n",
              "      background-color: #3B4455;\n",
              "      fill: #D2E3FC;\n",
              "    }\n",
              "\n",
              "    [theme=dark] .colab-df-convert:hover {\n",
              "      background-color: #434B5C;\n",
              "      box-shadow: 0px 1px 3px 1px rgba(0, 0, 0, 0.15);\n",
              "      filter: drop-shadow(0px 1px 2px rgba(0, 0, 0, 0.3));\n",
              "      fill: #FFFFFF;\n",
              "    }\n",
              "  </style>\n",
              "\n",
              "      <script>\n",
              "        const buttonEl =\n",
              "          document.querySelector('#df-d4de2f66-cb6c-42ad-b7bc-d8cab5746248 button.colab-df-convert');\n",
              "        buttonEl.style.display =\n",
              "          google.colab.kernel.accessAllowed ? 'block' : 'none';\n",
              "\n",
              "        async function convertToInteractive(key) {\n",
              "          const element = document.querySelector('#df-d4de2f66-cb6c-42ad-b7bc-d8cab5746248');\n",
              "          const dataTable =\n",
              "            await google.colab.kernel.invokeFunction('convertToInteractive',\n",
              "                                                     [key], {});\n",
              "          if (!dataTable) return;\n",
              "\n",
              "          const docLinkHtml = 'Like what you see? Visit the ' +\n",
              "            '<a target=\"_blank\" href=https://colab.research.google.com/notebooks/data_table.ipynb>data table notebook</a>'\n",
              "            + ' to learn more about interactive tables.';\n",
              "          element.innerHTML = '';\n",
              "          dataTable['output_type'] = 'display_data';\n",
              "          await google.colab.output.renderOutput(dataTable, element);\n",
              "          const docLink = document.createElement('div');\n",
              "          docLink.innerHTML = docLinkHtml;\n",
              "          element.appendChild(docLink);\n",
              "        }\n",
              "      </script>\n",
              "    </div>\n",
              "  </div>\n",
              "  "
            ]
          },
          "metadata": {},
          "execution_count": 7
        }
      ]
    },
    {
      "cell_type": "code",
      "source": [
        "q_movies = q_movies.sort_values('vote_average', ascending=False)\n",
        "q_movies[['title', 'vote_count', 'vote_average', 'score']].head(10)"
      ],
      "metadata": {
        "colab": {
          "base_uri": "https://localhost:8080/",
          "height": 363
        },
        "id": "mVio8GYO1j3R",
        "outputId": "e27bf6a9-ea8e-48f7-ea07-5015624212ab"
      },
      "execution_count": 8,
      "outputs": [
        {
          "output_type": "execute_result",
          "data": {
            "text/plain": [
              "                         title  vote_count  vote_average     score\n",
              "1881  The Shawshank Redemption        8205           8.5  8.059258\n",
              "3337             The Godfather        5893           8.4  7.851236\n",
              "1818          Schindler's List        4329           8.3  7.641883\n",
              "2731    The Godfather: Part II        3338           8.3  7.515889\n",
              "662                 Fight Club        9413           8.3  7.939256\n",
              "3865                  Whiplash        4254           8.3  7.633781\n",
              "2294             Spirited Away        3840           8.3  7.585209\n",
              "3232              Pulp Fiction        8428           8.3  7.904645\n",
              "809               Forrest Gump        7927           8.2  7.803188\n",
              "3057        American History X        3016           8.2  7.401749"
            ],
            "text/html": [
              "\n",
              "  <div id=\"df-23107ca9-cd30-4b0b-8c26-b6979143e1d6\">\n",
              "    <div class=\"colab-df-container\">\n",
              "      <div>\n",
              "<style scoped>\n",
              "    .dataframe tbody tr th:only-of-type {\n",
              "        vertical-align: middle;\n",
              "    }\n",
              "\n",
              "    .dataframe tbody tr th {\n",
              "        vertical-align: top;\n",
              "    }\n",
              "\n",
              "    .dataframe thead th {\n",
              "        text-align: right;\n",
              "    }\n",
              "</style>\n",
              "<table border=\"1\" class=\"dataframe\">\n",
              "  <thead>\n",
              "    <tr style=\"text-align: right;\">\n",
              "      <th></th>\n",
              "      <th>title</th>\n",
              "      <th>vote_count</th>\n",
              "      <th>vote_average</th>\n",
              "      <th>score</th>\n",
              "    </tr>\n",
              "  </thead>\n",
              "  <tbody>\n",
              "    <tr>\n",
              "      <th>1881</th>\n",
              "      <td>The Shawshank Redemption</td>\n",
              "      <td>8205</td>\n",
              "      <td>8.5</td>\n",
              "      <td>8.059258</td>\n",
              "    </tr>\n",
              "    <tr>\n",
              "      <th>3337</th>\n",
              "      <td>The Godfather</td>\n",
              "      <td>5893</td>\n",
              "      <td>8.4</td>\n",
              "      <td>7.851236</td>\n",
              "    </tr>\n",
              "    <tr>\n",
              "      <th>1818</th>\n",
              "      <td>Schindler's List</td>\n",
              "      <td>4329</td>\n",
              "      <td>8.3</td>\n",
              "      <td>7.641883</td>\n",
              "    </tr>\n",
              "    <tr>\n",
              "      <th>2731</th>\n",
              "      <td>The Godfather: Part II</td>\n",
              "      <td>3338</td>\n",
              "      <td>8.3</td>\n",
              "      <td>7.515889</td>\n",
              "    </tr>\n",
              "    <tr>\n",
              "      <th>662</th>\n",
              "      <td>Fight Club</td>\n",
              "      <td>9413</td>\n",
              "      <td>8.3</td>\n",
              "      <td>7.939256</td>\n",
              "    </tr>\n",
              "    <tr>\n",
              "      <th>3865</th>\n",
              "      <td>Whiplash</td>\n",
              "      <td>4254</td>\n",
              "      <td>8.3</td>\n",
              "      <td>7.633781</td>\n",
              "    </tr>\n",
              "    <tr>\n",
              "      <th>2294</th>\n",
              "      <td>Spirited Away</td>\n",
              "      <td>3840</td>\n",
              "      <td>8.3</td>\n",
              "      <td>7.585209</td>\n",
              "    </tr>\n",
              "    <tr>\n",
              "      <th>3232</th>\n",
              "      <td>Pulp Fiction</td>\n",
              "      <td>8428</td>\n",
              "      <td>8.3</td>\n",
              "      <td>7.904645</td>\n",
              "    </tr>\n",
              "    <tr>\n",
              "      <th>809</th>\n",
              "      <td>Forrest Gump</td>\n",
              "      <td>7927</td>\n",
              "      <td>8.2</td>\n",
              "      <td>7.803188</td>\n",
              "    </tr>\n",
              "    <tr>\n",
              "      <th>3057</th>\n",
              "      <td>American History X</td>\n",
              "      <td>3016</td>\n",
              "      <td>8.2</td>\n",
              "      <td>7.401749</td>\n",
              "    </tr>\n",
              "  </tbody>\n",
              "</table>\n",
              "</div>\n",
              "      <button class=\"colab-df-convert\" onclick=\"convertToInteractive('df-23107ca9-cd30-4b0b-8c26-b6979143e1d6')\"\n",
              "              title=\"Convert this dataframe to an interactive table.\"\n",
              "              style=\"display:none;\">\n",
              "        \n",
              "  <svg xmlns=\"http://www.w3.org/2000/svg\" height=\"24px\"viewBox=\"0 0 24 24\"\n",
              "       width=\"24px\">\n",
              "    <path d=\"M0 0h24v24H0V0z\" fill=\"none\"/>\n",
              "    <path d=\"M18.56 5.44l.94 2.06.94-2.06 2.06-.94-2.06-.94-.94-2.06-.94 2.06-2.06.94zm-11 1L8.5 8.5l.94-2.06 2.06-.94-2.06-.94L8.5 2.5l-.94 2.06-2.06.94zm10 10l.94 2.06.94-2.06 2.06-.94-2.06-.94-.94-2.06-.94 2.06-2.06.94z\"/><path d=\"M17.41 7.96l-1.37-1.37c-.4-.4-.92-.59-1.43-.59-.52 0-1.04.2-1.43.59L10.3 9.45l-7.72 7.72c-.78.78-.78 2.05 0 2.83L4 21.41c.39.39.9.59 1.41.59.51 0 1.02-.2 1.41-.59l7.78-7.78 2.81-2.81c.8-.78.8-2.07 0-2.86zM5.41 20L4 18.59l7.72-7.72 1.47 1.35L5.41 20z\"/>\n",
              "  </svg>\n",
              "      </button>\n",
              "      \n",
              "  <style>\n",
              "    .colab-df-container {\n",
              "      display:flex;\n",
              "      flex-wrap:wrap;\n",
              "      gap: 12px;\n",
              "    }\n",
              "\n",
              "    .colab-df-convert {\n",
              "      background-color: #E8F0FE;\n",
              "      border: none;\n",
              "      border-radius: 50%;\n",
              "      cursor: pointer;\n",
              "      display: none;\n",
              "      fill: #1967D2;\n",
              "      height: 32px;\n",
              "      padding: 0 0 0 0;\n",
              "      width: 32px;\n",
              "    }\n",
              "\n",
              "    .colab-df-convert:hover {\n",
              "      background-color: #E2EBFA;\n",
              "      box-shadow: 0px 1px 2px rgba(60, 64, 67, 0.3), 0px 1px 3px 1px rgba(60, 64, 67, 0.15);\n",
              "      fill: #174EA6;\n",
              "    }\n",
              "\n",
              "    [theme=dark] .colab-df-convert {\n",
              "      background-color: #3B4455;\n",
              "      fill: #D2E3FC;\n",
              "    }\n",
              "\n",
              "    [theme=dark] .colab-df-convert:hover {\n",
              "      background-color: #434B5C;\n",
              "      box-shadow: 0px 1px 3px 1px rgba(0, 0, 0, 0.15);\n",
              "      filter: drop-shadow(0px 1px 2px rgba(0, 0, 0, 0.3));\n",
              "      fill: #FFFFFF;\n",
              "    }\n",
              "  </style>\n",
              "\n",
              "      <script>\n",
              "        const buttonEl =\n",
              "          document.querySelector('#df-23107ca9-cd30-4b0b-8c26-b6979143e1d6 button.colab-df-convert');\n",
              "        buttonEl.style.display =\n",
              "          google.colab.kernel.accessAllowed ? 'block' : 'none';\n",
              "\n",
              "        async function convertToInteractive(key) {\n",
              "          const element = document.querySelector('#df-23107ca9-cd30-4b0b-8c26-b6979143e1d6');\n",
              "          const dataTable =\n",
              "            await google.colab.kernel.invokeFunction('convertToInteractive',\n",
              "                                                     [key], {});\n",
              "          if (!dataTable) return;\n",
              "\n",
              "          const docLinkHtml = 'Like what you see? Visit the ' +\n",
              "            '<a target=\"_blank\" href=https://colab.research.google.com/notebooks/data_table.ipynb>data table notebook</a>'\n",
              "            + ' to learn more about interactive tables.';\n",
              "          element.innerHTML = '';\n",
              "          dataTable['output_type'] = 'display_data';\n",
              "          await google.colab.output.renderOutput(dataTable, element);\n",
              "          const docLink = document.createElement('div');\n",
              "          docLink.innerHTML = docLinkHtml;\n",
              "          element.appendChild(docLink);\n",
              "        }\n",
              "      </script>\n",
              "    </div>\n",
              "  </div>\n",
              "  "
            ]
          },
          "metadata": {},
          "execution_count": 8
        }
      ]
    },
    {
      "cell_type": "markdown",
      "source": [
        "윗 코드는 새로운 지표 기준 상위 10개 영화, 밑 코드는 단순한 평점 기준 상위 10개 영화입니다. 1등을 제외하고 지표가 다릅니다.\n",
        "\n",
        "이러한 보편적으로 최고의 영화를 추천하는 방식은 특정 사용자의 흥미나 취향에 민감하지 않다는 단점이 있습니다."
      ],
      "metadata": {
        "id": "xGIlAfjB17y3"
      }
    },
    {
      "cell_type": "markdown",
      "source": [
        "# 2) 내용 기반 영화 추천하기"
      ],
      "metadata": {
        "id": "GxF4EZL626AW"
      }
    },
    {
      "cell_type": "code",
      "source": [
        "df2['overview'].head(5)"
      ],
      "metadata": {
        "colab": {
          "base_uri": "https://localhost:8080/"
        },
        "id": "aeHNWjrG1Q6C",
        "outputId": "ebb8d077-0f53-4bdb-bb04-38b2a8f3d2fe"
      },
      "execution_count": 9,
      "outputs": [
        {
          "output_type": "execute_result",
          "data": {
            "text/plain": [
              "0    In the 22nd century, a paraplegic Marine is di...\n",
              "1    Captain Barbossa, long believed to be dead, ha...\n",
              "2    A cryptic message from Bond’s past sends him o...\n",
              "3    Following the death of District Attorney Harve...\n",
              "4    John Carter is a war-weary, former military ca...\n",
              "Name: overview, dtype: object"
            ]
          },
          "metadata": {},
          "execution_count": 9
        }
      ]
    },
    {
      "cell_type": "markdown",
      "source": [
        "유사한 overview을 가진 영화를 추천하는 모델을 만들어보겠습니다. 그러기 위해선 overview 내 언어를 숫자로 변환해야하는데요.\n",
        "\n",
        "영어 기준으로 단어 단위로 나오는 횟수를 단순히 원핫인코딩 방식으로 기록하는 CountVectorizer 함수를 고려할 수 있습니다.\n",
        "\n",
        "CountVectorizer 은 입력받은 모든 단어를 단어사전에 기록하고 원핫인코딩 방식으로 각 문장을 숫자로 반환해줍니다.\n",
        "\n",
        "다만 관계대명사 등 자주 나오는 단어이나 영화 내용을 파악하는데 불필요한 단어가 많이 기록된다는 단점이 있는데요.\n",
        "\n",
        "이를 보안한 것이 TfidfVectorizer 입니다."
      ],
      "metadata": {
        "id": "eMaOfPDslQ3Z"
      }
    },
    {
      "cell_type": "code",
      "source": [
        "from sklearn.feature_extraction.text import TfidfVectorizer\n",
        "\n",
        "tfidf = TfidfVectorizer(stop_words='english')\n",
        "\n",
        "df2['overview'] = df2['overview'].fillna('')\n",
        "\n",
        "tfidf_matrix = tfidf.fit_transform(df2['overview'])\n",
        "\n",
        "print(tfidf_matrix[1].toarray())\n",
        "print(tfidf_matrix.shape)"
      ],
      "metadata": {
        "colab": {
          "base_uri": "https://localhost:8080/"
        },
        "id": "2uucHvia3NoH",
        "outputId": "1e73aa3e-a6e7-4699-b50f-ff9750fe45ca"
      },
      "execution_count": 13,
      "outputs": [
        {
          "output_type": "stream",
          "name": "stdout",
          "text": [
            "[[0. 0. 0. ... 0. 0. 0.]]\n",
            "(4803, 20978)\n"
          ]
        }
      ]
    },
    {
      "cell_type": "markdown",
      "source": [
        "TfidfVectorizer 의 토대가 되는 기호 정리부터 하겠습니다.\n",
        "\n",
        "TF(Term Frequency) : 특정 단어가 하나의 데이터 안에서 등장하는 횟수.\n",
        "\n",
        "DF(Document Frequency) : 특정 단어가 여러 데이터에 자주 등장하는지를 알려주는 지표.\n",
        "\n",
        "IDF(Inverse Document Frequency) : DF에 역수.\n",
        "\n",
        "TF-IDF : TF와 IDF를 곱한 값. 즉 TF가 높고, DF가 낮을수록 값이 커지는 것을 이용하는 것입니다.\n",
        "\n",
        "다른 문장에 많이 나오지 않는 단어는 고유한 그 영화만에 특성을 가진 단어라고 볼 수 있고 TF-IDF은 이를 반영한 지표입니다.\n",
        "\n",
        "약 4800개 영화에 21000개 정도 단어종류가 확인됬군요."
      ],
      "metadata": {
        "id": "zVqJOvUInCXC"
      }
    },
    {
      "cell_type": "code",
      "source": [
        "from sklearn.metrics.pairwise import linear_kernel\n",
        "\n",
        "cosine_sim = linear_kernel(tfidf_matrix, tfidf_matrix)\n",
        "print(cosine_sim.shape)"
      ],
      "metadata": {
        "colab": {
          "base_uri": "https://localhost:8080/"
        },
        "id": "q5sz1hI8o_UJ",
        "outputId": "341bf1bf-a7b9-44fb-960d-08ca1089dc00"
      },
      "execution_count": 19,
      "outputs": [
        {
          "output_type": "stream",
          "name": "stdout",
          "text": [
            "(4803, 4803)\n"
          ]
        }
      ]
    },
    {
      "cell_type": "markdown",
      "source": [
        "![image.png](data:image/png;base64,iVBORw0KGgoAAAANSUhEUgAAAa0AAAB1CAIAAAByLimWAAAgAElEQVR4nO2de1RTV7rAtw2GQAIJPgiIGl6xFAZBUUAQ3wpFRyro+KpWoa5iq7biaqXjglocK8xcqYN3lNsRtDriEyidgqAiogYBRRO4ZFCIJAiSEwE5JS9CTrl/7DtnsgKJAeTp/v0VTvbZZ5+Q8+Xb33Ncd3c3QCAQiLeYd4Z7AQgEAjHMIDmIQCDedpAcRCAQbztIDiIQYw2RSLRv3z4Mw549e5aUlHThwoXhXtFIB8lBBGKsceTIES6X6+LiwufzP/vss927d/P5/OFe1IgGyUEEYkyB4/jSpUsfPnwYHh4eHh5OpVLHjx+PYdhwr2tEMw7FzSAQY49x48bl5+cHBwdjGGZnZyeXy2k0GoVCGe51jVCQPohAjDVwHAcALFy4EABw5syZ5cuXy+Xyqqqq4V7XyAXJQQRirJGXl+fl5UWj0QiCqK6unjdvXnZ2tr29/XCva+SC5CACMdaYMGFCUlISAIBCocTExAAAli9fzmazh3tdIxdkH0QgEG87SB9EIBBvO2bDvQAEAjEgFAqFXC43fTyNRmMymYO3ntEIkoMIxOimtrY2MTGRwWBMmjTJxsYGAKBUKnsOe/XqlVKp1Gg0kydP3rNnD4fDMf0SOI63t7ebeIpGo9FoNOPGjQMA6JrdqFQqlUo1/aJDCZKDCMToxsnJqaysTCwWx8TEhIaG9jrm1atXwn9z7tw5W1vb/fv3mzi/XC6/cOHCzZs3f/zxRzqdbnwwQRBPnjx58OABecTCwgIAoFKpWCyWl5eXg4MDjUYz8dJDBvKTIBCjnjt37sBowbq6OhcXFyMjS0pKkpOTX7x4UVJSYuLkfD5/9erVAQEBSUlJr1UJNRqNUChMT08/fvy4u7v72rVrORwOVCfv37+vVqsPHjy4cOHCERfR3Y1AIEY/iYmJAABfX9/29nbjI8VicUhISGFhoSnTtre3w5nDwsIqKytNXAyPx3N3d09OTu7s7CQP5ufn29nZRUVF1dXVmTjPkIH8xQjEWGD//v0RERHl5eVHjhwhCMLIyKlTp3755ZemZBwTBCEQCHJzc8PCwpRKZUdHh4mLkUqlQqHQzs5O1yA4fvx4Npvd0tJi+jxDBpKDCMQY4ejRo9OmTUtKSsrJyTEyjEKhLFmyZOPGja+dsLGxMS8vb+fOnS4uLjKZzET5pVAoZDKZo6PjhAkTdA8KBAIMw0JCQkZgZguSgwjEGIHD4Rw7dgwAEBERIRKJBjibWq2uqKhgs9mhoaEMBgPH8ba2NlNOlEqlJSUlbm5uFhYWOI7DMoiXLl2qrq7+5ptv1qxZMwIzW5AcRCDGDuHh4TCRbt++fbDaQr+pra3l8Xjh4eEUCoXFYr18+VKlUukOIAhCrVb3PLGpqamiosLc3FwoFObl5eXm5h47diwlJSUgICAyMpIUggRBaDQa41v4IQPJQQRiTBEfH798+fKcnJzU1NR+Sxkcx3k83pw5czgcDpVKtbOzUygUeoJVLBbn5eUpFAq9c1taWoRCoZubm5OTk7m5OYvFWrRo0dKlS0tKSoRCIbmkqqqqoqKilpaW/q3wzYLiBxGIMQWTyfzzn/88f/782NjYbdu29WMTShBERUXF6dOnP/nkk4KCAgBATU0NAECj0egO6+jokEgkWq1W9yBpHFy8eHFwcDB5nE6nR0REMJnMr776Ci6pra2tvr7ezc2tf7f5ZkFyEIEYa3h7e7u6us6ZM6d/EcuNjY0//fTT9u3bAQD19fWkz1c3TUWj0djb20dGRuql6EHjYFBQ0JQpU3SPjx8/nsPhNDU1yWQyNputUCg8PDz8/PxeG5g9NCA5iECMNW7durVgwYIvvviiH3nEarW6sLDQxsYmOjqaPFhVVZWQkNDZ2Qn/xHG8tLS0ra3td7/7naenp+7pGIbduHHjiy++cHZ21p3z6dOnQqFw7dq106dPx3G8urpaIpH4+voaj/oeMpB9EIEYU5SUlPzwww+ff/65riQyEYVCUVxc/PPPP69du7bnu0qlEjpG6uvrS0pK7t+/z+Px9MZIpVKpVDp9+nRS0cNxPDs7+/Tp0yEhIcHBwUwms6KiQiKRXLt2TSAQ9P3+BgWkDyIQY4eqqqqUlJTY2FjjehZBEHK5XFdbhPlwRUVF165dk8lktbW17u7uFAoFqn5CoRAAUFNTc+bMmZkzZ7q4uHh5eeXl5c2YMQOerlara2pqHj16BNP17t+/b25uDt+SSCRlZWXz58/fsmWLu7s7AIDD4bS3t7NYrEmTJg3S59BXkBxEIMYIOI4fPnx4+/bt3t7eRoYRBFFWVtbR0aHrxwAAKJVKOzu76OhouP8lCAJmASsUCjs7u8zMTABAe3s7AAA6OphMpo+Pj0ajgQZEWMwmICAgICAAjoQVFjgcjpeXl4eHB+mxcXFxKS4utrGxcXBwIK8yvKA6CwjEWIAgiAMHDsyYMSMyMtL4SJFI9O2333788ccLFizo37UkEsnJkyfZbPbq1avNzMz6VMILAIBh2Pfff+/r6+vs7GxjY9PX0wcDpA8iBhGCIBobG+3t7QdYeA4WLOl5nEajoaqikJSUFBsbG+NCUKPRlJaW5uTk1NXVBQYG9vtaWq1WqVTW19fX1dX5+/v39XS1Wq1UKsvLy+l0+gjJsUP6IGIQKSgoyM3NXbRoUXh4eL8nIQjixx9/LCkpsbS0HD9+PACgq6sLxnBYWlra2Ni4ublxOJw5c+aM2DKfg016evqePXvOnj1rZ2enF9AHAFCpVDAlTiqVXrt27caNG/v374dVZPqHXC6vq6tra2tzcXHphzYHjYkYhnl7e4+QHDskBxGDyPvvv5+fn+/u7l5ZWdlvMxC0Z0kkkpycnEuXLgEAdu/evWjRIvhubW1tbGzs8uXLt2/fbkrtgLGHSCRydXV1d3fncrlkaIsubW1tzc3NXV1dUqmUTqe7urqeOHECWvEQELQvRgwWJSUl1dXVAABYBlkv0Mx0KBQKtL43NDRcunTJ0dFx3rx5pIIpkUgKCwtv3LiB4ziHw3kLH28zM7PCwkITR2q1WhqNNnv27MFe1egCyUHEYJGenv78+XP4+syZM0ePHh3IbHpJXSQTJ06cPXv2jRs3mpuby8rK3kI5yOFwRoKrYVSD4qgRgwKGYYWFhbt374bxtMnJyX3qqdYnYK4+hUJB4gDRP5AcRAwK2dnZYrF43759y5Ytg0f++c9/vpGZCYKQSqUSiUQkElVVVV2+fPn69eteXl5xcXFLly59I5cYdSQlJd26deu1wwiCqKqqKikpSU1NHYJVjSLQvhgxKGRlZS1fvpzD4WzduvXevXutra1JSUlvxI/R1tZ27dq1+vp6GLhbUVHx/PnzFStWzJ07960NoGlqatILiu4VgiAePHiA4/ipU6d004cRSA4i3jx37ty5ceMGNN6Hh4cnJCS0trYKBIKqqioj3hIcx1NTU7lcrvEgGysrq6VLl4aGhsJKdhiGHT58+OHDh3//+98/+OCDJUuWvPHbGfkcOHAAdi42DoVCgXUAYfgRggTJQcSb5+zZswAAsViclZVFp9Otra3h8b///e8pKSmGzqquro6NjXV0dDQuB2k02vTp03Xl6fjx45cuXSoQCJRK5fz589+qKMKqqqoHDx68fPnSlH7E0IQKiwkidEFyEPGGwTDs4cOHEydOPHPmDDzy66+/whfHjx//7rvvGAxGryd6eHjs3r175cqVfb2ih4cHfNHQ0NDY2NiPOiujl/Pnz69evToqKgrKwfT0dPDv1ukAALKSvoWFxR/+8AcKhTJC6uCPNJAcRLxhsrOz6+rq7t27Z2VlBY+YmZlFR0fn5+cDAP7xj38YskwxmUwT93d6kJ5oCoUyQup6Dg0ajWbDhg2lpaXz5s2DR4x4ikZCOYMRC5KDIxGNRtPc3Gw8CkQulxMEMQI9A1lZWSEhIXolT3bs2HH37l2FQvHdd9+9//77hm7NSJYVlUolN7xkTScAgEQiOXLkCHzt5eU1QvK0hgYqlert7T1r1iyyDiCpeiP6xNDJQYIgxGIxg8F4q76p/QDH8fT09J7BsTBJXqVS+fv7M5nM1tbWa9eu+fv7Gy+yNGTgOB4XF9fQ0HDjxg0AwIIFC65duwa1s3379t2/fx829Hn+/PmWLVtoNNrPP/9sYtV4giBSUlKKi4vLysoAAGKxOC4u7vLlyzCRViaT3b1719fX95NPPomIiBjEOxyRwHp/AQEBqamp0dHRL1686HUY6RihUCjISdITg/nF8Mun0WhMsb/2RK1WFxcX8/n8devWOTs78/n8r7/+WqFQbNq0qd8OewzDsrOzmUxmaGjoCNSD3ghyufzy5cvV1dUJCQm6WzyJRALzMWBlgejoaAaDUVxcXFxcvHXr1pFQ3Fyj0TQ2Nup+nRwdHeFe7NmzZ93d3ePGjev1XVPAMMx4GDaDwWAwGG/VphiSlZW1devW//qv/woMDPT09DTyKTEYDI1Gk56efvv27UuXLiUnJ/v4+PS79NZYo9sA0MJqZ2cnFosNjTGCWCwOCwuzs7NLS0uDs+Xn50+cODE+Pr4fs0Fgxn5ISMjjx491D1ZWVvZ7zpFGZWVlWFhYXV2d7kGpVBoVFRUTE9Pe3s7j8UJCQjIzM7u7u1UqVVpaWmJiolarHab1IoYZuVyemZmp+0QYRyqVisVisVgslUrb29sHdW2jCIP74vHjx8fHxwMApk6d2g/xOmnSpK1bt3p5eS1cuBAAQKPRXF1dB6i2uLm5ffzxx0wm08nJiTzI5/NJ79hoB8fx8+fPT58+XfeDUigUubm5TU1Nn3/+OZPJZLPZBEFIJBIAAI1Gc3Nzu379Oo/HQz/sbyd0Oj00NNT0rS6ySvWKQTlIoVC+/vpr0F83E51ODwsLCw0N1bUBDdBjxeFwdu7c+c4775D2cpFIVF1dTTrLRjvt7e35+fnw54dEKpUePHhw+/btMGJOqVQ2NTWRRQccHBwcHBwqKiqQHHxr6V9zToQu/y8Hs7KyJBKJhYUFrC7r7e1dVVVFEIRSqZw5cyaDwZBIJK9evQIAWFlZubi43Llzp6WlJTAwEP68VFVV1dbWcrlc+KwSBNHS0tLc3EyO7/XasGcVAGDGjBk+Pj7Q5Eeeq1QqXVxc5HJ5eXl5QECAvb398+fPOzo6AABOTk5MJhPH8atXr2ZlZS1atMja2trGxmbq1KnkdQEA5BGZTEYQhJWV1bRp0wYjyLagoKC+vn7GjBkBAQG6X0oY4woAmDt3rm7cL0EQly9flkqldnZ27733nrW1tbOzs0ajqampsbW11S0ULJfLodvBy8uLPBc2zYFMnTp1zpw5hYWFGIahn3oEon+8AwBYsWJFXl6eu7s7lUpdtmxZaWkpACAuLm7NmjV79+5tbW0lCOLixYubN2/+5JNPzp49u3bt2rq6uvLy8i1btqSnp3/zzTd5eXkymWz16tVJSUkAALlcnp2dvWbNmj179pSXl/d6YT6fv3HjRqFQ6OTkVFxcvG7duoKCAgCASqXKzc3dvHnz3r17P/vsswMHDiQlJV28ePHevXsnTpxYs2ZNYmJiQ0MDhmHJycnHjh1TKBQpKSmffvrpxYsX5XL5rVu39uzZs3nz5s2bN8MjGRkZW7ZsmT9//pEjR6Aof4NgGBYQEHDy5Ekmk1lcXOzv78/n8+Fb33zzzYYNGywsLFgs1ldfffXNN9+Qp7z//vs1NTUcDqehoeGTTz6pra2FN15SUjJhwgRdcSaTybKysgICAnx8fOARWFiYlOYUCoXNZjc0NIhEojd7awjE24MZTAXt7u4GABAE8fTpU6hP/fjjj0eOHIFyjUKh7Nq1Kzg4eNasWebm5leuXLGxsWlubnZ0dMRxfP/+/WFhYS0tLQ8fPrx9+/a2bdvYbHZkZOTMmTMDAwO3bdvW64Xb2tru37+/fPny4OBgLpcrl8vPnz8PbYgfffQRi8XaunWrn5/fypUrr1y58urVKw8PDx8fHwaDUVRURBAEm80+cOAAi8WKiYlJSkqaP38+AIBOp0dERAQEBMTFxYnFYuhW3rt37+PHj+Pj45cuXdozk+HOnTsnTpyAwsUQOI5nZGT0qtWuXr26vLwcBnB89dVXAoGgqKjI29s7PT09ISFBKpXa2NhQKBQfHx9/f397e/vo6Ojs7Gy1Wv3tt98CADAMa2pqgldXq9X19fV6K1QoFDdu3LCzs9uxYwdMBmhqanJ3d9cNqTEzM8NxXCqV9rr4W7dupaSkwCr2hpgwYcKBAwf6XSd1jEEQRE5OzrFjx4zvN2fPnr1jx46R4KlHDBwz6Bf+4IMP1q9fHxoa+vXXX8NqbkwmUzeyn+yoQrYUYLFYjo6OEyZMgNmgNBrNwcHh6dOnMpmMzWZTqVQyneA/FzP7jznSx8fn8ePHcE5nZ2cPD48zZ85gGObi4kKhUFgsFrxWcHAw6WkBAOh2daFSqXArbWVlRQZMUKlUDofj4eFx7tw5mEJUVVU1efJkb2/vXkNt/P39fXx8ul/XnKBXV0xBQUF5eXliYiK0eyYkJAQGBq5atQoAEBUVNW/ePFKzs7e39/PzO3369MaNG1Uq1d27dz/++ON169b5+/sfOHCAnFAqleptn1++fAkA+OKLL/bu3dvV1VVbW/vVV19NmDCB3CaTn2qvBdkBAPPnz/f19TV+d+PGjTP0zMNOFMbF6CiFzWb3KsUoFMqqVatWrFhh/HQjHxqGYdCw8wZWiXhzaLVaQzVrzYKDg6OiotLS0nJycqZNm7ZixQrjdYN1haOlpWWfIrZ0O8gwmUwrK6vvv/++qKios7Ozra3Nzc2NHNDV1UWj0aD00f22kfmShqaFBAUFBQUFZWdnu7q63rx5c8WKFYa83rpZCn2lqKgIAMDlcuGf0DUEW18DAGxtbXUHT5o0qaysrL6+PjIy8vr162lpaWlpae7u7lu3bt27d2+v86vVagzDHB0duVwuuc4bN27Ex8f3fIB7/WQGeIMAgMrKyoMHD0Ib5RgjPj4eauU9GeCHduvWrT/96U+6ZlzECMFQgyozAMCpU6d27dp18eLFf/7zn2lpaRqNBtYL6RVLS8t+L4LUBwmCuHnzZkhISFRUVEZGhp2d3blz506fPq2rMPY16l0ikbBYLKj0wXYWP/zww9q1azEMW7ZsmaGvNY7jsJKdkZm1Wq2/v7+hGXR/CXQd4npzQg+vUqlkMpm//PILj8e7evVqRkbGoUOHAAAwWN3a2rqrq0v3ujiOT5s2DRYOkMvljx49CgoK6llprrOz01DwEIZhrzUdWlpaurq69lr+wM/P75dffjF++ijFSPQChmFPnjzR/Tb2hM1mOzg49KoS/uEPf3gLM1tGBYb+6WYXLlwQCASJiYne3t6JiYl79uxJT0/vVQ6q1eoBLoLcu4nF4pMnT4aFhe3atcvFxUWtVlOpVHNz87Kyso6ODn9///Hjx/dVDmZlZfn5+ZHtKby8vCZMmHD48OFZs2bpqWa61NfXZ2dnG89V6OrqcnBw6KmCQb+QUCjUFUwikQiObGpq0h0sFotpNJqLi8v333/PZDIjIyMXLFhw6NChjz76CDYzAgCwWCxd6WlhYWFra0un06GFAcOwU6dOhYWF6bXg0Gq15ubmuim3uohEop9//llXvPaEwWBs3bq1VzlIoVDetvx8giCqq6t/+ukn499ALpdrKFH6LfzQRilkQUwzAEBSUhKpKzo5Oc2cORO+plKpdDqd/MXT++mDv5bkb6aFhQVUFUmFEb4g9RQ4UledpNFo5BMO0yQxDIOxO2ZmZl1dXT2fbQsLCxqNpvclMzMzg6ZA3cl///vfFxYWpqWlxcbGGgko8fb27nd+bkBAgK+vb0xMDLmxTU1NhY6j/Pz8kJCQkpISKLOam5vv3r2bmJjIZrNhTgjst21hYeHi4gKfNxqNxuVyHz9+TM5PpVKdnZ3b2tpgtFBxcbGrq+uuXbv0lgHloJ2dnaFFvoWtiwYChUJZsmTJ21nP9a0iKSkpNjY2Jibm6NGjIC0tDQAQFha2f//+qKgoAIBIJOru7p44cSIcbWdnd/LkSd3g3qCgIFhDifwzLS3N0dER/kmn03fv3q07Pj4+nqyHAa/F4/FgsWJfX9/du3fHxMTs3r0bPsmJiYknT54kB/v6+hYWFnZ3d/N4vLCwMPI4PFhXV7d+/XoAgJeXV2ZmZmdnp26uTHJy8vLly/Vy1N440GUBP72goCDyOPxgIyIi4AqTk5O7u7tVKhXcAq9fvz4mJiYsLCwoKEgqlcJTHj9+PG/ePN1ERphR5+XlFRUVFR8f39HRoXf1zs5OGBjUv/RHBOKthayc0N3dDcg0Qx6PN/TPklgs5vF4cAF1dXWVlZV9TZXVarWPHz+urKxUqVR6byUnJ2dmZvY8/sZpb28vLCyEvx96a6usrNTN/dRqtVKpVKVSdXZ28ng8UgJCxGKxu7s7zB0mkcvljx8/1htJIpVKd+/enZiY+IZuxRjFxcVkRiqPx+splPuEVCrl8XjkzHK5XPfdzMxM+E3QarX5+fn9vopWqxWLxTADvb29vbKycoDLRowxoBw0I/eMw7J70nVj9y8Ui0Kh6G5sS0pKysrKwsPDORwO9JAMQdYRk8nsdRtFoVD0gvJg2DN83fMDh1GTt2/f1i1MT6fTjezcRSLRixcvNmzY0P/Vm0xeXp61tbWnpyeFQklPT4+LizNUWRoA8P333/v4+AQGBhqylPH5/NzcXPghnD171szMTPcDSU1NhdlKBEHEx8dDCyxst2aoxB65Nt2DKpWqoqKivb3d09OztbX15s2bixcvHiGVynpFIpFUVFQM9yr+A4vFInO9+gSGYXw+HxZbGwl0dnYGBATo2XOfPXsWFBQExl4d1rt378bGxvr5+V27dm3GjBnTp08f7hX1ASaTuW7dum3btpHOFuPgOF5WVhYYGDg0v2GGXDE9uXPnzuHDh1tbWzs7Ow3JQV1XWM8gBN2zyOvK5fJZs2YZv/Tu3bsPHTrU63M7KnwXcXFx586dG+5V/Ifly5f/+c9/7scvB4/HG2lO84yMDD056OvrC6Pfxlr/4rVr1+7evXvz5s1CoXDlypWjrkwhh8M5ePDgrl27YBCicUpLSxsbG6HLZWgwMTb41KlTra2tAIBffvnFxIYYPYNAe77FZDK7u7u1Wi2MDF++fLmu0SMzMxMAcPz48X379plyxZHJy5cvh8CSYzrXr1/vt/qsZ+EZdvTaxopEok2bNsEd21iTgy4uLikpKfX19SkpKaOx7gCFQpk/f/6OHTsSEhKMj+Tz+SUlJZ9++ulIk/UYhpE7u4SEBENy0HgojxHkcjkMwFKr1bpZNIGBge7u7gCAhoaGqqqq/k0+7DCZTEOpQaMIDMPa29thVtiIBcoK+Hqs7YvHAFQqNTw83HjvSjCwiJ9B5cyZM6TaKBAInj9/PpAk3N9++830Fmvwumq1GkYa6THyW7VVVVX1qUz3iEUmk2k0msmTJw/3QkxlrOmDiGEHVoqPiIiAmTZHjhwZiEr4zjvGvqJqtZogCIIgNBqNSCQSi8V0On3u3LmjNGTywYMHM2bMMJ7HMiqAhZ1GkXV+1H/iiBFFVlZWeXl5RkYG3B0rFIq0tLRjx44Z8SwDo2bH3377zdBbtbW1hw8fhs6WpqamS5cuTZw48bPPPoP1g0cj1dXVW7ZsGQN9lFQqFVkGZVSA9EHEm+Ty5cu+vr4ODg4BAQFkBYrLly8PxrVoNJqNjY2tra2tre27774LAyDkcjmGYYNxuSFAKBTa29uPgX3xyAmXMRGkDyLeGBKJpKysLC4urrOzc/z48e+///6jR49aW1uPHj364Ycf9q+Ci5F9MZfL/fLLL0lNMyYmZsOGDcnJyYWFhSdOnBiNW2Nzc3ND4a4EQcCSQrDtH0EQFhYWg1FcfeDgOG7ESUIQBFmpAN6IkbseMpAcRLwxLl68+PLlSz6fDytHkKE/QqHwyZMnRuq89q+IETQOkn9aWFjs2LEjPz9fIBBcvHhx1MlBkUhkxKB28+bNK1euPH36dPHixZ2dnUlJSRkZGXqBICOElpYWjUZjKOG9qqoqPT1dJpPZ2tpaWloWFRVt2LAhMjJyeDfRSA4i3hi5ubnh4eFOTk4WFhYqlYrL5Wo0mqysLIVC8de//vXUqVN643UNYUbiB/Xo97ZxhO83BQKBk5OTISdJUVHRrl27Zs2adebMGWdn566urmvXro1MOQjtEoaCBNra2pycnNrb2xctWhQeHn7hwoX79++3trYiOYgY3Wg0GgqFkpOT8+jRo5SUFN1onsDAwNu3b0NvydGjRy0sLMiaVMa9Abq5K7rxdBqNRtf2pFaryYJGjY2NeXl5AAA7Ozvdzq6jBYFAsHDhQkM7xISEhMOHD0dERMBilBkZGYcPHx7aBZpKR0cHlUrtNXqXIIglS5ZgGMZisaD5uKGhwcnJiazqMlwgOYgYKPfu3cMw7PTp0wqForS01MrKCgbBwS6GpC84ISHBw8Nj4cKFfQ0nJGWiRqP55ZdfZDIZ1DieP3+enZ0N9Qgcx2/fvn3p0iV3d/eQkJBNmza90VscCp48eRIZGWlIaaVSqUVFRbDbD2xHExERQZbPG1EYcZLAu8Nx3MHBwcnJ6dmzZ7W1tevWrVOr1RQKxXhQwaCC5CBioBQXFwsEggkTJqxfvz4nJ8fW1nbatGkUCuV///d/MzMzly1bBodJJJKqqipYcrFP85P6YFdXV0ZGhlarhS1rAAC69d9oNNr+/fsXL17s7+8/iiI2SLRarXF3wd27d69cuQIAKCwsnDhxIiwhPNLkoEajMVIdHQCA47hYLPb19WUwGDweT6PRwHIMgYGBSA4iRge9OjQMdfnYuHGjEQOWidHCuvGDdDr96tWrppxFMm7cuD6NHy5wHGexWEbkoEQi2bJlC9xs2tnZbdq0KT09/ciRI0O4RpNobv3/MfsAABKYSURBVG7GcRwmOPZKa2uro6Mj3N2z2WwPDw+ZTBYaGjq8WbBIDiL6wBvswWaiY+Sdd94xvc5NT7pf14lwhFBRUcHlco14cjgcDtktYyTXGH/16pVKpXJwcDA0wNnZOTo6Gr4eObmhSA4i+sBAunQNC6NFHxQIBLAr4fAuQ61W4zhOo9H6bVhoa2uzsLAwFDQzZBAEAfsPm6hmIjmIMBVdIThwAxyNRiPtQZaWlnpbQmtra/LIhAkTBnIhOp1OWhihw3ogsw0S1dXVel0V5XJ5nwpDMBiMAd4ajuMVFRVPnz6lUqkLFy7sX8UHmDNONnEkCKKrq6tPFXQGHh+u0WiEQuGjR49wHPfz8/Py8npte2EkBxGmMm/ePDLra8WKFQOsquTg4LB06VL4esWKFXrOkw8++ADa2ikUyo4dO/p9lfHjx7u6usLyMywWy9/f30jzwmGkpaVFd2EKheLy5csajYZKper5HFQqFewBS/4JozX7UWcbwzAbGxsodORy+YULF4RC4Y4dO/Ly8rZs2fI///M/fXXCEAShUCh0fyPlcnlpaalQKGQymT1vBPy7n63uQT8/v9mzZw8kw6S0tDQ5OfngwYPPnj0LDAzMzMyEjcWNnILkIMJUFixYQL7u2UO5r+i2ZOjZ1YAsO0ahUF5bgswIVCqVlLBMJnOEWKP0kMvl1tbWuke0Wu2VK1fy8/MdHR3j4uJ0JYhGoyETdZRKpVwuv3fvXnl5eVhY2E8//WT6RZ89e/bDDz/s2LEDfj4KhSI/P9/Nzc3T09Pa2vrYsWM3b97sqxxsaWmRyWS6wZtqtbqkpCQhIcHR0TE6OprL5ZK6Yc8bqaqqunHjxvr167/77jvoSOmJXC6vq6tTKpWWlpZ61mpLS0snJycmk1lYWCgWi7lcrre39/Lly1NTU1etWoXkIAIxoqmsrHRyctLVgJhMZlxcXENDg1AodHBwMP6rc+fOnatXrx4/flwul5sYeqJWq3/44Yf//u//9vX1hXKQwWDs3LkTvgsjeIzEvhhCJpOpVKopU6aQR9hs9tq1a588eXLp0iUmkxkaGmpE0auqqrp69erVq1elUqkhOdja2lpQUHD27FmhUOjr6+vn5wcD8nEcT0tLS0xMjI6ODg4OdnNzIwP19X5jemeYS2UjEG89J0+ezMjI6FmOPy0tDRq2Xtt7Vi6Xh4WFwd6wpgDbZDs6Oqalpem9pVKpMjIyIiIiYJO/PlFcXJycnEw2NdQ9HhQU5OjoSLYhNER7e3t8fPzJkyd7TqIL7LeuW/e/s7MTth2GEabw4OPHj728vPLz81/bBRPV3UIghhmhUPjee+/1TDSMjIyEvVaOHDlivJIVnU5PTk5ubGw05XI4jicnJ0dERLx8+VKvDQ5BEI8ePXr48GFMTEw/IrShsbKnD83f33/nzp0dHR0//fSTWCw2MgOTydy6dSuVSm1vbzcyTCaTAQB8fHzII1QqFSbqPXz4ENazwTDs3Llz+/fvDw4Ofq3DB8lBBGKYefHihaGygzExMREREWlpaT///LPxSZydnffs2fPaaxEEUVhYyGKxNm3apFAodMUNQRBCobCmpubTTz8NCAgQiUR9vRGFQtGrq5dKpS5ZsuSzzz47d+7c1atXjfcgc3FxiYiIMBLvolAoJBKJr6+v3ha7trYWABAYGEin03Ecz83NXbly5caNG/l8/ms970gOIhDDiUajMRKVyWQyY2JiHB0dN23a9NrmU3pNKXulsbExIyNj3759kyZNAv8uoA/+LQTPnDmj0WgwDMvKynqt5NXDeG8maCjcsmXLX/7yl8LCQuOCiclkGjEjwqY3ISEhpDFUIpFkZWU9ffoUtrrGcTw1NVUikZiZmZWUlCQnJ79WDiI/CQIxnAiFwilTphh57AMCAuLi4qKior799tu0tLSBRG7CMmihoaEcDufXX38FAJD6oEql4vF49+/fF4lEOTk5kydPhjUdTEcul+M4Pnv2bEMDPD09t23b9uTJk4yMDGdn53777isrK0UiUWdnZ0FBAbSfXrly5f79+/v27du0aRONRrt169bt27fNzc3Ly8sVCsWmTZteuy9GchCBGE7+9a9/vTZi+cMPP+Tz+cePH587d+7evXv7HWb8/PnzsrKy8+fPAwBguCKUhgAAMzOzmTNnQv8D/NPDw6NPk8MiQPb29kbG+Pn5bd++fefOnRwOx8bGxhQFtidCobC1tZXNZre3t0M5zuVym5qawL9bEk6ePJnsUaPVal1cXJAcRCBGNAKBYPXq1caDVKhU6r59+/h8fmxs7Ny5c3uGW5qCRqP561//SqVSi4uLu7q62tragE4tHxqNNsCcZRisbjyPjU6nr1mzRiwWJyUleXh4QPWtT1fBcfzFixdeXl6bNm3SvVZtbW1UVJSDg8OyZcv64eFB9kEEYjgRi8UODg6vVVg4HA4sqtjvrp6lpaV8Pt/Jyen69etFRUUPHz4EABAEIZfL+zehHgqFwpSQQzabvXjxYl9fX9CvjtIVFRV1dXVLly7VE6CwskNJSQnZ/KRPIH0QgRh0oADqadqDgsAUnUij0dTW1qalpelm9ZgOhmEnTpxISUmxt7dXq9U0Gk0mk2VkZMjlcplMRjoccBwvLCz08vIyVCMSwzCZTNZT4YK9mUyxXcrl8vr6+g0bNqxcufK1ab89EQgEAoEgKSlJT+bCfbGXlxcZflRQUGBlZeXn52dKljTSBxGIwQXDsPT0dFj+RA+xWGxivvPf/vY3W1vbDz/8sB8LUKvVGRkZfn5+3t7ebDabw+Gw2Wwul+vk5KRUKkkTIRx5+/ZtuMPtCQxG4fF4Pd9qaWnBcfy19j6CIK5fv47j+OrVq/tXcLC+vh4AoFubhyCIrKys3Nzc9evXBwYGkseLiookEomJ0yJ9EIEYXHJzc48fPx4ZGdnzLdib6bX64IULF+rr6w8dOtRXD4lcLr98+fLLly9jY2Pj4+MxDGOz2TBEhsfjNTY2Pn/+/Ny5cxiGLVu2jEKhTJo06fPPP582bVqvs9XX1x89enTr1q093+ro6NBoNEbKDkJ4PF5tbW1wcHBfa5LL5XIej9fU1FRWVgYAyMnJIUt7NTQ0nD179qOPPtq8eTMMBoLs2LFj0qRJJpbMQXIQgRhEMAy7ffs2AOBf//qXm5ubnsgTCAQBAQHGzWoFBQWFhYV//OMfje86YfMWvZoUBEE8ffoUABAfH29paUnazjo6Opqbm7dv3w7/hJtKiUQiEoloNFqvQgrH8YKCAqFQ+OrVK4Ig9ORLW1sblUqdOnWqkRXy+fz79+8HBQUZ92PI5fLKykoXFxddhZEgiKamJolEEhISEhISotFoGhoaAABKpZLD4SQnJ0NVl1xqdXW1VCoNCwszciFdkBxEIAaR3NxcKpU6bdo0gUCwZMkSPTlYX18P08gMnV5SUnL+/Pkvv/zSUN0BkvT09JKSEj05aGFhsXfvXvJPqC5RKJSZM2fqCjsajSaXywsLC+EVe3UcNzQ0QNPhixcvGhsb9bbAsOygEeVLJBIVFBR4e3vPmTPHuI52/fp1gUCgpz5bWFisXLmy1/E9lb68vDw2m71v374VK1aYWHgCyUEEYrDAcRzH8YCAgIaGhpqamp6uTI1GY+RBraqqSklJ2bNnz2sDQbKysnbu3AkFmS6G+mcyGAy968IGKRKJpFetE0arLF26tLa2tqGhoampSVcOKhSKtrY2IzWonz17dvXqVS6Xu3DhQuNb+zt37hw7dmznzp16yzZ0I70CQwvt7e1Nr0aO5CACMViYmZlBBe327ds3btzQa8kikUiMCMFnz5795S9/8fPzs7Ozk0gk0LPc3d0N9TiCIBobG7VabXl5eUNDw9/+9jcAANnGrx/A4oypqamwsoMe5ubmbm5urq6uV69eLSwslEgkujpjS0uLVCr18vLqdWYMw65cuaJUKp2dnTEMI2Nl2Gw2nU6HBfRhVUGhUHjt2rXa2tr33ntvIHVYlyxZsmHDhnXr1pk+CZKDCMRgQafTYWgIi8WSSqV679bU1Dg4OPT6rCoUiu++++7cuXNKpRJ6BiBardbV1dXc3Fwulzc1NWm12szMTPhWVFTUQOryEwQhFostLS29vb3v3LmjF51Do9E4HI5Go+FyuWKxWK9QwqtXrzQaTa/OYhzHs7OzY2NjfX196+vrdatP29ra2tjYyOXyly9fKpXKiooKWIomKirKxsam3zcCAMAwrKysLCkpKScnZ9WqVaY4l5AcRCAGHfhgYximm0InFArd3Nx6jYseP358ZGQk9MxqtVrdMbpKpZmZGVlj5rW+WuOo1WqxWKxUKvl8vqEdKJVKhZtfPTkII296XYC5uXlgYGBxcbHecT3VWPcGHRwcjCfnvRaRSASrUpsSoP7/CxjI9RAIhCnAB7umpmbmzJnkXri6unrx4sW9xhJTqdQh7sxJo9EWLlxoYWHBZrONmCNhaRyZTAaDseFBrVZLpVJ7VWxpNNrQd5r38PDYv3//hAkT5s+fj+QgAjFSsLW1dXd35/P5K1euJOWgXC4f4AbwDUKhUGCoivGWfhQKxdfXt6mpqampCVoq1Wq1iZkkQwaTyfz9739PpVJND7dE+SQIxKDj7Ozs4ODA5/NJlzGGYQwGw4ghXyKR3Llzx/QM3IKCAljxZSC8tvmntbW1p6dnQ0NDXV0dPILjuEwmM7IrxzCMz+ebvraSkhLT80AMwWAw+hRzjuQgAjHocLlcOzu7u3fvknaxJ0+eGLfoFRYW3r9/3xQ5WFBQkJ6eHh0d3dzc/GaWaxgWi8Xlcp8+fQrL1QAAZDIZjuO6vZn0ePLkSVFRkfG+AhA+n5+amnro0KF+lMIeIGhfjEAMOnQ6Xa9Qs1Ao5HA4RgoNREREqNVqU5Qab29vb2/vqKgovT6WgwGDwfD29m5tbSXd3zAZWbdXpx4+Pj7vvvuuKRtnOEl+fn5XV1fPlJVBBemDCMRQAE2BdXV1MHZEKBTOnj3bUEZdVlbWhQsXdLNljcBms/tXs6AfUCgUKysroFPIGu70DQVC8vn8S5cuKRQKU0L5mEymk5OTiXf9ZkH6IAIxFNjb29PpdKFQ6O/vD/uxWVtb96ryXLhw4Xe/+11CQkJgYKCnp+etW7dgjrAeKpUqPDxcN2rPSJ+TNwi8yqtXr3AcZzAYRpwkfD7/2bNnOI6XlZU5OztXVVU9ePBAN4QQolKpFi9e7OnpqftpDKUyCJAcRCCGBicnJ1dX18ePH6vVajMzMyqVauhRNzc3t7W1xTAMluTy8fExVCJfTwANwb4YAGBlZRUUFNTQ0NDQ0DB9+nSZTGaodBiFQqHT6e3t7TDq0NnZ2dDI1/pnBhskBxGIoWDKlCn29vaVlZUAgNra2kmTJhnaKq5ateof//hHYGAg3EozmcwRFZViZmYGc05evHgBO2TOnDmz15Genp4vXrx49erVe++9B3Sya0xhiO2DSA4iEEPBu+++O3ny5Pz8fLVaDXszGZKDVCr1zJkzf/rTnzIzMzdu3AirXfUcptFoNmzYMPT7YhaL5eTklJ6e3tbWplAolEqloWKCBEHU19e7u7sDAEQikVKpvHnzZs9hGo0mNDRUL9wa7YsRiDEIlUolXcY1NTUweaPXkRiGicViMzMzHMc1Gs38+fP9/f17HQlnEIlE0GlbWlpKoVAGO3+DwWC4u7srFAocxzs6OiwtLQ15aRobG8Visbm5OYZhNjY277777vTp03sdCW8ERho+ffoU5vZxudx+FO7vH0gOIhBDBNzn1tTUVFdXGyk7yGaz//jHP5aVlUVGRpqSFCEQCOh0ekZGhlQqvXr16mDLQdJl3NzcPGPGDCPLmzp16ooVKwQCwZQpU6DeavxeRCKRQqH44osvJBJJUVGRjY0NkoMIxFiDw+HY2dnx+fxff/3VeNu5yMjIrq4uE6VAaGjoO++8AwD47bff9OoXDBKWlpawsqylpaUhFQ8AQKFQ5s+fHxAQQPZOMs6cOXPgi99++40giIGU3uorSA4iEEOEo6Ojk5PT2bNnPT09jT/kfcqNHUp5AbGyspo9e/bNmzetra2DgoKMjOxTclu/+9MPHBRHjUAMES4uLra2tkKhcNasWUMvvN4gDAbDzc1NoVCwWKy+dlwamSA5iEAMERwOByZLeHt7m9LyfMRCp9NnzJgBAHBwcBiyVJZBBclBBGLogJGArq6uw7gHHDgMBsPV1RUM6072zYLkIAIxdNja2jo6Ohp3kowKzMzM3N3djfRmGl0gOYhADB3Tp0/38/Mb1cZBiKWlpY+PzwCbAYwcxnV3dw/3GhCItwUY8zyUEcKDBIZhIpHIw8NjROX89RskBxEIxNvO/wGRkvEiyIet/AAAAABJRU5ErkJggg==)"
      ],
      "metadata": {
        "id": "AV9HEAYLo9u-"
      }
    },
    {
      "cell_type": "markdown",
      "source": [
        "단어집합의 유사도 검정을 할 때 코사인 유사도 값을 많이 사용합니다.\n",
        "\n",
        "cosine_sim 은 각각의 영화별 코사인 유사도 값을 기록한 행렬값 입니다."
      ],
      "metadata": {
        "id": "3FADmECzo-Na"
      }
    },
    {
      "cell_type": "code",
      "source": [
        "# indices : 영화 제목마다 인덱스를 달아줌. 제목을 넣으면 인덱스 값이 나옴.\n",
        "indices = pd.Series(df2.index, index=df2['title']).drop_duplicates()\n",
        "\n",
        "def get_recommendations(title, cosine_sim=cosine_sim):\n",
        "    # 입력받은 영화 제목의 인덱스 추출\n",
        "    idx = indices[title]\n",
        "\n",
        "    # 입력받은 영화와 다른 모든 영화의 코사인 유사도를 행렬에서 추출함.\n",
        "    # enumerate로 인덱스를 붙히고 리스트로 변환함.\n",
        "    sim_scores = list(enumerate(cosine_sim[idx]))\n",
        "\n",
        "    # 코사인 유사도가 높은 순서대로 정렬함.\n",
        "    sim_scores = sorted(sim_scores, key=lambda x: x[1], reverse=True)\n",
        "\n",
        "    # 코사인 유사도가 높은 상위 10개 영화를 추출. 이때 인덱스 값이 같이 추출됨.\n",
        "    sim_scores = sim_scores[1:11]\n",
        "\n",
        "    # 코사인 유사도가 높은 상위 10개 영화의 인덱스만 추출\n",
        "    movie_indices = [i[0] for i in sim_scores]\n",
        "\n",
        "    # 인덱스를 이용해 영화 제목 추출.\n",
        "    return df2['title'].iloc[movie_indices]"
      ],
      "metadata": {
        "id": "V1ycK0_nIsXp"
      },
      "execution_count": 21,
      "outputs": []
    },
    {
      "cell_type": "code",
      "source": [
        "get_recommendations('The Dark Knight Rises')"
      ],
      "metadata": {
        "colab": {
          "base_uri": "https://localhost:8080/"
        },
        "id": "V9OcN02OqUP7",
        "outputId": "84e6a777-d83f-4d41-f9d6-16b77d2e9646"
      },
      "execution_count": 22,
      "outputs": [
        {
          "output_type": "execute_result",
          "data": {
            "text/plain": [
              "65                              The Dark Knight\n",
              "299                              Batman Forever\n",
              "428                              Batman Returns\n",
              "1359                                     Batman\n",
              "3854    Batman: The Dark Knight Returns, Part 2\n",
              "119                               Batman Begins\n",
              "2507                                  Slow Burn\n",
              "9            Batman v Superman: Dawn of Justice\n",
              "1181                                        JFK\n",
              "210                              Batman & Robin\n",
              "Name: title, dtype: object"
            ]
          },
          "metadata": {},
          "execution_count": 22
        }
      ]
    },
    {
      "cell_type": "code",
      "source": [
        "get_recommendations('The Avengers')"
      ],
      "metadata": {
        "colab": {
          "base_uri": "https://localhost:8080/"
        },
        "id": "ZdppW73FqSKM",
        "outputId": "f3c4e5e9-96eb-41bf-af6d-ffb41f90719c"
      },
      "execution_count": 23,
      "outputs": [
        {
          "output_type": "execute_result",
          "data": {
            "text/plain": [
              "7               Avengers: Age of Ultron\n",
              "3144                            Plastic\n",
              "1715                            Timecop\n",
              "4124                 This Thing of Ours\n",
              "3311              Thank You for Smoking\n",
              "3033                      The Corruptor\n",
              "588     Wall Street: Money Never Sleeps\n",
              "2136         Team America: World Police\n",
              "1468                       The Fountain\n",
              "1286                        Snowpiercer\n",
              "Name: title, dtype: object"
            ]
          },
          "metadata": {},
          "execution_count": 23
        }
      ]
    },
    {
      "cell_type": "markdown",
      "source": [
        "영화 제목 입력받으면 그와 비슷한(코사인 유사도기반) overview를 가진 상위 10개 영화를 추출하는 함수를 제작했습니다."
      ],
      "metadata": {
        "id": "mcweRZMHsfRi"
      }
    },
    {
      "cell_type": "markdown",
      "source": [
        "# 3) 관심사가 비슷한 사용자로 영화 추천하기"
      ],
      "metadata": {
        "id": "ZMGjP94VsEJV"
      }
    },
    {
      "cell_type": "code",
      "source": [
        "!pip install scikit-surprise"
      ],
      "metadata": {
        "colab": {
          "base_uri": "https://localhost:8080/"
        },
        "id": "eDFDHdBFznq2",
        "outputId": "5d4460b0-05a7-454b-983b-1b326902c607"
      },
      "execution_count": 33,
      "outputs": [
        {
          "output_type": "stream",
          "name": "stdout",
          "text": [
            "Looking in indexes: https://pypi.org/simple, https://us-python.pkg.dev/colab-wheels/public/simple/\n",
            "Requirement already satisfied: scikit-surprise in /usr/local/lib/python3.7/dist-packages (1.1.1)\n",
            "Requirement already satisfied: joblib>=0.11 in /usr/local/lib/python3.7/dist-packages (from scikit-surprise) (1.1.0)\n",
            "Requirement already satisfied: numpy>=1.11.2 in /usr/local/lib/python3.7/dist-packages (from scikit-surprise) (1.21.6)\n",
            "Requirement already satisfied: six>=1.10.0 in /usr/local/lib/python3.7/dist-packages (from scikit-surprise) (1.15.0)\n",
            "Requirement already satisfied: scipy>=1.0.0 in /usr/local/lib/python3.7/dist-packages (from scikit-surprise) (1.7.3)\n"
          ]
        }
      ]
    },
    {
      "cell_type": "markdown",
      "source": [
        "surprise는 다양한 추천시스템 함수를 가진 패키지 입니다."
      ],
      "metadata": {
        "id": "cd50vbds0tEe"
      }
    },
    {
      "cell_type": "code",
      "source": [
        "from surprise import Reader, Dataset, SVD\n",
        "from surprise.model_selection import cross_validate\n",
        "\n",
        "reader = Reader()\n",
        "ratings = pd.read_csv(path +'ratings_small.csv')\n",
        "ratings.head()"
      ],
      "metadata": {
        "colab": {
          "base_uri": "https://localhost:8080/",
          "height": 206
        },
        "id": "t1q6YgtjsA4R",
        "outputId": "67a93d72-e2da-46f7-d88e-c58da108f018"
      },
      "execution_count": 36,
      "outputs": [
        {
          "output_type": "execute_result",
          "data": {
            "text/plain": [
              "   userId  movieId  rating   timestamp\n",
              "0       1       31     2.5  1260759144\n",
              "1       1     1029     3.0  1260759179\n",
              "2       1     1061     3.0  1260759182\n",
              "3       1     1129     2.0  1260759185\n",
              "4       1     1172     4.0  1260759205"
            ],
            "text/html": [
              "\n",
              "  <div id=\"df-3beecaa3-f81a-4e5f-9ab0-06a5763812d4\">\n",
              "    <div class=\"colab-df-container\">\n",
              "      <div>\n",
              "<style scoped>\n",
              "    .dataframe tbody tr th:only-of-type {\n",
              "        vertical-align: middle;\n",
              "    }\n",
              "\n",
              "    .dataframe tbody tr th {\n",
              "        vertical-align: top;\n",
              "    }\n",
              "\n",
              "    .dataframe thead th {\n",
              "        text-align: right;\n",
              "    }\n",
              "</style>\n",
              "<table border=\"1\" class=\"dataframe\">\n",
              "  <thead>\n",
              "    <tr style=\"text-align: right;\">\n",
              "      <th></th>\n",
              "      <th>userId</th>\n",
              "      <th>movieId</th>\n",
              "      <th>rating</th>\n",
              "      <th>timestamp</th>\n",
              "    </tr>\n",
              "  </thead>\n",
              "  <tbody>\n",
              "    <tr>\n",
              "      <th>0</th>\n",
              "      <td>1</td>\n",
              "      <td>31</td>\n",
              "      <td>2.5</td>\n",
              "      <td>1260759144</td>\n",
              "    </tr>\n",
              "    <tr>\n",
              "      <th>1</th>\n",
              "      <td>1</td>\n",
              "      <td>1029</td>\n",
              "      <td>3.0</td>\n",
              "      <td>1260759179</td>\n",
              "    </tr>\n",
              "    <tr>\n",
              "      <th>2</th>\n",
              "      <td>1</td>\n",
              "      <td>1061</td>\n",
              "      <td>3.0</td>\n",
              "      <td>1260759182</td>\n",
              "    </tr>\n",
              "    <tr>\n",
              "      <th>3</th>\n",
              "      <td>1</td>\n",
              "      <td>1129</td>\n",
              "      <td>2.0</td>\n",
              "      <td>1260759185</td>\n",
              "    </tr>\n",
              "    <tr>\n",
              "      <th>4</th>\n",
              "      <td>1</td>\n",
              "      <td>1172</td>\n",
              "      <td>4.0</td>\n",
              "      <td>1260759205</td>\n",
              "    </tr>\n",
              "  </tbody>\n",
              "</table>\n",
              "</div>\n",
              "      <button class=\"colab-df-convert\" onclick=\"convertToInteractive('df-3beecaa3-f81a-4e5f-9ab0-06a5763812d4')\"\n",
              "              title=\"Convert this dataframe to an interactive table.\"\n",
              "              style=\"display:none;\">\n",
              "        \n",
              "  <svg xmlns=\"http://www.w3.org/2000/svg\" height=\"24px\"viewBox=\"0 0 24 24\"\n",
              "       width=\"24px\">\n",
              "    <path d=\"M0 0h24v24H0V0z\" fill=\"none\"/>\n",
              "    <path d=\"M18.56 5.44l.94 2.06.94-2.06 2.06-.94-2.06-.94-.94-2.06-.94 2.06-2.06.94zm-11 1L8.5 8.5l.94-2.06 2.06-.94-2.06-.94L8.5 2.5l-.94 2.06-2.06.94zm10 10l.94 2.06.94-2.06 2.06-.94-2.06-.94-.94-2.06-.94 2.06-2.06.94z\"/><path d=\"M17.41 7.96l-1.37-1.37c-.4-.4-.92-.59-1.43-.59-.52 0-1.04.2-1.43.59L10.3 9.45l-7.72 7.72c-.78.78-.78 2.05 0 2.83L4 21.41c.39.39.9.59 1.41.59.51 0 1.02-.2 1.41-.59l7.78-7.78 2.81-2.81c.8-.78.8-2.07 0-2.86zM5.41 20L4 18.59l7.72-7.72 1.47 1.35L5.41 20z\"/>\n",
              "  </svg>\n",
              "      </button>\n",
              "      \n",
              "  <style>\n",
              "    .colab-df-container {\n",
              "      display:flex;\n",
              "      flex-wrap:wrap;\n",
              "      gap: 12px;\n",
              "    }\n",
              "\n",
              "    .colab-df-convert {\n",
              "      background-color: #E8F0FE;\n",
              "      border: none;\n",
              "      border-radius: 50%;\n",
              "      cursor: pointer;\n",
              "      display: none;\n",
              "      fill: #1967D2;\n",
              "      height: 32px;\n",
              "      padding: 0 0 0 0;\n",
              "      width: 32px;\n",
              "    }\n",
              "\n",
              "    .colab-df-convert:hover {\n",
              "      background-color: #E2EBFA;\n",
              "      box-shadow: 0px 1px 2px rgba(60, 64, 67, 0.3), 0px 1px 3px 1px rgba(60, 64, 67, 0.15);\n",
              "      fill: #174EA6;\n",
              "    }\n",
              "\n",
              "    [theme=dark] .colab-df-convert {\n",
              "      background-color: #3B4455;\n",
              "      fill: #D2E3FC;\n",
              "    }\n",
              "\n",
              "    [theme=dark] .colab-df-convert:hover {\n",
              "      background-color: #434B5C;\n",
              "      box-shadow: 0px 1px 3px 1px rgba(0, 0, 0, 0.15);\n",
              "      filter: drop-shadow(0px 1px 2px rgba(0, 0, 0, 0.3));\n",
              "      fill: #FFFFFF;\n",
              "    }\n",
              "  </style>\n",
              "\n",
              "      <script>\n",
              "        const buttonEl =\n",
              "          document.querySelector('#df-3beecaa3-f81a-4e5f-9ab0-06a5763812d4 button.colab-df-convert');\n",
              "        buttonEl.style.display =\n",
              "          google.colab.kernel.accessAllowed ? 'block' : 'none';\n",
              "\n",
              "        async function convertToInteractive(key) {\n",
              "          const element = document.querySelector('#df-3beecaa3-f81a-4e5f-9ab0-06a5763812d4');\n",
              "          const dataTable =\n",
              "            await google.colab.kernel.invokeFunction('convertToInteractive',\n",
              "                                                     [key], {});\n",
              "          if (!dataTable) return;\n",
              "\n",
              "          const docLinkHtml = 'Like what you see? Visit the ' +\n",
              "            '<a target=\"_blank\" href=https://colab.research.google.com/notebooks/data_table.ipynb>data table notebook</a>'\n",
              "            + ' to learn more about interactive tables.';\n",
              "          element.innerHTML = '';\n",
              "          dataTable['output_type'] = 'display_data';\n",
              "          await google.colab.output.renderOutput(dataTable, element);\n",
              "          const docLink = document.createElement('div');\n",
              "          docLink.innerHTML = docLinkHtml;\n",
              "          element.appendChild(docLink);\n",
              "        }\n",
              "      </script>\n",
              "    </div>\n",
              "  </div>\n",
              "  "
            ]
          },
          "metadata": {},
          "execution_count": 36
        }
      ]
    },
    {
      "cell_type": "markdown",
      "source": [
        "surprise 패키지 내 SVD 함수를 이용하기 위해선 데이터 프레임이 반드시 (사용자ID, 영화ID, 평점) 순으로 있어야합니다."
      ],
      "metadata": {
        "id": "YuHiLKWx4axA"
      }
    },
    {
      "cell_type": "code",
      "source": [
        "data = Dataset.load_from_df(ratings[['userId', 'movieId', 'rating']], reader)\n",
        "\n",
        "svd = SVD()\n",
        "\n",
        "cross_validate(svd, data, measures=['RMSE'], cv=5)"
      ],
      "metadata": {
        "colab": {
          "base_uri": "https://localhost:8080/"
        },
        "id": "fpabZBDuzmhp",
        "outputId": "4a3f46d4-e43f-47d5-ab44-fff159a501d1"
      },
      "execution_count": 40,
      "outputs": [
        {
          "output_type": "execute_result",
          "data": {
            "text/plain": [
              "{'fit_time': (8.233148574829102,\n",
              "  5.2691779136657715,\n",
              "  5.370789527893066,\n",
              "  5.306999921798706,\n",
              "  5.467830181121826),\n",
              " 'test_mae': array([0.68962625, 0.69583257, 0.68883765, 0.69072012, 0.69067091]),\n",
              " 'test_rmse': array([0.89545545, 0.89963625, 0.8925816 , 0.89423993, 0.90127922]),\n",
              " 'test_time': (0.15677785873413086,\n",
              "  0.14635586738586426,\n",
              "  0.15284276008605957,\n",
              "  0.15076279640197754,\n",
              "  0.14911937713623047)}"
            ]
          },
          "metadata": {},
          "execution_count": 40
        }
      ]
    },
    {
      "cell_type": "markdown",
      "source": [
        "RMSE 값이 크진 않은 것 같습니다."
      ],
      "metadata": {
        "id": "jdZ_04lA4mhn"
      }
    },
    {
      "cell_type": "code",
      "source": [
        "svd.predict(1, 1172, 3)"
      ],
      "metadata": {
        "colab": {
          "base_uri": "https://localhost:8080/"
        },
        "id": "WEXJBGyd1e6k",
        "outputId": "85faace7-73ab-461c-d5f1-002b26f36a50"
      },
      "execution_count": 43,
      "outputs": [
        {
          "output_type": "execute_result",
          "data": {
            "text/plain": [
              "Prediction(uid=1, iid=1172, r_ui=3, est=3.423968547182108, details={'was_impossible': False})"
            ]
          },
          "metadata": {},
          "execution_count": 43
        }
      ]
    },
    {
      "cell_type": "code",
      "source": [
        "ratings[(ratings['userId'] == 1) & (ratings['movieId'] == 1172)]"
      ],
      "metadata": {
        "colab": {
          "base_uri": "https://localhost:8080/",
          "height": 81
        },
        "id": "d6KHYu3S3O23",
        "outputId": "40d8df62-d0e8-44ab-b1d6-e82336a81a12"
      },
      "execution_count": 44,
      "outputs": [
        {
          "output_type": "execute_result",
          "data": {
            "text/plain": [
              "   userId  movieId  rating   timestamp\n",
              "4       1     1172     4.0  1260759205"
            ],
            "text/html": [
              "\n",
              "  <div id=\"df-8fdb037e-6fb4-4f2e-b3e1-f8803e634fd3\">\n",
              "    <div class=\"colab-df-container\">\n",
              "      <div>\n",
              "<style scoped>\n",
              "    .dataframe tbody tr th:only-of-type {\n",
              "        vertical-align: middle;\n",
              "    }\n",
              "\n",
              "    .dataframe tbody tr th {\n",
              "        vertical-align: top;\n",
              "    }\n",
              "\n",
              "    .dataframe thead th {\n",
              "        text-align: right;\n",
              "    }\n",
              "</style>\n",
              "<table border=\"1\" class=\"dataframe\">\n",
              "  <thead>\n",
              "    <tr style=\"text-align: right;\">\n",
              "      <th></th>\n",
              "      <th>userId</th>\n",
              "      <th>movieId</th>\n",
              "      <th>rating</th>\n",
              "      <th>timestamp</th>\n",
              "    </tr>\n",
              "  </thead>\n",
              "  <tbody>\n",
              "    <tr>\n",
              "      <th>4</th>\n",
              "      <td>1</td>\n",
              "      <td>1172</td>\n",
              "      <td>4.0</td>\n",
              "      <td>1260759205</td>\n",
              "    </tr>\n",
              "  </tbody>\n",
              "</table>\n",
              "</div>\n",
              "      <button class=\"colab-df-convert\" onclick=\"convertToInteractive('df-8fdb037e-6fb4-4f2e-b3e1-f8803e634fd3')\"\n",
              "              title=\"Convert this dataframe to an interactive table.\"\n",
              "              style=\"display:none;\">\n",
              "        \n",
              "  <svg xmlns=\"http://www.w3.org/2000/svg\" height=\"24px\"viewBox=\"0 0 24 24\"\n",
              "       width=\"24px\">\n",
              "    <path d=\"M0 0h24v24H0V0z\" fill=\"none\"/>\n",
              "    <path d=\"M18.56 5.44l.94 2.06.94-2.06 2.06-.94-2.06-.94-.94-2.06-.94 2.06-2.06.94zm-11 1L8.5 8.5l.94-2.06 2.06-.94-2.06-.94L8.5 2.5l-.94 2.06-2.06.94zm10 10l.94 2.06.94-2.06 2.06-.94-2.06-.94-.94-2.06-.94 2.06-2.06.94z\"/><path d=\"M17.41 7.96l-1.37-1.37c-.4-.4-.92-.59-1.43-.59-.52 0-1.04.2-1.43.59L10.3 9.45l-7.72 7.72c-.78.78-.78 2.05 0 2.83L4 21.41c.39.39.9.59 1.41.59.51 0 1.02-.2 1.41-.59l7.78-7.78 2.81-2.81c.8-.78.8-2.07 0-2.86zM5.41 20L4 18.59l7.72-7.72 1.47 1.35L5.41 20z\"/>\n",
              "  </svg>\n",
              "      </button>\n",
              "      \n",
              "  <style>\n",
              "    .colab-df-container {\n",
              "      display:flex;\n",
              "      flex-wrap:wrap;\n",
              "      gap: 12px;\n",
              "    }\n",
              "\n",
              "    .colab-df-convert {\n",
              "      background-color: #E8F0FE;\n",
              "      border: none;\n",
              "      border-radius: 50%;\n",
              "      cursor: pointer;\n",
              "      display: none;\n",
              "      fill: #1967D2;\n",
              "      height: 32px;\n",
              "      padding: 0 0 0 0;\n",
              "      width: 32px;\n",
              "    }\n",
              "\n",
              "    .colab-df-convert:hover {\n",
              "      background-color: #E2EBFA;\n",
              "      box-shadow: 0px 1px 2px rgba(60, 64, 67, 0.3), 0px 1px 3px 1px rgba(60, 64, 67, 0.15);\n",
              "      fill: #174EA6;\n",
              "    }\n",
              "\n",
              "    [theme=dark] .colab-df-convert {\n",
              "      background-color: #3B4455;\n",
              "      fill: #D2E3FC;\n",
              "    }\n",
              "\n",
              "    [theme=dark] .colab-df-convert:hover {\n",
              "      background-color: #434B5C;\n",
              "      box-shadow: 0px 1px 3px 1px rgba(0, 0, 0, 0.15);\n",
              "      filter: drop-shadow(0px 1px 2px rgba(0, 0, 0, 0.3));\n",
              "      fill: #FFFFFF;\n",
              "    }\n",
              "  </style>\n",
              "\n",
              "      <script>\n",
              "        const buttonEl =\n",
              "          document.querySelector('#df-8fdb037e-6fb4-4f2e-b3e1-f8803e634fd3 button.colab-df-convert');\n",
              "        buttonEl.style.display =\n",
              "          google.colab.kernel.accessAllowed ? 'block' : 'none';\n",
              "\n",
              "        async function convertToInteractive(key) {\n",
              "          const element = document.querySelector('#df-8fdb037e-6fb4-4f2e-b3e1-f8803e634fd3');\n",
              "          const dataTable =\n",
              "            await google.colab.kernel.invokeFunction('convertToInteractive',\n",
              "                                                     [key], {});\n",
              "          if (!dataTable) return;\n",
              "\n",
              "          const docLinkHtml = 'Like what you see? Visit the ' +\n",
              "            '<a target=\"_blank\" href=https://colab.research.google.com/notebooks/data_table.ipynb>data table notebook</a>'\n",
              "            + ' to learn more about interactive tables.';\n",
              "          element.innerHTML = '';\n",
              "          dataTable['output_type'] = 'display_data';\n",
              "          await google.colab.output.renderOutput(dataTable, element);\n",
              "          const docLink = document.createElement('div');\n",
              "          docLink.innerHTML = docLinkHtml;\n",
              "          element.appendChild(docLink);\n",
              "        }\n",
              "      </script>\n",
              "    </div>\n",
              "  </div>\n",
              "  "
            ]
          },
          "metadata": {},
          "execution_count": 44
        }
      ]
    },
    {
      "cell_type": "markdown",
      "source": [
        "예측값과 실제값의 일부 사례를 관찰해보았습니다."
      ],
      "metadata": {
        "id": "35CdBPw14RX7"
      }
    },
    {
      "cell_type": "markdown",
      "source": [
        "# 출처"
      ],
      "metadata": {
        "id": "5QyVOZSv5AyN"
      }
    },
    {
      "cell_type": "markdown",
      "source": [
        "데이터\n",
        "\n",
        "https://www.kaggle.com/datasets/tmdb/tmdb-movie-metadata\n",
        "\n",
        "https://www.kaggle.com/datasets/rounakbanik/the-movies-dataset\n",
        "\n",
        "코드\n",
        "\n",
        "https://www.kaggle.com/code/ibtesama/getting-started-with-a-movie-recommendation-system\n",
        "\n",
        "참고자료\n",
        "\n",
        "https://wiserloner.tistory.com/917\n",
        "\n",
        "https://seing.tistory.com/67"
      ],
      "metadata": {
        "id": "UcbxYQ7r5CZC"
      }
    }
  ],
  "metadata": {
    "colab": {
      "collapsed_sections": [],
      "name": "movie.ipynb",
      "provenance": [],
      "toc_visible": true,
      "authorship_tag": "ABX9TyOm551ee3BOiBag5IcvE2zd"
    },
    "gpuClass": "standard",
    "kernelspec": {
      "display_name": "Python 3",
      "name": "python3"
    },
    "language_info": {
      "name": "python"
    }
  },
  "nbformat": 4,
  "nbformat_minor": 0
}