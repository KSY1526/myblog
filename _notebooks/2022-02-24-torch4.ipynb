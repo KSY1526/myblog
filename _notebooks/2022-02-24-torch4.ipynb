{
  "nbformat": 4,
  "nbformat_minor": 0,
  "metadata": {
    "colab": {
      "name": "torch4.ipynb",
      "provenance": [],
      "collapsed_sections": [],
      "authorship_tag": "ABX9TyNdX6Q24PrAWU2abSNwbygQ",
      "include_colab_link": true
    },
    "kernelspec": {
      "name": "python3",
      "display_name": "Python 3"
    },
    "language_info": {
      "name": "python"
    },
    "accelerator": "GPU"
  },
  "cells": [
    {
      "cell_type": "markdown",
      "metadata": {
        "id": "view-in-github",
        "colab_type": "text"
      },
      "source": [
        "<a href=\"https://colab.research.google.com/github/KSY1526/myblog/blob/master/_notebooks/2022-02-24-torch4.ipynb\" target=\"_parent\"><img src=\"https://colab.research.google.com/assets/colab-badge.svg\" alt=\"Open In Colab\"/></a>"
      ]
    },
    {
      "cell_type": "markdown",
      "source": [
        "# \"[DACON] 사물 이미지 분류 경진대회 With Pytorch\"\n",
        "- author: Seong Yeon Kim \n",
        "- categories: [jupyter, Deep Learning, Pytorch, DACON, Classifier, conputer vision] \n",
        "- image: images/220204.png"
      ],
      "metadata": {
        "id": "vr2TNPHp0ndP"
      }
    },
    {
      "cell_type": "markdown",
      "source": [
        "# 데이터 구글 드라이브에 저장하기"
      ],
      "metadata": {
        "id": "C5j1DiAX0nfu"
      }
    },
    {
      "cell_type": "code",
      "execution_count": 162,
      "metadata": {
        "id": "Wc4gjLTI0kdi",
        "colab": {
          "base_uri": "https://localhost:8080/"
        },
        "outputId": "7003f760-d1c2-4d8c-b46d-834422a73fc6"
      },
      "outputs": [
        {
          "output_type": "stream",
          "name": "stdout",
          "text": [
            "Drive already mounted at /content/drive; to attempt to forcibly remount, call drive.mount(\"/content/drive\", force_remount=True).\n"
          ]
        }
      ],
      "source": [
        "from google.colab import drive\n",
        "drive.mount('/content/drive')"
      ]
    },
    {
      "cell_type": "markdown",
      "source": [
        "코랩과 구글 드라이브를 연동하는 코드입니다. 구글 드라이브 내 파일을 코랩에서도 접근할 수 있게됩니다."
      ],
      "metadata": {
        "id": "XRoE-pxV6kFD"
      }
    },
    {
      "cell_type": "code",
      "source": [
        "# %cd /content/drive/MyDrive/ObjectDetect\n",
        "\n",
        "# !unzip -qq '/content/drive/MyDrive/ObjectDetect/data.zip'"
      ],
      "metadata": {
        "id": "KmYnHB3N6N8C"
      },
      "execution_count": 163,
      "outputs": []
    },
    {
      "cell_type": "markdown",
      "source": [
        "데이터를 저장하는 다른 더 좋고 빠른 방법이 있을 수도 있는데, 제가 발견한 방법 중 가장 좋은 방법을 소개합니다.\n",
        "\n",
        "우선 데이콘 내 데이터를 압축된 형태로 다운받고, 구글 드라이브 내 압축된 파일 그대로 업로드 합니다.\n",
        "\n",
        "(제 기준 /content/drive/MyDrive/ObjectDetect 공간에 data.zip 파일을 넣었습니다. 여러분 상황에 맞게 주소를 바꾸시면 됩니다.)\n",
        "\n",
        "그 후 위 코드를 주석을 해제한 뒤 주소를 data.zip을 저장한 위치로 수정하시고 코드를 실행하시면 약 5분 뒤 압축 해제가 잘 됩니다.\n",
        "\n",
        "압축 해제 후 구글 드라이브 업로드, 구글 드라이브 내 압축 해제보다는 이 방법이 괜찮은 것 같아 소개합니다.\n",
        "\n",
        "더 좋은 방법 있으면 같이 공유 부탁드려요~"
      ],
      "metadata": {
        "id": "8rc41eA46zHD"
      }
    },
    {
      "cell_type": "markdown",
      "source": [
        "# 필요한 패키지 설치하고 기본 설정 하기"
      ],
      "metadata": {
        "id": "C4iJM-jH6UPK"
      }
    },
    {
      "cell_type": "code",
      "source": [
        "import os\n",
        "from glob import glob\n",
        "from typing import Tuple, Sequence, Callable\n",
        "\n",
        "import numpy as np\n",
        "import pandas as pd\n",
        "\n",
        "import PIL\n",
        "from PIL import Image\n",
        "from matplotlib.pyplot import imshow\n",
        "\n",
        "import torch\n",
        "import torch.optim as optim\n",
        "from torch import nn, Tensor\n",
        "import torch.nn.functional as F\n",
        "from torch.utils.data import Dataset, DataLoader\n",
        "\n",
        "!pip install torchinfo\n",
        "from torchinfo import summary\n",
        "\n",
        "import torchvision\n",
        "from torchvision import transforms\n",
        "from torchvision.models import resnet50\n",
        "\n",
        "from tqdm import tqdm, tqdm_notebook"
      ],
      "metadata": {
        "id": "9Jyu_BXp_qki",
        "colab": {
          "base_uri": "https://localhost:8080/"
        },
        "outputId": "c912047a-ebde-403b-b2f0-67fe99dec181"
      },
      "execution_count": 164,
      "outputs": [
        {
          "output_type": "stream",
          "name": "stdout",
          "text": [
            "Requirement already satisfied: torchinfo in /usr/local/lib/python3.7/dist-packages (1.6.3)\n"
          ]
        }
      ]
    },
    {
      "cell_type": "markdown",
      "source": [
        "파이토치, 넘파이, 판다스 등 필요한 패키지를 임포트 했습니다."
      ],
      "metadata": {
        "id": "JKnCphra8Pxm"
      }
    },
    {
      "cell_type": "code",
      "source": [
        "path = '/content/drive/MyDrive/ObjectDetect/'\n",
        "\n",
        "batch_size = 32\n",
        "num_epochs = 20\n",
        "learning_rate = 0.001\n",
        "\n",
        "labels = {0:'airplane', 1:'automobile', 2:'bird', 3:'cat', 4:'deer',\n",
        "          5:'dog', 6:'frog', 7:'horse', 8:'ship', 9:'truck'}\n",
        "\n",
        "# gpu 사용중일땐 cuda, gpu 사용 불가능할땐 cpu 사용.\n",
        "device = torch.device('cuda' if torch.cuda.is_available() else 'cpu')\n",
        "\n",
        "torch.manual_seed(777)\n",
        "if device =='cuda':\n",
        "    torch.cuda.manual_seed_all(777)"
      ],
      "metadata": {
        "id": "4C6C6DKv8Pg8"
      },
      "execution_count": 186,
      "outputs": []
    },
    {
      "cell_type": "markdown",
      "source": [
        "데이터의 저장 위치와 배치 사이즈, 에포크 수, 러닝 레이트 값, 장치 등을 지정했습니다. \n",
        "\n",
        "각 레이블 번호는 알파벳 순서대로 배정했습니다.\n",
        "\n",
        "이 코드를 따라하신다면 path만 파일 저장 위치로 바꾸시면 됩니다."
      ],
      "metadata": {
        "id": "WUWXIXp29rSw"
      }
    },
    {
      "cell_type": "markdown",
      "source": [
        "# 데이터 불러오기"
      ],
      "metadata": {
        "id": "yauGDZPE8LPp"
      }
    },
    {
      "cell_type": "code",
      "source": [
        "img = Image.open(path + 'train/airplane/0001.jpg') \n",
        "imshow(np.asarray(img))"
      ],
      "metadata": {
        "colab": {
          "base_uri": "https://localhost:8080/",
          "height": 284
        },
        "id": "71qsvA45GmJ4",
        "outputId": "0435d366-1666-4987-b1f8-50819c8e5d34"
      },
      "execution_count": 166,
      "outputs": [
        {
          "output_type": "execute_result",
          "data": {
            "text/plain": [
              "<matplotlib.image.AxesImage at 0x7fcd91417310>"
            ]
          },
          "metadata": {},
          "execution_count": 166
        },
        {
          "output_type": "display_data",
          "data": {
            "image/png": "[encoded data removed]",
            "text/plain": [
              "<Figure size 432x288 with 1 Axes>"
            ]
          },
          "metadata": {
            "needs_background": "light"
          }
        }
      ]
    },
    {
      "cell_type": "markdown",
      "source": [
        "PIL와 matplotlib 패키지를 가지고 이미지를 시각화 할 수 있습니다. \n",
        "\n",
        "데이터 분석을 하기 전 그래도 이미지 데이터인데 한번 시각적으로 확인했습니다."
      ],
      "metadata": {
        "id": "9R8TZMPU-UW_"
      }
    },
    {
      "cell_type": "code",
      "source": [
        "train_images = []\n",
        "train_labels = []\n",
        "\n",
        "i = 0\n",
        "for filename in sorted(glob(path + \"train/*\")):\n",
        "    for img in tqdm(glob(filename + \"/*.jpg\")):\n",
        "        an_img = PIL.Image.open(img) # 이미지를 읽습니다.\n",
        "        img_array = np.array(an_img) # 이미지 데이터를 숫자로 변환합니다.\n",
        "        train_images.append(img_array) # 리스트에 데이터 실기.\n",
        "        label = i \n",
        "        train_labels.append(label)\n",
        "\n",
        "    i += 1 # 다음 폴더에는 다음 라벨\n",
        "\n",
        "train_images = np.array(train_images)\n",
        "\n",
        "print(train_images.shape)"
      ],
      "metadata": {
        "colab": {
          "base_uri": "https://localhost:8080/"
        },
        "id": "XWpQl9yF2Lqo",
        "outputId": "e31c775a-d18b-46e0-c2bd-743f45d219fe"
      },
      "execution_count": 167,
      "outputs": [
        {
          "output_type": "stream",
          "name": "stderr",
          "text": [
            "100%|██████████| 5000/5000 [00:16<00:00, 302.23it/s]\n",
            "100%|██████████| 5000/5000 [00:18<00:00, 270.39it/s]\n",
            "100%|██████████| 5000/5000 [00:18<00:00, 266.35it/s]\n",
            "100%|██████████| 5000/5000 [00:12<00:00, 404.58it/s]\n",
            "100%|██████████| 5000/5000 [00:13<00:00, 358.46it/s]\n",
            "100%|██████████| 5000/5000 [00:11<00:00, 418.30it/s]\n",
            "100%|██████████| 5000/5000 [00:11<00:00, 425.91it/s]\n",
            "100%|██████████| 5000/5000 [00:12<00:00, 392.43it/s]\n",
            "100%|██████████| 5000/5000 [00:12<00:00, 397.02it/s]\n",
            "100%|██████████| 5000/5000 [00:12<00:00, 404.29it/s]\n"
          ]
        },
        {
          "output_type": "stream",
          "name": "stdout",
          "text": [
            "(50000, 32, 32, 3)\n"
          ]
        }
      ]
    },
    {
      "cell_type": "markdown",
      "source": [
        "파이토치 내 ImageFolder 함수를 사용하는 것이 편리하지만, 이후 모델 학습시 데이터를 찾을때 계속 구글드라이브를 탐색하는 형태이기 때문에 지나치게 느립니다.\n",
        "\n",
        "그래서 트레인 데이터를 폴더 별로 반복문을 사용해 모두 직접 다운로드 하였습니다.\n",
        "\n",
        "sorted로 폴더 이름을 정렬한 뒤 i를 업데이트 했기 때문에 알파벳 순서대로 라벨 숫자를 입력했습니다.\n",
        "\n",
        "입력된 데이터를 관찰하면 개수가 5만개이며 32 * 32 이미지 픽셀이고, 3채널(RGB값) 으로 구성되있습니다!"
      ],
      "metadata": {
        "id": "1HSs-oQeKCVn"
      }
    },
    {
      "cell_type": "code",
      "source": [
        "test_images = []\n",
        "\n",
        "\n",
        "for filename in tqdm(sorted(glob(path + \"test/*.jpg\"))):\n",
        "    an_img = PIL.Image.open(filename) # 이미지를 읽습니다.\n",
        "    img_array = np.array(an_img) # 이미지 데이터를 숫자로 변환합니다.\n",
        "    test_images.append(img_array) # 리스트에 데이터 실기.\n",
        "\n",
        "test_images = np.array(test_images)"
      ],
      "metadata": {
        "colab": {
          "base_uri": "https://localhost:8080/"
        },
        "id": "bGlCWioE5WX_",
        "outputId": "386e73d6-cfbf-4579-b996-6ff18503578d"
      },
      "execution_count": 239,
      "outputs": [
        {
          "output_type": "stream",
          "name": "stderr",
          "text": [
            "100%|██████████| 10000/10000 [00:25<00:00, 385.08it/s]\n"
          ]
        }
      ]
    },
    {
      "cell_type": "markdown",
      "source": [
        "테스트 데이터도 마찬가지로 진행했습니다."
      ],
      "metadata": {
        "id": "u-6lKaw_PtxT"
      }
    },
    {
      "cell_type": "markdown",
      "source": [
        "# 불러온 데이터로 데이터 셋 만들기"
      ],
      "metadata": {
        "id": "TmaBc0xYP1mN"
      }
    },
    {
      "cell_type": "code",
      "source": [
        "class CustomDataset(Dataset):\n",
        "    def __init__(self, transform, mode = 'train'):\n",
        "        self.transform = transform \n",
        "        if mode == 'train':\n",
        "            self.img_list = train_images \n",
        "            self.img_labels = train_labels\n",
        "        elif mode == 'test':\n",
        "            self.img_list = test_images\n",
        "            self.img_labels = [0] * 10000 # 형식을 맞추기 위해\n",
        "\n",
        "    def __len__(self):\n",
        "        return len(self.img_list)\n",
        "\n",
        "    def __getitem__(self, idx):\n",
        "        return self.transform(self.img_list[idx]), self.img_labels[idx]"
      ],
      "metadata": {
        "id": "4hMj77dB77Cz"
      },
      "execution_count": 169,
      "outputs": []
    },
    {
      "cell_type": "markdown",
      "source": [
        "파이토치 내 Dataset 클래스를 상속해서 Dataset을 정의했습니다. 뒤에 다루는 DataLoader 클래스와 호환이 되기 때문에 반드시 필요합니다.\n",
        "\n",
        "추상 클래스이기 때문에 반드시 새로 정의해야 하는 함수는 init, len, getitem 입니다.\n",
        "\n",
        "init 부분은 클래스 선언시 자동으로 실행되는 함수입니다. 생성자 개념이죠. 이미지 데이터와 라벨값을 저장해줍니다.\n",
        "\n",
        "이때 테스트 데이터는 라벨이 없지만, 형식을 맞춰주기 위해 임의로 0라벨을 붙히겠습니다.\n",
        "\n",
        "len 부분은 데이터 길이만 배출하면 됩니다. getitem 부분은 정해진 인덱스의 데이터를 출력해줘야 합니다.\n",
        "\n",
        "DataLoader가 len과 getitem 함수를 사용하기 때문에 잘 정의해야합니다."
      ],
      "metadata": {
        "id": "vECqVJ-bP6JA"
      }
    },
    {
      "cell_type": "code",
      "source": [
        "tensor = transforms.Compose(\n",
        "    [transforms.ToTensor()]\n",
        ")\n",
        "\n",
        "train_set = CustomDataset(tensor, mode = 'train')\n",
        "test_set = CustomDataset(tensor, mode = 'test')"
      ],
      "metadata": {
        "id": "AtqkkLrbFkvk"
      },
      "execution_count": 242,
      "outputs": []
    },
    {
      "cell_type": "markdown",
      "source": [
        "파이토치 모델은 텐서 단위로 다루기 때문에 텐서로 변환하는 transforms 을 만든 뒤 데이터 셋을 만듭니다."
      ],
      "metadata": {
        "id": "shlTBNzMAEFb"
      }
    },
    {
      "cell_type": "code",
      "source": [
        "meanRGB = [np.mean(x.numpy(), axis=(1,2)) for x,_ in train_set]\n",
        "stdRGB = [np.std(x.numpy(), axis=(1,2)) for x,_ in train_set]\n",
        "\n",
        "meanR = np.mean([m[0] for m in meanRGB])\n",
        "meanG = np.mean([m[1] for m in meanRGB])\n",
        "meanB = np.mean([m[2] for m in meanRGB])\n",
        "\n",
        "stdR = np.mean([s[0] for s in stdRGB])\n",
        "stdG = np.mean([s[1] for s in stdRGB])\n",
        "stdB = np.mean([s[2] for s in stdRGB])\n",
        "\n",
        "print(meanR, meanG, meanB)\n",
        "print(stdR, stdG, stdB)"
      ],
      "metadata": {
        "colab": {
          "base_uri": "https://localhost:8080/"
        },
        "id": "yNXqrK8vGtu9",
        "outputId": "9d9f3902-675d-4f0e-bdc7-83c06fbdb8a2"
      },
      "execution_count": 243,
      "outputs": [
        {
          "output_type": "stream",
          "name": "stdout",
          "text": [
            "0.49125046 0.48208782 0.44651186\n",
            "0.20106333 0.19889629 0.20135581\n"
          ]
        }
      ]
    },
    {
      "cell_type": "markdown",
      "source": [
        "입력된 이미지 데이터를 정규화(표준화) 시켜주겠습니다. 정규화를 위해서 표본 평균과 표준오차를 구하는 모습입니다."
      ],
      "metadata": {
        "id": "f4VxsHulRep2"
      }
    },
    {
      "cell_type": "code",
      "source": [
        "transform = transforms.Compose([\n",
        "    transforms.ToTensor(),\n",
        "    transforms.Normalize([meanR, meanG, meanB], [stdR, stdG, stdB])\n",
        "])\n",
        "\n",
        "train_set.transform = transform\n",
        "test_set.transform = transform"
      ],
      "metadata": {
        "id": "gq0icfL-ERQX"
      },
      "execution_count": 244,
      "outputs": []
    },
    {
      "cell_type": "markdown",
      "source": [
        "파이토치 내 Compose 함수를 한번 더 사용하고, 앞서 구한 표본평균과 표준오차를 이용해 transform을 만들었습니다.\n",
        "\n",
        "데이터를 데이터 셋 형태로 정리했기 때문에 'train_set.transform = transform' 이 코드만 사용하면 간편하게 적용이 가능합니다."
      ],
      "metadata": {
        "id": "KBj87hGJR5mq"
      }
    },
    {
      "cell_type": "code",
      "source": [
        "train_set.__len__()"
      ],
      "metadata": {
        "colab": {
          "base_uri": "https://localhost:8080/"
        },
        "id": "5-AbOgmiF4vm",
        "outputId": "44539637-aba8-4b2f-ecf0-83fa30f24e6e"
      },
      "execution_count": 176,
      "outputs": [
        {
          "output_type": "execute_result",
          "data": {
            "text/plain": [
              "50000"
            ]
          },
          "metadata": {},
          "execution_count": 176
        }
      ]
    },
    {
      "cell_type": "code",
      "source": [
        "train_set.__getitem__(40)"
      ],
      "metadata": {
        "colab": {
          "base_uri": "https://localhost:8080/"
        },
        "id": "ADrAY9q47-n1",
        "outputId": "89cd3233-26c9-4cc4-8344-9f9767f221b6"
      },
      "execution_count": 179,
      "outputs": [
        {
          "output_type": "execute_result",
          "data": {
            "text/plain": [
              "(tensor([[[-0.5124, -0.5124, -0.4538,  ..., -0.4343, -0.4538, -0.4538],\n",
              "          [-0.5124, -0.5124, -0.4538,  ..., -0.4538, -0.4538, -0.4733],\n",
              "          [-0.5514, -0.5709, -0.5124,  ..., -0.4733, -0.4733, -0.4928],\n",
              "          ...,\n",
              "          [-1.6826, -1.6436, -1.6241,  ..., -1.7801, -1.7216, -1.5656],\n",
              "          [-1.6631, -1.6436, -1.6241,  ..., -1.3510, -1.3705, -1.5071],\n",
              "          [-1.7606, -1.7411, -1.7216,  ..., -1.7216, -1.7021, -1.5656]],\n",
              " \n",
              "         [[ 0.2379,  0.2379,  0.2971,  ...,  0.3957,  0.3759,  0.3759],\n",
              "          [ 0.2379,  0.2379,  0.2971,  ...,  0.3759,  0.3759,  0.3562],\n",
              "          [ 0.2576,  0.2379,  0.2971,  ...,  0.3562,  0.3562,  0.3365],\n",
              "          ...,\n",
              "          [-1.1028, -1.1028, -1.0831,  ..., -1.3591, -1.3591, -1.2014],\n",
              "          [-1.0831, -1.0634, -1.0831,  ..., -0.9845, -1.0042, -1.1422],\n",
              "          [-1.1817, -1.1619, -1.1422,  ..., -1.3591, -1.3394, -1.2014]],\n",
              " \n",
              "         [[ 0.4117,  0.4117,  0.4701,  ...,  0.3922,  0.3728,  0.3728],\n",
              "          [ 0.4117,  0.4117,  0.4701,  ...,  0.3728,  0.3728,  0.3533],\n",
              "          [ 0.4117,  0.3922,  0.4507,  ...,  0.3533,  0.3533,  0.3338],\n",
              "          ...,\n",
              "          [-1.1464, -1.1269, -1.1074,  ..., -1.3411, -1.3216, -1.1658],\n",
              "          [-1.1269, -1.1074, -1.1074,  ..., -0.9126, -0.9321, -1.0685],\n",
              "          [-1.2243, -1.2048, -1.1853,  ..., -1.2827, -1.2632, -1.1269]]]), 0)"
            ]
          },
          "metadata": {},
          "execution_count": 179
        }
      ]
    },
    {
      "cell_type": "markdown",
      "source": [
        "실제 값으로 확인해보면 32 * 32가 맞는것으로 보이며, 뒤에 라벨 값으로 0이 달려있는 모습입니다.\n",
        "\n",
        "__len __, __getitem __함수로 데이터 값을 불러올 수 있는 걸 보니 파이토치 내 Dataset 클래스 형태로 데이터가 잘 입력된 것 같습니다."
      ],
      "metadata": {
        "id": "AkN2hgevBxVK"
      }
    },
    {
      "cell_type": "markdown",
      "source": [
        "# 데이터셋을 데이터 로더에 실기"
      ],
      "metadata": {
        "id": "5seKZEZTET6o"
      }
    },
    {
      "cell_type": "code",
      "source": [
        "train_loader = DataLoader(train_set, batch_size = batch_size, num_workers=2, shuffle=True)\n",
        "test_loader = DataLoader(test_set, batch_size = batch_size, num_workers=2)"
      ],
      "metadata": {
        "id": "lbojFIgFGMli"
      },
      "execution_count": 245,
      "outputs": []
    },
    {
      "cell_type": "markdown",
      "source": [
        "앞서 정의한 데이터 셋을 파이토치 내 데이터 로더에 실습니다. 이렇게 하는 이유는 배치단위로 모델에 적용하기 쉽기 때문입니다.\n",
        "\n",
        "여기서 중요한 점은 테스트 데이터는 셔플을 해줘야 합니다. 데이터가 라벨 값으로 정렬되어 있는데, 학습에 큰 문제가 되기 때문입니다.\n",
        "\n",
        "셔플을 True로 해주게 되면 또 하나의 장점이 에포크가 바뀔때마다 로더 내 데이터 패치를 다시 섞어줍니다."
      ],
      "metadata": {
        "id": "wZ81jeNTEfmR"
      }
    },
    {
      "cell_type": "code",
      "source": [
        "for batch_idx, samples in enumerate(train_loader):\n",
        "    if batch_idx > 0:\n",
        "        break\n",
        "    print(samples[0].shape)\n",
        "    print(samples[1])"
      ],
      "metadata": {
        "colab": {
          "base_uri": "https://localhost:8080/"
        },
        "id": "8-3vSTk2Ehue",
        "outputId": "e48172a2-c21a-4b7e-c5b2-b690382988dd"
      },
      "execution_count": 181,
      "outputs": [
        {
          "output_type": "stream",
          "name": "stdout",
          "text": [
            "torch.Size([32, 3, 32, 32])\n",
            "tensor([2, 8, 2, 5, 7, 1, 9, 0, 8, 0, 3, 1, 7, 2, 9, 6, 3, 6, 2, 9, 2, 1, 5, 5,\n",
            "        9, 8, 2, 8, 1, 6, 5, 1])\n"
          ]
        }
      ]
    },
    {
      "cell_type": "markdown",
      "source": [
        "데이터 로더를 보다 상세히 관찰해보면 배치단위, 채널수, 32 * 32 로 잘 들어가 있는걸 관찰할 수 있으며, 라벨값도 잘 들어가 있습니다."
      ],
      "metadata": {
        "id": "GmID3U_NF6rE"
      }
    },
    {
      "cell_type": "markdown",
      "source": [
        "# 모델 만들기"
      ],
      "metadata": {
        "id": "uzAWc2UJEgfl"
      }
    },
    {
      "cell_type": "code",
      "source": [
        "class Model(nn.Module):\n",
        "    def __init__(self) -> None:\n",
        "        super().__init__()\n",
        "        self.resnet = resnet50(pretrained=False)\n",
        "        self.classifier = nn.Linear(1000, 10)\n",
        "\n",
        "    def forward(self, x):\n",
        "        x = self.resnet(x)\n",
        "        x = self.classifier(x)\n",
        "\n",
        "        return x"
      ],
      "metadata": {
        "id": "iMT1jY_FO9fy"
      },
      "execution_count": 182,
      "outputs": []
    },
    {
      "cell_type": "markdown",
      "source": [
        "파이토치 내 nn.Module 클래스를 상속하고 resnet50 을 사용하여 모델을 정의했습니다.\n",
        "\n",
        "이때 대회 규칙 상 사전학습이 안되므로 pretrained=False 로 잘 지정해줘야합니다."
      ],
      "metadata": {
        "id": "ycTpKLUwGJd6"
      }
    },
    {
      "cell_type": "code",
      "source": [
        "model = Model().to(device)\n",
        "print(summary(model, input_size = (1,3,32,32)))"
      ],
      "metadata": {
        "colab": {
          "base_uri": "https://localhost:8080/"
        },
        "id": "Y-eFw2i-PmMd",
        "outputId": "a2907025-cad5-4a7c-9dac-95e9cbfdb0f2"
      },
      "execution_count": 188,
      "outputs": [
        {
          "output_type": "stream",
          "name": "stdout",
          "text": [
            "===============================================================================================\n",
            "Layer (type:depth-idx)                        Output Shape              Param #\n",
            "===============================================================================================\n",
            "Model                                         --                        --\n",
            "├─ResNet: 1-1                                 [1, 1000]                 --\n",
            "│    └─Conv2d: 2-1                            [1, 64, 16, 16]           9,408\n",
            "│    └─BatchNorm2d: 2-2                       [1, 64, 16, 16]           128\n",
            "│    └─ReLU: 2-3                              [1, 64, 16, 16]           --\n",
            "│    └─MaxPool2d: 2-4                         [1, 64, 8, 8]             --\n",
            "│    └─Sequential: 2-5                        [1, 256, 8, 8]            --\n",
            "│    │    └─Bottleneck: 3-1                   [1, 256, 8, 8]            75,008\n",
            "│    │    └─Bottleneck: 3-2                   [1, 256, 8, 8]            70,400\n",
            "│    │    └─Bottleneck: 3-3                   [1, 256, 8, 8]            70,400\n",
            "│    └─Sequential: 2-6                        [1, 512, 4, 4]            --\n",
            "│    │    └─Bottleneck: 3-4                   [1, 512, 4, 4]            379,392\n",
            "│    │    └─Bottleneck: 3-5                   [1, 512, 4, 4]            280,064\n",
            "│    │    └─Bottleneck: 3-6                   [1, 512, 4, 4]            280,064\n",
            "│    │    └─Bottleneck: 3-7                   [1, 512, 4, 4]            280,064\n",
            "│    └─Sequential: 2-7                        [1, 1024, 2, 2]           --\n",
            "│    │    └─Bottleneck: 3-8                   [1, 1024, 2, 2]           1,512,448\n",
            "│    │    └─Bottleneck: 3-9                   [1, 1024, 2, 2]           1,117,184\n",
            "│    │    └─Bottleneck: 3-10                  [1, 1024, 2, 2]           1,117,184\n",
            "│    │    └─Bottleneck: 3-11                  [1, 1024, 2, 2]           1,117,184\n",
            "│    │    └─Bottleneck: 3-12                  [1, 1024, 2, 2]           1,117,184\n",
            "│    │    └─Bottleneck: 3-13                  [1, 1024, 2, 2]           1,117,184\n",
            "│    └─Sequential: 2-8                        [1, 2048, 1, 1]           --\n",
            "│    │    └─Bottleneck: 3-14                  [1, 2048, 1, 1]           6,039,552\n",
            "│    │    └─Bottleneck: 3-15                  [1, 2048, 1, 1]           4,462,592\n",
            "│    │    └─Bottleneck: 3-16                  [1, 2048, 1, 1]           4,462,592\n",
            "│    └─AdaptiveAvgPool2d: 2-9                 [1, 2048, 1, 1]           --\n",
            "│    └─Linear: 2-10                           [1, 1000]                 2,049,000\n",
            "├─Linear: 1-2                                 [1, 10]                   10,010\n",
            "===============================================================================================\n",
            "Total params: 25,567,042\n",
            "Trainable params: 25,567,042\n",
            "Non-trainable params: 0\n",
            "Total mult-adds (M): 85.52\n",
            "===============================================================================================\n",
            "Input size (MB): 0.01\n",
            "Forward/backward pass size (MB): 3.64\n",
            "Params size (MB): 102.27\n",
            "Estimated Total Size (MB): 105.92\n",
            "===============================================================================================\n"
          ]
        }
      ]
    },
    {
      "cell_type": "markdown",
      "source": [
        "파이토치에서 중요하게 알아두어야 할 것이 디바이스(GPU를 주로 사용합니다) 내 실어줘야 하는것이 모델과 입력 값, 라벨 값 입니다.\n",
        "\n",
        "여기서 to(device) 를 사용하여 모델을 디바이스 내 실어주었습니다.\n",
        "\n",
        "앞서 정의한 모델을 직관적으로 관찰하기 위해 torchinfo(summary) 를 사용하였습니다.\n",
        "\n",
        "모델 구조가 복잡한 것도 그렇고, 모델 파라미터는 25,567,042개니 역시 '딥'러닝이네요. \n",
        "\n"
      ],
      "metadata": {
        "id": "TEV7KpB8GuIz"
      }
    },
    {
      "cell_type": "markdown",
      "source": [
        "# 모델 학습하기"
      ],
      "metadata": {
        "id": "CzZjeem3QTpr"
      }
    },
    {
      "cell_type": "code",
      "source": [
        "optimizer = optim.Adam(model.parameters(), lr = learning_rate)\n",
        "criterion = nn.CrossEntropyLoss()\n",
        "\n",
        "model.train()\n",
        "\n",
        "for epoch in range(num_epochs):\n",
        "    for i, (images, targets) in tqdm(enumerate(train_loader)):\n",
        "        optimizer.zero_grad()\n",
        "\n",
        "        images = images.to(device)\n",
        "        targets = targets.to(device)\n",
        "\n",
        "        outputs = model(images)\n",
        "        loss = criterion(outputs, targets)\n",
        "\n",
        "        loss.backward()\n",
        "        optimizer.step()\n",
        "\n",
        "        if (i+1) % 200 == 0:\n",
        "            max_vals, max_indices = torch.max(outputs, 1)\n",
        "            acc = (targets == max_indices).float().mean()\n",
        "            print(f'{loss.item():.5f}, {acc.item():.5f}')"
      ],
      "metadata": {
        "colab": {
          "base_uri": "https://localhost:8080/"
        },
        "id": "s2uWjlw0P3jk",
        "outputId": "36907403-6b68-4b73-a3ec-8660b79830db"
      },
      "execution_count": 189,
      "outputs": [
        {
          "output_type": "stream",
          "name": "stderr",
          "text": [
            "201it [00:20,  9.48it/s]"
          ]
        },
        {
          "output_type": "stream",
          "name": "stdout",
          "text": [
            "2.03402, 0.25000\n"
          ]
        },
        {
          "output_type": "stream",
          "name": "stderr",
          "text": [
            "402it [00:41,  9.71it/s]"
          ]
        },
        {
          "output_type": "stream",
          "name": "stdout",
          "text": [
            "1.68516, 0.40625\n"
          ]
        },
        {
          "output_type": "stream",
          "name": "stderr",
          "text": [
            "601it [01:01,  9.59it/s]"
          ]
        },
        {
          "output_type": "stream",
          "name": "stdout",
          "text": [
            "2.04422, 0.28125\n"
          ]
        },
        {
          "output_type": "stream",
          "name": "stderr",
          "text": [
            "802it [01:21,  9.71it/s]"
          ]
        },
        {
          "output_type": "stream",
          "name": "stdout",
          "text": [
            "1.48867, 0.46875\n"
          ]
        },
        {
          "output_type": "stream",
          "name": "stderr",
          "text": [
            "1001it [01:41,  9.63it/s]"
          ]
        },
        {
          "output_type": "stream",
          "name": "stdout",
          "text": [
            "1.43756, 0.46875\n"
          ]
        },
        {
          "output_type": "stream",
          "name": "stderr",
          "text": [
            "1202it [02:02,  9.70it/s]"
          ]
        },
        {
          "output_type": "stream",
          "name": "stdout",
          "text": [
            "1.60528, 0.40625\n"
          ]
        },
        {
          "output_type": "stream",
          "name": "stderr",
          "text": [
            "1402it [02:22,  9.63it/s]"
          ]
        },
        {
          "output_type": "stream",
          "name": "stdout",
          "text": [
            "1.23092, 0.62500\n"
          ]
        },
        {
          "output_type": "stream",
          "name": "stderr",
          "text": [
            "1563it [02:39,  9.82it/s]\n",
            "201it [00:20,  9.62it/s]"
          ]
        },
        {
          "output_type": "stream",
          "name": "stdout",
          "text": [
            "1.57936, 0.43750\n"
          ]
        },
        {
          "output_type": "stream",
          "name": "stderr",
          "text": [
            "401it [00:40,  9.75it/s]"
          ]
        },
        {
          "output_type": "stream",
          "name": "stdout",
          "text": [
            "1.51674, 0.43750\n"
          ]
        },
        {
          "output_type": "stream",
          "name": "stderr",
          "text": [
            "602it [01:01,  9.75it/s]"
          ]
        },
        {
          "output_type": "stream",
          "name": "stdout",
          "text": [
            "1.81981, 0.37500\n"
          ]
        },
        {
          "output_type": "stream",
          "name": "stderr",
          "text": [
            "801it [01:21,  9.59it/s]"
          ]
        },
        {
          "output_type": "stream",
          "name": "stdout",
          "text": [
            "1.41190, 0.56250\n"
          ]
        },
        {
          "output_type": "stream",
          "name": "stderr",
          "text": [
            "1000it [01:42,  9.32it/s]"
          ]
        },
        {
          "output_type": "stream",
          "name": "stdout",
          "text": [
            "1.63900, 0.40625\n"
          ]
        },
        {
          "output_type": "stream",
          "name": "stderr",
          "text": [
            "1201it [02:04,  9.56it/s]"
          ]
        },
        {
          "output_type": "stream",
          "name": "stdout",
          "text": [
            "1.07908, 0.59375\n"
          ]
        },
        {
          "output_type": "stream",
          "name": "stderr",
          "text": [
            "1401it [02:26,  9.69it/s]"
          ]
        },
        {
          "output_type": "stream",
          "name": "stdout",
          "text": [
            "1.33048, 0.56250\n"
          ]
        },
        {
          "output_type": "stream",
          "name": "stderr",
          "text": [
            "1563it [02:42,  9.62it/s]\n",
            "201it [00:21,  9.40it/s]"
          ]
        },
        {
          "output_type": "stream",
          "name": "stdout",
          "text": [
            "1.38050, 0.53125\n"
          ]
        },
        {
          "output_type": "stream",
          "name": "stderr",
          "text": [
            "401it [00:41,  9.25it/s]"
          ]
        },
        {
          "output_type": "stream",
          "name": "stdout",
          "text": [
            "1.46519, 0.50000\n"
          ]
        },
        {
          "output_type": "stream",
          "name": "stderr",
          "text": [
            "601it [01:02,  9.59it/s]"
          ]
        },
        {
          "output_type": "stream",
          "name": "stdout",
          "text": [
            "1.54906, 0.43750\n"
          ]
        },
        {
          "output_type": "stream",
          "name": "stderr",
          "text": [
            "801it [01:22,  9.61it/s]"
          ]
        },
        {
          "output_type": "stream",
          "name": "stdout",
          "text": [
            "1.55637, 0.40625\n"
          ]
        },
        {
          "output_type": "stream",
          "name": "stderr",
          "text": [
            "1001it [01:43,  9.65it/s]"
          ]
        },
        {
          "output_type": "stream",
          "name": "stdout",
          "text": [
            "1.28245, 0.59375\n"
          ]
        },
        {
          "output_type": "stream",
          "name": "stderr",
          "text": [
            "1202it [02:03,  9.77it/s]"
          ]
        },
        {
          "output_type": "stream",
          "name": "stdout",
          "text": [
            "1.17159, 0.59375\n"
          ]
        },
        {
          "output_type": "stream",
          "name": "stderr",
          "text": [
            "1401it [02:24,  9.53it/s]"
          ]
        },
        {
          "output_type": "stream",
          "name": "stdout",
          "text": [
            "1.21823, 0.59375\n"
          ]
        },
        {
          "output_type": "stream",
          "name": "stderr",
          "text": [
            "1563it [02:40,  9.72it/s]\n",
            "201it [00:20,  9.41it/s]"
          ]
        },
        {
          "output_type": "stream",
          "name": "stdout",
          "text": [
            "1.38219, 0.53125\n"
          ]
        },
        {
          "output_type": "stream",
          "name": "stderr",
          "text": [
            "401it [00:41,  9.45it/s]"
          ]
        },
        {
          "output_type": "stream",
          "name": "stdout",
          "text": [
            "1.07596, 0.68750\n"
          ]
        },
        {
          "output_type": "stream",
          "name": "stderr",
          "text": [
            "601it [01:02,  9.57it/s]"
          ]
        },
        {
          "output_type": "stream",
          "name": "stdout",
          "text": [
            "1.51185, 0.50000\n"
          ]
        },
        {
          "output_type": "stream",
          "name": "stderr",
          "text": [
            "801it [01:22,  9.51it/s]"
          ]
        },
        {
          "output_type": "stream",
          "name": "stdout",
          "text": [
            "0.88233, 0.68750\n"
          ]
        },
        {
          "output_type": "stream",
          "name": "stderr",
          "text": [
            "1002it [01:46,  9.64it/s]"
          ]
        },
        {
          "output_type": "stream",
          "name": "stdout",
          "text": [
            "0.92160, 0.68750\n"
          ]
        },
        {
          "output_type": "stream",
          "name": "stderr",
          "text": [
            "1202it [02:07,  9.68it/s]"
          ]
        },
        {
          "output_type": "stream",
          "name": "stdout",
          "text": [
            "0.87461, 0.68750\n"
          ]
        },
        {
          "output_type": "stream",
          "name": "stderr",
          "text": [
            "1401it [02:27,  9.55it/s]"
          ]
        },
        {
          "output_type": "stream",
          "name": "stdout",
          "text": [
            "0.92864, 0.62500\n"
          ]
        },
        {
          "output_type": "stream",
          "name": "stderr",
          "text": [
            "1563it [02:44,  9.49it/s]\n",
            "201it [00:21,  9.57it/s]"
          ]
        },
        {
          "output_type": "stream",
          "name": "stdout",
          "text": [
            "1.02033, 0.71875\n"
          ]
        },
        {
          "output_type": "stream",
          "name": "stderr",
          "text": [
            "401it [00:42,  9.56it/s]"
          ]
        },
        {
          "output_type": "stream",
          "name": "stdout",
          "text": [
            "0.67408, 0.78125\n"
          ]
        },
        {
          "output_type": "stream",
          "name": "stderr",
          "text": [
            "601it [01:03,  6.73it/s]"
          ]
        },
        {
          "output_type": "stream",
          "name": "stdout",
          "text": [
            "1.29992, 0.53125\n"
          ]
        },
        {
          "output_type": "stream",
          "name": "stderr",
          "text": [
            "801it [01:24,  9.57it/s]"
          ]
        },
        {
          "output_type": "stream",
          "name": "stdout",
          "text": [
            "1.12536, 0.59375\n"
          ]
        },
        {
          "output_type": "stream",
          "name": "stderr",
          "text": [
            "1001it [01:45,  9.60it/s]"
          ]
        },
        {
          "output_type": "stream",
          "name": "stdout",
          "text": [
            "1.28840, 0.56250\n"
          ]
        },
        {
          "output_type": "stream",
          "name": "stderr",
          "text": [
            "1201it [02:05,  9.43it/s]"
          ]
        },
        {
          "output_type": "stream",
          "name": "stdout",
          "text": [
            "0.82536, 0.71875\n"
          ]
        },
        {
          "output_type": "stream",
          "name": "stderr",
          "text": [
            "1401it [02:27,  9.25it/s]"
          ]
        },
        {
          "output_type": "stream",
          "name": "stdout",
          "text": [
            "0.70235, 0.78125\n"
          ]
        },
        {
          "output_type": "stream",
          "name": "stderr",
          "text": [
            "1563it [02:44,  9.53it/s]\n",
            "201it [00:22,  9.50it/s]"
          ]
        },
        {
          "output_type": "stream",
          "name": "stdout",
          "text": [
            "0.93481, 0.68750\n"
          ]
        },
        {
          "output_type": "stream",
          "name": "stderr",
          "text": [
            "401it [00:42,  9.29it/s]"
          ]
        },
        {
          "output_type": "stream",
          "name": "stdout",
          "text": [
            "0.46380, 0.84375\n"
          ]
        },
        {
          "output_type": "stream",
          "name": "stderr",
          "text": [
            "601it [01:03,  9.21it/s]"
          ]
        },
        {
          "output_type": "stream",
          "name": "stdout",
          "text": [
            "1.15582, 0.56250\n"
          ]
        },
        {
          "output_type": "stream",
          "name": "stderr",
          "text": [
            "801it [01:23,  9.25it/s]"
          ]
        },
        {
          "output_type": "stream",
          "name": "stdout",
          "text": [
            "0.64076, 0.78125\n"
          ]
        },
        {
          "output_type": "stream",
          "name": "stderr",
          "text": [
            "1001it [01:44,  9.57it/s]"
          ]
        },
        {
          "output_type": "stream",
          "name": "stdout",
          "text": [
            "1.25706, 0.65625\n"
          ]
        },
        {
          "output_type": "stream",
          "name": "stderr",
          "text": [
            "1201it [02:05,  9.49it/s]"
          ]
        },
        {
          "output_type": "stream",
          "name": "stdout",
          "text": [
            "1.23735, 0.65625\n"
          ]
        },
        {
          "output_type": "stream",
          "name": "stderr",
          "text": [
            "1401it [02:26,  9.52it/s]"
          ]
        },
        {
          "output_type": "stream",
          "name": "stdout",
          "text": [
            "0.80131, 0.65625\n"
          ]
        },
        {
          "output_type": "stream",
          "name": "stderr",
          "text": [
            "1563it [02:42,  9.60it/s]\n",
            "201it [00:20,  9.37it/s]"
          ]
        },
        {
          "output_type": "stream",
          "name": "stdout",
          "text": [
            "0.81935, 0.68750\n"
          ]
        },
        {
          "output_type": "stream",
          "name": "stderr",
          "text": [
            "401it [00:41,  9.49it/s]"
          ]
        },
        {
          "output_type": "stream",
          "name": "stdout",
          "text": [
            "1.07775, 0.65625\n"
          ]
        },
        {
          "output_type": "stream",
          "name": "stderr",
          "text": [
            "601it [01:02,  9.49it/s]"
          ]
        },
        {
          "output_type": "stream",
          "name": "stdout",
          "text": [
            "0.79303, 0.75000\n"
          ]
        },
        {
          "output_type": "stream",
          "name": "stderr",
          "text": [
            "801it [01:22,  9.32it/s]"
          ]
        },
        {
          "output_type": "stream",
          "name": "stdout",
          "text": [
            "0.60452, 0.78125\n"
          ]
        },
        {
          "output_type": "stream",
          "name": "stderr",
          "text": [
            "1001it [01:43,  9.25it/s]"
          ]
        },
        {
          "output_type": "stream",
          "name": "stdout",
          "text": [
            "0.89765, 0.71875\n"
          ]
        },
        {
          "output_type": "stream",
          "name": "stderr",
          "text": [
            "1201it [02:04,  9.45it/s]"
          ]
        },
        {
          "output_type": "stream",
          "name": "stdout",
          "text": [
            "0.79112, 0.65625\n"
          ]
        },
        {
          "output_type": "stream",
          "name": "stderr",
          "text": [
            "1401it [02:24,  9.49it/s]"
          ]
        },
        {
          "output_type": "stream",
          "name": "stdout",
          "text": [
            "0.47540, 0.81250\n"
          ]
        },
        {
          "output_type": "stream",
          "name": "stderr",
          "text": [
            "1563it [02:41,  9.70it/s]\n",
            "201it [00:20,  9.49it/s]"
          ]
        },
        {
          "output_type": "stream",
          "name": "stdout",
          "text": [
            "0.50384, 0.87500\n"
          ]
        },
        {
          "output_type": "stream",
          "name": "stderr",
          "text": [
            "401it [00:43,  8.21it/s]"
          ]
        },
        {
          "output_type": "stream",
          "name": "stdout",
          "text": [
            "0.74633, 0.75000\n"
          ]
        },
        {
          "output_type": "stream",
          "name": "stderr",
          "text": [
            "601it [01:09,  9.47it/s]"
          ]
        },
        {
          "output_type": "stream",
          "name": "stdout",
          "text": [
            "0.68515, 0.78125\n"
          ]
        },
        {
          "output_type": "stream",
          "name": "stderr",
          "text": [
            "801it [01:30,  9.59it/s]"
          ]
        },
        {
          "output_type": "stream",
          "name": "stdout",
          "text": [
            "0.64061, 0.84375\n"
          ]
        },
        {
          "output_type": "stream",
          "name": "stderr",
          "text": [
            "1001it [01:50,  9.50it/s]"
          ]
        },
        {
          "output_type": "stream",
          "name": "stdout",
          "text": [
            "0.85828, 0.59375\n"
          ]
        },
        {
          "output_type": "stream",
          "name": "stderr",
          "text": [
            "1201it [02:11,  9.44it/s]"
          ]
        },
        {
          "output_type": "stream",
          "name": "stdout",
          "text": [
            "0.45279, 0.87500\n"
          ]
        },
        {
          "output_type": "stream",
          "name": "stderr",
          "text": [
            "1401it [02:31,  9.39it/s]"
          ]
        },
        {
          "output_type": "stream",
          "name": "stdout",
          "text": [
            "0.80346, 0.71875\n"
          ]
        },
        {
          "output_type": "stream",
          "name": "stderr",
          "text": [
            "1563it [02:49,  9.25it/s]\n",
            "201it [00:20,  9.57it/s]"
          ]
        },
        {
          "output_type": "stream",
          "name": "stdout",
          "text": [
            "0.44945, 0.87500\n"
          ]
        },
        {
          "output_type": "stream",
          "name": "stderr",
          "text": [
            "401it [00:45,  7.71it/s]"
          ]
        },
        {
          "output_type": "stream",
          "name": "stdout",
          "text": [
            "0.79414, 0.71875\n"
          ]
        },
        {
          "output_type": "stream",
          "name": "stderr",
          "text": [
            "601it [01:12,  6.42it/s]"
          ]
        },
        {
          "output_type": "stream",
          "name": "stdout",
          "text": [
            "0.48421, 0.87500\n"
          ]
        },
        {
          "output_type": "stream",
          "name": "stderr",
          "text": [
            "801it [01:33,  9.57it/s]"
          ]
        },
        {
          "output_type": "stream",
          "name": "stdout",
          "text": [
            "1.00993, 0.68750\n"
          ]
        },
        {
          "output_type": "stream",
          "name": "stderr",
          "text": [
            "1001it [01:54,  9.46it/s]"
          ]
        },
        {
          "output_type": "stream",
          "name": "stdout",
          "text": [
            "0.53396, 0.87500\n"
          ]
        },
        {
          "output_type": "stream",
          "name": "stderr",
          "text": [
            "1201it [02:14,  9.52it/s]"
          ]
        },
        {
          "output_type": "stream",
          "name": "stdout",
          "text": [
            "0.63844, 0.71875\n"
          ]
        },
        {
          "output_type": "stream",
          "name": "stderr",
          "text": [
            "1401it [02:35,  9.50it/s]"
          ]
        },
        {
          "output_type": "stream",
          "name": "stdout",
          "text": [
            "0.67957, 0.81250\n"
          ]
        },
        {
          "output_type": "stream",
          "name": "stderr",
          "text": [
            "1563it [02:52,  9.07it/s]\n",
            "201it [00:20,  9.38it/s]"
          ]
        },
        {
          "output_type": "stream",
          "name": "stdout",
          "text": [
            "0.25926, 0.93750\n"
          ]
        },
        {
          "output_type": "stream",
          "name": "stderr",
          "text": [
            "401it [00:41,  9.47it/s]"
          ]
        },
        {
          "output_type": "stream",
          "name": "stdout",
          "text": [
            "0.61564, 0.71875\n"
          ]
        },
        {
          "output_type": "stream",
          "name": "stderr",
          "text": [
            "601it [01:01,  9.54it/s]"
          ]
        },
        {
          "output_type": "stream",
          "name": "stdout",
          "text": [
            "0.74993, 0.84375\n"
          ]
        },
        {
          "output_type": "stream",
          "name": "stderr",
          "text": [
            "801it [01:22,  9.48it/s]"
          ]
        },
        {
          "output_type": "stream",
          "name": "stdout",
          "text": [
            "0.98167, 0.71875\n"
          ]
        },
        {
          "output_type": "stream",
          "name": "stderr",
          "text": [
            "1000it [01:43,  9.49it/s]"
          ]
        },
        {
          "output_type": "stream",
          "name": "stdout",
          "text": [
            "0.33597, 0.87500\n"
          ]
        },
        {
          "output_type": "stream",
          "name": "stderr",
          "text": [
            "1201it [02:03,  9.45it/s]"
          ]
        },
        {
          "output_type": "stream",
          "name": "stdout",
          "text": [
            "0.72271, 0.71875\n"
          ]
        },
        {
          "output_type": "stream",
          "name": "stderr",
          "text": [
            "1401it [02:24,  9.53it/s]"
          ]
        },
        {
          "output_type": "stream",
          "name": "stdout",
          "text": [
            "0.45406, 0.90625\n"
          ]
        },
        {
          "output_type": "stream",
          "name": "stderr",
          "text": [
            "1563it [02:41,  9.71it/s]\n",
            "201it [00:20,  9.44it/s]"
          ]
        },
        {
          "output_type": "stream",
          "name": "stdout",
          "text": [
            "0.57367, 0.81250\n"
          ]
        },
        {
          "output_type": "stream",
          "name": "stderr",
          "text": [
            "401it [00:41,  9.44it/s]"
          ]
        },
        {
          "output_type": "stream",
          "name": "stdout",
          "text": [
            "0.34390, 0.87500\n"
          ]
        },
        {
          "output_type": "stream",
          "name": "stderr",
          "text": [
            "600it [01:01,  9.42it/s]"
          ]
        },
        {
          "output_type": "stream",
          "name": "stdout",
          "text": [
            "0.66048, 0.75000\n"
          ]
        },
        {
          "output_type": "stream",
          "name": "stderr",
          "text": [
            "801it [01:22,  9.40it/s]"
          ]
        },
        {
          "output_type": "stream",
          "name": "stdout",
          "text": [
            "0.64899, 0.75000\n"
          ]
        },
        {
          "output_type": "stream",
          "name": "stderr",
          "text": [
            "1001it [01:42,  9.57it/s]"
          ]
        },
        {
          "output_type": "stream",
          "name": "stdout",
          "text": [
            "0.51046, 0.84375\n"
          ]
        },
        {
          "output_type": "stream",
          "name": "stderr",
          "text": [
            "1201it [02:03,  9.41it/s]"
          ]
        },
        {
          "output_type": "stream",
          "name": "stdout",
          "text": [
            "0.49834, 0.87500\n"
          ]
        },
        {
          "output_type": "stream",
          "name": "stderr",
          "text": [
            "1401it [02:23,  9.45it/s]"
          ]
        },
        {
          "output_type": "stream",
          "name": "stdout",
          "text": [
            "0.38570, 0.84375\n"
          ]
        },
        {
          "output_type": "stream",
          "name": "stderr",
          "text": [
            "1563it [02:40,  9.75it/s]\n",
            "201it [00:29,  9.44it/s]"
          ]
        },
        {
          "output_type": "stream",
          "name": "stdout",
          "text": [
            "0.44295, 0.84375\n"
          ]
        },
        {
          "output_type": "stream",
          "name": "stderr",
          "text": [
            "400it [00:50,  9.39it/s]"
          ]
        },
        {
          "output_type": "stream",
          "name": "stdout",
          "text": [
            "0.63138, 0.81250\n"
          ]
        },
        {
          "output_type": "stream",
          "name": "stderr",
          "text": [
            "601it [01:10,  9.49it/s]"
          ]
        },
        {
          "output_type": "stream",
          "name": "stdout",
          "text": [
            "1.09141, 0.68750\n"
          ]
        },
        {
          "output_type": "stream",
          "name": "stderr",
          "text": [
            "800it [01:31,  9.58it/s]"
          ]
        },
        {
          "output_type": "stream",
          "name": "stdout",
          "text": [
            "0.79246, 0.68750\n"
          ]
        },
        {
          "output_type": "stream",
          "name": "stderr",
          "text": [
            "1000it [01:51,  9.40it/s]"
          ]
        },
        {
          "output_type": "stream",
          "name": "stdout",
          "text": [
            "0.35505, 0.81250\n"
          ]
        },
        {
          "output_type": "stream",
          "name": "stderr",
          "text": [
            "1202it [02:12,  9.74it/s]"
          ]
        },
        {
          "output_type": "stream",
          "name": "stdout",
          "text": [
            "0.53283, 0.84375\n"
          ]
        },
        {
          "output_type": "stream",
          "name": "stderr",
          "text": [
            "1401it [02:32,  9.53it/s]"
          ]
        },
        {
          "output_type": "stream",
          "name": "stdout",
          "text": [
            "0.32168, 0.93750\n"
          ]
        },
        {
          "output_type": "stream",
          "name": "stderr",
          "text": [
            "1563it [02:49,  9.23it/s]\n",
            "201it [00:20,  9.53it/s]"
          ]
        },
        {
          "output_type": "stream",
          "name": "stdout",
          "text": [
            "0.25396, 0.87500\n"
          ]
        },
        {
          "output_type": "stream",
          "name": "stderr",
          "text": [
            "402it [00:41,  9.67it/s]"
          ]
        },
        {
          "output_type": "stream",
          "name": "stdout",
          "text": [
            "0.36281, 0.84375\n"
          ]
        },
        {
          "output_type": "stream",
          "name": "stderr",
          "text": [
            "601it [01:01,  9.56it/s]"
          ]
        },
        {
          "output_type": "stream",
          "name": "stdout",
          "text": [
            "0.16314, 0.90625\n"
          ]
        },
        {
          "output_type": "stream",
          "name": "stderr",
          "text": [
            "802it [01:21,  9.74it/s]"
          ]
        },
        {
          "output_type": "stream",
          "name": "stdout",
          "text": [
            "0.53413, 0.81250\n"
          ]
        },
        {
          "output_type": "stream",
          "name": "stderr",
          "text": [
            "1002it [01:42,  9.68it/s]"
          ]
        },
        {
          "output_type": "stream",
          "name": "stdout",
          "text": [
            "0.17970, 0.93750\n"
          ]
        },
        {
          "output_type": "stream",
          "name": "stderr",
          "text": [
            "1201it [02:02,  9.54it/s]"
          ]
        },
        {
          "output_type": "stream",
          "name": "stdout",
          "text": [
            "0.30832, 0.87500\n"
          ]
        },
        {
          "output_type": "stream",
          "name": "stderr",
          "text": [
            "1401it [02:22,  9.51it/s]"
          ]
        },
        {
          "output_type": "stream",
          "name": "stdout",
          "text": [
            "0.43612, 0.84375\n"
          ]
        },
        {
          "output_type": "stream",
          "name": "stderr",
          "text": [
            "1563it [02:39,  9.80it/s]\n",
            "201it [00:20,  9.50it/s]"
          ]
        },
        {
          "output_type": "stream",
          "name": "stdout",
          "text": [
            "0.28544, 0.90625\n"
          ]
        },
        {
          "output_type": "stream",
          "name": "stderr",
          "text": [
            "401it [00:40,  9.35it/s]"
          ]
        },
        {
          "output_type": "stream",
          "name": "stdout",
          "text": [
            "0.20452, 0.93750\n"
          ]
        },
        {
          "output_type": "stream",
          "name": "stderr",
          "text": [
            "602it [01:01,  9.65it/s]"
          ]
        },
        {
          "output_type": "stream",
          "name": "stdout",
          "text": [
            "0.57266, 0.81250\n"
          ]
        },
        {
          "output_type": "stream",
          "name": "stderr",
          "text": [
            "801it [01:21,  9.50it/s]"
          ]
        },
        {
          "output_type": "stream",
          "name": "stdout",
          "text": [
            "0.44896, 0.84375\n"
          ]
        },
        {
          "output_type": "stream",
          "name": "stderr",
          "text": [
            "1001it [01:42,  9.59it/s]"
          ]
        },
        {
          "output_type": "stream",
          "name": "stdout",
          "text": [
            "0.07010, 0.96875\n"
          ]
        },
        {
          "output_type": "stream",
          "name": "stderr",
          "text": [
            "1201it [02:02,  9.60it/s]"
          ]
        },
        {
          "output_type": "stream",
          "name": "stdout",
          "text": [
            "0.47427, 0.84375\n"
          ]
        },
        {
          "output_type": "stream",
          "name": "stderr",
          "text": [
            "1402it [02:23,  9.73it/s]"
          ]
        },
        {
          "output_type": "stream",
          "name": "stdout",
          "text": [
            "0.28636, 0.87500\n"
          ]
        },
        {
          "output_type": "stream",
          "name": "stderr",
          "text": [
            "1563it [02:39,  9.80it/s]\n",
            "201it [00:20,  9.52it/s]"
          ]
        },
        {
          "output_type": "stream",
          "name": "stdout",
          "text": [
            "0.64141, 0.84375\n"
          ]
        },
        {
          "output_type": "stream",
          "name": "stderr",
          "text": [
            "400it [00:40,  9.33it/s]"
          ]
        },
        {
          "output_type": "stream",
          "name": "stdout",
          "text": [
            "0.35076, 0.90625\n"
          ]
        },
        {
          "output_type": "stream",
          "name": "stderr",
          "text": [
            "601it [01:01,  9.54it/s]"
          ]
        },
        {
          "output_type": "stream",
          "name": "stdout",
          "text": [
            "0.61805, 0.84375\n"
          ]
        },
        {
          "output_type": "stream",
          "name": "stderr",
          "text": [
            "801it [01:21,  9.43it/s]"
          ]
        },
        {
          "output_type": "stream",
          "name": "stdout",
          "text": [
            "0.41816, 0.93750\n"
          ]
        },
        {
          "output_type": "stream",
          "name": "stderr",
          "text": [
            "1001it [01:42,  9.39it/s]"
          ]
        },
        {
          "output_type": "stream",
          "name": "stdout",
          "text": [
            "0.27354, 0.87500\n"
          ]
        },
        {
          "output_type": "stream",
          "name": "stderr",
          "text": [
            "1202it [02:02,  9.61it/s]"
          ]
        },
        {
          "output_type": "stream",
          "name": "stdout",
          "text": [
            "1.46630, 0.84375\n"
          ]
        },
        {
          "output_type": "stream",
          "name": "stderr",
          "text": [
            "1401it [02:23,  9.58it/s]"
          ]
        },
        {
          "output_type": "stream",
          "name": "stdout",
          "text": [
            "0.71938, 0.75000\n"
          ]
        },
        {
          "output_type": "stream",
          "name": "stderr",
          "text": [
            "1563it [02:39,  9.79it/s]\n",
            "202it [00:20,  9.64it/s]"
          ]
        },
        {
          "output_type": "stream",
          "name": "stdout",
          "text": [
            "0.16202, 0.93750\n"
          ]
        },
        {
          "output_type": "stream",
          "name": "stderr",
          "text": [
            "401it [00:40,  9.47it/s]"
          ]
        },
        {
          "output_type": "stream",
          "name": "stdout",
          "text": [
            "0.10540, 1.00000\n"
          ]
        },
        {
          "output_type": "stream",
          "name": "stderr",
          "text": [
            "602it [01:01,  9.64it/s]"
          ]
        },
        {
          "output_type": "stream",
          "name": "stdout",
          "text": [
            "0.16295, 0.93750\n"
          ]
        },
        {
          "output_type": "stream",
          "name": "stderr",
          "text": [
            "802it [01:21,  9.69it/s]"
          ]
        },
        {
          "output_type": "stream",
          "name": "stdout",
          "text": [
            "0.14185, 0.96875\n"
          ]
        },
        {
          "output_type": "stream",
          "name": "stderr",
          "text": [
            "1001it [01:42,  9.51it/s]"
          ]
        },
        {
          "output_type": "stream",
          "name": "stdout",
          "text": [
            "0.08471, 1.00000\n"
          ]
        },
        {
          "output_type": "stream",
          "name": "stderr",
          "text": [
            "1201it [02:02,  9.46it/s]"
          ]
        },
        {
          "output_type": "stream",
          "name": "stdout",
          "text": [
            "0.20972, 0.90625\n"
          ]
        },
        {
          "output_type": "stream",
          "name": "stderr",
          "text": [
            "1401it [02:23,  9.38it/s]"
          ]
        },
        {
          "output_type": "stream",
          "name": "stdout",
          "text": [
            "0.31754, 0.87500\n"
          ]
        },
        {
          "output_type": "stream",
          "name": "stderr",
          "text": [
            "1563it [02:39,  9.79it/s]\n",
            "201it [00:20,  9.57it/s]"
          ]
        },
        {
          "output_type": "stream",
          "name": "stdout",
          "text": [
            "0.02871, 1.00000\n"
          ]
        },
        {
          "output_type": "stream",
          "name": "stderr",
          "text": [
            "400it [00:40,  9.41it/s]"
          ]
        },
        {
          "output_type": "stream",
          "name": "stdout",
          "text": [
            "0.62937, 0.87500\n"
          ]
        },
        {
          "output_type": "stream",
          "name": "stderr",
          "text": [
            "600it [01:01,  9.41it/s]"
          ]
        },
        {
          "output_type": "stream",
          "name": "stdout",
          "text": [
            "0.17031, 0.93750\n"
          ]
        },
        {
          "output_type": "stream",
          "name": "stderr",
          "text": [
            "801it [01:21,  9.31it/s]"
          ]
        },
        {
          "output_type": "stream",
          "name": "stdout",
          "text": [
            "0.30475, 0.90625\n"
          ]
        },
        {
          "output_type": "stream",
          "name": "stderr",
          "text": [
            "1001it [01:42,  9.49it/s]"
          ]
        },
        {
          "output_type": "stream",
          "name": "stdout",
          "text": [
            "0.18417, 0.93750\n"
          ]
        },
        {
          "output_type": "stream",
          "name": "stderr",
          "text": [
            "1201it [02:03,  9.44it/s]"
          ]
        },
        {
          "output_type": "stream",
          "name": "stdout",
          "text": [
            "0.29402, 0.87500\n"
          ]
        },
        {
          "output_type": "stream",
          "name": "stderr",
          "text": [
            "1402it [02:24,  9.53it/s]"
          ]
        },
        {
          "output_type": "stream",
          "name": "stdout",
          "text": [
            "0.22230, 0.90625\n"
          ]
        },
        {
          "output_type": "stream",
          "name": "stderr",
          "text": [
            "1563it [02:40,  9.72it/s]\n",
            "201it [00:20,  9.50it/s]"
          ]
        },
        {
          "output_type": "stream",
          "name": "stdout",
          "text": [
            "0.15602, 0.93750\n"
          ]
        },
        {
          "output_type": "stream",
          "name": "stderr",
          "text": [
            "401it [00:41,  9.35it/s]"
          ]
        },
        {
          "output_type": "stream",
          "name": "stdout",
          "text": [
            "0.13093, 0.96875\n"
          ]
        },
        {
          "output_type": "stream",
          "name": "stderr",
          "text": [
            "601it [01:01,  9.37it/s]"
          ]
        },
        {
          "output_type": "stream",
          "name": "stdout",
          "text": [
            "0.16693, 0.93750\n"
          ]
        },
        {
          "output_type": "stream",
          "name": "stderr",
          "text": [
            "801it [01:22,  9.50it/s]"
          ]
        },
        {
          "output_type": "stream",
          "name": "stdout",
          "text": [
            "0.14665, 0.96875\n"
          ]
        },
        {
          "output_type": "stream",
          "name": "stderr",
          "text": [
            "1001it [01:43,  9.41it/s]"
          ]
        },
        {
          "output_type": "stream",
          "name": "stdout",
          "text": [
            "0.69271, 0.81250\n"
          ]
        },
        {
          "output_type": "stream",
          "name": "stderr",
          "text": [
            "1201it [02:03,  9.47it/s]"
          ]
        },
        {
          "output_type": "stream",
          "name": "stdout",
          "text": [
            "0.25087, 0.90625\n"
          ]
        },
        {
          "output_type": "stream",
          "name": "stderr",
          "text": [
            "1400it [02:24,  9.23it/s]"
          ]
        },
        {
          "output_type": "stream",
          "name": "stdout",
          "text": [
            "0.67821, 0.78125\n"
          ]
        },
        {
          "output_type": "stream",
          "name": "stderr",
          "text": [
            "1563it [02:40,  9.72it/s]\n",
            "201it [00:20,  9.45it/s]"
          ]
        },
        {
          "output_type": "stream",
          "name": "stdout",
          "text": [
            "0.38167, 0.87500\n"
          ]
        },
        {
          "output_type": "stream",
          "name": "stderr",
          "text": [
            "401it [00:41,  9.37it/s]"
          ]
        },
        {
          "output_type": "stream",
          "name": "stdout",
          "text": [
            "0.27044, 0.87500\n"
          ]
        },
        {
          "output_type": "stream",
          "name": "stderr",
          "text": [
            "601it [01:01,  9.52it/s]"
          ]
        },
        {
          "output_type": "stream",
          "name": "stdout",
          "text": [
            "0.11917, 0.96875\n"
          ]
        },
        {
          "output_type": "stream",
          "name": "stderr",
          "text": [
            "801it [01:22,  9.47it/s]"
          ]
        },
        {
          "output_type": "stream",
          "name": "stdout",
          "text": [
            "0.07680, 0.96875\n"
          ]
        },
        {
          "output_type": "stream",
          "name": "stderr",
          "text": [
            "1001it [01:42,  9.58it/s]"
          ]
        },
        {
          "output_type": "stream",
          "name": "stdout",
          "text": [
            "0.36528, 0.81250\n"
          ]
        },
        {
          "output_type": "stream",
          "name": "stderr",
          "text": [
            "1202it [02:03,  9.70it/s]"
          ]
        },
        {
          "output_type": "stream",
          "name": "stdout",
          "text": [
            "0.27552, 0.93750\n"
          ]
        },
        {
          "output_type": "stream",
          "name": "stderr",
          "text": [
            "1401it [02:23,  9.49it/s]"
          ]
        },
        {
          "output_type": "stream",
          "name": "stdout",
          "text": [
            "0.16641, 0.93750\n"
          ]
        },
        {
          "output_type": "stream",
          "name": "stderr",
          "text": [
            "1563it [02:40,  9.76it/s]\n",
            "201it [00:20,  9.46it/s]"
          ]
        },
        {
          "output_type": "stream",
          "name": "stdout",
          "text": [
            "0.03546, 1.00000\n"
          ]
        },
        {
          "output_type": "stream",
          "name": "stderr",
          "text": [
            "401it [00:41,  9.46it/s]"
          ]
        },
        {
          "output_type": "stream",
          "name": "stdout",
          "text": [
            "0.18016, 0.90625\n"
          ]
        },
        {
          "output_type": "stream",
          "name": "stderr",
          "text": [
            "601it [01:01,  9.55it/s]"
          ]
        },
        {
          "output_type": "stream",
          "name": "stdout",
          "text": [
            "0.06724, 0.96875\n"
          ]
        },
        {
          "output_type": "stream",
          "name": "stderr",
          "text": [
            "801it [01:21,  9.44it/s]"
          ]
        },
        {
          "output_type": "stream",
          "name": "stdout",
          "text": [
            "0.35314, 0.90625\n"
          ]
        },
        {
          "output_type": "stream",
          "name": "stderr",
          "text": [
            "1000it [01:42,  9.45it/s]"
          ]
        },
        {
          "output_type": "stream",
          "name": "stdout",
          "text": [
            "0.90582, 0.81250\n"
          ]
        },
        {
          "output_type": "stream",
          "name": "stderr",
          "text": [
            "1201it [02:02,  9.54it/s]"
          ]
        },
        {
          "output_type": "stream",
          "name": "stdout",
          "text": [
            "0.22282, 0.96875\n"
          ]
        },
        {
          "output_type": "stream",
          "name": "stderr",
          "text": [
            "1401it [02:23,  9.48it/s]"
          ]
        },
        {
          "output_type": "stream",
          "name": "stdout",
          "text": [
            "0.10338, 0.93750\n"
          ]
        },
        {
          "output_type": "stream",
          "name": "stderr",
          "text": [
            "1563it [02:39,  9.79it/s]\n"
          ]
        }
      ]
    },
    {
      "cell_type": "markdown",
      "source": [
        "옵티마이저로 Adam을, 손실함수로 크로스엔트로피 함수를 사용합니다. 파이토치 내 전부 내장되어있죠.\n",
        "\n",
        "모델을 학습형태로 바꾼 뒤 설정한 에포크 만큼 학습을 진행하겠습니다. 20 에포크 코랩 무료 GPU 기준 1시간정도 걸리네요."
      ],
      "metadata": {
        "id": "kPr8r1csH32P"
      }
    },
    {
      "cell_type": "code",
      "source": [
        "a = [[0.1, 0.2, 0.3], [0.3,0.4,0.2]]\n",
        "a = torch.tensor(a)\n",
        "torch.max(a, 1)"
      ],
      "metadata": {
        "id": "P6QsfB3Q1uT9",
        "colab": {
          "base_uri": "https://localhost:8080/"
        },
        "outputId": "4664e2d2-9aa1-4953-d9d6-c99221e19c7a"
      },
      "execution_count": 190,
      "outputs": [
        {
          "output_type": "execute_result",
          "data": {
            "text/plain": [
              "torch.return_types.max(values=tensor([0.3000, 0.4000]), indices=tensor([2, 1]))"
            ]
          },
          "metadata": {},
          "execution_count": 190
        }
      ]
    },
    {
      "cell_type": "markdown",
      "source": [
        "파이토치 내 max 함수를 사용했을때 결과입니다. 결과를 보시면 윗 반복문 내 if문을 저렇게 사용했는지 아실것 같습니다."
      ],
      "metadata": {
        "id": "iHqOr-LQITiv"
      }
    },
    {
      "cell_type": "markdown",
      "source": [
        "# 트레인 데이터에 모델 적용하기"
      ],
      "metadata": {
        "id": "f4yHm1cnRV5Y"
      }
    },
    {
      "cell_type": "code",
      "source": [
        "sample_submission = pd.read_csv(path + 'sample_submission.csv')\n",
        "\n",
        "model.eval()\n",
        "\n",
        "batch_index = 0\n",
        "\n",
        "for i, (images, targets) in enumerate(test_loader):\n",
        "    images = images.to(device)\n",
        "    outputs = model(images)\n",
        "    batch_index = i * batch_size\n",
        "    max_vals, max_indices = torch.max(outputs, 1)\n",
        "    sample_submission.iloc[batch_index:batch_index + batch_size, 1:] = max_indices.long().cpu().numpy()[:,np.newaxis]\n"
      ],
      "metadata": {
        "id": "YGO-e4ohQ3qn"
      },
      "execution_count": 246,
      "outputs": []
    },
    {
      "cell_type": "markdown",
      "source": [
        "모델을 평가모드로 바꾸고 (가중치 업데이트를 하지 않기 때문입니다.) 테스트 데이터 로더를 모델에 넣습니다.\n",
        "\n",
        "테스트 데이터도 마찬가지로 gpu 사용을 위해선 device에 넣어줘야 합니다."
      ],
      "metadata": {
        "id": "ywg6x-C-dkk7"
      }
    },
    {
      "cell_type": "code",
      "source": [
        "labels = {0:'airplane', 1:'automobile', 2:'bird', 3:'cat', 4:'deer',\n",
        "          5:'dog', 6:'frog', 7:'horse', 8:'ship', 9:'truck'}\n",
        "sample_submission['target'] = sample_submission['target'].map(labels)\n",
        "sample_submission.to_csv('dacon_object_1.csv', index=False)"
      ],
      "metadata": {
        "id": "20orD5Ta4v6U"
      },
      "execution_count": 247,
      "outputs": []
    },
    {
      "cell_type": "markdown",
      "source": [
        "숫자로 나온 값을 문자로 매핑시킨 뒤 csv 파일로 저장합니다. public 값 기준 0.7662정도 나왔는데 과적합이 된 것으로 보여요."
      ],
      "metadata": {
        "id": "WumuPJmAf-Z1"
      }
    }
  ]
}
