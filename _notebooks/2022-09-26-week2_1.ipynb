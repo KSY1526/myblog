{
  "nbformat": 4,
  "nbformat_minor": 0,
  "metadata": {
    "colab": {
      "provenance": [],
      "collapsed_sections": [
        "fv7IPzCWD3mx",
        "b_EbDVEFD_Sb",
        "F207vQ2zJ2dN"
      ],
      "authorship_tag": "ABX9TyNz1DUWtlvPGLaUSXUI4vHl",
      "include_colab_link": true
    },
    "kernelspec": {
      "name": "python3",
      "display_name": "Python 3"
    },
    "language_info": {
      "name": "python"
    },
    "accelerator": "GPU"
  },
  "cells": [
    {
      "cell_type": "markdown",
      "metadata": {
        "id": "view-in-github",
        "colab_type": "text"
      },
      "source": [
        "<a href=\"https://colab.research.google.com/github/KSY1526/myblog/blob/master/_notebooks/2022-09-26-week2_1.ipynb\" target=\"_parent\"><img src=\"https://colab.research.google.com/assets/colab-badge.svg\" alt=\"Open In Colab\"/></a>"
      ]
    },
    {
      "cell_type": "markdown",
      "source": [
        "# \"[BoostCamp]Day6 Colab 환경설정 및 Pytorch 기초\"\n",
        "- author: Seong Yeon Kim \n",
        "- categories: [BoostCamp, Colab, Pytorch, VSCode, Project, setting]\n",
        "- image: images/remote.png\n",
        "- toc: true"
      ],
      "metadata": {
        "id": "CriC5QzHyxX4"
      }
    },
    {
      "cell_type": "markdown",
      "source": [
        "## 파이토치 프로젝트 템플릿"
      ],
      "metadata": {
        "id": "fv7IPzCWD3mx"
      }
    },
    {
      "cell_type": "code",
      "source": [
        "from google.colab import drive\n",
        "drive.mount('/content/drive')"
      ],
      "metadata": {
        "colab": {
          "base_uri": "https://localhost:8080/"
        },
        "id": "D21yI1J8lnPn",
        "outputId": "92569d69-b6c7-4cfe-de15-cbf35e04fc92"
      },
      "execution_count": 1,
      "outputs": [
        {
          "output_type": "stream",
          "name": "stdout",
          "text": [
            "Mounted at /content/drive\n"
          ]
        }
      ]
    },
    {
      "cell_type": "markdown",
      "source": [
        "구글 드라이브 내 파일을 불러옵니다."
      ],
      "metadata": {
        "id": "YEfd6j1m9ic9"
      }
    },
    {
      "cell_type": "code",
      "source": [
        "!git clone https://github.com/victoresque/pytorch-template"
      ],
      "metadata": {
        "colab": {
          "base_uri": "https://localhost:8080/"
        },
        "id": "029qxr7Dlu_D",
        "outputId": "92f7742a-274d-4be6-d921-7cd8a10bb17c"
      },
      "execution_count": 2,
      "outputs": [
        {
          "output_type": "stream",
          "name": "stdout",
          "text": [
            "Cloning into 'pytorch-template'...\n",
            "remote: Enumerating objects: 1516, done.\u001b[K\n",
            "remote: Total 1516 (delta 0), reused 0 (delta 0), pack-reused 1516\u001b[K\n",
            "Receiving objects: 100% (1516/1516), 288.08 KiB | 1.03 MiB/s, done.\n",
            "Resolving deltas: 100% (848/848), done.\n"
          ]
        }
      ]
    },
    {
      "cell_type": "markdown",
      "source": [
        "깃허브 저장소를 clone(복제) 할 때 사용하는 코드 입니다.\n",
        "\n",
        "하나의 DL 프로젝트 템플릿인 저장소의 구조는 대략 이렇습니다.\n",
        "\n",
        "![깃허브](https://user-images.githubusercontent.com/79916736/192193518-31273064-de37-46f6-9f62-df1359d76013.png)\n",
        "\n",
        "\n",
        "저장소를 확인해보시면 단순 노트북 구조가 아닌 하나의 프로젝트를 담고있다는게 체감 될겁니다.\n",
        "\n",
        "실행, 데이터, 모델, 설정, 로깅, 지표, 유틸리티 등 다양한 모듈을 분리하여 프로젝트를 템플릿화 했습니다.\n",
        "\n",
        "레고블럭도 쌓으면 하나의 작품이 되듯 DL코드도 단순한 노트북 공유가 아닌 하나의 프로그램을 만든다고 생각하는 것이 좋습니다.\n",
        "\n",
        "이번주 내로 여기있는 코드를 주석을 달며 리뷰하면서 구조가 어떻게 되는지 이해해보겠습니다.\n",
        "\n",
        "config 파일을 바꾸면 손쉽게 전체 구조가 바뀌고 모델학습 정도가 파일 내 지속적으로 로깅되는 등 상당히 체계적이라고 생각했어요.\n",
        "\n",
        "딥러닝 프로젝트를 협업할 때 시간을 단축시킬 도구라고 생각합니다.\n",
        "\n",
        "통계학과 출신이라 이런 분야에 많이 부족한데 정말 질 좋은 강의 듣고 혼자 공부 열심히 해보겠습니다."
      ],
      "metadata": {
        "id": "ExD7Izyi9q7H"
      }
    },
    {
      "cell_type": "code",
      "source": [
        "!ls"
      ],
      "metadata": {
        "colab": {
          "base_uri": "https://localhost:8080/"
        },
        "id": "a-kYGOJWlz61",
        "outputId": "c0459943-8da9-4131-aea0-98fa7d1b8ec1"
      },
      "execution_count": 3,
      "outputs": [
        {
          "output_type": "stream",
          "name": "stdout",
          "text": [
            "drive  pytorch-template  sample_data\n"
          ]
        }
      ]
    },
    {
      "cell_type": "code",
      "source": [
        "%cd /content/pytorch-template"
      ],
      "metadata": {
        "colab": {
          "base_uri": "https://localhost:8080/"
        },
        "id": "3gvwMlxImMai",
        "outputId": "5e823fb8-a3e0-45a1-87d6-00df68ca6f9d"
      },
      "execution_count": 4,
      "outputs": [
        {
          "output_type": "stream",
          "name": "stdout",
          "text": [
            "/content/pytorch-template\n"
          ]
        }
      ]
    },
    {
      "cell_type": "markdown",
      "source": [
        "터미널 환경 명령어를 사용해 clone을 한 폴더로 이동했습니다."
      ],
      "metadata": {
        "id": "n-H6hcNxDiQa"
      }
    },
    {
      "cell_type": "code",
      "source": [
        "!python new_project.py MNIST-example"
      ],
      "metadata": {
        "colab": {
          "base_uri": "https://localhost:8080/"
        },
        "id": "DJuAwjnrns9y",
        "outputId": "1a4ae467-aa37-48de-df4b-8f95e3bcaac3"
      },
      "execution_count": 5,
      "outputs": [
        {
          "output_type": "stream",
          "name": "stdout",
          "text": [
            "New project initialized at /content/pytorch-template/MNIST-example\n"
          ]
        }
      ]
    },
    {
      "cell_type": "markdown",
      "source": [
        "new_project.py 파일을 MNIST-example 옵션을 주어 실행합니다."
      ],
      "metadata": {
        "id": "vouDWasyDlp5"
      }
    },
    {
      "cell_type": "markdown",
      "source": [
        "## 코렙을 VSCode 환경에서 실행하기"
      ],
      "metadata": {
        "id": "b_EbDVEFD_Sb"
      }
    },
    {
      "cell_type": "markdown",
      "source": [
        "1) 우선 다음사이트 (https://ngrok.com/)에 접속하여 회원가입을 합니다.\n",
        "\n",
        "2) 개인에게 할당된 토큰을 복사합니다.\n",
        "\n",
        "![image](https://user-images.githubusercontent.com/79916736/192194516-a8ff0636-139c-4049-b894-31ce22bb3a9f.png)\n",
        "\n",
        "3) 코렙에서 다음 코드를 모두 실행시킵니다."
      ],
      "metadata": {
        "id": "3maMk2E5ENNf"
      }
    },
    {
      "cell_type": "code",
      "execution_count": 6,
      "metadata": {
        "id": "YtnJwkrKR_DL"
      },
      "outputs": [],
      "source": [
        "NGROK_TOKEN = '2FHrt2P3Xe1ZY0HVM5pwxgds3Tx' # 받아온 토큰을 여기에 넣습니다.\n",
        "PASSWORD = 'upstage'"
      ]
    },
    {
      "cell_type": "code",
      "source": [
        "!pip install colab-ssh"
      ],
      "metadata": {
        "colab": {
          "base_uri": "https://localhost:8080/"
        },
        "id": "WcfuaNMIiUbj",
        "outputId": "838ccc5d-221d-4767-aa69-4c397f874cc9"
      },
      "execution_count": 7,
      "outputs": [
        {
          "output_type": "stream",
          "name": "stdout",
          "text": [
            "Looking in indexes: https://pypi.org/simple, https://us-python.pkg.dev/colab-wheels/public/simple/\n",
            "Collecting colab-ssh\n",
            "  Downloading colab_ssh-0.3.27-py3-none-any.whl (26 kB)\n",
            "Installing collected packages: colab-ssh\n",
            "Successfully installed colab-ssh-0.3.27\n"
          ]
        }
      ]
    },
    {
      "cell_type": "code",
      "source": [
        "from colab_ssh import launch_ssh\n",
        "launch_ssh(NGROK_TOKEN, PASSWORD) # 이 코드의 결과값"
      ],
      "metadata": {
        "id": "Ag4wWg-mFUaw"
      },
      "execution_count": null,
      "outputs": []
    },
    {
      "cell_type": "markdown",
      "source": [
        "![실행결과](https://user-images.githubusercontent.com/79916736/192194888-fd2dce26-c608-4cf4-9407-604904891c7b.png)"
      ],
      "metadata": {
        "id": "mtd6xGMgFYvr"
      }
    },
    {
      "cell_type": "markdown",
      "source": [
        "4) HostName 내 다음 확장 파일을 설치합니다.\n",
        "\n",
        "![remote](https://user-images.githubusercontent.com/79916736/192195010-60aea806-7e32-44db-893c-a741c67a02d5.png)\n",
        "\n",
        "5) ctrl + shift + p 를 누르시고 remote ssh add 를 입력할 때 나오는 것을 클릭합니다. 밑 그림이 나오면 성공입니다.\n",
        "\n",
        "![remote2](https://user-images.githubusercontent.com/79916736/192195360-76a496db-77df-4f78-8634-4deab0baf42e.png)\n",
        "\n",
        "6) 입력칸에 ssh root@(윗 코드 결과에 HostName 값) -p (윗 코드 결과에 Port 값) 을 입력합니다. 이후 엔터를 연이어 누릅니다.\n",
        "\n",
        "7) ctrl + shift + p 를 누르시고 remote ssh connect to host 를 입력할 때 나오는 것을 클릭합니다. 이후 엔터를 연이어 누릅니다. 아래 그림 뒤에 새 vscode가 실행되면 성공입니다.\n",
        "\n",
        "![remote3](https://user-images.githubusercontent.com/79916736/192195935-11b623fc-d7f5-445b-b424-4a666e6f5fc6.png)\n",
        "\n",
        "8) 운영체제 상관없이 리눅스 클릭하고 엔터 누르고 앞서 코렙에서 설정한 비밀번호 입력하면 연결이 완료됩니다!\n",
        "\n",
        "\n",
        "\n",
        "\n"
      ],
      "metadata": {
        "id": "ntVGSBkfFqO4"
      }
    },
    {
      "cell_type": "markdown",
      "source": [
        "## VScode로 파이토치 프로젝트 템플릿 사용해보기"
      ],
      "metadata": {
        "id": "F207vQ2zJ2dN"
      }
    },
    {
      "cell_type": "markdown",
      "source": [
        "![colab1](https://user-images.githubusercontent.com/79916736/192196323-6a4ff3c3-1e26-4c2b-8a3c-de09fe0c60b5.png)\n",
        "\n",
        "코렙 환경에 잘 접속했다는 것을 VSCode에서 확인할 수 있습니다.\n",
        "\n",
        "![colab2](https://user-images.githubusercontent.com/79916736/192196659-baa4ad7c-ed46-49bf-8cb0-70ba1861bb42.png)\n",
        "\n",
        "이런 식으로 코렙 내 파이썬 파일을 실행할 수 있습니다.\n",
        "\n",
        "![colab3](https://user-images.githubusercontent.com/79916736/192197467-137bd2f8-ec17-4c6b-b9c7-5d8d187c0134.png)\n",
        "\n",
        "실제 구글 드라이브가 있는 폴더에 접근해 파일을 만질 수 있습니다. 이 코드에 경우 워크스페이스에 있는 파일을 구글 드라이브에 복사했습니다."
      ],
      "metadata": {
        "id": "-_feawCrFEen"
      }
    },
    {
      "cell_type": "markdown",
      "source": [
        "## 텐서플로우와 파이토치"
      ],
      "metadata": {
        "id": "Cq7DkCv0VAqU"
      }
    },
    {
      "cell_type": "markdown",
      "source": [
        "텐서플로우는 Production에 유리하며 cloud 환경에도 사용이 용이하며 멀티GPU와 호환이 좋습니다.\n",
        "\n",
        "반면 파이토치는 논문작성이나 단순구현시 텐서플로우보다 더 좋습니다. 공부하기에 좋은 라이브러리 입니다.\n",
        "\n",
        "파이토치를 크게 나누면 '넘파이 + 자동미분 + 함수'로 생각할 수 있습니다. 넘파이와 유사한 사용법을 가지며 자동미분이 가능하고 여러가지 함수도 내장하고 있습니다.\n",
        "\n",
        "위 내용을 다음 장에서 살펴보겠습니다."
      ],
      "metadata": {
        "id": "7BIUnmv4VD2o"
      }
    },
    {
      "cell_type": "markdown",
      "source": [
        "## Pytorch 기초"
      ],
      "metadata": {
        "id": "6S5tpz45QjyE"
      }
    },
    {
      "cell_type": "markdown",
      "source": [
        "넘파이엔 ndarray를 사용하듯이 파이토치는 Torch를 사용합니다. \n",
        "\n",
        "ndarray와 Torch는 거의 유사합니다. 즉 넘파이의 대부분의 사용법이 파이토치에 적용됩니다."
      ],
      "metadata": {
        "id": "koPI0II8T78k"
      }
    },
    {
      "cell_type": "markdown",
      "source": [
        "### device"
      ],
      "metadata": {
        "id": "_kRQ1RkRWu53"
      }
    },
    {
      "cell_type": "code",
      "source": [
        "import torch\n",
        "data = [[3, 5, 20],[10, 5, 50], [1, 5, 10]]\n",
        "x_data = torch.tensor(data)\n",
        "x_data.device"
      ],
      "metadata": {
        "colab": {
          "base_uri": "https://localhost:8080/"
        },
        "id": "IqPs_dEjUd_C",
        "outputId": "bc72cd0a-0e72-493a-ef56-718eb689366e"
      },
      "execution_count": 3,
      "outputs": [
        {
          "output_type": "execute_result",
          "data": {
            "text/plain": [
              "device(type='cpu')"
            ]
          },
          "metadata": {},
          "execution_count": 3
        }
      ]
    },
    {
      "cell_type": "code",
      "source": [
        "if torch.cuda.is_available(): # gpu 사용 가능하다면 (cuda : 코렙 gpu)\n",
        "    x_data_cuda = x_data.to('cuda') # 텐서 데이터를 gpu에 실음\n",
        "x_data_cuda.device"
      ],
      "metadata": {
        "colab": {
          "base_uri": "https://localhost:8080/"
        },
        "id": "xLRhpsx5Ufc8",
        "outputId": "625346aa-e0b5-44df-cfcb-048bc32f8afd"
      },
      "execution_count": 4,
      "outputs": [
        {
          "output_type": "execute_result",
          "data": {
            "text/plain": [
              "device(type='cuda', index=0)"
            ]
          },
          "metadata": {},
          "execution_count": 4
        }
      ]
    },
    {
      "cell_type": "markdown",
      "source": [
        "파이토치의 텐서는 GPU에 올려서 사용 가능합니다."
      ],
      "metadata": {
        "id": "dHNM4snBU3FD"
      }
    },
    {
      "cell_type": "markdown",
      "source": [
        "### view와 reshape"
      ],
      "metadata": {
        "id": "U_IX3WrQWsyP"
      }
    },
    {
      "cell_type": "code",
      "source": [
        "tensor_ex = torch.rand(size=(2, 3, 2))\n",
        "tensor_ex.reshape([-1,6])"
      ],
      "metadata": {
        "colab": {
          "base_uri": "https://localhost:8080/"
        },
        "id": "eCTM99O5U1o7",
        "outputId": "8027ceec-e564-4393-d33c-37e262558e05"
      },
      "execution_count": 5,
      "outputs": [
        {
          "output_type": "execute_result",
          "data": {
            "text/plain": [
              "tensor([[0.6184, 0.5495, 0.1053, 0.9560, 0.4484, 0.8413],\n",
              "        [0.1381, 0.5541, 0.2258, 0.5828, 0.9683, 0.7885]])"
            ]
          },
          "metadata": {},
          "execution_count": 5
        }
      ]
    },
    {
      "cell_type": "code",
      "source": [
        "tensor_ex.view([-1, 6])"
      ],
      "metadata": {
        "colab": {
          "base_uri": "https://localhost:8080/"
        },
        "id": "fzYMWVacWAdU",
        "outputId": "0928b5b2-77e6-4558-dd23-0d0571baf1b9"
      },
      "execution_count": 6,
      "outputs": [
        {
          "output_type": "execute_result",
          "data": {
            "text/plain": [
              "tensor([[0.6184, 0.5495, 0.1053, 0.9560, 0.4484, 0.8413],\n",
              "        [0.1381, 0.5541, 0.2258, 0.5828, 0.9683, 0.7885]])"
            ]
          },
          "metadata": {},
          "execution_count": 6
        }
      ]
    },
    {
      "cell_type": "code",
      "source": [
        "a = torch.zeros(3, 2)\n",
        "b = a.view(2, 3)\n",
        "a.fill_(1)\n",
        "b # copy가 안 일어났음을 알 수 있음"
      ],
      "metadata": {
        "colab": {
          "base_uri": "https://localhost:8080/"
        },
        "id": "DWmL0UHUWZW6",
        "outputId": "e30496c4-890a-4bcb-f1ed-6f7d8424cb20"
      },
      "execution_count": 10,
      "outputs": [
        {
          "output_type": "execute_result",
          "data": {
            "text/plain": [
              "tensor([[1., 1., 1.],\n",
              "        [1., 1., 1.]])"
            ]
          },
          "metadata": {},
          "execution_count": 10
        }
      ]
    },
    {
      "cell_type": "markdown",
      "source": [
        "파이토치 내 view 함수는 reshape 함수와 거의 유사합니다. 다만 view와 달리 reshape는 카피가 일어납니다. 주로 view를 사용합니다."
      ],
      "metadata": {
        "id": "neNDUzFkWCOP"
      }
    },
    {
      "cell_type": "markdown",
      "source": [
        "### squeeze와 unsqueeze"
      ],
      "metadata": {
        "id": "NiWbDKjSWxE1"
      }
    },
    {
      "cell_type": "code",
      "source": [
        "tensor_ex = torch.rand(size=(2, 1, 2))\n",
        "print(tensor_ex.shape)\n",
        "tensor_ex"
      ],
      "metadata": {
        "colab": {
          "base_uri": "https://localhost:8080/"
        },
        "id": "st7tqiRRWBdw",
        "outputId": "cee3a2e4-253f-4575-d593-5b45ff1d699b"
      },
      "execution_count": 14,
      "outputs": [
        {
          "output_type": "stream",
          "name": "stdout",
          "text": [
            "torch.Size([2, 1, 2])\n"
          ]
        },
        {
          "output_type": "execute_result",
          "data": {
            "text/plain": [
              "tensor([[[0.3405, 0.0974]],\n",
              "\n",
              "        [[0.8834, 0.3748]]])"
            ]
          },
          "metadata": {},
          "execution_count": 14
        }
      ]
    },
    {
      "cell_type": "code",
      "source": [
        "tensor_ex.squeeze()"
      ],
      "metadata": {
        "colab": {
          "base_uri": "https://localhost:8080/"
        },
        "id": "R2UhdOjzWrwR",
        "outputId": "98a4b861-4853-4faf-85a6-b82cd6ae8975"
      },
      "execution_count": 13,
      "outputs": [
        {
          "output_type": "execute_result",
          "data": {
            "text/plain": [
              "tensor([[0.6641, 0.1000],\n",
              "        [0.4968, 0.1627]])"
            ]
          },
          "metadata": {},
          "execution_count": 13
        }
      ]
    },
    {
      "cell_type": "markdown",
      "source": [
        "squeeze 함수는 의미없는 리스트 씌움을 없애줍니다."
      ],
      "metadata": {
        "id": "-CbRnHj7W4WT"
      }
    },
    {
      "cell_type": "code",
      "source": [
        "tensor_ex = torch.rand(size=(2, 2))\n",
        "print(tensor_ex.unsqueeze(0).shape)\n",
        "print(tensor_ex.unsqueeze(1).shape)\n",
        "print(tensor_ex.unsqueeze(2).shape)"
      ],
      "metadata": {
        "colab": {
          "base_uri": "https://localhost:8080/"
        },
        "id": "W7JxJu9KW3gp",
        "outputId": "d565d27a-fb0b-498e-8e03-8137fb5897f7"
      },
      "execution_count": 15,
      "outputs": [
        {
          "output_type": "stream",
          "name": "stdout",
          "text": [
            "torch.Size([1, 2, 2])\n",
            "torch.Size([2, 1, 2])\n",
            "torch.Size([2, 2, 1])\n"
          ]
        }
      ]
    },
    {
      "cell_type": "markdown",
      "source": [
        "![unsqueeze](https://user-images.githubusercontent.com/79916736/192203332-24bcedc8-95be-4206-8a20-dc13c682ad6e.png)\n",
        "\n",
        "\n",
        "unsqueeze 함수는 리스트를 한번 씌워줍니다."
      ],
      "metadata": {
        "id": "As8XhxebXO5F"
      }
    },
    {
      "cell_type": "markdown",
      "source": [
        "### operation"
      ],
      "metadata": {
        "id": "lS1mxOOOXg6L"
      }
    },
    {
      "cell_type": "code",
      "source": [
        "import numpy as np\n",
        "n1 = np.arange(10).reshape(2,5) # (2 * 5) 행렬\n",
        "n2 = np.arange(10).reshape(5,2) # (5 * 2) 행렬\n",
        "t1 = torch.FloatTensor(n1)\n",
        "t2 = torch.FloatTensor(n2)\n",
        "\n",
        "# t1.dot(t2), 오류. dot는 넘파이와 달리 1차원 벡터 연산만 가능 \n",
        "t1.mm(t2) # 행렬곱 연산"
      ],
      "metadata": {
        "colab": {
          "base_uri": "https://localhost:8080/"
        },
        "id": "KRqVZmNTXOAR",
        "outputId": "960f6010-3de7-46b6-a934-ff03b56cffdd"
      },
      "execution_count": 16,
      "outputs": [
        {
          "output_type": "execute_result",
          "data": {
            "text/plain": [
              "tensor([[ 60.,  70.],\n",
              "        [160., 195.]])"
            ]
          },
          "metadata": {},
          "execution_count": 16
        }
      ]
    },
    {
      "cell_type": "markdown",
      "source": [
        "mm 함수를 사용해 행렬 곱 연산이 가능합니다."
      ],
      "metadata": {
        "id": "xMFpL7fyYF9p"
      }
    },
    {
      "cell_type": "code",
      "source": [
        "a = torch.rand(5, 2, 3)\n",
        "b = torch.rand(3)\n",
        "a[0].mm(torch.unsqueeze(b,1)).squeeze() # torch.unsqueeze(b,1) => (3, 1) 행렬, a[0] => (2, 3) 행렬"
      ],
      "metadata": {
        "colab": {
          "base_uri": "https://localhost:8080/"
        },
        "id": "tYWlLCeQXwwA",
        "outputId": "75327462-6ce9-45eb-ea14-1f3479d1556c"
      },
      "execution_count": 21,
      "outputs": [
        {
          "output_type": "execute_result",
          "data": {
            "text/plain": [
              "tensor([1.4147, 0.8625])"
            ]
          },
          "metadata": {},
          "execution_count": 21
        }
      ]
    },
    {
      "cell_type": "markdown",
      "source": [
        "### nn.functional"
      ],
      "metadata": {
        "id": "4PGn9auxYqDB"
      }
    },
    {
      "cell_type": "code",
      "source": [
        "import torch\n",
        "import torch.nn.functional as F # 다양한 내장 함수가 존재함.\n",
        "\n",
        "tensor = torch.FloatTensor([0.5, 0.7, 0.1])\n",
        "h_tensor = F.softmax(tensor, dim=0)\n",
        "h_tensor"
      ],
      "metadata": {
        "colab": {
          "base_uri": "https://localhost:8080/"
        },
        "id": "18TEMLwBYX6g",
        "outputId": "217f960c-5dad-4aa6-edbb-368e04c2a080"
      },
      "execution_count": 24,
      "outputs": [
        {
          "output_type": "execute_result",
          "data": {
            "text/plain": [
              "tensor([0.3458, 0.4224, 0.2318])"
            ]
          },
          "metadata": {},
          "execution_count": 24
        }
      ]
    },
    {
      "cell_type": "code",
      "source": [
        "y = torch.randint(5, (10,5))\n",
        "y_label = y.argmax(dim=1)\n",
        "print(y_label)\n",
        "torch.nn.functional.one_hot(y_label) # 원-핫 인코딩 함수도 존재함."
      ],
      "metadata": {
        "colab": {
          "base_uri": "https://localhost:8080/"
        },
        "id": "Dyj6MWWcY2d3",
        "outputId": "9db93f3a-9822-413f-9ac5-eeb3a7513081"
      },
      "execution_count": 26,
      "outputs": [
        {
          "output_type": "stream",
          "name": "stdout",
          "text": [
            "tensor([1, 1, 3, 0, 4, 2, 1, 0, 4, 0])\n"
          ]
        },
        {
          "output_type": "execute_result",
          "data": {
            "text/plain": [
              "tensor([[0, 1, 0, 0, 0],\n",
              "        [0, 1, 0, 0, 0],\n",
              "        [0, 0, 0, 1, 0],\n",
              "        [1, 0, 0, 0, 0],\n",
              "        [0, 0, 0, 0, 1],\n",
              "        [0, 0, 1, 0, 0],\n",
              "        [0, 1, 0, 0, 0],\n",
              "        [1, 0, 0, 0, 0],\n",
              "        [0, 0, 0, 0, 1],\n",
              "        [1, 0, 0, 0, 0]])"
            ]
          },
          "metadata": {},
          "execution_count": 26
        }
      ]
    },
    {
      "cell_type": "markdown",
      "source": [
        "### backward 자동미분"
      ],
      "metadata": {
        "id": "KzhOQfwVZGXU"
      }
    },
    {
      "cell_type": "code",
      "source": [
        "a = torch.tensor([2., 3.], requires_grad=True) # requires_grad을 True로 해주어야 자동 미분이 가능함.\n",
        "b = torch.tensor([6., 4.], requires_grad=True) # 딥러닝 모델에선 linear 함수에 이미 적용했기 때문에 신경 쓸 부분은 적음.\n",
        "Q = 3*a**3 - b**2\n",
        "external_grad = torch.tensor([1., 1.])\n",
        "Q.backward(gradient=external_grad)\n",
        "\n",
        "print(a.grad)\n",
        "print(b.grad)"
      ],
      "metadata": {
        "colab": {
          "base_uri": "https://localhost:8080/"
        },
        "id": "7yxUKsnYY9c7",
        "outputId": "afa87607-306d-477f-f281-747dcf1ebfce"
      },
      "execution_count": 27,
      "outputs": [
        {
          "output_type": "stream",
          "name": "stdout",
          "text": [
            "tensor([36., 81.])\n",
            "tensor([-12.,  -8.])\n"
          ]
        }
      ]
    },
    {
      "cell_type": "markdown",
      "source": [
        "## 느낀점"
      ],
      "metadata": {
        "id": "W3BBfqxKaRpZ"
      }
    },
    {
      "cell_type": "markdown",
      "source": [
        "항상 느끼는게 강의가 배울 것이 많아 좋은 것 같습니다.\n",
        "\n",
        "부스트 캠프를 하기로 마음 먹은 이유 중 하나가 통계학과 출신이라 코렙을 활용한 코드 작성은 어느정도 괜찮지만 오늘 배운 내용과 같이 프로젝트 형식으로 협업을 하거나 환경을 구축하는 것에 있어 많이 약점이라 스스로 생각하는데 이 부분을 매꿀 수 있어서 좋은 것 같아요.\n",
        "\n",
        "아직은 강의 듣고 내용 정리까지 했는데 과제(양을 얼핏 보니 두렵네요)를 하고 나면 이 분야에서 많이 성장할 것에 기대됩니다.\n",
        "\n",
        "쉬고와서 괜찮을 줄 알았는데 역시 월요일은 힘드네요. 더 화이팅 해야겠습니다.\n",
        "\n",
        "** 위 수식과 그림은은 부스트캠프 AI Tech 교육 자료를 참고하였습니다.\n",
        "\n"
      ],
      "metadata": {
        "id": "zpWWjGp0aTIB"
      }
    }
  ]
}