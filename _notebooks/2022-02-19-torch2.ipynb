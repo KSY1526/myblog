{
  "nbformat": 4,
  "nbformat_minor": 0,
  "metadata": {
    "colab": {
      "name": "torch2.ipynb",
      "provenance": [],
      "collapsed_sections": [],
      "authorship_tag": "ABX9TyNKcuYfPIJIIaVpnDnXW+S/",
      "include_colab_link": true
    },
    "kernelspec": {
      "name": "python3",
      "display_name": "Python 3"
    },
    "language_info": {
      "name": "python"
    }
  },
  "cells": [
    {
      "cell_type": "markdown",
      "metadata": {
        "id": "view-in-github",
        "colab_type": "text"
      },
      "source": [
        "<a href=\"https://colab.research.google.com/github/KSY1526/myblog/blob/master/_notebooks/2022-02-19-torch2.ipynb\" target=\"_parent\"><img src=\"https://colab.research.google.com/assets/colab-badge.svg\" alt=\"Open In Colab\"/></a>"
      ]
    },
    {
      "cell_type": "markdown",
      "source": [
        "# \"[DACON] 파이토치 항공사 고객 만족도 데이터로 연습하기\"\n",
        "- author: Seong Yeon Kim \n",
        "- categories: [SSUDA, jupyter, Deep Learning, Pytorch, DACON]"
      ],
      "metadata": {
        "id": "mNcKXPKnikNH"
      }
    },
    {
      "cell_type": "markdown",
      "source": [
        "# 필요한 패키지와 데이터 불러오기"
      ],
      "metadata": {
        "id": "Y2-9yyHgik2F"
      }
    },
    {
      "cell_type": "code",
      "execution_count": 87,
      "metadata": {
        "colab": {
          "base_uri": "https://localhost:8080/"
        },
        "id": "lSg7alBaic1x",
        "outputId": "068dd112-7f98-4f13-e77a-0a6f54277157"
      },
      "outputs": [
        {
          "output_type": "stream",
          "name": "stdout",
          "text": [
            "Drive already mounted at /content/drive; to attempt to forcibly remount, call drive.mount(\"/content/drive\", force_remount=True).\n"
          ]
        }
      ],
      "source": [
        "from google.colab import drive\n",
        "drive.mount('/content/drive')"
      ]
    },
    {
      "cell_type": "markdown",
      "source": [
        "데이터가 저장되어 있는 구글 드라이브와 연동합니다."
      ],
      "metadata": {
        "id": "gkbJTws0eZz_"
      }
    },
    {
      "cell_type": "code",
      "source": [
        "import torch\n",
        "import torch.nn as nn\n",
        "import torch.nn.functional as F\n",
        "import torch.optim as optim\n",
        "from torch.utils.data import DataLoader, Dataset\n",
        "\n",
        "device = 'cuda' if torch.cuda.is_available() else 'cpu'\n",
        "\n",
        "import random\n",
        "random.seed(777)\n",
        "torch.manual_seed(777)\n",
        "\n",
        "if device == 'cuda':\n",
        "    torch.cuda.manual_seed_all(777)"
      ],
      "metadata": {
        "id": "0yZeou7-dGbh"
      },
      "execution_count": 88,
      "outputs": []
    },
    {
      "cell_type": "markdown",
      "source": [
        "파이토치 관련 모듈들을 임포트합니다."
      ],
      "metadata": {
        "id": "StVd1Ge2edgg"
      }
    },
    {
      "cell_type": "code",
      "source": [
        "import pandas as pd\n",
        "import numpy as np\n",
        "import matplotlib.pyplot as plt\n",
        "import seaborn as sns\n",
        "from scipy import stats\n",
        "\n",
        "import warnings\n",
        "warnings.filterwarnings(\"ignore\")\n",
        "\n",
        "path = '/content/drive/MyDrive/airport/'\n",
        "\n",
        "train = pd.read_csv(path + 'train.csv')\n",
        "test = pd.read_csv(path + 'test.csv')\n",
        "sample_submission = pd.read_csv(path + 'sample_submission.csv')\n",
        "train.head()"
      ],
      "metadata": {
        "colab": {
          "base_uri": "https://localhost:8080/",
          "height": 409
        },
        "id": "lH8oZAX7jNY-",
        "outputId": "18d748b3-24dc-4a05-fc2b-8c52630d606a"
      },
      "execution_count": 89,
      "outputs": [
        {
          "output_type": "execute_result",
          "data": {
            "text/html": [
              "\n",
              "  <div id=\"df-5888b9a7-47ca-4b6e-a0e3-ec54714966b6\">\n",
              "    <div class=\"colab-df-container\">\n",
              "      <div>\n",
              "<style scoped>\n",
              "    .dataframe tbody tr th:only-of-type {\n",
              "        vertical-align: middle;\n",
              "    }\n",
              "\n",
              "    .dataframe tbody tr th {\n",
              "        vertical-align: top;\n",
              "    }\n",
              "\n",
              "    .dataframe thead th {\n",
              "        text-align: right;\n",
              "    }\n",
              "</style>\n",
              "<table border=\"1\" class=\"dataframe\">\n",
              "  <thead>\n",
              "    <tr style=\"text-align: right;\">\n",
              "      <th></th>\n",
              "      <th>id</th>\n",
              "      <th>Gender</th>\n",
              "      <th>Customer Type</th>\n",
              "      <th>Age</th>\n",
              "      <th>Type of Travel</th>\n",
              "      <th>Class</th>\n",
              "      <th>Flight Distance</th>\n",
              "      <th>Seat comfort</th>\n",
              "      <th>Departure/Arrival time convenient</th>\n",
              "      <th>Food and drink</th>\n",
              "      <th>Gate location</th>\n",
              "      <th>Inflight wifi service</th>\n",
              "      <th>Inflight entertainment</th>\n",
              "      <th>Online support</th>\n",
              "      <th>Ease of Online booking</th>\n",
              "      <th>On-board service</th>\n",
              "      <th>Leg room service</th>\n",
              "      <th>Baggage handling</th>\n",
              "      <th>Checkin service</th>\n",
              "      <th>Cleanliness</th>\n",
              "      <th>Online boarding</th>\n",
              "      <th>Departure Delay in Minutes</th>\n",
              "      <th>Arrival Delay in Minutes</th>\n",
              "      <th>target</th>\n",
              "    </tr>\n",
              "  </thead>\n",
              "  <tbody>\n",
              "    <tr>\n",
              "      <th>0</th>\n",
              "      <td>1</td>\n",
              "      <td>Female</td>\n",
              "      <td>disloyal Customer</td>\n",
              "      <td>22</td>\n",
              "      <td>Business travel</td>\n",
              "      <td>Eco</td>\n",
              "      <td>1599</td>\n",
              "      <td>3</td>\n",
              "      <td>0</td>\n",
              "      <td>3</td>\n",
              "      <td>3</td>\n",
              "      <td>4</td>\n",
              "      <td>3</td>\n",
              "      <td>4</td>\n",
              "      <td>4</td>\n",
              "      <td>5</td>\n",
              "      <td>4</td>\n",
              "      <td>4</td>\n",
              "      <td>4</td>\n",
              "      <td>5</td>\n",
              "      <td>4</td>\n",
              "      <td>0</td>\n",
              "      <td>0.0</td>\n",
              "      <td>0</td>\n",
              "    </tr>\n",
              "    <tr>\n",
              "      <th>1</th>\n",
              "      <td>2</td>\n",
              "      <td>Female</td>\n",
              "      <td>Loyal Customer</td>\n",
              "      <td>37</td>\n",
              "      <td>Business travel</td>\n",
              "      <td>Business</td>\n",
              "      <td>2810</td>\n",
              "      <td>2</td>\n",
              "      <td>4</td>\n",
              "      <td>4</td>\n",
              "      <td>4</td>\n",
              "      <td>1</td>\n",
              "      <td>4</td>\n",
              "      <td>3</td>\n",
              "      <td>5</td>\n",
              "      <td>5</td>\n",
              "      <td>4</td>\n",
              "      <td>2</td>\n",
              "      <td>1</td>\n",
              "      <td>5</td>\n",
              "      <td>2</td>\n",
              "      <td>18</td>\n",
              "      <td>18.0</td>\n",
              "      <td>0</td>\n",
              "    </tr>\n",
              "    <tr>\n",
              "      <th>2</th>\n",
              "      <td>3</td>\n",
              "      <td>Male</td>\n",
              "      <td>Loyal Customer</td>\n",
              "      <td>46</td>\n",
              "      <td>Business travel</td>\n",
              "      <td>Business</td>\n",
              "      <td>2622</td>\n",
              "      <td>1</td>\n",
              "      <td>1</td>\n",
              "      <td>1</td>\n",
              "      <td>1</td>\n",
              "      <td>4</td>\n",
              "      <td>5</td>\n",
              "      <td>5</td>\n",
              "      <td>4</td>\n",
              "      <td>4</td>\n",
              "      <td>4</td>\n",
              "      <td>4</td>\n",
              "      <td>5</td>\n",
              "      <td>4</td>\n",
              "      <td>3</td>\n",
              "      <td>0</td>\n",
              "      <td>0.0</td>\n",
              "      <td>1</td>\n",
              "    </tr>\n",
              "    <tr>\n",
              "      <th>3</th>\n",
              "      <td>4</td>\n",
              "      <td>Female</td>\n",
              "      <td>disloyal Customer</td>\n",
              "      <td>24</td>\n",
              "      <td>Business travel</td>\n",
              "      <td>Eco</td>\n",
              "      <td>2348</td>\n",
              "      <td>3</td>\n",
              "      <td>3</td>\n",
              "      <td>3</td>\n",
              "      <td>3</td>\n",
              "      <td>3</td>\n",
              "      <td>3</td>\n",
              "      <td>3</td>\n",
              "      <td>3</td>\n",
              "      <td>2</td>\n",
              "      <td>4</td>\n",
              "      <td>5</td>\n",
              "      <td>3</td>\n",
              "      <td>4</td>\n",
              "      <td>3</td>\n",
              "      <td>10</td>\n",
              "      <td>2.0</td>\n",
              "      <td>0</td>\n",
              "    </tr>\n",
              "    <tr>\n",
              "      <th>4</th>\n",
              "      <td>5</td>\n",
              "      <td>Female</td>\n",
              "      <td>Loyal Customer</td>\n",
              "      <td>58</td>\n",
              "      <td>Business travel</td>\n",
              "      <td>Business</td>\n",
              "      <td>105</td>\n",
              "      <td>3</td>\n",
              "      <td>3</td>\n",
              "      <td>3</td>\n",
              "      <td>3</td>\n",
              "      <td>4</td>\n",
              "      <td>4</td>\n",
              "      <td>5</td>\n",
              "      <td>4</td>\n",
              "      <td>4</td>\n",
              "      <td>4</td>\n",
              "      <td>4</td>\n",
              "      <td>4</td>\n",
              "      <td>4</td>\n",
              "      <td>5</td>\n",
              "      <td>0</td>\n",
              "      <td>0.0</td>\n",
              "      <td>1</td>\n",
              "    </tr>\n",
              "  </tbody>\n",
              "</table>\n",
              "</div>\n",
              "      <button class=\"colab-df-convert\" onclick=\"convertToInteractive('df-5888b9a7-47ca-4b6e-a0e3-ec54714966b6')\"\n",
              "              title=\"Convert this dataframe to an interactive table.\"\n",
              "              style=\"display:none;\">\n",
              "        \n",
              "  <svg xmlns=\"http://www.w3.org/2000/svg\" height=\"24px\"viewBox=\"0 0 24 24\"\n",
              "       width=\"24px\">\n",
              "    <path d=\"M0 0h24v24H0V0z\" fill=\"none\"/>\n",
              "    <path d=\"M18.56 5.44l.94 2.06.94-2.06 2.06-.94-2.06-.94-.94-2.06-.94 2.06-2.06.94zm-11 1L8.5 8.5l.94-2.06 2.06-.94-2.06-.94L8.5 2.5l-.94 2.06-2.06.94zm10 10l.94 2.06.94-2.06 2.06-.94-2.06-.94-.94-2.06-.94 2.06-2.06.94z\"/><path d=\"M17.41 7.96l-1.37-1.37c-.4-.4-.92-.59-1.43-.59-.52 0-1.04.2-1.43.59L10.3 9.45l-7.72 7.72c-.78.78-.78 2.05 0 2.83L4 21.41c.39.39.9.59 1.41.59.51 0 1.02-.2 1.41-.59l7.78-7.78 2.81-2.81c.8-.78.8-2.07 0-2.86zM5.41 20L4 18.59l7.72-7.72 1.47 1.35L5.41 20z\"/>\n",
              "  </svg>\n",
              "      </button>\n",
              "      \n",
              "  <style>\n",
              "    .colab-df-container {\n",
              "      display:flex;\n",
              "      flex-wrap:wrap;\n",
              "      gap: 12px;\n",
              "    }\n",
              "\n",
              "    .colab-df-convert {\n",
              "      background-color: #E8F0FE;\n",
              "      border: none;\n",
              "      border-radius: 50%;\n",
              "      cursor: pointer;\n",
              "      display: none;\n",
              "      fill: #1967D2;\n",
              "      height: 32px;\n",
              "      padding: 0 0 0 0;\n",
              "      width: 32px;\n",
              "    }\n",
              "\n",
              "    .colab-df-convert:hover {\n",
              "      background-color: #E2EBFA;\n",
              "      box-shadow: 0px 1px 2px rgba(60, 64, 67, 0.3), 0px 1px 3px 1px rgba(60, 64, 67, 0.15);\n",
              "      fill: #174EA6;\n",
              "    }\n",
              "\n",
              "    [theme=dark] .colab-df-convert {\n",
              "      background-color: #3B4455;\n",
              "      fill: #D2E3FC;\n",
              "    }\n",
              "\n",
              "    [theme=dark] .colab-df-convert:hover {\n",
              "      background-color: #434B5C;\n",
              "      box-shadow: 0px 1px 3px 1px rgba(0, 0, 0, 0.15);\n",
              "      filter: drop-shadow(0px 1px 2px rgba(0, 0, 0, 0.3));\n",
              "      fill: #FFFFFF;\n",
              "    }\n",
              "  </style>\n",
              "\n",
              "      <script>\n",
              "        const buttonEl =\n",
              "          document.querySelector('#df-5888b9a7-47ca-4b6e-a0e3-ec54714966b6 button.colab-df-convert');\n",
              "        buttonEl.style.display =\n",
              "          google.colab.kernel.accessAllowed ? 'block' : 'none';\n",
              "\n",
              "        async function convertToInteractive(key) {\n",
              "          const element = document.querySelector('#df-5888b9a7-47ca-4b6e-a0e3-ec54714966b6');\n",
              "          const dataTable =\n",
              "            await google.colab.kernel.invokeFunction('convertToInteractive',\n",
              "                                                     [key], {});\n",
              "          if (!dataTable) return;\n",
              "\n",
              "          const docLinkHtml = 'Like what you see? Visit the ' +\n",
              "            '<a target=\"_blank\" href=https://colab.research.google.com/notebooks/data_table.ipynb>data table notebook</a>'\n",
              "            + ' to learn more about interactive tables.';\n",
              "          element.innerHTML = '';\n",
              "          dataTable['output_type'] = 'display_data';\n",
              "          await google.colab.output.renderOutput(dataTable, element);\n",
              "          const docLink = document.createElement('div');\n",
              "          docLink.innerHTML = docLinkHtml;\n",
              "          element.appendChild(docLink);\n",
              "        }\n",
              "      </script>\n",
              "    </div>\n",
              "  </div>\n",
              "  "
            ],
            "text/plain": [
              "   id  Gender  ... Arrival Delay in Minutes  target\n",
              "0   1  Female  ...                      0.0       0\n",
              "1   2  Female  ...                     18.0       0\n",
              "2   3    Male  ...                      0.0       1\n",
              "3   4  Female  ...                      2.0       0\n",
              "4   5  Female  ...                      0.0       1\n",
              "\n",
              "[5 rows x 24 columns]"
            ]
          },
          "metadata": {},
          "execution_count": 89
        }
      ]
    },
    {
      "cell_type": "markdown",
      "source": [
        "데이터 분석에 기본적으로 필요한 패키지를 임포트하고, 데이터 csv 파일 또한 임포트 합니다."
      ],
      "metadata": {
        "id": "VYO1O1hheiLf"
      }
    },
    {
      "cell_type": "code",
      "source": [
        "X = train.drop(columns = ['id', 'target'], axis = 1)\n",
        "X.shape"
      ],
      "metadata": {
        "colab": {
          "base_uri": "https://localhost:8080/"
        },
        "id": "6HjHG_Kvd8u_",
        "outputId": "e42e1226-3729-40bd-d20a-075ab30dfce3"
      },
      "execution_count": 90,
      "outputs": [
        {
          "output_type": "execute_result",
          "data": {
            "text/plain": [
              "(3000, 22)"
            ]
          },
          "metadata": {},
          "execution_count": 90
        }
      ]
    },
    {
      "cell_type": "markdown",
      "source": [
        "id랑 target은 분석하는데 필요하지 않거나, 라벨 값이기 때문에 제거합니다."
      ],
      "metadata": {
        "id": "qfin8n2CeqXn"
      }
    },
    {
      "cell_type": "markdown",
      "source": [
        "# 데이터 종류별로 각각 전처리하기"
      ],
      "metadata": {
        "id": "oeg3HBZFd6yK"
      }
    },
    {
      "cell_type": "code",
      "source": [
        "binary_obj_columns = ['Gender', 'Customer Type', 'Type of Travel']\n",
        "numerical_columns = ['Age', 'Departure Delay in Minutes', 'Arrival Delay in Minutes', 'Flight Distance']\n",
        "multical_obj_columns = list(set(X.columns) - set(binary_obj_columns) - set(numerical_columns))"
      ],
      "metadata": {
        "id": "dzgCmk1yjV7c"
      },
      "execution_count": 91,
      "outputs": []
    },
    {
      "cell_type": "markdown",
      "source": [
        "데이터를 이진분류가 되는 데이터, 두 개를 넘는 항목이 존재하는 데이터, 연속형 데이터 세개로 나눠서 정리합니다.\n",
        "\n",
        "이진분류 데이터는 그대로 유지하고 다중분류 데이터는 라벨인코딩, 연속형 데이터는 4개의 항목으로 그룹핑 하겠습니다. "
      ],
      "metadata": {
        "id": "LKNWhgkVexkw"
      }
    },
    {
      "cell_type": "code",
      "source": [
        "X_train_num = pd.DataFrame()\n",
        "X_test_num = pd.DataFrame()\n",
        "\n",
        "for col in binary_obj_columns : \n",
        "    map_dict = {key : num for num,key in enumerate(train[col].unique())}\n",
        "    X_train_num[col] = train[col].map(map_dict)\n",
        "    X_test_num[col] = test[col].map(map_dict)\n",
        "\n",
        "\n",
        "X_train_group = pd.DataFrame()\n",
        "X_test_group = pd.DataFrame()\n",
        "\n",
        "for col in numerical_columns :     \n",
        "    data = train[col]\n",
        "    _, bins = pd.qcut(data, 4, retbins=True, labels=False, duplicates='drop')\n",
        "    X_train_group[col+'_group'] = train[col].apply(lambda x : sum([x >= a for a in bins]))\n",
        "    X_test_group[col+'_group'] = test[col].apply(lambda x : sum([x >= a for a in bins]))\n",
        "\n",
        "for col in multical_obj_columns : \n",
        "    map_dict = {key : num for num, key in enumerate(sorted(train[col].unique()))}\n",
        "    X_train_group[col] = train[col].map(map_dict)\n",
        "    X_test_group[col] = test[col].map(map_dict)\n",
        "\n",
        "num_cols = list(X_train_num.columns)\n",
        "cat_cols = list(X_train_group.columns)\n",
        "\n",
        "X_train = pd.concat([X_train_num, X_train_group], axis = 1)\n",
        "X_test = pd.concat([X_test_num, X_test_group], axis = 1)\n",
        "Y = train['target'].values\n",
        "\n",
        "\n",
        "X_train.head()"
      ],
      "metadata": {
        "colab": {
          "base_uri": "https://localhost:8080/",
          "height": 305
        },
        "id": "1p_hN9nIeXdG",
        "outputId": "8f391efb-bc9e-4f09-af49-65062ee35394"
      },
      "execution_count": 92,
      "outputs": [
        {
          "output_type": "execute_result",
          "data": {
            "text/html": [
              "\n",
              "  <div id=\"df-aa82b96f-49c2-41f9-9181-1c47b10f12bd\">\n",
              "    <div class=\"colab-df-container\">\n",
              "      <div>\n",
              "<style scoped>\n",
              "    .dataframe tbody tr th:only-of-type {\n",
              "        vertical-align: middle;\n",
              "    }\n",
              "\n",
              "    .dataframe tbody tr th {\n",
              "        vertical-align: top;\n",
              "    }\n",
              "\n",
              "    .dataframe thead th {\n",
              "        text-align: right;\n",
              "    }\n",
              "</style>\n",
              "<table border=\"1\" class=\"dataframe\">\n",
              "  <thead>\n",
              "    <tr style=\"text-align: right;\">\n",
              "      <th></th>\n",
              "      <th>Gender</th>\n",
              "      <th>Customer Type</th>\n",
              "      <th>Type of Travel</th>\n",
              "      <th>Age_group</th>\n",
              "      <th>Departure Delay in Minutes_group</th>\n",
              "      <th>Arrival Delay in Minutes_group</th>\n",
              "      <th>Flight Distance_group</th>\n",
              "      <th>Leg room service</th>\n",
              "      <th>Inflight entertainment</th>\n",
              "      <th>Seat comfort</th>\n",
              "      <th>On-board service</th>\n",
              "      <th>Class</th>\n",
              "      <th>Baggage handling</th>\n",
              "      <th>Ease of Online booking</th>\n",
              "      <th>Cleanliness</th>\n",
              "      <th>Checkin service</th>\n",
              "      <th>Online support</th>\n",
              "      <th>Online boarding</th>\n",
              "      <th>Gate location</th>\n",
              "      <th>Food and drink</th>\n",
              "      <th>Departure/Arrival time convenient</th>\n",
              "      <th>Inflight wifi service</th>\n",
              "    </tr>\n",
              "  </thead>\n",
              "  <tbody>\n",
              "    <tr>\n",
              "      <th>0</th>\n",
              "      <td>0</td>\n",
              "      <td>0</td>\n",
              "      <td>0</td>\n",
              "      <td>1</td>\n",
              "      <td>1</td>\n",
              "      <td>1</td>\n",
              "      <td>2</td>\n",
              "      <td>4</td>\n",
              "      <td>3</td>\n",
              "      <td>3</td>\n",
              "      <td>4</td>\n",
              "      <td>1</td>\n",
              "      <td>3</td>\n",
              "      <td>4</td>\n",
              "      <td>4</td>\n",
              "      <td>3</td>\n",
              "      <td>3</td>\n",
              "      <td>4</td>\n",
              "      <td>2</td>\n",
              "      <td>3</td>\n",
              "      <td>0</td>\n",
              "      <td>4</td>\n",
              "    </tr>\n",
              "    <tr>\n",
              "      <th>1</th>\n",
              "      <td>0</td>\n",
              "      <td>1</td>\n",
              "      <td>0</td>\n",
              "      <td>2</td>\n",
              "      <td>2</td>\n",
              "      <td>2</td>\n",
              "      <td>4</td>\n",
              "      <td>4</td>\n",
              "      <td>4</td>\n",
              "      <td>2</td>\n",
              "      <td>4</td>\n",
              "      <td>0</td>\n",
              "      <td>1</td>\n",
              "      <td>5</td>\n",
              "      <td>4</td>\n",
              "      <td>0</td>\n",
              "      <td>2</td>\n",
              "      <td>2</td>\n",
              "      <td>3</td>\n",
              "      <td>4</td>\n",
              "      <td>4</td>\n",
              "      <td>1</td>\n",
              "    </tr>\n",
              "    <tr>\n",
              "      <th>2</th>\n",
              "      <td>1</td>\n",
              "      <td>1</td>\n",
              "      <td>0</td>\n",
              "      <td>3</td>\n",
              "      <td>1</td>\n",
              "      <td>1</td>\n",
              "      <td>4</td>\n",
              "      <td>4</td>\n",
              "      <td>5</td>\n",
              "      <td>1</td>\n",
              "      <td>3</td>\n",
              "      <td>0</td>\n",
              "      <td>3</td>\n",
              "      <td>4</td>\n",
              "      <td>3</td>\n",
              "      <td>4</td>\n",
              "      <td>4</td>\n",
              "      <td>3</td>\n",
              "      <td>0</td>\n",
              "      <td>1</td>\n",
              "      <td>1</td>\n",
              "      <td>4</td>\n",
              "    </tr>\n",
              "    <tr>\n",
              "      <th>3</th>\n",
              "      <td>0</td>\n",
              "      <td>0</td>\n",
              "      <td>0</td>\n",
              "      <td>1</td>\n",
              "      <td>1</td>\n",
              "      <td>1</td>\n",
              "      <td>3</td>\n",
              "      <td>4</td>\n",
              "      <td>3</td>\n",
              "      <td>3</td>\n",
              "      <td>1</td>\n",
              "      <td>1</td>\n",
              "      <td>4</td>\n",
              "      <td>3</td>\n",
              "      <td>3</td>\n",
              "      <td>2</td>\n",
              "      <td>2</td>\n",
              "      <td>3</td>\n",
              "      <td>2</td>\n",
              "      <td>3</td>\n",
              "      <td>3</td>\n",
              "      <td>3</td>\n",
              "    </tr>\n",
              "    <tr>\n",
              "      <th>4</th>\n",
              "      <td>0</td>\n",
              "      <td>1</td>\n",
              "      <td>0</td>\n",
              "      <td>4</td>\n",
              "      <td>1</td>\n",
              "      <td>1</td>\n",
              "      <td>1</td>\n",
              "      <td>4</td>\n",
              "      <td>4</td>\n",
              "      <td>3</td>\n",
              "      <td>3</td>\n",
              "      <td>0</td>\n",
              "      <td>3</td>\n",
              "      <td>4</td>\n",
              "      <td>3</td>\n",
              "      <td>3</td>\n",
              "      <td>4</td>\n",
              "      <td>5</td>\n",
              "      <td>2</td>\n",
              "      <td>3</td>\n",
              "      <td>3</td>\n",
              "      <td>4</td>\n",
              "    </tr>\n",
              "  </tbody>\n",
              "</table>\n",
              "</div>\n",
              "      <button class=\"colab-df-convert\" onclick=\"convertToInteractive('df-aa82b96f-49c2-41f9-9181-1c47b10f12bd')\"\n",
              "              title=\"Convert this dataframe to an interactive table.\"\n",
              "              style=\"display:none;\">\n",
              "        \n",
              "  <svg xmlns=\"http://www.w3.org/2000/svg\" height=\"24px\"viewBox=\"0 0 24 24\"\n",
              "       width=\"24px\">\n",
              "    <path d=\"M0 0h24v24H0V0z\" fill=\"none\"/>\n",
              "    <path d=\"M18.56 5.44l.94 2.06.94-2.06 2.06-.94-2.06-.94-.94-2.06-.94 2.06-2.06.94zm-11 1L8.5 8.5l.94-2.06 2.06-.94-2.06-.94L8.5 2.5l-.94 2.06-2.06.94zm10 10l.94 2.06.94-2.06 2.06-.94-2.06-.94-.94-2.06-.94 2.06-2.06.94z\"/><path d=\"M17.41 7.96l-1.37-1.37c-.4-.4-.92-.59-1.43-.59-.52 0-1.04.2-1.43.59L10.3 9.45l-7.72 7.72c-.78.78-.78 2.05 0 2.83L4 21.41c.39.39.9.59 1.41.59.51 0 1.02-.2 1.41-.59l7.78-7.78 2.81-2.81c.8-.78.8-2.07 0-2.86zM5.41 20L4 18.59l7.72-7.72 1.47 1.35L5.41 20z\"/>\n",
              "  </svg>\n",
              "      </button>\n",
              "      \n",
              "  <style>\n",
              "    .colab-df-container {\n",
              "      display:flex;\n",
              "      flex-wrap:wrap;\n",
              "      gap: 12px;\n",
              "    }\n",
              "\n",
              "    .colab-df-convert {\n",
              "      background-color: #E8F0FE;\n",
              "      border: none;\n",
              "      border-radius: 50%;\n",
              "      cursor: pointer;\n",
              "      display: none;\n",
              "      fill: #1967D2;\n",
              "      height: 32px;\n",
              "      padding: 0 0 0 0;\n",
              "      width: 32px;\n",
              "    }\n",
              "\n",
              "    .colab-df-convert:hover {\n",
              "      background-color: #E2EBFA;\n",
              "      box-shadow: 0px 1px 2px rgba(60, 64, 67, 0.3), 0px 1px 3px 1px rgba(60, 64, 67, 0.15);\n",
              "      fill: #174EA6;\n",
              "    }\n",
              "\n",
              "    [theme=dark] .colab-df-convert {\n",
              "      background-color: #3B4455;\n",
              "      fill: #D2E3FC;\n",
              "    }\n",
              "\n",
              "    [theme=dark] .colab-df-convert:hover {\n",
              "      background-color: #434B5C;\n",
              "      box-shadow: 0px 1px 3px 1px rgba(0, 0, 0, 0.15);\n",
              "      filter: drop-shadow(0px 1px 2px rgba(0, 0, 0, 0.3));\n",
              "      fill: #FFFFFF;\n",
              "    }\n",
              "  </style>\n",
              "\n",
              "      <script>\n",
              "        const buttonEl =\n",
              "          document.querySelector('#df-aa82b96f-49c2-41f9-9181-1c47b10f12bd button.colab-df-convert');\n",
              "        buttonEl.style.display =\n",
              "          google.colab.kernel.accessAllowed ? 'block' : 'none';\n",
              "\n",
              "        async function convertToInteractive(key) {\n",
              "          const element = document.querySelector('#df-aa82b96f-49c2-41f9-9181-1c47b10f12bd');\n",
              "          const dataTable =\n",
              "            await google.colab.kernel.invokeFunction('convertToInteractive',\n",
              "                                                     [key], {});\n",
              "          if (!dataTable) return;\n",
              "\n",
              "          const docLinkHtml = 'Like what you see? Visit the ' +\n",
              "            '<a target=\"_blank\" href=https://colab.research.google.com/notebooks/data_table.ipynb>data table notebook</a>'\n",
              "            + ' to learn more about interactive tables.';\n",
              "          element.innerHTML = '';\n",
              "          dataTable['output_type'] = 'display_data';\n",
              "          await google.colab.output.renderOutput(dataTable, element);\n",
              "          const docLink = document.createElement('div');\n",
              "          docLink.innerHTML = docLinkHtml;\n",
              "          element.appendChild(docLink);\n",
              "        }\n",
              "      </script>\n",
              "    </div>\n",
              "  </div>\n",
              "  "
            ],
            "text/plain": [
              "   Gender  ...  Inflight wifi service\n",
              "0       0  ...                      4\n",
              "1       0  ...                      1\n",
              "2       1  ...                      4\n",
              "3       0  ...                      3\n",
              "4       0  ...                      4\n",
              "\n",
              "[5 rows x 22 columns]"
            ]
          },
          "metadata": {},
          "execution_count": 92
        }
      ]
    },
    {
      "cell_type": "markdown",
      "source": [
        "앞서 말한 방식대로 데이터 종류별로 전처리를 진행했습니다.\n",
        "\n",
        "문자 형식 데이터의 경우 enumerate 함수를 통해 딕셔너리 형태로 바꾼 뒤 map 함수로 매핑시켜 라벨인코딩을 진행했습니다.\n",
        "\n",
        "연속형 데이터의 경우 판다스 내 qcut 함수를 이용해 항목 내 데이터를 4등분하고, apply 함수로 값을 넣어주었습니다. "
      ],
      "metadata": {
        "id": "Foy23e8ShbmA"
      }
    },
    {
      "cell_type": "markdown",
      "source": [
        "# 데이터 로더 만들기"
      ],
      "metadata": {
        "id": "32pVLfHChZ0r"
      }
    },
    {
      "cell_type": "code",
      "source": [
        "class CustomDataset(Dataset):\n",
        "\n",
        "    def __init__(self, x, y, cat_cols, num_cols):\n",
        "        # 데이터 셋 정의하는 곳\n",
        "        self.x_cat = x[cat_cols].copy().values.astype(np.int64)\n",
        "        self.x_num = x[num_cols].copy().values.astype(np.float32)\n",
        "        self.y = y.astype(np.float32)\n",
        "\n",
        "    def __len__(self):\n",
        "        # 길이 출력\n",
        "        return len(self.y)\n",
        "\n",
        "    def __getitem__(self, idx):\n",
        "        # 특정 1개 샘플 가져오는 곳\n",
        "        return self.x_cat[idx], self.x_num[idx], self.y[idx]"
      ],
      "metadata": {
        "id": "CsUsfd8qhTM3"
      },
      "execution_count": 93,
      "outputs": []
    },
    {
      "cell_type": "markdown",
      "source": [
        "torch.utils.data 내 Dataset 클래스를 상속받아 나만의 데이터 셋 클래스를 만들었습니다.\n",
        "\n",
        "len과 getitem 함수만 정의해준다면 클래스 형식은 자유로우며, 데이터 셋을 x/y로 분류해서 저장할 수 있습니다.\n",
        "\n",
        "이렇게 데이터 셋을 Dataset 클래스를 상속받아 정의한다면 torch.utils.data 내 DataLoader를 사용할 수 있는 것 또한 장점입니다."
      ],
      "metadata": {
        "id": "X2S75byXuN3o"
      }
    },
    {
      "cell_type": "code",
      "source": [
        "from sklearn.model_selection import train_test_split\n",
        "\n",
        "def return_dataloaders(batch_size, random_state = 0):\n",
        "    \n",
        "    data_range = X_train_group.index\n",
        "\n",
        "    train_idx, valid_idx = train_test_split(data_range, shuffle = True, stratify = Y, \n",
        "                                            test_size = .5, random_state = random_state)\n",
        "    \n",
        "    X_tr, y_tr = X_train.iloc[train_idx], Y[train_idx]\n",
        "    X_val, y_val = X_train.iloc[valid_idx], Y[valid_idx]\n",
        "\n",
        "    train_ds = CustomDataset(X_tr, y_tr, cat_cols, num_cols)\n",
        "    valid_ds = CustomDataset(X_val, y_val, cat_cols, num_cols)\n",
        "\n",
        "    # 데이터 셋을 로더 내에 저장합니다.\n",
        "    train_dl = DataLoader(train_ds, batch_size = batch_size)\n",
        "    valid_dl = DataLoader(valid_ds, batch_size = batch_size)\n",
        "\n",
        "    dataloaders = {}\n",
        "    dataloaders['train'] = train_dl\n",
        "    dataloaders['valid'] = valid_dl\n",
        "\n",
        "    return dataloaders\n",
        "\n",
        "batch_size = 32\n",
        "dataloaders = return_dataloaders(batch_size)"
      ],
      "metadata": {
        "id": "jhiSL9_wrvgf"
      },
      "execution_count": 94,
      "outputs": []
    },
    {
      "cell_type": "markdown",
      "source": [
        "앞서 정의한 나만의 데이터 셋 CustomDataset 클래스를 이용해 파이토치에서 지원하는 DataLoader를 정의했습니다."
      ],
      "metadata": {
        "id": "dmAYWkvqvmEe"
      }
    },
    {
      "cell_type": "markdown",
      "source": [
        "# 모델 정의"
      ],
      "metadata": {
        "id": "XnKEqWqKT0Yc"
      }
    },
    {
      "cell_type": "code",
      "source": [
        "def weights_init(m):\n",
        "    classname = m.__class__.__name__\n",
        "    if classname.find('BatchNorm') != -1: # 클레스의 이름이 BatchNorm 이라면\n",
        "        nn.init.normal_(m.weight.data, 1.0, 0.02)\n",
        "        nn.init.constant_(m.bias.data, 0)\n",
        "        print('hello world!')"
      ],
      "metadata": {
        "id": "IhEzjE_pB5Dt"
      },
      "execution_count": 95,
      "outputs": []
    },
    {
      "cell_type": "markdown",
      "source": [
        "코드 작성자가 정의한 함수입니다. 가중치 초기값을 주는 함수인 것 같은데 조금 더 공부해야겠습니다."
      ],
      "metadata": {
        "id": "1DWFld83Joo9"
      }
    },
    {
      "cell_type": "code",
      "source": [
        "class FC_Block(nn.Module):\n",
        "    def __init__(self, inp_dim, out_dim):\n",
        "        super(FC_Block, self).__init__()\n",
        "        self.linear = nn.Linear(inp_dim, out_dim)\n",
        "        self.batch = nn.BatchNorm1d(out_dim)\n",
        "\n",
        "    def forward(self, x):\n",
        "        x = self.linear(x)\n",
        "        x = self.batch(x)\n",
        "        return x        "
      ],
      "metadata": {
        "id": "12oXcvwBvfxG"
      },
      "execution_count": 96,
      "outputs": []
    },
    {
      "cell_type": "markdown",
      "source": [
        "nn.Module 클래스를 상속받아 FC_Block 클래스를 만들었습니다.\n",
        "\n",
        "이 클래스는 inp, out 두 입력값을 받아 히든층을 구현한 뒤 배치 정규화를 진행합니다. 한번에 사용하면 편리하겠죠?"
      ],
      "metadata": {
        "id": "5SoFhDzPJ1_q"
      }
    },
    {
      "cell_type": "code",
      "source": [
        "inp_oup_dims = [[x , x//2] for x in X_train[cat_cols].nunique()]\n",
        "# nunique() 함수는 데이터 프레임 내 항목 개수를 출력해줍니다.\n",
        "# 범주형 변수 항목 수, 항목 수의 절반으로 구성됩니다.\n",
        "\n",
        "class EMBNN(nn.Module):\n",
        "    def __init__(self, inp_oup_dims, num_continuous):\n",
        "        super(EMBNN, self).__init__()\n",
        "\n",
        "        # nn.ModuleList : nn.Module 형태를 리스트로 저장하는 방식.\n",
        "        self.embeddings = nn.ModuleList([\n",
        "            nn.Embedding(inp_dim + 1, out_dim) for inp_dim, out_dim, in inp_oup_dims\n",
        "        ])\n",
        "\n",
        "        self.n_emb = sum(e.embedding_dim for e in self.embeddings)\n",
        "        self.emb_drop = nn.Dropout(0.3)\n",
        "        \n",
        "        self.cont_norm = nn.BatchNorm1d(num_continuous)\n",
        "        self.n_con = num_continuous\n",
        "\n",
        "        self.FFC = nn.Sequential(\n",
        "            FC_Block(self.n_emb + self.n_con, 32),\n",
        "            nn.Dropout(0.2),\n",
        "            FC_Block(32, 8),\n",
        "            nn.Dropout(0.2),\n",
        "            nn.Linear(8,1)\n",
        "        )\n",
        "\n",
        "    def forward(self, x_cat, x_cont):\n",
        "        # 범주형 자료들의 입력값을 각각 임베딩 합니다.\n",
        "        x_cat = [e(x_cat[:, i]) for i, e in enumerate(self.embeddings)]\n",
        "        # 임베딩 한 값(리스트 형태)를 가로 방향으로 합쳐줍니다.\n",
        "        x_cat = torch.cat(x_cat, 1)\n",
        "        # 드롭 아웃 진행합니다.\n",
        "        x_cat = self.emb_drop(x_cat)\n",
        "\n",
        "        # 연속형 자료들에 배치 정규화 진행합니다.\n",
        "        x_cont = self.cont_norm(x_cont)\n",
        "\n",
        "        # 범주형 자료와 연속형 자료를 합칩니다.\n",
        "        x = torch.cat([x_cat, x_cont], 1)\n",
        "\n",
        "        # 히든 층을 진행합니다.\n",
        "        x = self.FFC(x)\n",
        "\n",
        "        return F.sigmoid(x)"
      ],
      "metadata": {
        "id": "lG3KL6D5UD6Z"
      },
      "execution_count": 97,
      "outputs": []
    },
    {
      "cell_type": "markdown",
      "source": [
        "범주형 변수들을 특정 층에 먼저 통과시켜 임베딩을 진행 한 뒤 연속형 변수들과 합쳐줍니다. 그 이후 히든층을 진행시킵니다.\n",
        "\n",
        "부분 부분마다 각주를 달아놓았습니다."
      ],
      "metadata": {
        "id": "hKc7ysowOTfs"
      }
    },
    {
      "cell_type": "markdown",
      "source": [
        "# 모델 학습"
      ],
      "metadata": {
        "id": "aqRUp0yoYju6"
      }
    },
    {
      "cell_type": "code",
      "source": [
        "def train_model(model, dataloader, optimizer, criterion, num_epoch, early_stop, model_path):\n",
        "\n",
        "    best_val_loss = np.float('inf')\n",
        "    early_stop_epoch = 0\n",
        "\n",
        "    for epoch in range(num_epoch):\n",
        "        for phase in ['train', 'valid']: # 트레인, 벨리드 2가지 모드로.\n",
        "            if phase == 'train':\n",
        "                model.train()\n",
        "            elif phase == 'valid':\n",
        "                model.eval()\n",
        "            \n",
        "            running_loss = 0\n",
        "            running_corr = 0\n",
        "            total = 0\n",
        "\n",
        "            for x_cat, x_num, y in dataloader[phase]:\n",
        "                # 데이터들을 디바이스에 실음.\n",
        "                x_cat = x_cat.to(device)\n",
        "                x_num = x_num.to(device)\n",
        "                y = y.to(device)\n",
        "\n",
        "                optimizer.zero_grad() # 배치마다 옵티마이저 초기화.\n",
        "                total += x_cat.size(0)\n",
        "\n",
        "                with torch.set_grad_enabled(phase == 'train'):\n",
        "                    # 트레인 모드 일때만 가중치 계산을 합니다.\n",
        "                    # 이부분이 조금 신기한게 모델(입력값)을 통해 forward 함수가 어떻게 실행되는지 모르겠습니다.\n",
        "                    output = model(x_cat, x_num)\n",
        "                    loss = criterion(output.squeeze(), y)\n",
        "\n",
        "                    # 트레인 모드일때 역전파 + 최적화\n",
        "                    if phase == 'train':\n",
        "                        loss.backward()\n",
        "                        optimizer.step()\n",
        "\n",
        "                running_loss += loss.item() # loss 내 item 함수를 사용해 로스 값 출력\n",
        "                running_corr += (output.round() == y.unsqueeze(1)).sum().item()\n",
        "\n",
        "            epoch_loss = running_loss / total\n",
        "            epoch_acc = running_corr / total\n",
        "\n",
        "            if phase == 'valid' and epoch_loss < best_val_loss:\n",
        "                best_val_loss = epoch_loss\n",
        "                best_acc = epoch_acc\n",
        "                torch.save(model.state_dict(), model_path)\n",
        "                early_stop_epoch = 0\n",
        "                best_epoch = epoch\n",
        "\n",
        "            elif phase == 'valid':\n",
        "                early_stop_epoch += 1\n",
        "        \n",
        "        if (early_stop_epoch >= early_stop) or (epoch == num_epoch-1) : \n",
        "            \"Early Stop Occured on epoch\" + str(epoch)\n",
        "            print(f'On Epoch {best_epoch}, Best Model Saved with Valid Loss {round(epoch_loss, 6)} and Acc {round(epoch_acc, 4)*100}%')\n",
        "            break;\n",
        "\n",
        "    model.load_state_dict(torch.load(model_path))\n",
        "    return model"
      ],
      "metadata": {
        "id": "4m4sVeIZYgdY"
      },
      "execution_count": 98,
      "outputs": []
    },
    {
      "cell_type": "markdown",
      "source": [
        "모델을 실제로 실행시켜주는 함수를 구현했습니다. 짚고 넘어갈 건 데이터와 모델 모두 디바이스에 실어줘야 한다는 점 입니다.\n",
        "\n",
        "상세한 코드 설명은 주석을 달았습니다."
      ],
      "metadata": {
        "id": "SSFdOpRuPiGk"
      }
    },
    {
      "cell_type": "code",
      "source": [
        "def predict(model):\n",
        "    with torch.no_grad(): # 평가하는 부분이기 때문에 가중치 업데이트 기능은 꺼둡니다.\n",
        "        test_cat = torch.LongTensor(X_test[cat_cols].values) # int 형 데이터\n",
        "        test_num = torch.FloatTensor(X_test[num_cols].values) # 실수형 데이터\n",
        "\n",
        "        # squeeze는 1인 차원을 제거해줍니다.\n",
        "        pred = model(test_cat, test_num).squeeze() \n",
        "\n",
        "        return pred.cpu().detach().numpy()"
      ],
      "metadata": {
        "id": "_Xnpac24dfDZ"
      },
      "execution_count": 99,
      "outputs": []
    },
    {
      "cell_type": "markdown",
      "source": [
        "테스트 데이터를 평가하는 부분을 함수로 구현했습니다."
      ],
      "metadata": {
        "id": "uMRa3FD2X6q9"
      }
    },
    {
      "cell_type": "code",
      "source": [
        "def return_pred_with_random_state(random_state = 0) : \n",
        "    batch_size = 32\n",
        "    model = EMBNN(inp_oup_dims, len(num_cols)).to(device)\n",
        "    model.apply(weights_init)\n",
        "    dataloader = return_dataloaders(batch_size, random_state)\n",
        "    optimizer = optim.Adam(model.parameters(), lr = 0.005)\n",
        "    criterion = nn.BCELoss()\n",
        "\n",
        "    trained_model = train_model(model, dataloader, optimizer, criterion, \n",
        "                                num_epoch = 300, early_stop = 10, model_path = 'EMBNN.pth')\n",
        "    pred = predict(trained_model)\n",
        "    return pred"
      ],
      "metadata": {
        "id": "RCy7j2BYeKAj"
      },
      "execution_count": 100,
      "outputs": []
    },
    {
      "cell_type": "markdown",
      "source": [
        "배치 사이즈를 정하고, 모델 정의하고, 배치 정규화시 초기 가중치를 넣어주고 데이터를 로더화 시켰습니다.\n",
        "\n",
        "다음으로 옵티마이저 아담을 정의하고, BCELoss 손실함수를 사용했습니다. 그 후  train_model 함수를 이용해 모델 학습을 시켰습니다.\n",
        "\n",
        "마지막으로 predict 함수를 사용해 테스트 데이터의 라벨값을 추출합니다. 작성자가 함수화 한 덕에 이해가 한번에 됩니다."
      ],
      "metadata": {
        "id": "Xi4mRb--YAiN"
      }
    },
    {
      "cell_type": "code",
      "source": [
        "pred = return_pred_with_random_state(42)\n",
        "sample_submission['target'] = pred.round()\n",
        "sample_submission.to_csv('airport.csv',index=False)"
      ],
      "metadata": {
        "id": "qFY_O0EX_zRR",
        "colab": {
          "base_uri": "https://localhost:8080/"
        },
        "outputId": "c3f466b7-b294-4a29-b806-3f09889cd0ab"
      },
      "execution_count": 103,
      "outputs": [
        {
          "output_type": "stream",
          "name": "stdout",
          "text": [
            "hello world!\n",
            "hello world!\n",
            "hello world!\n",
            "On Epoch 29, Best Model Saved with Valid Loss 0.007403 and Acc 90.53%\n"
          ]
        }
      ]
    },
    {
      "cell_type": "markdown",
      "source": [
        "방금 정의한 함수를 사용하기만 하면 결과물이 바로 나옵니다."
      ],
      "metadata": {
        "id": "6uT7gdcsZmrM"
      }
    },
    {
      "cell_type": "markdown",
      "source": [
        "# 느낀점"
      ],
      "metadata": {
        "id": "lfZA_driZuIT"
      }
    },
    {
      "cell_type": "markdown",
      "source": [
        "파이토치를 연습하고자 그동안 튜토리얼 위주로 공부했는데, 실제 대회 데이터에 적용된 코드를 공부하니 느낌이 달랐습니다.\n",
        "\n",
        "이상적으로 잘 전처리 된 튜토리얼 내 데이터와 달리 딥러닝에 적용하기 위해 쓰는 전처리 과정에서 많이 공부 했습니다.\n",
        "\n",
        "실제 데이터 분석은 깨끗한 데이터로 하는 경우는 많이 없으니깐요.\n",
        "\n",
        "100% 이해하지 못한 부분도 일부 존재하는데, 이번이 끝이 아니고 계속 공부할 것이기 때문에 열심히 해보겠습니다.\n",
        "\n",
        "다음에는 자연어 처리 부분을 파이토치를 이용한 공부를 해보겠습니다.\n",
        "\n",
        "끝으로 코드 출처를 밝힙니다. 작성자분에게 감사드립니다.\n",
        "\n",
        "https://dacon.io/competitions/official/235871/codeshare/4517?page=2&dtype=recent"
      ],
      "metadata": {
        "id": "1NteXRhKZvTa"
      }
    }
  ]
}