{
  "nbformat": 4,
  "nbformat_minor": 0,
  "metadata": {
    "colab": {
      "name": "FirstDeep3.ipynb",
      "provenance": [],
      "collapsed_sections": [],
      "toc_visible": true,
      "authorship_tag": "ABX9TyM9Ex1kNp8GQsczXIxDukqM",
      "include_colab_link": true
    },
    "kernelspec": {
      "name": "python3",
      "display_name": "Python 3"
    },
    "language_info": {
      "name": "python"
    }
  },
  "cells": [
    {
      "cell_type": "markdown",
      "metadata": {
        "id": "view-in-github",
        "colab_type": "text"
      },
      "source": [
        "<a href=\"https://colab.research.google.com/github/KSY1526/myblog/blob/master/_notebooks/2022-01-23-FirstDeep3.ipynb\" target=\"_parent\"><img src=\"https://colab.research.google.com/assets/colab-badge.svg\" alt=\"Open In Colab\"/></a>"
      ]
    },
    {
      "cell_type": "markdown",
      "source": [
        "# \"[처음 시작하는 딥러닝] 3. 밑바닥부터 만들어보는 CNN\"\n",
        "- author: Seong Yeon Kim \n",
        "- categories: [book, jupyter, Deep Learning, matrix, math, class]"
      ],
      "metadata": {
        "id": "UBi2owFuBMgk"
      }
    },
    {
      "cell_type": "markdown",
      "source": [
        "# 기본 세팅"
      ],
      "metadata": {
        "id": "t7Ksob3VUnaE"
      }
    },
    {
      "cell_type": "code",
      "execution_count": null,
      "metadata": {
        "id": "QuJTJyKDBHko"
      },
      "outputs": [],
      "source": [
        "import numpy as np\n",
        "from numpy import ndarray"
      ]
    },
    {
      "cell_type": "code",
      "source": [
        "def assert_same_shape(output, output_grad):\n",
        "    assert output.shape == output_grad.shape, \\\n",
        "    '''\n",
        "    두 ndarray의 모양이 같아야 하는데,\n",
        "    첫 번째 ndarray의 모양은 {0}이고\n",
        "    두 번째 ndarray의 모양은 {1}이다.\n",
        "    '''.format(tuple(output_grad.shape), tuple(output.shape))\n",
        "    return None\n",
        "\n",
        "def assert_dim(t, dim):\n",
        "    assert len(t.shape) == dim, \\\n",
        "    '''\n",
        "    이 텐서는 {0}차원이어야 하는데, {1}차원이다.\n",
        "    '''.format(dim, len(t.shape))\n",
        "    return None"
      ],
      "metadata": {
        "id": "elQnyttoUrBw"
      },
      "execution_count": null,
      "outputs": []
    },
    {
      "cell_type": "markdown",
      "source": [
        "필요한 차원을 잘 입력했는지 확인하는 함수를 선언합니다."
      ],
      "metadata": {
        "id": "xjHQJSO7U-JJ"
      }
    },
    {
      "cell_type": "markdown",
      "source": [
        "# 1차원 합성 곱"
      ],
      "metadata": {
        "id": "VDNvhn1xBMl4"
      }
    },
    {
      "cell_type": "code",
      "source": [
        "input_1d = np.array([1,2,3,4,5])\n",
        "param_1d = np.array([1,1,1])"
      ],
      "metadata": {
        "id": "LpZDABFyQ9RA"
      },
      "execution_count": null,
      "outputs": []
    },
    {
      "cell_type": "code",
      "source": [
        "def _pad_1d(inp, num): # 원래 데이터와 패딩 길이 입력\n",
        "    z = np.array([0])\n",
        "    z = np.repeat(z, num)\n",
        "    return np.concatenate([z, inp, z])\n",
        "\n",
        "_pad_1d(input_1d, 1)"
      ],
      "metadata": {
        "colab": {
          "base_uri": "https://localhost:8080/"
        },
        "id": "zGDkVwLzSfAU",
        "outputId": "f377387a-6dc6-4e03-c5cd-f044cf2f6581"
      },
      "execution_count": null,
      "outputs": [
        {
          "output_type": "execute_result",
          "data": {
            "text/plain": [
              "array([0, 1, 2, 3, 4, 5, 0])"
            ]
          },
          "metadata": {},
          "execution_count": 5
        }
      ]
    },
    {
      "cell_type": "markdown",
      "source": [
        "간단한 함수로 1차원 데이터를 패딩한 모습입니다.\n",
        "\n",
        "입력 데이터와 합성곱 연산을 한 출력 데이터의 크기를 같게하기 위해선 벗어나는 범위에 대해서 0 값을 채워주는 패딩을 하게 됩니다.\n",
        "\n",
        "패딩 크기는 필터 크기를 2로 나눈 값에 정수부분이 입력과 출력을 같게하는 패딩의 크기가 됩니다."
      ],
      "metadata": {
        "id": "MiCQOz44Tn8F"
      }
    },
    {
      "cell_type": "code",
      "source": [
        "def conv_1d(inp, param): # 입력 값과 필터 값 입력\n",
        "    # 1차원 입력인지 확인합니다\n",
        "    assert_dim(inp, 1)\n",
        "    assert_dim(param, 1)\n",
        "\n",
        "    # 입력 값에 패딩을 덧붙입니다.\n",
        "    param_len = param.shape[0]\n",
        "    param_mid = param_len // 2\n",
        "    input_pad = _pad_1d(inp, param_mid)\n",
        "\n",
        "    # 초기값 부여\n",
        "    out = np.zeros(inp.shape)\n",
        "\n",
        "    # 1차원 합성곱 연산 수행\n",
        "    for o in range(out.shape[0]):\n",
        "        for p in range(param_len):\n",
        "            out[o] += param[p] * input_pad[o+p]\n",
        "\n",
        "    # 출력 모양이 입력과 동일한지 확인\n",
        "    assert_same_shape(inp, out)\n",
        "\n",
        "    return out\n",
        "\n",
        "conv_1d(input_1d, param_1d)"
      ],
      "metadata": {
        "colab": {
          "base_uri": "https://localhost:8080/"
        },
        "id": "UNW4Xm-ES05q",
        "outputId": "820c4c88-ebc9-4d6a-b478-3c252bf7a3e1"
      },
      "execution_count": null,
      "outputs": [
        {
          "output_type": "execute_result",
          "data": {
            "text/plain": [
              "array([ 3.,  6.,  9., 12.,  9.])"
            ]
          },
          "metadata": {},
          "execution_count": 10
        }
      ]
    },
    {
      "cell_type": "markdown",
      "source": [
        "가중치가 [1,1,1] 인 간단한 합성곱 연산을 진행했습니다."
      ],
      "metadata": {
        "id": "t9dI88xSWssj"
      }
    },
    {
      "cell_type": "code",
      "source": [
        "# 출력값의 합을 구하는 함수\n",
        "def conv_1d_sum(inp, param): \n",
        "    out = conv_1d(inp, param)\n",
        "    return np.sum(out)\n",
        "\n",
        "input_1d = np.array([1,2,3,4,5])\n",
        "input_1d_2 = np.array([1,2,3,4,6])\n",
        "input_1d_3 = np.array([1,2,3,5,5])\n",
        "\n",
        "param_1d = np.array([1,1,1])\n",
        "param_1d_2 = np.array([2,1,1])\n",
        "\n",
        "print(conv_1d_sum(input_1d, param_1d))\n",
        "print(conv_1d_sum(input_1d_2, param_1d))\n",
        "print(conv_1d_sum(input_1d_3, param_1d))\n",
        "print(conv_1d_sum(input_1d, param_1d_2))"
      ],
      "metadata": {
        "colab": {
          "base_uri": "https://localhost:8080/"
        },
        "id": "KVxgyRWlWhkb",
        "outputId": "cb0d2f30-a561-45aa-95a7-3c1cac34f4e4"
      },
      "execution_count": null,
      "outputs": [
        {
          "output_type": "stream",
          "name": "stdout",
          "text": [
            "39.0\n",
            "41.0\n",
            "42.0\n",
            "49.0\n"
          ]
        }
      ]
    },
    {
      "cell_type": "markdown",
      "source": [
        "입력값과 필터값이 달라짐에 따라 출력값의 합이 어떻게 바뀌는지 비교했습니다.\n",
        "\n",
        "끝 쪽 입력값이 1 증가할때는 출력값의 합이 2증가, 가운데 쪽 입력값(패딩 영향 안받는)이 1 증가할때는 출력값의 합이 3증가합니다.\n",
        "\n",
        "또 필터값이 1 증가할때 출력값의 합이 10 증가합니다."
      ],
      "metadata": {
        "id": "mD3eCUzbY5lW"
      }
    },
    {
      "cell_type": "code",
      "source": [
        "def _param_grad_1d(inp, param, output_grad = None):\n",
        "    # 입력값 패딩 추가\n",
        "    param_len = param.shape[0]\n",
        "    param_mid = param_len // 2\n",
        "    input_pad = _pad_1d(inp, param_mid)\n",
        "\n",
        "    if output_grad is None:\n",
        "        # 출력값의 기울기를 입력하지 않으면 1로 초기화.\n",
        "        # 왜냐하면 출력값의 합의 기울기이기 때문에 기울기를 유지하는 1을 쓰면됨.\n",
        "        output_grad = np.ones_like(inp)\n",
        "\n",
        "    else:\n",
        "        assert_same_shape(inp, output_grad)\n",
        "\n",
        "    # 모든 기울기의 초기값을 0으로 줍니다.\n",
        "    param_grad = np.zeros_like(param)\n",
        "    input_grad = np.zeros_like(inp)\n",
        "\n",
        "    for o in range(inp.shape[0]): # 0~4\n",
        "        for p in range(param.shape[0]): # 0~2\n",
        "            # 필터값의 기울기는 실제 영향을 받는 입력값의 합으로 됨\n",
        "            param_grad[p] += input_pad[o+p] * output_grad[o]\n",
        "    \n",
        "    assert_same_shape(param_grad, param)\n",
        "\n",
        "    return param_grad\n",
        "\n",
        "_param_grad_1d(input_1d, param_1d)"
      ],
      "metadata": {
        "colab": {
          "base_uri": "https://localhost:8080/"
        },
        "id": "TUACXeaqYzPs",
        "outputId": "53852bb1-b8b8-44bb-ea39-349d5e81b5cd"
      },
      "execution_count": null,
      "outputs": [
        {
          "output_type": "execute_result",
          "data": {
            "text/plain": [
              "array([10, 15, 14])"
            ]
          },
          "metadata": {},
          "execution_count": 15
        }
      ]
    },
    {
      "cell_type": "markdown",
      "source": [
        "1차원 합성 곱의 역방향 함수중 먼저 필터(파라미터) 기울기를 구하는 함수 입니다.\n",
        "\n",
        "조금 어려운데 결과값을 간단히 해석하면 파라미터가 1 증가했을때 출력값의 합이 각각 10, 15, 14 증가한다는 것 입니다."
      ],
      "metadata": {
        "id": "6Cu2zz8pgLax"
      }
    },
    {
      "cell_type": "code",
      "source": [
        "def _input_grad_1d(inp, param, output_grad = None):\n",
        "    # 입력값 패딩 추가\n",
        "    param_len = param.shape[0]\n",
        "    param_mid = param_len // 2\n",
        "    input_pad = _pad_1d(inp, param_mid)\n",
        "\n",
        "    if output_grad is None:\n",
        "        # 출력값의 기울기를 입력하지 않으면 1로 초기화.\n",
        "        # 왜냐하면 출력값의 합의 기울기이기 때문에 기울기를 유지하는 1을 쓰면됨.\n",
        "        output_grad = np.ones_like(inp)\n",
        "\n",
        "    else:\n",
        "        assert_same_shape(inp, output_grad)\n",
        "\n",
        "    # 원할한 연산을 위해 범위 내 값은 1을, 범위를 벗어나는 것들은 0으로함.\n",
        "    # 패딩도 같은 효과를 냄.\n",
        "    output_pad = _pad_1d(output_grad, param_mid)\n",
        "\n",
        "    # 모든 기울기의 초기값을 0으로 줍니다.\n",
        "    param_grad = np.zeros_like(param)\n",
        "    input_grad = np.zeros_like(inp)\n",
        "\n",
        "    for o in range(inp.shape[0]): # 0~4\n",
        "        for f in range(param.shape[0]): # 0~2\n",
        "            # 입력값의 기울기는 실제 영향을 받는 필터값의 합으로 됨\n",
        "            input_grad[o] += output_pad[o + param_len - f - 1] * param[f]\n",
        "    \n",
        "    assert_same_shape(param_grad, param)\n",
        "\n",
        "    return input_grad\n",
        "\n",
        "_input_grad_1d(input_1d, param_1d)"
      ],
      "metadata": {
        "colab": {
          "base_uri": "https://localhost:8080/"
        },
        "id": "NPQln7w4ch5_",
        "outputId": "64728efd-e269-4dc0-ef55-9eee61c72415"
      },
      "execution_count": null,
      "outputs": [
        {
          "output_type": "execute_result",
          "data": {
            "text/plain": [
              "array([2, 3, 3, 3, 2])"
            ]
          },
          "metadata": {},
          "execution_count": 17
        }
      ]
    },
    {
      "cell_type": "markdown",
      "source": [
        "입력값에 따른 출력값의 변동이 얼마나 되는지를 나타내는 함수 입니다.\n",
        "\n",
        "첫번째와 마지막은 입력값이 1 증가할때 크기가 1 작은 2만큼 증가하고 나머지 값들은 3만큼 증가합니다.\n",
        "\n",
        "패딩한 것에 영향받는 값을 제외하고 필터의 개수(3)만큼 영향력이 있다고 생각하면 됩니다."
      ],
      "metadata": {
        "id": "aF8UOdngsSGy"
      }
    },
    {
      "cell_type": "markdown",
      "source": [
        "# 배치 입력 적용하기"
      ],
      "metadata": {
        "id": "4kmH3crCswxY"
      }
    },
    {
      "cell_type": "code",
      "source": [
        "input_1d_batch = np.array([[0,1,2,3,4,5,6],\n",
        "                           [1,2,3,4,5,6,7]])\n",
        "\n",
        "def _pad_1d_batch(inp, num):\n",
        "    outs = [_pad_1d(obs, num) for obs in inp]\n",
        "    return np.stack(outs)\n",
        "\n",
        "_pad_1d_batch(input_1d_batch, 1)"
      ],
      "metadata": {
        "colab": {
          "base_uri": "https://localhost:8080/"
        },
        "id": "XIHaAaNWsPdZ",
        "outputId": "062260ef-5c74-4f56-e8b1-0abb5f76dbff"
      },
      "execution_count": null,
      "outputs": [
        {
          "output_type": "execute_result",
          "data": {
            "text/plain": [
              "array([[0, 0, 1, 2, 3, 4, 5, 6, 0],\n",
              "       [0, 1, 2, 3, 4, 5, 6, 7, 0]])"
            ]
          },
          "metadata": {},
          "execution_count": 20
        }
      ]
    },
    {
      "cell_type": "markdown",
      "source": [
        "입력값이 2개 이상인 배치에도 적용하기 위해 기존 구현한 함수를 확장하겠습니다.\n",
        "\n",
        "패딩의 경우 기존함수를 반복문을 이용해서 여러번 호출하면 됩니다."
      ],
      "metadata": {
        "id": "zJ-GOQ5WtchM"
      }
    },
    {
      "cell_type": "code",
      "source": [
        "def conv_1d_batch(inp, param):\n",
        "    outs = [conv_1d(obs, param) for obs in inp]\n",
        "    return np.stack(outs)\n",
        "\n",
        "conv_1d_batch(input_1d_batch, param_1d)"
      ],
      "metadata": {
        "colab": {
          "base_uri": "https://localhost:8080/"
        },
        "id": "ZT607kOltVzD",
        "outputId": "eee77b48-97cb-4a3f-d7e5-1ad313f831fa"
      },
      "execution_count": null,
      "outputs": [
        {
          "output_type": "execute_result",
          "data": {
            "text/plain": [
              "array([[ 1.,  3.,  6.,  9., 12., 15., 11.],\n",
              "       [ 3.,  6.,  9., 12., 15., 18., 13.]])"
            ]
          },
          "metadata": {},
          "execution_count": 21
        }
      ]
    },
    {
      "cell_type": "markdown",
      "source": [
        "순방향 계산에 경우에도 같은 방식으로 확장했습니다."
      ],
      "metadata": {
        "id": "97VFqdJlt8Ls"
      }
    },
    {
      "cell_type": "code",
      "source": [
        "def input_grad_1d_batch(inp, param):\n",
        "    out = conv_1d_batch(inp, param)\n",
        "    out_grad = np.ones_like(out) # 출력기울기 값의 형태가 배치이므로 이에 맞게 조정\n",
        "    batch_size = out_grad.shape[0] # 배치 크기가 나옴\n",
        "    grads = [_input_grad_1d(inp[i], param, out_grad[i]) for i in range(batch_size)]\n",
        "    return np.stack(grads)\n",
        "\n",
        "input_grad_1d_batch(input_1d_batch, param_1d)"
      ],
      "metadata": {
        "colab": {
          "base_uri": "https://localhost:8080/"
        },
        "id": "C0Oll_xLt5fY",
        "outputId": "966ac06b-7f36-4049-f0d5-eb43dfdc001c"
      },
      "execution_count": null,
      "outputs": [
        {
          "output_type": "execute_result",
          "data": {
            "text/plain": [
              "array([[2, 3, 3, 3, 3, 3, 2],\n",
              "       [2, 3, 3, 3, 3, 3, 2]])"
            ]
          },
          "metadata": {},
          "execution_count": 22
        }
      ]
    },
    {
      "cell_type": "markdown",
      "source": [
        "입력값에 따른 출력값이 얼마나 되는지 구하는 함수를 배치로 확장했습니다.\n",
        "\n",
        "기울기는 입력값에 영향이 있지 않기 때문에 어느 입력값이 입력되던 그대로 출력됩니다."
      ],
      "metadata": {
        "id": "vUR9vE-422Vx"
      }
    },
    {
      "cell_type": "code",
      "source": [
        "def param_grad_1d_batch(inp, param):\n",
        "    output_grad = np.ones_like(inp)\n",
        "    # 단순 합의 기울기이기 때문에 모든 값을 1로 둡니다.\n",
        "\n",
        "    inp_pad = _pad_1d_batch(inp, 1)\n",
        "    out_pad = _pad_1d_batch(inp, 1)\n",
        "    \n",
        "    param_grad = np.zeros_like(param)\n",
        "    \n",
        "    for i in range(inp.shape[0]): # 배치 크기만큼\n",
        "        for o in range(inp.shape[1]): # 인풋 길이만큼\n",
        "            for p in range(param.shape[0]): # 필터 길이만큼\n",
        "                # 전부 합해줍니다.\n",
        "                param_grad[p] += inp_pad[i][o+p] * output_grad[i][o]\n",
        "\n",
        "    return param_grad\n",
        "\n",
        "param_grad_1d_batch(input_1d_batch, param_1d)"
      ],
      "metadata": {
        "colab": {
          "base_uri": "https://localhost:8080/"
        },
        "id": "OOYXeGkD21Ry",
        "outputId": "3163c82a-329e-4bf0-f5b9-22ad3d90c505"
      },
      "execution_count": null,
      "outputs": [
        {
          "output_type": "execute_result",
          "data": {
            "text/plain": [
              "array([36, 49, 48])"
            ]
          },
          "metadata": {},
          "execution_count": 23
        }
      ]
    },
    {
      "cell_type": "markdown",
      "source": [
        "필터값에 따른 출력값이 얼마나 변하는지를 구하는 함수를 배치로 확장했습니다.\n",
        "\n",
        "이때 필터에 대한 기울기는 배치 단위인데 필터는 모든 관찰과 합성곱 연선이 이뤄지므로 모든 값을 다 더해야합니다.\n",
        "\n",
        "즉 모든 요소의 합이 필터 값이 바뀜에 따라서 얼마나 바뀌는지를 구하는 것 입니다."
      ],
      "metadata": {
        "id": "2-wvYSaM4r0i"
      }
    },
    {
      "cell_type": "markdown",
      "source": [
        "# 2차원 합성곱"
      ],
      "metadata": {
        "id": "UeC1sRPv5Lrq"
      }
    },
    {
      "cell_type": "code",
      "source": [
        "imgs_2d_batch = np.random.randn(3, 28, 28)\n",
        "param_2d = np.random.randn(3,3)\n",
        "\n",
        "def _pad_2d_obs(inp, num):\n",
        "    # 가로 단위로 앞 뒷 값 각각 패딩\n",
        "    inp_pad = _pad_1d_batch(inp, num)\n",
        "    # 가로로 윗 2줄, 아래 2줄 패딩\n",
        "    other = np.zeros((num, inp.shape[0] + num * 2))\n",
        "\n",
        "    return np.concatenate([other, inp_pad, other])\n",
        "\n",
        "def _pad_2d(inp, num):\n",
        "    # 첫번째 차원은 배치 크기에 해당함.\n",
        "    outs = [_pad_2d_obs(obs, num) for obs in inp]\n",
        "    return np.stack(outs)\n",
        "\n",
        "_pad_2d(imgs_2d_batch, 1).shape"
      ],
      "metadata": {
        "colab": {
          "base_uri": "https://localhost:8080/"
        },
        "id": "fWt-wHJw4nmc",
        "outputId": "634f2b49-9943-4540-9ec0-23ec0d8573b3"
      },
      "execution_count": null,
      "outputs": [
        {
          "output_type": "execute_result",
          "data": {
            "text/plain": [
              "(3, 30, 30)"
            ]
          },
          "metadata": {},
          "execution_count": 31
        }
      ]
    },
    {
      "cell_type": "markdown",
      "source": [
        "2차원 단위에 입력값을 가지고 패딩을 진행했습니다.\n",
        "\n",
        "_pad_2d_obs 함수는 패딩을 실질적으로 진행하는 함수이고, _pad_2d 함수는 배치 단위로 확장하는 함수 입니다."
      ],
      "metadata": {
        "id": "9-K9wYNL7bpT"
      }
    },
    {
      "cell_type": "code",
      "source": [
        "def _compute_output_obs_2d(obs, param):\n",
        "    param_mid = param.shape[0] // 2\n",
        "    \n",
        "    obs_pad = _pad_2d_obs(obs, param_mid)\n",
        "\n",
        "    out = np.zeros_like(obs)\n",
        "\n",
        "    # 2차원 필터를 거처 출력값을 만듭니다.\n",
        "    for o_w in range(out.shape[0]): # 출력값 가로길이\n",
        "        for o_h in range(out.shape[1]): # 출력값 세로길이\n",
        "            for p_w in range(param.shape[0]): # 필터 가로길이\n",
        "                for p_h in range(param.shape[1]): # 필터 세로길이\n",
        "                    out[o_w][o_h] += param[p_w][p_h] * obs_pad[o_w+p_w][o_h+p_h]\n",
        "    \n",
        "    return out\n",
        "\n",
        "def _compute_output_2d(img_batch, param):\n",
        "    assert_dim(img_batch, 3)\n",
        "\n",
        "    outs = [_compute_output_obs_2d(obs, param) for obs in img_batch]\n",
        "\n",
        "    return np.stack(outs)\n",
        "\n",
        "_compute_output_2d(imgs_2d_batch, param_2d).shape"
      ],
      "metadata": {
        "colab": {
          "base_uri": "https://localhost:8080/"
        },
        "id": "xEofY3516hTU",
        "outputId": "7d15faa5-0575-4cbb-b792-86dde37b12b5"
      },
      "execution_count": null,
      "outputs": [
        {
          "output_type": "execute_result",
          "data": {
            "text/plain": [
              "(3, 28, 28)"
            ]
          },
          "metadata": {},
          "execution_count": 33
        }
      ]
    },
    {
      "cell_type": "markdown",
      "source": [
        "2차원 단위에 순방향 계산입니다. 패딩을 먼저 시킨 뒤 2차원 필터를 통과시켜 모든 값을 합친 값을 출력해줍니다."
      ],
      "metadata": {
        "id": "oSTOSCTL_87u"
      }
    },
    {
      "cell_type": "code",
      "source": [
        "def _compute_grads_obs_2d(input_obs, output_grad_obs, param):\n",
        "    # 입력을 나타내는 2차원값, 출력 기울기를 나타내는 2차원값(여기선 모두 1을 사용), 2차원 필터\n",
        "\n",
        "    param_size = param.shape[0] # 2차원 필터의 가로 세로가 같다고 가정합니다.\n",
        "\n",
        "    # 출력 기울기에 패딩을 먼저 덧붙입니다. 원본값은 1로, 나머지 값은 0으로하여 원본값만 유지하게 합니다.\n",
        "    output_obs_pad = _pad_2d_obs(output_grad_obs, param_size // 2)\n",
        "\n",
        "    input_grad = np.zeros_like(input_obs) # 초기 기울기는 0으로 합니다.\n",
        "\n",
        "    for i_w in range(input_obs.shape[0]): # 입력값 가로길이\n",
        "        for i_h in range(input_obs.shape[1]): # 입력값 세로길이\n",
        "            for p_w in range(param_size): # 필터 가로길이\n",
        "                for p_h in range(param_size): # 필터 세로길이\n",
        "                    input_grad[i_w][i_h] += output_obs_pad[i_w + param_size - p_w -1][i_h + param_size - p_h -1] * param[p_w][p_h]\n",
        "\n",
        "    return input_grad\n",
        "\n",
        "def _compute_grads_2d(inp, output_grad, param):\n",
        "    \n",
        "    grads = [_compute_grads_obs_2d(inp[i], output_grad[i], param) for i in range(output_grad.shape[0])]\n",
        "\n",
        "    return np.stack(grads)\n",
        "\n",
        "img_grads = _compute_grads_2d(imgs_2d_batch, np.ones_like(imgs_2d_batch), param_2d)\n",
        "img_grads.shape"
      ],
      "metadata": {
        "colab": {
          "base_uri": "https://localhost:8080/"
        },
        "id": "8gL9p75x_4cP",
        "outputId": "dfc3f7d8-a968-4b24-d5d1-6c813e0dbfec"
      },
      "execution_count": null,
      "outputs": [
        {
          "output_type": "execute_result",
          "data": {
            "text/plain": [
              "(3, 28, 28)"
            ]
          },
          "metadata": {},
          "execution_count": 38
        }
      ]
    },
    {
      "cell_type": "markdown",
      "source": [
        "역방향 계산을 2차원으로 구현했습니다. 그 중 입력 기울기를 계산하는 절차인데요.\n",
        "\n",
        "출력 기울기에 패딩을 덧붙이고 해당하는 가중치와의 합 연산을 하면 입력 기울기를 계산할 수 있습니다."
      ],
      "metadata": {
        "id": "hClsrKHlDEPp"
      }
    },
    {
      "cell_type": "code",
      "source": [
        "def _param_grad_2d(inp, output_grad, param):\n",
        "    # 입력을 나타내는 3차원값, 출력 기울기를 나타내는 3차원값(여기선 모두 1을 사용), 2차원 필터\n",
        "\n",
        "    param_size = param.shape[0] # 2차원 필터의 가로 세로가 같다고 가정합니다.\n",
        "    inp_pad = _pad_2d(inp, param_size // 2) # 입력 값을 패딩합니다.\n",
        "\n",
        "    param_grad = np.zeros_like(param) # 초기 가중치 기울기를 0으로 합니다.\n",
        "    img_shape = output_grad.shape[1:] # 첫 값은 배치크기이므로 빼고 실행하기 위해.\n",
        "\n",
        "    for i in range(inp.shape[0]): # 배치 크기\n",
        "        for o_w in range(img_shape[0]): # 입력값 가로길이\n",
        "            for o_h in range(img_shape[1]): # 입력값 세로길이\n",
        "                for p_w in range(param_size): # 필터 가로길이\n",
        "                    for p_h in range(param_size): # 필터 세로길이\n",
        "                        param_grad[p_w][p_h] += inp_pad[i][o_w+p_w][o_h+p_h] * output_grad[i][o_w][o_h]\n",
        "\n",
        "    return param_grad\n",
        "\n",
        "param_grad = _param_grad_2d(imgs_2d_batch, np.ones_like(imgs_2d_batch), param_2d)\n",
        "param_grad"
      ],
      "metadata": {
        "colab": {
          "base_uri": "https://localhost:8080/"
        },
        "id": "-vhxIQxSCw5F",
        "outputId": "05326f58-50dc-4ce0-e0c4-82b9e68e9b3a"
      },
      "execution_count": null,
      "outputs": [
        {
          "output_type": "execute_result",
          "data": {
            "text/plain": [
              "array([[108.03493534, 116.92134058, 112.40044695],\n",
              "       [112.79682302, 122.16317892, 122.1838074 ],\n",
              "       [106.24163816, 116.07072373, 116.86259153]])"
            ]
          },
          "metadata": {},
          "execution_count": 41
        }
      ]
    },
    {
      "cell_type": "markdown",
      "source": [
        "역방향 계산 중 필터 기울기를 구하는 부분을 2차원으로 구현했습니다.\n",
        "\n",
        "여기서는 입력값에 패딩을 덧붙이고 합 연산을 했는데, 1차원하고 크게 다를게 없습니다.\n",
        "\n",
        "배치 연산까지 한번에 진행하는 함수를 구현했는데 모든 배치의 입력값을 순회합니다."
      ],
      "metadata": {
        "id": "RWyw0QlqHczd"
      }
    },
    {
      "cell_type": "markdown",
      "source": [
        "# 채널 추가하기"
      ],
      "metadata": {
        "id": "-DKpH9UubJfA"
      }
    },
    {
      "cell_type": "code",
      "source": [
        "def _compute_output_obs(obs, param):\n",
        "    assert_dim(obs, 3)\n",
        "    assert_dim(param, 4)\n",
        "    \n",
        "    param_size = param.shape[2]\n",
        "    param_mid = param_size // 2\n",
        "    obs_pad = _pad_2d_channel(obs, param_mid)\n",
        "    \n",
        "    in_channels = param.shape[0]\n",
        "    out_channels = param.shape[1]\n",
        "    img_size = obs.shape[1]\n",
        "    \n",
        "    out = np.zeros((out_channels,) + obs.shape[1:])\n",
        "    for c_in in range(in_channels):\n",
        "        for c_out in range(out_channels):\n",
        "            for o_w in range(img_size):\n",
        "                for o_h in range(img_size):\n",
        "                    for p_w in range(param_size):\n",
        "                        for p_h in range(param_size):\n",
        "                            out[c_out][o_w][o_h] += \\\n",
        "                            param[c_in][c_out][p_w][p_h] * obs_pad[c_in][o_w+p_w][o_h+p_h]\n",
        "    return out\n",
        " \n",
        "\n",
        "def _output(inp, param):\n",
        "    outs = [_compute_output_obs(obs, param) for obs in inp]    \n",
        "\n",
        "    return np.stack(outs)"
      ],
      "metadata": {
        "id": "MiYbTw-9b0xY"
      },
      "execution_count": 46,
      "outputs": []
    },
    {
      "cell_type": "markdown",
      "source": [
        "합성곱층은 2차원으로 서로 엮인 뉴런 외에도 특징 맵과 같은 수의 채널을 갖습니다.\n",
        "\n",
        "이런식으로 입력된 데이터를 다루기 위해 채널이 있는 순방향 연산을 구현했습니다. 역방향 연산은 생략합니다."
      ],
      "metadata": {
        "id": "b1y5WIxBcYcp"
      }
    },
    {
      "cell_type": "markdown",
      "source": [
        "# 기타 가벼운 이론"
      ],
      "metadata": {
        "id": "LDNmTwtedOy-"
      }
    },
    {
      "cell_type": "markdown",
      "source": [
        "이미지 데이터에서는 서로 가까운 픽셀 간에 유의미한 의미가 있는 조합이 나올 가능성이 높습니다.\n",
        "\n",
        "즉 픽셀간 얼마나 공간적으로 가까운지를 나타내기 위해 합성곱 연산을 수행합니다.\n",
        "\n",
        "풀링이란 각 특징 맵을 다운샘플링하여 데이터의 크기를 줄이는 방법입니다. 예시로 각 영역 픽셀 값의 최대값을 사용할 수 있습니다.\n",
        "\n",
        "계산양 감소라는 이점이 있으나, 정보 손실또한 크기 때문에 이 방법을 쓰는데 다양한 의견이 있습니다.\n",
        "\n",
        "스트라이드란 필터가 움직이는 간격이 지금까지는 1이였는데 이 값을 의미하는 용어로 커질수록 다운샘플링 효과가 커집니다.\n",
        "\n",
        "최근 제안되는 고급 합성곱 신경망 구조에서는 풀링 대신 스트라이드를 2이상으로 설정해 다운샘플링 효과를 얻습니다."
      ],
      "metadata": {
        "id": "jcUvG5VNdQiY"
      }
    }
  ]
}