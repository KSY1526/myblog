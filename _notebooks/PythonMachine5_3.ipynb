{
  "nbformat": 4,
  "nbformat_minor": 0,
  "metadata": {
    "colab": {
      "name": "PythonMachine5_3.ipynb",
      "provenance": [],
      "collapsed_sections": [],
      "authorship_tag": "ABX9TyMkjX5MpdIlyRxpf3AGiEyv",
      "include_colab_link": true
    },
    "kernelspec": {
      "name": "python3",
      "display_name": "Python 3"
    },
    "language_info": {
      "name": "python"
    },
    "accelerator": "GPU"
  },
  "cells": [
    {
      "cell_type": "markdown",
      "metadata": {
        "id": "view-in-github",
        "colab_type": "text"
      },
      "source": [
        "<a href=\"https://colab.research.google.com/github/KSY1526/myblog/blob/master/_notebooks/PythonMachine5_3.ipynb\" target=\"_parent\"><img src=\"https://colab.research.google.com/assets/colab-badge.svg\" alt=\"Open In Colab\"/></a>"
      ]
    },
    {
      "cell_type": "markdown",
      "metadata": {
        "id": "R2mHqCbq43NZ"
      },
      "source": [
        "# 파이썬 머신러닝 완벽가이드 5장-3"
      ]
    },
    {
      "cell_type": "markdown",
      "metadata": {
        "id": "xUjylU5K4_a7"
      },
      "source": [
        "# 로지스틱 회귀"
      ]
    },
    {
      "cell_type": "code",
      "metadata": {
        "id": "m3t9sKgh4ae4"
      },
      "source": [
        "import pandas as pd\n",
        "import matplotlib.pyplot as plt\n",
        "%matplotlib inline\n",
        "\n",
        "from sklearn.datasets import load_breast_cancer\n",
        "from sklearn.linear_model import LogisticRegression\n",
        "\n",
        "cancer = load_breast_cancer()"
      ],
      "execution_count": 9,
      "outputs": []
    },
    {
      "cell_type": "code",
      "metadata": {
        "id": "535Vhy596EyI"
      },
      "source": [
        "from sklearn.preprocessing import StandardScaler\n",
        "from sklearn.model_selection import train_test_split\n",
        "\n",
        "scaler = StandardScaler()\n",
        "data_scaled = scaler.fit_transform(cancer.data)\n",
        "\n",
        "x_train, x_test, y_train, y_test = train_test_split(data_scaled, cancer.target, \n",
        "                                                    test_size = 0.3, random_state = 0)"
      ],
      "execution_count": 10,
      "outputs": []
    },
    {
      "cell_type": "markdown",
      "metadata": {
        "id": "4C2e1k0w66Hj"
      },
      "source": [
        "평균이 0, 분산이 1인 정규분포 형태로 형 변환을 했습니다.\n",
        "\n",
        "로지스틱 회귀기법은 선형 회귀 방식에 응용으로 데이터의 정규분포도에 영향을 많이 받습니다."
      ]
    },
    {
      "cell_type": "code",
      "metadata": {
        "colab": {
          "base_uri": "https://localhost:8080/"
        },
        "id": "N3gFXQmX6n4d",
        "outputId": "861082cf-525d-428d-f530-7fc6e7bef8d3"
      },
      "source": [
        "from sklearn.metrics import accuracy_score, roc_auc_score\n",
        "import numpy as np\n",
        "\n",
        "lr_clf = LogisticRegression()\n",
        "lr_clf.fit(x_train, y_train)\n",
        "lr_preds = lr_clf.predict(x_test)\n",
        "\n",
        "print('정확도 :', np.round(accuracy_score(y_test, lr_preds), 4))\n",
        "print('roc 커브 :', np.round(roc_auc_score(y_test, lr_preds), 4))"
      ],
      "execution_count": 11,
      "outputs": [
        {
          "output_type": "stream",
          "name": "stdout",
          "text": [
            "정확도 : 0.9766\n",
            "roc 커브 : 0.9716\n"
          ]
        }
      ]
    },
    {
      "cell_type": "code",
      "metadata": {
        "colab": {
          "base_uri": "https://localhost:8080/"
        },
        "id": "dIKQS-fq8exb",
        "outputId": "1d8b8324-ac35-4a2d-cbd8-d7911560d569"
      },
      "source": [
        "from sklearn.model_selection import GridSearchCV\n",
        "\n",
        "params = {'penalty' : ['l2', 'l1'], \n",
        "          'C' : [0.01, 0.1, 1, 5, 10]}\n",
        "\n",
        "grid_clf = GridSearchCV(lr_clf, param_grid = params, scoring = 'accuracy', cv = 3)\n",
        "grid_clf.fit(data_scaled, cancer.target)\n",
        "print('최적 파라미터 : ', grid_clf.best_params_, '최적 평균 정확도', grid_clf.best_score_)"
      ],
      "execution_count": 12,
      "outputs": [
        {
          "output_type": "stream",
          "name": "stderr",
          "text": [
            "/usr/local/lib/python3.7/dist-packages/sklearn/model_selection/_validation.py:536: FitFailedWarning: Estimator fit failed. The score on this train-test partition for these parameters will be set to nan. Details: \n",
            "ValueError: Solver lbfgs supports only 'l2' or 'none' penalties, got l1 penalty.\n",
            "\n",
            "  FitFailedWarning)\n",
            "/usr/local/lib/python3.7/dist-packages/sklearn/model_selection/_validation.py:536: FitFailedWarning: Estimator fit failed. The score on this train-test partition for these parameters will be set to nan. Details: \n",
            "ValueError: Solver lbfgs supports only 'l2' or 'none' penalties, got l1 penalty.\n",
            "\n",
            "  FitFailedWarning)\n",
            "/usr/local/lib/python3.7/dist-packages/sklearn/model_selection/_validation.py:536: FitFailedWarning: Estimator fit failed. The score on this train-test partition for these parameters will be set to nan. Details: \n",
            "ValueError: Solver lbfgs supports only 'l2' or 'none' penalties, got l1 penalty.\n",
            "\n",
            "  FitFailedWarning)\n",
            "/usr/local/lib/python3.7/dist-packages/sklearn/model_selection/_validation.py:536: FitFailedWarning: Estimator fit failed. The score on this train-test partition for these parameters will be set to nan. Details: \n",
            "ValueError: Solver lbfgs supports only 'l2' or 'none' penalties, got l1 penalty.\n",
            "\n",
            "  FitFailedWarning)\n"
          ]
        },
        {
          "output_type": "stream",
          "name": "stdout",
          "text": [
            "최적 파라미터 :  {'C': 1, 'penalty': 'l2'} 최적 평균 정확도 0.975392184164114\n"
          ]
        },
        {
          "output_type": "stream",
          "name": "stderr",
          "text": [
            "/usr/local/lib/python3.7/dist-packages/sklearn/model_selection/_validation.py:536: FitFailedWarning: Estimator fit failed. The score on this train-test partition for these parameters will be set to nan. Details: \n",
            "ValueError: Solver lbfgs supports only 'l2' or 'none' penalties, got l1 penalty.\n",
            "\n",
            "  FitFailedWarning)\n"
          ]
        }
      ]
    },
    {
      "cell_type": "markdown",
      "metadata": {
        "id": "mHCwT5PKGJXo"
      },
      "source": [
        "최적 파라미터는 l2 규제로(릿지 회귀) c가(알파의 역수) 1일때 입니다."
      ]
    },
    {
      "cell_type": "markdown",
      "metadata": {
        "id": "RQZQt2qsG2PQ"
      },
      "source": [
        "# 트리 기반 회귀 모델"
      ]
    },
    {
      "cell_type": "code",
      "metadata": {
        "colab": {
          "base_uri": "https://localhost:8080/"
        },
        "id": "_Ki1MpVM9qUA",
        "outputId": "534f74fd-bd59-4892-ad77-9e90ab92ea5c"
      },
      "source": [
        "from sklearn.datasets import load_boston\n",
        "from sklearn.model_selection import cross_val_score\n",
        "from sklearn.ensemble import RandomForestRegressor\n",
        "import pandas as pd\n",
        "import numpy as np\n",
        "\n",
        "boston = load_boston()\n",
        "bostonDF = pd.DataFrame(boston.data, columns = boston.feature_names)\n",
        "\n",
        "bostonDF['PRICE'] = boston.target\n",
        "y_target = bostonDF['PRICE']\n",
        "x_data = bostonDF.drop(['PRICE'], axis = 1, inplace=False)\n",
        "\n",
        "rf = RandomForestRegressor(random_state = 0, n_estimators = 1000)\n",
        "neg_mse_scores = cross_val_score(rf, x_data, y_target, scoring = 'neg_mean_squared_error', cv = 5)\n",
        "rmse_scores = np.sqrt(-1 * neg_mse_scores)\n",
        "avg_rmse = np.mean(rmse_scores)\n",
        "\n",
        "print('mse score : ', np.round(neg_mse_scores, 4))\n",
        "print('rmse score : ', np.round(rmse_scores, 4))\n",
        "print('평균 rmse score : ', np.round(avg_rmse, 4))"
      ],
      "execution_count": 14,
      "outputs": [
        {
          "output_type": "stream",
          "name": "stdout",
          "text": [
            "mse score :  [ -7.933  -13.0584 -20.5278 -46.3057 -18.8008]\n",
            "rmse score :  [2.8166 3.6136 4.5308 6.8048 4.336 ]\n",
            "평균 rmse score :  4.4204\n"
          ]
        }
      ]
    },
    {
      "cell_type": "markdown",
      "metadata": {
        "id": "N9taHpPbIs8l"
      },
      "source": [
        "랜덤 포레스트 회귀 입니다. 평균 rmse 값은 4.42로 꽤 좋은 수치 입니다."
      ]
    },
    {
      "cell_type": "code",
      "metadata": {
        "id": "KulPRGI4ISLC"
      },
      "source": [
        "def get_model_cv_prediction(model, x_data, y_target):\n",
        "    neg_mse_scores = cross_val_score(model, x_data, y_target, scoring = 'neg_mean_squared_error', cv = 5)\n",
        "    rmse_scores = np.sqrt(-1 * neg_mse_scores)\n",
        "    avg_rmse = np.mean(rmse_scores)\n",
        "    print(model.__class__.__name__)\n",
        "    print('평균 rmse : ', np.round(avg_rmse, 4))"
      ],
      "execution_count": 15,
      "outputs": []
    },
    {
      "cell_type": "code",
      "metadata": {
        "colab": {
          "base_uri": "https://localhost:8080/"
        },
        "id": "b4mAOUuyJKbu",
        "outputId": "ae1ebae2-8509-49a5-9405-d02ec651b06a"
      },
      "source": [
        "from sklearn.tree import DecisionTreeRegressor\n",
        "from sklearn.ensemble import GradientBoostingRegressor\n",
        "from xgboost import XGBRegressor\n",
        "from lightgbm import LGBMRegressor\n",
        "\n",
        "dt_reg = DecisionTreeRegressor(random_state = 0, max_depth = 4)\n",
        "rf_reg = RandomForestRegressor(random_state = 0, n_estimators = 1000)\n",
        "gb_reg = GradientBoostingRegressor(random_state = 0, n_estimators = 1000)\n",
        "xgb_reg = XGBRegressor(random_state = 0, n_estimators = 1000)\n",
        "lgb_reg = LGBMRegressor(random_state = 0, n_estimators = 1000)\n",
        "\n",
        "models = [dt_reg, rf_reg, gb_reg, xgb_reg, lgb_reg]\n",
        "\n",
        "for model in models:\n",
        "    get_model_cv_prediction(model, x_data, y_target)"
      ],
      "execution_count": 21,
      "outputs": [
        {
          "output_type": "stream",
          "name": "stdout",
          "text": [
            "DecisionTreeRegressor\n",
            "평균 rmse :  6.2377\n",
            "RandomForestRegressor\n",
            "평균 rmse :  4.4204\n",
            "GradientBoostingRegressor\n",
            "평균 rmse :  4.2692\n",
            "[13:18:05] WARNING: /workspace/src/objective/regression_obj.cu:152: reg:linear is now deprecated in favor of reg:squarederror.\n",
            "[13:18:07] WARNING: /workspace/src/objective/regression_obj.cu:152: reg:linear is now deprecated in favor of reg:squarederror.\n",
            "[13:18:07] WARNING: /workspace/src/objective/regression_obj.cu:152: reg:linear is now deprecated in favor of reg:squarederror.\n",
            "[13:18:07] WARNING: /workspace/src/objective/regression_obj.cu:152: reg:linear is now deprecated in favor of reg:squarederror.\n",
            "[13:18:08] WARNING: /workspace/src/objective/regression_obj.cu:152: reg:linear is now deprecated in favor of reg:squarederror.\n",
            "XGBRegressor\n",
            "평균 rmse :  4.0889\n",
            "LGBMRegressor\n",
            "평균 rmse :  4.6464\n"
          ]
        }
      ]
    },
    {
      "cell_type": "markdown",
      "metadata": {
        "id": "a9MpZUBdM8m4"
      },
      "source": [
        "여러 모델을 테스트 해보았습니다.\n",
        "\n",
        "xgb부스팅 모델의 성능이 가장 우수하게 나왔습니다."
      ]
    }
  ]
}