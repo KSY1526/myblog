{
  "nbformat": 4,
  "nbformat_minor": 0,
  "metadata": {
    "colab": {
      "name": "kagglessu5_plus.ipynb",
      "provenance": [],
      "collapsed_sections": [],
      "authorship_tag": "ABX9TyMfO5EB/r1uxACBLtFcxYsu",
      "include_colab_link": true
    },
    "kernelspec": {
      "name": "python3",
      "display_name": "Python 3"
    },
    "language_info": {
      "name": "python"
    }
  },
  "cells": [
    {
      "cell_type": "markdown",
      "metadata": {
        "id": "view-in-github",
        "colab_type": "text"
      },
      "source": [
        "<a href=\"https://colab.research.google.com/github/KSY1526/myblog/blob/master/_notebooks/kagglessu5_plus.ipynb\" target=\"_parent\"><img src=\"https://colab.research.google.com/assets/colab-badge.svg\" alt=\"Open In Colab\"/></a>"
      ]
    },
    {
      "cell_type": "markdown",
      "metadata": {
        "id": "aJ-1-OAbHve0"
      },
      "source": [
        "# 따릉이 데이터 예측 코드"
      ]
    },
    {
      "cell_type": "markdown",
      "metadata": {
        "id": "wAH0Y-cRH79e"
      },
      "source": [
        "# 데이터 불러오기"
      ]
    },
    {
      "cell_type": "code",
      "metadata": {
        "colab": {
          "base_uri": "https://localhost:8080/"
        },
        "id": "34KK0N4zHWMB",
        "outputId": "060dbf00-95f7-4367-c2fb-fc9423c6b4cc"
      },
      "source": [
        "from google.colab import drive\n",
        "drive.mount('/content/drive')"
      ],
      "execution_count": null,
      "outputs": [
        {
          "output_type": "stream",
          "name": "stdout",
          "text": [
            "Drive already mounted at /content/drive; to attempt to forcibly remount, call drive.mount(\"/content/drive\", force_remount=True).\n"
          ]
        }
      ]
    },
    {
      "cell_type": "code",
      "metadata": {
        "colab": {
          "base_uri": "https://localhost:8080/",
          "height": 203
        },
        "id": "A-ghgo1WH9rZ",
        "outputId": "662709d0-345c-47e7-f791-86c050da0ef4"
      },
      "source": [
        "import pandas as pd\n",
        "import numpy as np\n",
        "\n",
        "import warnings\n",
        "warnings.filterwarnings(\"ignore\")\n",
        "\n",
        "train = pd.read_csv(\"/content/drive/MyDrive/bicycle/train.csv\")\n",
        "test = pd.read_csv('/content/drive/MyDrive/bicycle/test.csv')\n",
        "sample_submission = pd.read_csv('/content/drive/MyDrive/bicycle/sample_submission.csv')\n",
        "train.head()"
      ],
      "execution_count": null,
      "outputs": [
        {
          "output_type": "execute_result",
          "data": {
            "text/html": [
              "<div>\n",
              "<style scoped>\n",
              "    .dataframe tbody tr th:only-of-type {\n",
              "        vertical-align: middle;\n",
              "    }\n",
              "\n",
              "    .dataframe tbody tr th {\n",
              "        vertical-align: top;\n",
              "    }\n",
              "\n",
              "    .dataframe thead th {\n",
              "        text-align: right;\n",
              "    }\n",
              "</style>\n",
              "<table border=\"1\" class=\"dataframe\">\n",
              "  <thead>\n",
              "    <tr style=\"text-align: right;\">\n",
              "      <th></th>\n",
              "      <th>date_time</th>\n",
              "      <th>wind_direction</th>\n",
              "      <th>sky_condition</th>\n",
              "      <th>precipitation_form</th>\n",
              "      <th>wind_speed</th>\n",
              "      <th>humidity</th>\n",
              "      <th>low_temp</th>\n",
              "      <th>high_temp</th>\n",
              "      <th>Precipitation_Probability</th>\n",
              "      <th>number_of_rentals</th>\n",
              "    </tr>\n",
              "  </thead>\n",
              "  <tbody>\n",
              "    <tr>\n",
              "      <th>0</th>\n",
              "      <td>2018-04-01</td>\n",
              "      <td>207.500</td>\n",
              "      <td>4.000</td>\n",
              "      <td>0.000</td>\n",
              "      <td>3.050</td>\n",
              "      <td>75.000</td>\n",
              "      <td>12.600</td>\n",
              "      <td>21.000</td>\n",
              "      <td>30.000</td>\n",
              "      <td>22994</td>\n",
              "    </tr>\n",
              "    <tr>\n",
              "      <th>1</th>\n",
              "      <td>2018-04-02</td>\n",
              "      <td>208.317</td>\n",
              "      <td>2.950</td>\n",
              "      <td>0.000</td>\n",
              "      <td>3.278</td>\n",
              "      <td>69.833</td>\n",
              "      <td>12.812</td>\n",
              "      <td>19.000</td>\n",
              "      <td>19.500</td>\n",
              "      <td>28139</td>\n",
              "    </tr>\n",
              "    <tr>\n",
              "      <th>2</th>\n",
              "      <td>2018-04-03</td>\n",
              "      <td>213.516</td>\n",
              "      <td>2.911</td>\n",
              "      <td>0.000</td>\n",
              "      <td>2.690</td>\n",
              "      <td>74.879</td>\n",
              "      <td>10.312</td>\n",
              "      <td>15.316</td>\n",
              "      <td>19.113</td>\n",
              "      <td>26817</td>\n",
              "    </tr>\n",
              "    <tr>\n",
              "      <th>3</th>\n",
              "      <td>2018-04-04</td>\n",
              "      <td>143.836</td>\n",
              "      <td>3.692</td>\n",
              "      <td>0.425</td>\n",
              "      <td>3.138</td>\n",
              "      <td>71.849</td>\n",
              "      <td>8.312</td>\n",
              "      <td>12.368</td>\n",
              "      <td>43.493</td>\n",
              "      <td>26034</td>\n",
              "    </tr>\n",
              "    <tr>\n",
              "      <th>4</th>\n",
              "      <td>2018-04-05</td>\n",
              "      <td>95.905</td>\n",
              "      <td>4.000</td>\n",
              "      <td>0.723</td>\n",
              "      <td>3.186</td>\n",
              "      <td>73.784</td>\n",
              "      <td>5.875</td>\n",
              "      <td>10.421</td>\n",
              "      <td>63.378</td>\n",
              "      <td>2833</td>\n",
              "    </tr>\n",
              "  </tbody>\n",
              "</table>\n",
              "</div>"
            ],
            "text/plain": [
              "    date_time  wind_direction  ...  Precipitation_Probability  number_of_rentals\n",
              "0  2018-04-01         207.500  ...                     30.000              22994\n",
              "1  2018-04-02         208.317  ...                     19.500              28139\n",
              "2  2018-04-03         213.516  ...                     19.113              26817\n",
              "3  2018-04-04         143.836  ...                     43.493              26034\n",
              "4  2018-04-05          95.905  ...                     63.378               2833\n",
              "\n",
              "[5 rows x 10 columns]"
            ]
          },
          "metadata": {},
          "execution_count": 104
        }
      ]
    },
    {
      "cell_type": "markdown",
      "metadata": {
        "id": "_pUQ-waDLN58"
      },
      "source": [
        "# 변수 탐색"
      ]
    },
    {
      "cell_type": "code",
      "metadata": {
        "colab": {
          "base_uri": "https://localhost:8080/"
        },
        "id": "PkgaHxbXOs-5",
        "outputId": "e73fef8d-0b0e-4652-9b9c-ad8c7143dae5"
      },
      "source": [
        "train.info()"
      ],
      "execution_count": null,
      "outputs": [
        {
          "output_type": "stream",
          "name": "stdout",
          "text": [
            "<class 'pandas.core.frame.DataFrame'>\n",
            "RangeIndex: 273 entries, 0 to 272\n",
            "Data columns (total 10 columns):\n",
            " #   Column                     Non-Null Count  Dtype  \n",
            "---  ------                     --------------  -----  \n",
            " 0   date_time                  273 non-null    object \n",
            " 1   wind_direction             273 non-null    float64\n",
            " 2   sky_condition              273 non-null    float64\n",
            " 3   precipitation_form         273 non-null    float64\n",
            " 4   wind_speed                 273 non-null    float64\n",
            " 5   humidity                   273 non-null    float64\n",
            " 6   low_temp                   273 non-null    float64\n",
            " 7   high_temp                  273 non-null    float64\n",
            " 8   Precipitation_Probability  273 non-null    float64\n",
            " 9   number_of_rentals          273 non-null    int64  \n",
            "dtypes: float64(8), int64(1), object(1)\n",
            "memory usage: 21.5+ KB\n"
          ]
        }
      ]
    },
    {
      "cell_type": "markdown",
      "metadata": {
        "id": "o33ETUrMLSkU"
      },
      "source": [
        "number_of_rentals : 따릉이 대여량(Y값), date_time : 날짜, wind_direction : 풍향\n",
        "\n",
        "sky_condition : 하늘 상태(1 : 맑음, 3 : 구름 많음, 4 : 흐림, 하루에 8번 측정한 값 평균)\n",
        "\n",
        "precipitation_form : 강수 형태(0 : 맑음, 1 : 비, 마찬가지로 하루에 8번 측정한 값 평균)\n",
        "\n",
        "wind_speed : 풍속, humidity\t: 습도, low_temp : 최저기온, high_temp : 최고기온, precipitation_Probability : 강수확률\n",
        "\n",
        "결측값은 없습니다.\n"
      ]
    },
    {
      "cell_type": "code",
      "metadata": {
        "colab": {
          "base_uri": "https://localhost:8080/",
          "height": 374
        },
        "id": "2w1oAvKIOgNC",
        "outputId": "f796774f-2a71-449a-c6c6-fc3fcc2ba2aa"
      },
      "source": [
        "import matplotlib.pyplot as plt\n",
        "\n",
        "plt.figure(figsize=(8,6))\n",
        "plt.scatter(range(train.shape[0]), np.sort(train['number_of_rentals'].values))\n",
        "plt.show()"
      ],
      "execution_count": null,
      "outputs": [
        {
          "output_type": "display_data",
          "data": {
            "image/png": "[encoded data removed]",
            "text/plain": [
              "<Figure size 576x432 with 1 Axes>"
            ]
          },
          "metadata": {}
        }
      ]
    },
    {
      "cell_type": "markdown",
      "metadata": {
        "id": "syKRJdvFO9J6"
      },
      "source": [
        "반응변수의 이상치은 관찰되지 않는 것으로 보입니다."
      ]
    },
    {
      "cell_type": "code",
      "metadata": {
        "id": "P_zzTrcuNWSU"
      },
      "source": [
        "train['date_time'] = pd.to_datetime(train['date_time'])\n",
        "test['date_time'] = pd.to_datetime(test['date_time'])\n",
        "\n",
        "train['day']=pd.DatetimeIndex(train['date_time']).day\n",
        "test['day']=pd.DatetimeIndex(test['date_time']).day\n",
        "train['month']=pd.DatetimeIndex(train['date_time']).month\n",
        "test['month']=pd.DatetimeIndex(test['date_time']).month\n",
        "train['year']=pd.DatetimeIndex(train['date_time']).year\n",
        "test['year']=pd.DatetimeIndex(test['date_time']).year\n",
        "train['weekday']=pd.DatetimeIndex(train['date_time']).weekday\n",
        "test['weekday']=pd.DatetimeIndex(test['date_time']).weekday"
      ],
      "execution_count": null,
      "outputs": []
    },
    {
      "cell_type": "markdown",
      "metadata": {
        "id": "sPAZh0_oOATu"
      },
      "source": [
        "date_time이 날짜 변수이기 때문에 데이터 형식을 datetime으로 바꾸어줍니다.\n",
        "\n",
        "그 후 datetime 데이터 형식으로 얻을 수 있는 이점. 날/달/년/주말 변수를 추출합니다."
      ]
    },
    {
      "cell_type": "code",
      "metadata": {
        "colab": {
          "base_uri": "https://localhost:8080/",
          "height": 282
        },
        "id": "ZNBOXNQvRGFF",
        "outputId": "4ef067e3-719d-4956-ebab-2c0d4122b24c"
      },
      "source": [
        "train['wind_direction'].hist()\n",
        "train['wind_direction'].max()"
      ],
      "execution_count": null,
      "outputs": [
        {
          "output_type": "execute_result",
          "data": {
            "text/plain": [
              "321.622"
            ]
          },
          "metadata": {},
          "execution_count": 108
        },
        {
          "output_type": "display_data",
          "data": {
            "image/png": "[encoded data removed]",
            "text/plain": [
              "<Figure size 432x288 with 1 Axes>"
            ]
          },
          "metadata": {}
        }
      ]
    },
    {
      "cell_type": "markdown",
      "metadata": {
        "id": "Z3Ws8IbXRU1g"
      },
      "source": [
        "wind_direction은 바람 방향 변수입니다. 아마 방향을 360도로 생각해서 만든 변수인 것 같습니다.\n",
        "\n",
        "다만 바람 방향이 과연 따릉이 대여량과 상관이 있지는 않을 것으로 저는 생각합니다.\n",
        "\n",
        "서울 자전거 도로가 한강 기준으로 많이 구성되어 있어 도로가 동-서 기준으로 많이 있긴 합니다.\n",
        "\n",
        "하지만 바람 방향이 오늘은 이쪽이니 자전거를 타자라는 생각을 더 한다는게 공감하기 힘듭니다. 바람 세기가 더 중요하죠.\n",
        "\n",
        "또 아마 바람 방향은 계속 바뀌기 때문에 평균적인 방향인 것 같은데, 만약 바람이 주로 0에서 20, 340에서 360 각도로 불었을때 평균치는 약 180입니다.\n",
        "\n",
        "(방향이 동쪽에서 위 아래로만 움직인다면 10에서 350으로 쉽게 바뀔 수 있습니다.)\n",
        "\n",
        "이 수치가 과연 유의미할지 개인적으로 의문이 들어서 실험은 다양하게 하겠지만 이 변수는 빼는 것이 좋아보입니다."
      ]
    },
    {
      "cell_type": "code",
      "metadata": {
        "colab": {
          "base_uri": "https://localhost:8080/"
        },
        "id": "k0VP_4YXPSok",
        "outputId": "96766e8a-d4ce-4b27-eca9-04465107f598"
      },
      "source": [
        "train['precipitation_form'].corr(train['Precipitation_Probability'])"
      ],
      "execution_count": null,
      "outputs": [
        {
          "output_type": "execute_result",
          "data": {
            "text/plain": [
              "0.9106089542607185"
            ]
          },
          "metadata": {},
          "execution_count": 109
        }
      ]
    },
    {
      "cell_type": "code",
      "metadata": {
        "colab": {
          "base_uri": "https://localhost:8080/"
        },
        "id": "rPAILFMQTlJq",
        "outputId": "593e5ff8-85d4-47fc-d595-7fc3be92dcd5"
      },
      "source": [
        "train['precipitation_form'].corr(train['sky_condition'])"
      ],
      "execution_count": null,
      "outputs": [
        {
          "output_type": "execute_result",
          "data": {
            "text/plain": [
              "0.6738137525457335"
            ]
          },
          "metadata": {},
          "execution_count": 110
        }
      ]
    },
    {
      "cell_type": "markdown",
      "metadata": {
        "id": "GYYGkduOPkyu"
      },
      "source": [
        "비가 오는 상황을 예측하는 두 변수 precipitation_form와 Precipitation_Probability간 상관관계는 당연히 높습니다.\n",
        "\n",
        "다만 Precipitation_Probability는 강우 확률 예측 변수 입니다.\n",
        "\n",
        "때문에 일일 강우 단기예측 기록인 precipitation_form 변수가 하루 비가 오는 날을 더 잘 표현할 것으로 생각됩니다.\n",
        "\n",
        "비슷한 부분을 설명하는 두 변수이기 때문에 precipitation_form 변수만 사용하겠습니다.\n",
        "\n",
        "precipitation_form 변수는 하늘 상태를 나타내는 sky_condition 변수와도 상관관계가 높지만 극단적이진 않습니다.\n",
        "\n",
        "날씨가 흐린것 자체가 따릉이 대여량에 부정적인 영향을 받는다 생각하기 때문에 sky_condition 변수는 사용하겠습니다."
      ]
    },
    {
      "cell_type": "code",
      "metadata": {
        "colab": {
          "base_uri": "https://localhost:8080/",
          "height": 282
        },
        "id": "zWe41TgLMvE0",
        "outputId": "c0c53e48-8fbc-45f9-b047-3bade2d12dc0"
      },
      "source": [
        "import matplotlib.pyplot as plt\n",
        "\n",
        "plt.bar(train['date_time'][train['year'] == 2018], train['number_of_rentals'][train['year'] == 2018], width=0.6, color='grey')"
      ],
      "execution_count": null,
      "outputs": [
        {
          "output_type": "execute_result",
          "data": {
            "text/plain": [
              "<BarContainer object of 91 artists>"
            ]
          },
          "metadata": {},
          "execution_count": 111
        },
        {
          "output_type": "display_data",
          "data": {
            "image/png": "[encoded data removed]",
            "text/plain": [
              "<Figure size 432x288 with 1 Axes>"
            ]
          },
          "metadata": {}
        }
      ]
    },
    {
      "cell_type": "code",
      "metadata": {
        "id": "5ThJK6wGU2le"
      },
      "source": [
        "train['day'][train['month'] == 5] += 30\n",
        "train['day'][train['month'] == 6] += 61\n",
        "\n",
        "test['day'][test['month'] == 5] += 30\n",
        "test['day'][test['month'] == 6] += 61"
      ],
      "execution_count": null,
      "outputs": []
    },
    {
      "cell_type": "markdown",
      "metadata": {
        "id": "PQ9jambNUMW1"
      },
      "source": [
        "따릉이 대여량을 2018년 기준으로 날짜순으로 확인했습니다.\n",
        "\n",
        "4~6월 데이터인 만큼, 날이 점점 따뜻해지는 영향으로 변동이 심하긴 하지만 증가하는 추세가 보이는 것 같습니다.\n",
        "\n",
        "(중간중간 값이 급격히 작아지는 것은 아마 비가 오는날인거 같습니다.)\n",
        "\n",
        "그래서 날짜 변수를 쓰는것 보다, 누적된 날짜가 몇일인지를 기록하는 변수를 쓰는게 좋을 것 같습니다.\n",
        "\n",
        "(5월 2일 => 32일, 6월 10일 => 30일 + 31일 + 10일 = 71일)\n",
        "\n",
        "이렇게 되면 달 변수 또한 쓰지 않는게 좋을 것 같습니다. 만든 변수가 달 변수가 설명할 부분까지 설명하기 때문이죠."
      ]
    },
    {
      "cell_type": "code",
      "metadata": {
        "colab": {
          "base_uri": "https://localhost:8080/",
          "height": 282
        },
        "id": "wCpkl5YOl1jk",
        "outputId": "1691969d-f623-4ddd-89e4-d0d9ce2bcf46"
      },
      "source": [
        "import seaborn as sns\n",
        "\n",
        "def barplots(variable):\n",
        "    plot = train.groupby(variable)['number_of_rentals'].mean()\n",
        "    sns.barplot(plot.index,plot.values)\n",
        "barplots('year')"
      ],
      "execution_count": null,
      "outputs": [
        {
          "output_type": "display_data",
          "data": {
            "image/png": "[encoded data removed]",
            "text/plain": [
              "<Figure size 432x288 with 1 Axes>"
            ]
          },
          "metadata": {}
        }
      ]
    },
    {
      "cell_type": "markdown",
      "metadata": {
        "id": "XNiIBP6CmtX_"
      },
      "source": [
        "연도별 따릉이 이용자수를 나타내는 그래프 입니다.\n",
        "\n",
        "시간이 지날수록 따릉이 이용자수가 늘어나는 것을 확인할 수 있습니다. 그러므로 연도 변수는 매우 중요한 변수임을 알 수 있겠죠."
      ]
    },
    {
      "cell_type": "code",
      "metadata": {
        "colab": {
          "base_uri": "https://localhost:8080/",
          "height": 282
        },
        "id": "4O5mM9m-m6iZ",
        "outputId": "390c4769-8bf3-46f2-9b91-e3f7340a1d2d"
      },
      "source": [
        "barplots('weekday')"
      ],
      "execution_count": null,
      "outputs": [
        {
          "output_type": "display_data",
          "data": {
            "image/png": "[encoded data removed]",
            "text/plain": [
              "<Figure size 432x288 with 1 Axes>"
            ]
          },
          "metadata": {}
        }
      ]
    },
    {
      "cell_type": "markdown",
      "metadata": {
        "id": "I96NGwhqnGlL"
      },
      "source": [
        "요일별 따릉이 이용자수를 나타내는 그래프 입니다. weekday 변수는 0은 월요일, 6은 일요일을 나타내는 요일 변수입니다. \n",
        "\n",
        "직관적으로 확인했을때 일요일에 따릉이 이용자수가 유의미하게 적은 것이 눈에 띕니다."
      ]
    },
    {
      "cell_type": "code",
      "metadata": {
        "id": "PUza2Bt4WlMv"
      },
      "source": [
        "train_label = train['number_of_rentals']\n",
        "train.drop(['date_time','wind_direction', 'Precipitation_Probability', 'month', 'number_of_rentals'], axis = 1, inplace= True)\n",
        "test.drop(['date_time','wind_direction', 'Precipitation_Probability', 'month'], axis = 1, inplace= True)"
      ],
      "execution_count": null,
      "outputs": []
    },
    {
      "cell_type": "markdown",
      "metadata": {
        "id": "c-geJFO4h7Xh"
      },
      "source": [
        "앞서 설명한 변수들을 제거합니다."
      ]
    },
    {
      "cell_type": "markdown",
      "metadata": {
        "id": "EEpeOXqoWMJj"
      },
      "source": [
        "# 모델 적합"
      ]
    },
    {
      "cell_type": "code",
      "metadata": {
        "id": "PVwAqZLyWeVn"
      },
      "source": [
        "from sklearn.ensemble import RandomForestRegressor\n",
        "\n",
        "rf = RandomForestRegressor(random_state = 0, n_estimators = 100)\n",
        "rf.fit(train,train_label)\n",
        "sample_submission['number_of_rentals'] = rf.predict(test)\n",
        "sample_submission.to_csv('bicycle_final_4.csv',encoding='UTF-8',index=False)"
      ],
      "execution_count": null,
      "outputs": []
    },
    {
      "cell_type": "markdown",
      "metadata": {
        "id": "d2zjglCErlmO"
      },
      "source": [
        "간단한 랜덤 포레스트 모델을 사용했습니다. 다른 모델을 사용하거나 하이퍼 파라미터를 조정하면 점수가 더 오를수도 있겠죠?"
      ]
    }
  ]
}